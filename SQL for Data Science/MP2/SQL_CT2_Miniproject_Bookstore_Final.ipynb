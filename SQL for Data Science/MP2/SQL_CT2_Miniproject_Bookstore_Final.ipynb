{
 "cells": [
  {
   "cell_type": "markdown",
   "id": "d47d9de6",
   "metadata": {},
   "source": [
    "#                                      SQL CT2 MINIPROJECT"
   ]
  },
  {
   "cell_type": "markdown",
   "id": "73cfa332",
   "metadata": {},
   "source": [
    "# Mini Project 2\n",
    "\n",
    "\n",
    "## Team Members:\n",
    "1. Priyadarsshini S\n",
    "2. Santhosh Kalaikumar\n",
    "3. Twinkle Vigneswari Viswanathan"
   ]
  },
  {
   "cell_type": "code",
   "execution_count": 1,
   "id": "8e135d63",
   "metadata": {},
   "outputs": [
    {
     "name": "stdout",
     "output_type": "stream",
     "text": [
      "Requirement already satisfied: pymysql in c:\\users\\admin\\anaconda3\\lib\\site-packages (1.0.3)\n",
      "Note: you may need to restart the kernel to use updated packages.\n"
     ]
    }
   ],
   "source": [
    "pip install pymysql"
   ]
  },
  {
   "cell_type": "code",
   "execution_count": 2,
   "id": "374ec9f4",
   "metadata": {},
   "outputs": [],
   "source": [
    "# Import the necessary libraries \n",
    "import pymysql\n",
    "from tabulate import tabulate\n",
    "import pandas as pd"
   ]
  },
  {
   "cell_type": "code",
   "execution_count": 3,
   "id": "af5bbfdb",
   "metadata": {},
   "outputs": [],
   "source": [
    "# Establish a connection to the database\n",
    "connection = pymysql.connect(host='localhost',\n",
    "                             user='root',\n",
    "                             password='root',\n",
    "                             database='bookstore')\n",
    "\n",
    "# Create a cursor object to interact with the database\n",
    "cursor = connection.cursor()"
   ]
  },
  {
   "cell_type": "markdown",
   "id": "db92e171",
   "metadata": {},
   "source": [
    "#### Identify the purchase details of books, that are purchased exactly on different dates by the same customer(s). Write a query to display customer’s id and number of such purchases to be displayed as BOOKS for the identified purchase details."
   ]
  },
  {
   "cell_type": "code",
   "execution_count": 4,
   "id": "dde1d4d2",
   "metadata": {},
   "outputs": [
    {
     "name": "stdout",
     "output_type": "stream",
     "text": [
      "Customer ID      Books\n",
      "-------------  -------\n",
      "C101                 2\n"
     ]
    }
   ],
   "source": [
    "query1 = '''\n",
    "SELECT p.Custid, COUNT(DISTINCT p.Purchasedate) AS BOOKS\n",
    "FROM purchase p\n",
    "GROUP BY p.Custid\n",
    "HAVING COUNT(DISTINCT p.Purchasedate) > 1\n",
    "'''\n",
    "cursor.execute(query1)\n",
    "\n",
    "# Fetch all the rows returned by the first query\n",
    "res1 = cursor.fetchall()\n",
    "\n",
    "# Print the results of the first query\n",
    "print(tabulate(res1, headers=['Customer ID', 'Books']))"
   ]
  },
  {
   "cell_type": "raw",
   "id": "4d1d7e72",
   "metadata": {},
   "source": [
    "From the above result, Customer_ID = C101 customer only has purchased books on different dates. 2 books are purchased by the same customer on different dates."
   ]
  },
  {
   "cell_type": "markdown",
   "id": "d0f11980",
   "metadata": {},
   "source": [
    "#### Identify the purchase details of books, where the books of the same category are purchased by different customers on different dates. Write a query to display customer’s id and title of the book for the identified purchase details."
   ]
  },
  {
   "cell_type": "code",
   "execution_count": 5,
   "id": "9ac65d60",
   "metadata": {},
   "outputs": [
    {
     "name": "stdout",
     "output_type": "stream",
     "text": [
      "Customer ID    Book Name           Category\n",
      "-------------  ------------------  ----------\n",
      "C101           Science Revolution  Journal\n",
      "C103           Tech World          Journal\n"
     ]
    }
   ],
   "source": [
    "query2 = '''\n",
    "SELECT DISTINCT p1.custid, b1.bookname, b1.Category\n",
    "FROM purchase p1\n",
    "INNER JOIN books b1 ON p1.bookid = b1.bookid\n",
    "WHERE EXISTS (\n",
    "    SELECT 1\n",
    "    FROM purchase p2\n",
    "    INNER JOIN books b2 ON p2.bookid = b2.bookid\n",
    "    WHERE p1.bookid <> p2.bookid\n",
    "    AND b1.category = b2.category\n",
    "    AND p1.custid <> p2.custid\n",
    "    AND p1.purchasedate <> p2.purchasedate\n",
    ")\n",
    "ORDER BY p1.custid;\n",
    "'''\n",
    "cursor.execute(query2)\n",
    "\n",
    "# Fetch all the rows returned by the second query\n",
    "res2 = cursor.fetchall()\n",
    "\n",
    "# Print the results of the second query\n",
    "print(tabulate(res2, headers=['Customer ID', 'Book Name','Category']))"
   ]
  },
  {
   "cell_type": "raw",
   "id": "b5494172",
   "metadata": {},
   "source": [
    "Customer ID = C101 and C103 purchased the books from same category 'Journal' on different dates."
   ]
  },
  {
   "cell_type": "markdown",
   "id": "adb3d5b3",
   "metadata": {},
   "source": [
    "#### Identify the purchase details of books, where the book is purchased on the same date, exactly on the date Anne has purchased the book. Write a query to display customer’s name and title of the book for the identified purchase details. Do NOT display details of Anne in the query result."
   ]
  },
  {
   "cell_type": "code",
   "execution_count": 6,
   "id": "259c8f1b",
   "metadata": {},
   "outputs": [
    {
     "name": "stdout",
     "output_type": "stream",
     "text": [
      "Customer Name    Book Name\n",
      "---------------  -----------\n",
      "Maria            Bizz world\n"
     ]
    }
   ],
   "source": [
    "query3 = '''\n",
    "SELECT c.custname, b.Bookname\n",
    "FROM purchase p\n",
    "JOIN customer c ON p.custid = c.custid\n",
    "JOIN books b ON p.bookid = b.bookid\n",
    "WHERE p.purchasedate IN (\n",
    "    SELECT purchasedate\n",
    "    FROM purchase\n",
    "    WHERE custid = 'C102'\n",
    ")\n",
    "AND c.custid != 'C102';\n",
    "'''\n",
    "cursor.execute(query3)\n",
    "\n",
    "# Fetch all the rows returned by the second query\n",
    "res3 = cursor.fetchall()\n",
    "\n",
    "# Print the results of the second query\n",
    "print(tabulate(res3, headers=['Customer Name', 'Book Name']))"
   ]
  },
  {
   "cell_type": "raw",
   "id": "e75f37a5",
   "metadata": {},
   "source": [
    "Anne and Maria purchased a book on same date '2019-11-25'."
   ]
  },
  {
   "cell_type": "code",
   "execution_count": 7,
   "id": "c8707102",
   "metadata": {},
   "outputs": [],
   "source": [
    "# Close the cursor and the connection\n",
    "cursor.close()\n",
    "connection.close()"
   ]
  }
 ],
 "metadata": {
  "kernelspec": {
   "display_name": "Python 3 (ipykernel)",
   "language": "python",
   "name": "python3"
  },
  "language_info": {
   "codemirror_mode": {
    "name": "ipython",
    "version": 3
   },
   "file_extension": ".py",
   "mimetype": "text/x-python",
   "name": "python",
   "nbconvert_exporter": "python",
   "pygments_lexer": "ipython3",
   "version": "3.9.13"
  }
 },
 "nbformat": 4,
 "nbformat_minor": 5
}
