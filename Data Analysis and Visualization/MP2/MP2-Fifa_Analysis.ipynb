{
 "cells": [
  {
   "cell_type": "markdown",
   "metadata": {},
   "source": [
    "<table align=\"center\" width=100%>\n",
    "    <tr>\n",
    "        <td>\n",
    "            <div align=\"center\">\n",
    "                <font color=\"#21618C\" size=8px>\n",
    "                    <b> DAV Mini Project 2 <br>\n",
    "                    </b>\n",
    "                </font>\n",
    "            </div>\n",
    "        </td>\n",
    "    </tr>\n",
    "</table>"
   ]
  },
  {
   "cell_type": "markdown",
   "metadata": {},
   "source": [
    "# Data Preprocessing:"
   ]
  },
  {
   "cell_type": "markdown",
   "metadata": {},
   "source": [
    "#### 1.  Import the necessary libraries and read the data. (1 marks)\n"
   ]
  },
  {
   "cell_type": "code",
   "execution_count": 466,
   "metadata": {},
   "outputs": [],
   "source": [
    "import numpy as np\n",
    "import pandas as pd\n",
    "import seaborn as sns\n",
    "import matplotlib.pyplot as plt\n",
    "import numpy as np\n",
    "import warnings\n",
    "warnings.filterwarnings(\"ignore\")\n",
    "pd.set_option('display.max_columns',None)\n",
    "pd.set_option('display.max_rows',None)"
   ]
  },
  {
   "cell_type": "code",
   "execution_count": 467,
   "metadata": {},
   "outputs": [
    {
     "data": {
      "text/html": [
       "<div>\n",
       "<style scoped>\n",
       "    .dataframe tbody tr th:only-of-type {\n",
       "        vertical-align: middle;\n",
       "    }\n",
       "\n",
       "    .dataframe tbody tr th {\n",
       "        vertical-align: top;\n",
       "    }\n",
       "\n",
       "    .dataframe thead th {\n",
       "        text-align: right;\n",
       "    }\n",
       "</style>\n",
       "<table border=\"1\" class=\"dataframe\">\n",
       "  <thead>\n",
       "    <tr style=\"text-align: right;\">\n",
       "      <th></th>\n",
       "      <th>ID</th>\n",
       "      <th>Name</th>\n",
       "      <th>Age</th>\n",
       "      <th>Photo</th>\n",
       "      <th>Nationality</th>\n",
       "      <th>Flag</th>\n",
       "      <th>Overall</th>\n",
       "      <th>Potential</th>\n",
       "      <th>Club</th>\n",
       "      <th>Club Logo</th>\n",
       "      <th>Value</th>\n",
       "      <th>Wage</th>\n",
       "      <th>Preferred Foot</th>\n",
       "      <th>International Reputation</th>\n",
       "      <th>Weak Foot</th>\n",
       "      <th>Skill Moves</th>\n",
       "      <th>Work Rate</th>\n",
       "      <th>Body Type</th>\n",
       "      <th>Position</th>\n",
       "      <th>Jersey Number</th>\n",
       "      <th>Joined</th>\n",
       "      <th>Loaned From</th>\n",
       "      <th>Contract Valid Until</th>\n",
       "      <th>Height</th>\n",
       "      <th>Weight</th>\n",
       "      <th>Crossing</th>\n",
       "      <th>Finishing</th>\n",
       "      <th>HeadingAccuracy</th>\n",
       "      <th>ShortPassing</th>\n",
       "      <th>Volleys</th>\n",
       "      <th>Dribbling</th>\n",
       "      <th>Curve</th>\n",
       "      <th>FKAccuracy</th>\n",
       "      <th>LongPassing</th>\n",
       "      <th>BallControl</th>\n",
       "      <th>Acceleration</th>\n",
       "      <th>SprintSpeed</th>\n",
       "      <th>Agility</th>\n",
       "      <th>Reactions</th>\n",
       "      <th>Balance</th>\n",
       "      <th>ShotPower</th>\n",
       "      <th>Jumping</th>\n",
       "      <th>Stamina</th>\n",
       "      <th>Strength</th>\n",
       "      <th>LongShots</th>\n",
       "      <th>Aggression</th>\n",
       "      <th>Interceptions</th>\n",
       "      <th>Positioning</th>\n",
       "      <th>Vision</th>\n",
       "      <th>Penalties</th>\n",
       "      <th>Composure</th>\n",
       "      <th>Marking</th>\n",
       "      <th>StandingTackle</th>\n",
       "      <th>SlidingTackle</th>\n",
       "      <th>GKDiving</th>\n",
       "      <th>GKHandling</th>\n",
       "      <th>GKKicking</th>\n",
       "      <th>GKPositioning</th>\n",
       "      <th>GKReflexes</th>\n",
       "      <th>Release Clause</th>\n",
       "    </tr>\n",
       "  </thead>\n",
       "  <tbody>\n",
       "    <tr>\n",
       "      <th>0</th>\n",
       "      <td>158023</td>\n",
       "      <td>L. Messi</td>\n",
       "      <td>31</td>\n",
       "      <td>https://cdn.sofifa.org/players/4/19/158023.png</td>\n",
       "      <td>Argentina</td>\n",
       "      <td>https://cdn.sofifa.org/flags/52.png</td>\n",
       "      <td>94</td>\n",
       "      <td>94</td>\n",
       "      <td>FC Barcelona</td>\n",
       "      <td>https://cdn.sofifa.org/teams/2/light/241.png</td>\n",
       "      <td>€110.5M</td>\n",
       "      <td>€565K</td>\n",
       "      <td>Left</td>\n",
       "      <td>5.0</td>\n",
       "      <td>4.0</td>\n",
       "      <td>4.0</td>\n",
       "      <td>Medium/ Medium</td>\n",
       "      <td>Messi</td>\n",
       "      <td>RF</td>\n",
       "      <td>10.0</td>\n",
       "      <td>Jul 1, 2004</td>\n",
       "      <td>NaN</td>\n",
       "      <td>2021</td>\n",
       "      <td>5'7</td>\n",
       "      <td>159lbs</td>\n",
       "      <td>84.0</td>\n",
       "      <td>95.0</td>\n",
       "      <td>70.0</td>\n",
       "      <td>90.0</td>\n",
       "      <td>86.0</td>\n",
       "      <td>97.0</td>\n",
       "      <td>93.0</td>\n",
       "      <td>94.0</td>\n",
       "      <td>87.0</td>\n",
       "      <td>96.0</td>\n",
       "      <td>91.0</td>\n",
       "      <td>86.0</td>\n",
       "      <td>91.0</td>\n",
       "      <td>95.0</td>\n",
       "      <td>95.0</td>\n",
       "      <td>85.0</td>\n",
       "      <td>68.0</td>\n",
       "      <td>72.0</td>\n",
       "      <td>59.0</td>\n",
       "      <td>94.0</td>\n",
       "      <td>48.0</td>\n",
       "      <td>22.0</td>\n",
       "      <td>94.0</td>\n",
       "      <td>94.0</td>\n",
       "      <td>75.0</td>\n",
       "      <td>96.0</td>\n",
       "      <td>33.0</td>\n",
       "      <td>28.0</td>\n",
       "      <td>26.0</td>\n",
       "      <td>6.0</td>\n",
       "      <td>11.0</td>\n",
       "      <td>15.0</td>\n",
       "      <td>14.0</td>\n",
       "      <td>8.0</td>\n",
       "      <td>€226.5M</td>\n",
       "    </tr>\n",
       "    <tr>\n",
       "      <th>1</th>\n",
       "      <td>20801</td>\n",
       "      <td>Cristiano Ronaldo</td>\n",
       "      <td>33</td>\n",
       "      <td>https://cdn.sofifa.org/players/4/19/20801.png</td>\n",
       "      <td>Portugal</td>\n",
       "      <td>https://cdn.sofifa.org/flags/38.png</td>\n",
       "      <td>94</td>\n",
       "      <td>94</td>\n",
       "      <td>Juventus</td>\n",
       "      <td>https://cdn.sofifa.org/teams/2/light/45.png</td>\n",
       "      <td>€77M</td>\n",
       "      <td>€405K</td>\n",
       "      <td>Right</td>\n",
       "      <td>5.0</td>\n",
       "      <td>4.0</td>\n",
       "      <td>5.0</td>\n",
       "      <td>High/ Low</td>\n",
       "      <td>C. Ronaldo</td>\n",
       "      <td>ST</td>\n",
       "      <td>7.0</td>\n",
       "      <td>Jul 10, 2018</td>\n",
       "      <td>NaN</td>\n",
       "      <td>2022</td>\n",
       "      <td>6'2</td>\n",
       "      <td>183lbs</td>\n",
       "      <td>84.0</td>\n",
       "      <td>94.0</td>\n",
       "      <td>89.0</td>\n",
       "      <td>81.0</td>\n",
       "      <td>87.0</td>\n",
       "      <td>88.0</td>\n",
       "      <td>81.0</td>\n",
       "      <td>76.0</td>\n",
       "      <td>77.0</td>\n",
       "      <td>94.0</td>\n",
       "      <td>89.0</td>\n",
       "      <td>91.0</td>\n",
       "      <td>87.0</td>\n",
       "      <td>96.0</td>\n",
       "      <td>70.0</td>\n",
       "      <td>95.0</td>\n",
       "      <td>95.0</td>\n",
       "      <td>88.0</td>\n",
       "      <td>79.0</td>\n",
       "      <td>93.0</td>\n",
       "      <td>63.0</td>\n",
       "      <td>29.0</td>\n",
       "      <td>95.0</td>\n",
       "      <td>82.0</td>\n",
       "      <td>85.0</td>\n",
       "      <td>95.0</td>\n",
       "      <td>28.0</td>\n",
       "      <td>31.0</td>\n",
       "      <td>23.0</td>\n",
       "      <td>7.0</td>\n",
       "      <td>11.0</td>\n",
       "      <td>15.0</td>\n",
       "      <td>14.0</td>\n",
       "      <td>11.0</td>\n",
       "      <td>€127.1M</td>\n",
       "    </tr>\n",
       "    <tr>\n",
       "      <th>2</th>\n",
       "      <td>190871</td>\n",
       "      <td>Neymar Jr</td>\n",
       "      <td>26</td>\n",
       "      <td>https://cdn.sofifa.org/players/4/19/190871.png</td>\n",
       "      <td>Brazil</td>\n",
       "      <td>https://cdn.sofifa.org/flags/54.png</td>\n",
       "      <td>92</td>\n",
       "      <td>93</td>\n",
       "      <td>Paris Saint-Germain</td>\n",
       "      <td>https://cdn.sofifa.org/teams/2/light/73.png</td>\n",
       "      <td>€118.5M</td>\n",
       "      <td>€290K</td>\n",
       "      <td>Right</td>\n",
       "      <td>5.0</td>\n",
       "      <td>5.0</td>\n",
       "      <td>5.0</td>\n",
       "      <td>High/ Medium</td>\n",
       "      <td>Neymar</td>\n",
       "      <td>LW</td>\n",
       "      <td>10.0</td>\n",
       "      <td>Aug 3, 2017</td>\n",
       "      <td>NaN</td>\n",
       "      <td>2022</td>\n",
       "      <td>5'9</td>\n",
       "      <td>150lbs</td>\n",
       "      <td>79.0</td>\n",
       "      <td>87.0</td>\n",
       "      <td>62.0</td>\n",
       "      <td>84.0</td>\n",
       "      <td>84.0</td>\n",
       "      <td>96.0</td>\n",
       "      <td>88.0</td>\n",
       "      <td>87.0</td>\n",
       "      <td>78.0</td>\n",
       "      <td>95.0</td>\n",
       "      <td>94.0</td>\n",
       "      <td>90.0</td>\n",
       "      <td>96.0</td>\n",
       "      <td>94.0</td>\n",
       "      <td>84.0</td>\n",
       "      <td>80.0</td>\n",
       "      <td>61.0</td>\n",
       "      <td>81.0</td>\n",
       "      <td>49.0</td>\n",
       "      <td>82.0</td>\n",
       "      <td>56.0</td>\n",
       "      <td>36.0</td>\n",
       "      <td>89.0</td>\n",
       "      <td>87.0</td>\n",
       "      <td>81.0</td>\n",
       "      <td>94.0</td>\n",
       "      <td>27.0</td>\n",
       "      <td>24.0</td>\n",
       "      <td>33.0</td>\n",
       "      <td>9.0</td>\n",
       "      <td>9.0</td>\n",
       "      <td>15.0</td>\n",
       "      <td>15.0</td>\n",
       "      <td>11.0</td>\n",
       "      <td>€228.1M</td>\n",
       "    </tr>\n",
       "    <tr>\n",
       "      <th>3</th>\n",
       "      <td>193080</td>\n",
       "      <td>De Gea</td>\n",
       "      <td>27</td>\n",
       "      <td>https://cdn.sofifa.org/players/4/19/193080.png</td>\n",
       "      <td>Spain</td>\n",
       "      <td>https://cdn.sofifa.org/flags/45.png</td>\n",
       "      <td>91</td>\n",
       "      <td>93</td>\n",
       "      <td>Manchester United</td>\n",
       "      <td>https://cdn.sofifa.org/teams/2/light/11.png</td>\n",
       "      <td>€72M</td>\n",
       "      <td>€260K</td>\n",
       "      <td>Right</td>\n",
       "      <td>4.0</td>\n",
       "      <td>3.0</td>\n",
       "      <td>1.0</td>\n",
       "      <td>Medium/ Medium</td>\n",
       "      <td>Lean</td>\n",
       "      <td>GK</td>\n",
       "      <td>1.0</td>\n",
       "      <td>Jul 1, 2011</td>\n",
       "      <td>NaN</td>\n",
       "      <td>2020</td>\n",
       "      <td>6'4</td>\n",
       "      <td>168lbs</td>\n",
       "      <td>17.0</td>\n",
       "      <td>13.0</td>\n",
       "      <td>21.0</td>\n",
       "      <td>50.0</td>\n",
       "      <td>13.0</td>\n",
       "      <td>18.0</td>\n",
       "      <td>21.0</td>\n",
       "      <td>19.0</td>\n",
       "      <td>51.0</td>\n",
       "      <td>42.0</td>\n",
       "      <td>57.0</td>\n",
       "      <td>58.0</td>\n",
       "      <td>60.0</td>\n",
       "      <td>90.0</td>\n",
       "      <td>43.0</td>\n",
       "      <td>31.0</td>\n",
       "      <td>67.0</td>\n",
       "      <td>43.0</td>\n",
       "      <td>64.0</td>\n",
       "      <td>12.0</td>\n",
       "      <td>38.0</td>\n",
       "      <td>30.0</td>\n",
       "      <td>12.0</td>\n",
       "      <td>68.0</td>\n",
       "      <td>40.0</td>\n",
       "      <td>68.0</td>\n",
       "      <td>15.0</td>\n",
       "      <td>21.0</td>\n",
       "      <td>13.0</td>\n",
       "      <td>90.0</td>\n",
       "      <td>85.0</td>\n",
       "      <td>87.0</td>\n",
       "      <td>88.0</td>\n",
       "      <td>94.0</td>\n",
       "      <td>€138.6M</td>\n",
       "    </tr>\n",
       "    <tr>\n",
       "      <th>4</th>\n",
       "      <td>192985</td>\n",
       "      <td>K. De Bruyne</td>\n",
       "      <td>27</td>\n",
       "      <td>https://cdn.sofifa.org/players/4/19/192985.png</td>\n",
       "      <td>Belgium</td>\n",
       "      <td>https://cdn.sofifa.org/flags/7.png</td>\n",
       "      <td>91</td>\n",
       "      <td>92</td>\n",
       "      <td>Manchester City</td>\n",
       "      <td>https://cdn.sofifa.org/teams/2/light/10.png</td>\n",
       "      <td>€102M</td>\n",
       "      <td>€355K</td>\n",
       "      <td>Right</td>\n",
       "      <td>4.0</td>\n",
       "      <td>5.0</td>\n",
       "      <td>4.0</td>\n",
       "      <td>High/ High</td>\n",
       "      <td>Normal</td>\n",
       "      <td>RCM</td>\n",
       "      <td>7.0</td>\n",
       "      <td>Aug 30, 2015</td>\n",
       "      <td>NaN</td>\n",
       "      <td>2023</td>\n",
       "      <td>5'11</td>\n",
       "      <td>154lbs</td>\n",
       "      <td>93.0</td>\n",
       "      <td>82.0</td>\n",
       "      <td>55.0</td>\n",
       "      <td>92.0</td>\n",
       "      <td>82.0</td>\n",
       "      <td>86.0</td>\n",
       "      <td>85.0</td>\n",
       "      <td>83.0</td>\n",
       "      <td>91.0</td>\n",
       "      <td>91.0</td>\n",
       "      <td>78.0</td>\n",
       "      <td>76.0</td>\n",
       "      <td>79.0</td>\n",
       "      <td>91.0</td>\n",
       "      <td>77.0</td>\n",
       "      <td>91.0</td>\n",
       "      <td>63.0</td>\n",
       "      <td>90.0</td>\n",
       "      <td>75.0</td>\n",
       "      <td>91.0</td>\n",
       "      <td>76.0</td>\n",
       "      <td>61.0</td>\n",
       "      <td>87.0</td>\n",
       "      <td>94.0</td>\n",
       "      <td>79.0</td>\n",
       "      <td>88.0</td>\n",
       "      <td>68.0</td>\n",
       "      <td>58.0</td>\n",
       "      <td>51.0</td>\n",
       "      <td>15.0</td>\n",
       "      <td>13.0</td>\n",
       "      <td>5.0</td>\n",
       "      <td>10.0</td>\n",
       "      <td>13.0</td>\n",
       "      <td>€196.4M</td>\n",
       "    </tr>\n",
       "  </tbody>\n",
       "</table>\n",
       "</div>"
      ],
      "text/plain": [
       "       ID               Name  Age  \\\n",
       "0  158023           L. Messi   31   \n",
       "1   20801  Cristiano Ronaldo   33   \n",
       "2  190871          Neymar Jr   26   \n",
       "3  193080             De Gea   27   \n",
       "4  192985       K. De Bruyne   27   \n",
       "\n",
       "                                            Photo Nationality  \\\n",
       "0  https://cdn.sofifa.org/players/4/19/158023.png   Argentina   \n",
       "1   https://cdn.sofifa.org/players/4/19/20801.png    Portugal   \n",
       "2  https://cdn.sofifa.org/players/4/19/190871.png      Brazil   \n",
       "3  https://cdn.sofifa.org/players/4/19/193080.png       Spain   \n",
       "4  https://cdn.sofifa.org/players/4/19/192985.png     Belgium   \n",
       "\n",
       "                                  Flag  Overall  Potential  \\\n",
       "0  https://cdn.sofifa.org/flags/52.png       94         94   \n",
       "1  https://cdn.sofifa.org/flags/38.png       94         94   \n",
       "2  https://cdn.sofifa.org/flags/54.png       92         93   \n",
       "3  https://cdn.sofifa.org/flags/45.png       91         93   \n",
       "4   https://cdn.sofifa.org/flags/7.png       91         92   \n",
       "\n",
       "                  Club                                     Club Logo    Value  \\\n",
       "0         FC Barcelona  https://cdn.sofifa.org/teams/2/light/241.png  €110.5M   \n",
       "1             Juventus   https://cdn.sofifa.org/teams/2/light/45.png     €77M   \n",
       "2  Paris Saint-Germain   https://cdn.sofifa.org/teams/2/light/73.png  €118.5M   \n",
       "3    Manchester United   https://cdn.sofifa.org/teams/2/light/11.png     €72M   \n",
       "4      Manchester City   https://cdn.sofifa.org/teams/2/light/10.png    €102M   \n",
       "\n",
       "    Wage Preferred Foot  International Reputation  Weak Foot  Skill Moves  \\\n",
       "0  €565K           Left                       5.0        4.0          4.0   \n",
       "1  €405K          Right                       5.0        4.0          5.0   \n",
       "2  €290K          Right                       5.0        5.0          5.0   \n",
       "3  €260K          Right                       4.0        3.0          1.0   \n",
       "4  €355K          Right                       4.0        5.0          4.0   \n",
       "\n",
       "        Work Rate   Body Type Position  Jersey Number        Joined  \\\n",
       "0  Medium/ Medium       Messi       RF           10.0   Jul 1, 2004   \n",
       "1       High/ Low  C. Ronaldo       ST            7.0  Jul 10, 2018   \n",
       "2    High/ Medium      Neymar       LW           10.0   Aug 3, 2017   \n",
       "3  Medium/ Medium        Lean       GK            1.0   Jul 1, 2011   \n",
       "4      High/ High      Normal      RCM            7.0  Aug 30, 2015   \n",
       "\n",
       "  Loaned From Contract Valid Until Height  Weight  Crossing  Finishing  \\\n",
       "0         NaN                 2021    5'7  159lbs      84.0       95.0   \n",
       "1         NaN                 2022    6'2  183lbs      84.0       94.0   \n",
       "2         NaN                 2022    5'9  150lbs      79.0       87.0   \n",
       "3         NaN                 2020    6'4  168lbs      17.0       13.0   \n",
       "4         NaN                 2023   5'11  154lbs      93.0       82.0   \n",
       "\n",
       "   HeadingAccuracy  ShortPassing  Volleys  Dribbling  Curve  FKAccuracy  \\\n",
       "0             70.0          90.0     86.0       97.0   93.0        94.0   \n",
       "1             89.0          81.0     87.0       88.0   81.0        76.0   \n",
       "2             62.0          84.0     84.0       96.0   88.0        87.0   \n",
       "3             21.0          50.0     13.0       18.0   21.0        19.0   \n",
       "4             55.0          92.0     82.0       86.0   85.0        83.0   \n",
       "\n",
       "   LongPassing  BallControl  Acceleration  SprintSpeed  Agility  Reactions  \\\n",
       "0         87.0         96.0          91.0         86.0     91.0       95.0   \n",
       "1         77.0         94.0          89.0         91.0     87.0       96.0   \n",
       "2         78.0         95.0          94.0         90.0     96.0       94.0   \n",
       "3         51.0         42.0          57.0         58.0     60.0       90.0   \n",
       "4         91.0         91.0          78.0         76.0     79.0       91.0   \n",
       "\n",
       "   Balance  ShotPower  Jumping  Stamina  Strength  LongShots  Aggression  \\\n",
       "0     95.0       85.0     68.0     72.0      59.0       94.0        48.0   \n",
       "1     70.0       95.0     95.0     88.0      79.0       93.0        63.0   \n",
       "2     84.0       80.0     61.0     81.0      49.0       82.0        56.0   \n",
       "3     43.0       31.0     67.0     43.0      64.0       12.0        38.0   \n",
       "4     77.0       91.0     63.0     90.0      75.0       91.0        76.0   \n",
       "\n",
       "   Interceptions  Positioning  Vision  Penalties  Composure  Marking  \\\n",
       "0           22.0         94.0    94.0       75.0       96.0     33.0   \n",
       "1           29.0         95.0    82.0       85.0       95.0     28.0   \n",
       "2           36.0         89.0    87.0       81.0       94.0     27.0   \n",
       "3           30.0         12.0    68.0       40.0       68.0     15.0   \n",
       "4           61.0         87.0    94.0       79.0       88.0     68.0   \n",
       "\n",
       "   StandingTackle  SlidingTackle  GKDiving  GKHandling  GKKicking  \\\n",
       "0            28.0           26.0       6.0        11.0       15.0   \n",
       "1            31.0           23.0       7.0        11.0       15.0   \n",
       "2            24.0           33.0       9.0         9.0       15.0   \n",
       "3            21.0           13.0      90.0        85.0       87.0   \n",
       "4            58.0           51.0      15.0        13.0        5.0   \n",
       "\n",
       "   GKPositioning  GKReflexes Release Clause  \n",
       "0           14.0         8.0        €226.5M  \n",
       "1           14.0        11.0        €127.1M  \n",
       "2           15.0        11.0        €228.1M  \n",
       "3           88.0        94.0        €138.6M  \n",
       "4           10.0        13.0        €196.4M  "
      ]
     },
     "execution_count": 467,
     "metadata": {},
     "output_type": "execute_result"
    }
   ],
   "source": [
    "original_data = pd.read_csv('fifa.csv')\n",
    "data=original_data.copy()\n",
    "data.head(5)"
   ]
  },
  {
   "cell_type": "markdown",
   "metadata": {},
   "source": [
    "#### 2. Drop any columns that you deem unnecessary for analysis. (2 marks)"
   ]
  },
  {
   "cell_type": "code",
   "execution_count": 468,
   "metadata": {},
   "outputs": [
    {
     "name": "stdout",
     "output_type": "stream",
     "text": [
      "<class 'pandas.core.frame.DataFrame'>\n",
      "RangeIndex: 18207 entries, 0 to 18206\n",
      "Data columns (total 60 columns):\n",
      " #   Column                    Non-Null Count  Dtype  \n",
      "---  ------                    --------------  -----  \n",
      " 0   ID                        18207 non-null  int64  \n",
      " 1   Name                      18207 non-null  object \n",
      " 2   Age                       18207 non-null  int64  \n",
      " 3   Photo                     18207 non-null  object \n",
      " 4   Nationality               18207 non-null  object \n",
      " 5   Flag                      18207 non-null  object \n",
      " 6   Overall                   18207 non-null  int64  \n",
      " 7   Potential                 18207 non-null  int64  \n",
      " 8   Club                      17966 non-null  object \n",
      " 9   Club Logo                 18207 non-null  object \n",
      " 10  Value                     18207 non-null  object \n",
      " 11  Wage                      18207 non-null  object \n",
      " 12  Preferred Foot            18159 non-null  object \n",
      " 13  International Reputation  18159 non-null  float64\n",
      " 14  Weak Foot                 18159 non-null  float64\n",
      " 15  Skill Moves               18159 non-null  float64\n",
      " 16  Work Rate                 18159 non-null  object \n",
      " 17  Body Type                 18159 non-null  object \n",
      " 18  Position                  18147 non-null  object \n",
      " 19  Jersey Number             18147 non-null  float64\n",
      " 20  Joined                    16654 non-null  object \n",
      " 21  Loaned From               1264 non-null   object \n",
      " 22  Contract Valid Until      17918 non-null  object \n",
      " 23  Height                    18159 non-null  object \n",
      " 24  Weight                    18159 non-null  object \n",
      " 25  Crossing                  18159 non-null  float64\n",
      " 26  Finishing                 18159 non-null  float64\n",
      " 27  HeadingAccuracy           18159 non-null  float64\n",
      " 28  ShortPassing              18159 non-null  float64\n",
      " 29  Volleys                   18159 non-null  float64\n",
      " 30  Dribbling                 18159 non-null  float64\n",
      " 31  Curve                     18159 non-null  float64\n",
      " 32  FKAccuracy                18159 non-null  float64\n",
      " 33  LongPassing               18159 non-null  float64\n",
      " 34  BallControl               18159 non-null  float64\n",
      " 35  Acceleration              18159 non-null  float64\n",
      " 36  SprintSpeed               18159 non-null  float64\n",
      " 37  Agility                   18159 non-null  float64\n",
      " 38  Reactions                 18159 non-null  float64\n",
      " 39  Balance                   18159 non-null  float64\n",
      " 40  ShotPower                 18159 non-null  float64\n",
      " 41  Jumping                   18159 non-null  float64\n",
      " 42  Stamina                   18159 non-null  float64\n",
      " 43  Strength                  18159 non-null  float64\n",
      " 44  LongShots                 18159 non-null  float64\n",
      " 45  Aggression                18159 non-null  float64\n",
      " 46  Interceptions             18159 non-null  float64\n",
      " 47  Positioning               18159 non-null  float64\n",
      " 48  Vision                    18159 non-null  float64\n",
      " 49  Penalties                 18159 non-null  float64\n",
      " 50  Composure                 18159 non-null  float64\n",
      " 51  Marking                   18159 non-null  float64\n",
      " 52  StandingTackle            18159 non-null  float64\n",
      " 53  SlidingTackle             18159 non-null  float64\n",
      " 54  GKDiving                  18159 non-null  float64\n",
      " 55  GKHandling                18159 non-null  float64\n",
      " 56  GKKicking                 18159 non-null  float64\n",
      " 57  GKPositioning             18159 non-null  float64\n",
      " 58  GKReflexes                18159 non-null  float64\n",
      " 59  Release Clause            16643 non-null  object \n",
      "dtypes: float64(38), int64(4), object(18)\n",
      "memory usage: 8.3+ MB\n"
     ]
    }
   ],
   "source": [
    "data.info()"
   ]
  },
  {
   "cell_type": "code",
   "execution_count": 469,
   "metadata": {},
   "outputs": [
    {
     "data": {
      "text/plain": [
       "Index(['ID', 'Name', 'Age', 'Photo', 'Nationality', 'Flag', 'Overall',\n",
       "       'Potential', 'Club', 'Club Logo', 'Value', 'Wage', 'Preferred Foot',\n",
       "       'International Reputation', 'Weak Foot', 'Skill Moves', 'Work Rate',\n",
       "       'Body Type', 'Position', 'Jersey Number', 'Joined', 'Loaned From',\n",
       "       'Contract Valid Until', 'Height', 'Weight', 'Crossing', 'Finishing',\n",
       "       'HeadingAccuracy', 'ShortPassing', 'Volleys', 'Dribbling', 'Curve',\n",
       "       'FKAccuracy', 'LongPassing', 'BallControl', 'Acceleration',\n",
       "       'SprintSpeed', 'Agility', 'Reactions', 'Balance', 'ShotPower',\n",
       "       'Jumping', 'Stamina', 'Strength', 'LongShots', 'Aggression',\n",
       "       'Interceptions', 'Positioning', 'Vision', 'Penalties', 'Composure',\n",
       "       'Marking', 'StandingTackle', 'SlidingTackle', 'GKDiving', 'GKHandling',\n",
       "       'GKKicking', 'GKPositioning', 'GKReflexes', 'Release Clause'],\n",
       "      dtype='object')"
      ]
     },
     "execution_count": 469,
     "metadata": {},
     "output_type": "execute_result"
    }
   ],
   "source": [
    "data.columns"
   ]
  },
  {
   "cell_type": "code",
   "execution_count": 470,
   "metadata": {},
   "outputs": [
    {
     "name": "stdout",
     "output_type": "stream",
     "text": [
      "Number of rows & columns before drop: (18207, 60)\n"
     ]
    }
   ],
   "source": [
    "print(\"Number of rows & columns before drop:\",data.shape)"
   ]
  },
  {
   "cell_type": "code",
   "execution_count": 471,
   "metadata": {},
   "outputs": [],
   "source": [
    "data.drop(columns=['Photo','Nationality','Flag','Club','Club Logo','Preferred Foot',\\\n",
    "                   'Jersey Number','Work Rate','Body Type'],inplace=True)"
   ]
  },
  {
   "cell_type": "code",
   "execution_count": 472,
   "metadata": {},
   "outputs": [
    {
     "name": "stdout",
     "output_type": "stream",
     "text": [
      "Number of rows & columns after drop: (18207, 51)\n"
     ]
    }
   ],
   "source": [
    "print(\"Number of rows & columns after drop:\",data.shape)"
   ]
  },
  {
   "cell_type": "markdown",
   "metadata": {},
   "source": [
    "### INFERENCE: <font color='green'> The following columns were dropped from the dataset 'fifa.csv'  </font> \n",
    "1. Photo\n",
    "2. Nationality\n",
    "3. Flag\n",
    "4. Club\n",
    "5. Club logo\n",
    "6. Preferred Foot\n",
    "7. Jersey Number\n",
    "8. Work Rate \n",
    "9. Body Type\n",
    "### <font color='green'>We can see that the number of columns has become 51 , after removing 9 unnecessary columns. </font> "
   ]
  },
  {
   "cell_type": "markdown",
   "metadata": {},
   "source": [
    "#### 3. The following columns need to be converted for further analysis (5 marks)\n",
    "#### (You might encounter Nan values in the above columns. Pandas treats Nan values as float. Please keep that in mind when making the conversions.)"
   ]
  },
  {
   "cell_type": "markdown",
   "metadata": {},
   "source": [
    "####  i) Column = 'Value' : Amount with Euro symbol as prefix and suffix ‘K’ or ‘M’ indicating thousands and millions respectively. Convert to Float after getting rid of currency symbol and suffix."
   ]
  },
  {
   "cell_type": "code",
   "execution_count": 473,
   "metadata": {},
   "outputs": [
    {
     "data": {
      "text/plain": [
       "0"
      ]
     },
     "execution_count": 473,
     "metadata": {},
     "output_type": "execute_result"
    }
   ],
   "source": [
    "data['Value'].isnull().sum()"
   ]
  },
  {
   "cell_type": "code",
   "execution_count": 474,
   "metadata": {},
   "outputs": [
    {
     "data": {
      "text/plain": [
       "0    €110.5M\n",
       "1       €77M\n",
       "2    €118.5M\n",
       "3       €72M\n",
       "4      €102M\n",
       "Name: Value, dtype: object"
      ]
     },
     "execution_count": 474,
     "metadata": {},
     "output_type": "execute_result"
    }
   ],
   "source": [
    "# Before conversion\n",
    "data['Value'].head()"
   ]
  },
  {
   "cell_type": "code",
   "execution_count": 475,
   "metadata": {},
   "outputs": [],
   "source": [
    "value=[]\n",
    "i=0\n",
    "for i in data['Value']:\n",
    "    if isinstance(i,str) and i[-1:] == 'M':\n",
    "        value.append(float(i[1:-1]) * 1000000)\n",
    "    elif isinstance(i,str) and i[-1:] == 'K':\n",
    "        value.append(float(i[1:-1]) * 1000)\n",
    "    elif isinstance(i,str):\n",
    "        value.append(float(i[1:]))\n",
    "    else:\n",
    "        value.append(i)\n",
    "        \n",
    "data['Value'] = value"
   ]
  },
  {
   "cell_type": "code",
   "execution_count": 476,
   "metadata": {},
   "outputs": [
    {
     "data": {
      "text/plain": [
       "0    110500000.0\n",
       "1     77000000.0\n",
       "2    118500000.0\n",
       "3     72000000.0\n",
       "4    102000000.0\n",
       "Name: Value, dtype: float64"
      ]
     },
     "execution_count": 476,
     "metadata": {},
     "output_type": "execute_result"
    }
   ],
   "source": [
    "# After conversion\n",
    "data['Value'].head()"
   ]
  },
  {
   "cell_type": "markdown",
   "metadata": {},
   "source": [
    "### INFERENCE: <font color='green'> Column = 'Value' does not have any null values. The values are converted from 'object' dtype to 'float' dtype. </font> "
   ]
  },
  {
   "cell_type": "markdown",
   "metadata": {},
   "source": [
    "####  ii) Column = 'Wage' :\t Amount with Euro symbol as prefix and suffix ‘K’ or ‘M’ indicating thousands and millions respectively.\tConvert to Float after getting rid of currency symbol and suffix."
   ]
  },
  {
   "cell_type": "code",
   "execution_count": 477,
   "metadata": {},
   "outputs": [
    {
     "data": {
      "text/plain": [
       "0"
      ]
     },
     "execution_count": 477,
     "metadata": {},
     "output_type": "execute_result"
    }
   ],
   "source": [
    "data['Wage'].isnull().sum()"
   ]
  },
  {
   "cell_type": "code",
   "execution_count": 478,
   "metadata": {},
   "outputs": [
    {
     "data": {
      "text/plain": [
       "0    €565K\n",
       "1    €405K\n",
       "2    €290K\n",
       "3    €260K\n",
       "4    €355K\n",
       "Name: Wage, dtype: object"
      ]
     },
     "execution_count": 478,
     "metadata": {},
     "output_type": "execute_result"
    }
   ],
   "source": [
    "# Before conversion\n",
    "data['Wage'].head()"
   ]
  },
  {
   "cell_type": "code",
   "execution_count": 479,
   "metadata": {},
   "outputs": [],
   "source": [
    "wage=[]\n",
    "for i in data['Wage']:\n",
    "    if isinstance(i,str) and i[-1:] == 'M':\n",
    "        wage.append(float(i[1:-1]) * 1000000) \n",
    "    elif isinstance(i,str) and i[-1:] == 'K':\n",
    "        wage.append(float(i[1:-1]) * 1000) \n",
    "    elif isinstance(i,str):\n",
    "        wage.append(float(i[1:]))\n",
    "    else:\n",
    "        wage.append(i) \n",
    "        \n",
    "data['Wage']=wage"
   ]
  },
  {
   "cell_type": "code",
   "execution_count": 480,
   "metadata": {},
   "outputs": [
    {
     "data": {
      "text/plain": [
       "0    565000.0\n",
       "1    405000.0\n",
       "2    290000.0\n",
       "3    260000.0\n",
       "4    355000.0\n",
       "Name: Wage, dtype: float64"
      ]
     },
     "execution_count": 480,
     "metadata": {},
     "output_type": "execute_result"
    }
   ],
   "source": [
    "# After conversion\n",
    "data['Wage'].head()"
   ]
  },
  {
   "cell_type": "markdown",
   "metadata": {},
   "source": [
    "### INFERENCE: <font color='green'> Column = 'Wage' does not have any null values. Values are converted from 'object' dtype to 'float' dtype. </font> "
   ]
  },
  {
   "cell_type": "markdown",
   "metadata": {},
   "source": [
    "#### iii) Column = 'Joined' : Year as a string, in some cases complete date as string\tConvert to int with only year"
   ]
  },
  {
   "cell_type": "code",
   "execution_count": 481,
   "metadata": {},
   "outputs": [
    {
     "data": {
      "text/plain": [
       "1553"
      ]
     },
     "execution_count": 481,
     "metadata": {},
     "output_type": "execute_result"
    }
   ],
   "source": [
    "data['Joined'].isnull().sum()"
   ]
  },
  {
   "cell_type": "code",
   "execution_count": 482,
   "metadata": {},
   "outputs": [
    {
     "data": {
      "text/plain": [
       "0"
      ]
     },
     "execution_count": 482,
     "metadata": {},
     "output_type": "execute_result"
    }
   ],
   "source": [
    "# lets fill null values with zero.\n",
    "data['Joined']=data['Joined'].fillna(0)\n",
    "\n",
    "# Lets check if it still has null values.\n",
    "data['Joined'].isnull().sum()"
   ]
  },
  {
   "cell_type": "code",
   "execution_count": 483,
   "metadata": {},
   "outputs": [
    {
     "data": {
      "text/plain": [
       "0     Jul 1, 2004\n",
       "1    Jul 10, 2018\n",
       "2     Aug 3, 2017\n",
       "3     Jul 1, 2011\n",
       "4    Aug 30, 2015\n",
       "Name: Joined, dtype: object"
      ]
     },
     "execution_count": 483,
     "metadata": {},
     "output_type": "execute_result"
    }
   ],
   "source": [
    "# Before conversion\n",
    "data['Joined'].head()"
   ]
  },
  {
   "cell_type": "code",
   "execution_count": 484,
   "metadata": {},
   "outputs": [],
   "source": [
    "joined=[]\n",
    "for i in data['Joined']:\n",
    "    if isinstance(i,str):\n",
    "        joined.append(int(i[-4:]))\n",
    "    else:\n",
    "        joined.append(i)\n",
    "        \n",
    "data['Joined']=joined"
   ]
  },
  {
   "cell_type": "code",
   "execution_count": 485,
   "metadata": {},
   "outputs": [
    {
     "data": {
      "text/plain": [
       "0    2004\n",
       "1    2018\n",
       "2    2017\n",
       "3    2011\n",
       "4    2015\n",
       "Name: Joined, dtype: int64"
      ]
     },
     "execution_count": 485,
     "metadata": {},
     "output_type": "execute_result"
    }
   ],
   "source": [
    "# After conversion\n",
    "data['Joined'].head()"
   ]
  },
  {
   "cell_type": "markdown",
   "metadata": {},
   "source": [
    "### INFERENCE: <font color='green'> Since 'Joined' column had null values, even after converting to dtype=int , it had float data type. So we replaced null values with zero. Now, column 'Joined' is in 'int' datatype.  </font> "
   ]
  },
  {
   "cell_type": "markdown",
   "metadata": {},
   "source": [
    "#### iv) Column = 'Contract Valid Until' : Date as a string. Convert to datetime type"
   ]
  },
  {
   "cell_type": "code",
   "execution_count": 486,
   "metadata": {},
   "outputs": [
    {
     "data": {
      "text/plain": [
       "289"
      ]
     },
     "execution_count": 486,
     "metadata": {},
     "output_type": "execute_result"
    }
   ],
   "source": [
    "data['Contract Valid Until'].isnull().sum()"
   ]
  },
  {
   "cell_type": "code",
   "execution_count": 487,
   "metadata": {},
   "outputs": [
    {
     "data": {
      "text/plain": [
       "2019            4819\n",
       "2021            4360\n",
       "2020            4027\n",
       "2022            1477\n",
       "2023            1053\n",
       "Jun 30, 2019     931\n",
       "2018             886\n",
       "Dec 31, 2018     144\n",
       "May 31, 2019      60\n",
       "Jan 1, 2019       51\n",
       "2024              23\n",
       "Jun 30, 2020      14\n",
       "Jan 31, 2019      13\n",
       "2025               7\n",
       "Jan 2, 2019        6\n",
       "Jan 5, 2019        6\n",
       "Jan 12, 2019       5\n",
       "Oct 14, 2019       5\n",
       "Jan 6, 2019        4\n",
       "Jan 7, 2019        3\n",
       "Dec 31, 2019       3\n",
       "Jan 25, 2019       3\n",
       "Nov 30, 2018       2\n",
       "Dec 1, 2019        2\n",
       "May 31, 2020       2\n",
       "2026               2\n",
       "Jan 4, 2019        1\n",
       "Jan 18, 2019       1\n",
       "Feb 27, 2020       1\n",
       "May 4, 2019        1\n",
       "Jan 30, 2019       1\n",
       "Jun 1, 2019        1\n",
       "Jan 11, 2019       1\n",
       "Jan 15, 2019       1\n",
       "Jan 20, 2019       1\n",
       "Jan 3, 2019        1\n",
       "Name: Contract Valid Until, dtype: int64"
      ]
     },
     "execution_count": 487,
     "metadata": {},
     "output_type": "execute_result"
    }
   ],
   "source": [
    "# Before conversion\n",
    "data['Contract Valid Until'].value_counts()"
   ]
  },
  {
   "cell_type": "code",
   "execution_count": 488,
   "metadata": {},
   "outputs": [],
   "source": [
    "import datetime\n",
    "# Function to convert string to datetime\n",
    "def convert(date_time):\n",
    "    format = '%b %d %Y'  # The format\n",
    "    dte = datetime.datetime.strptime(date_time, format)\n",
    "    return dte"
   ]
  },
  {
   "cell_type": "code",
   "execution_count": 489,
   "metadata": {},
   "outputs": [],
   "source": [
    "contract=[]\n",
    "for i in data['Contract Valid Until']:\n",
    "    if isinstance(i, str) and len(i) == 4:\n",
    "        date = 'Dec 31 ' + i\n",
    "        contract.append(convert(date))\n",
    "    elif isinstance(i, str) and len(i) > 4:\n",
    "        i = i.replace(',','')\n",
    "        contract.append(convert(i))\n",
    "    else:\n",
    "        contract.append(i)\n",
    "        \n",
    "data['Contract Valid Until']=contract"
   ]
  },
  {
   "cell_type": "code",
   "execution_count": 490,
   "metadata": {},
   "outputs": [
    {
     "data": {
      "text/plain": [
       "0   2021-12-31\n",
       "1   2022-12-31\n",
       "2   2022-12-31\n",
       "3   2020-12-31\n",
       "4   2023-12-31\n",
       "Name: Contract Valid Until, dtype: datetime64[ns]"
      ]
     },
     "execution_count": 490,
     "metadata": {},
     "output_type": "execute_result"
    }
   ],
   "source": [
    "# After conversion\n",
    "data['Contract Valid Until'].head()"
   ]
  },
  {
   "cell_type": "markdown",
   "metadata": {},
   "source": [
    "### INFERENCE: <font color='green'> Column 'Contract Valid Until' has null values but still we are able to convert them to 'datetime' dtype. We will remove missing values from this column in upcoming steps. </font>"
   ]
  },
  {
   "cell_type": "markdown",
   "metadata": {},
   "source": [
    "####  v) Column = 'Height' :\tIn inches with a quotation mark.\tConvert to Float with decimal points"
   ]
  },
  {
   "cell_type": "code",
   "execution_count": 491,
   "metadata": {},
   "outputs": [
    {
     "data": {
      "text/plain": [
       "48"
      ]
     },
     "execution_count": 491,
     "metadata": {},
     "output_type": "execute_result"
    }
   ],
   "source": [
    "data['Height'].isnull().sum()"
   ]
  },
  {
   "cell_type": "code",
   "execution_count": 492,
   "metadata": {},
   "outputs": [
    {
     "data": {
      "text/plain": [
       "0     5'7\n",
       "1     6'2\n",
       "2     5'9\n",
       "3     6'4\n",
       "4    5'11\n",
       "Name: Height, dtype: object"
      ]
     },
     "execution_count": 492,
     "metadata": {},
     "output_type": "execute_result"
    }
   ],
   "source": [
    "# Before conversion\n",
    "data['Height'].head()"
   ]
  },
  {
   "cell_type": "code",
   "execution_count": 493,
   "metadata": {},
   "outputs": [],
   "source": [
    "height=[]\n",
    "for i in data['Height']:\n",
    "    if isinstance(i,str):\n",
    "        foot, inch = i.split(\"'\")\n",
    "        height.append(float(foot)*12 + float(inch))\n",
    "    else:\n",
    "        height.append(i)\n",
    "        \n",
    "data['Height']=height"
   ]
  },
  {
   "cell_type": "code",
   "execution_count": 494,
   "metadata": {},
   "outputs": [
    {
     "data": {
      "text/plain": [
       "0    67.0\n",
       "1    74.0\n",
       "2    69.0\n",
       "3    76.0\n",
       "4    71.0\n",
       "Name: Height, dtype: float64"
      ]
     },
     "execution_count": 494,
     "metadata": {},
     "output_type": "execute_result"
    }
   ],
   "source": [
    "# After conversion\n",
    "data['Height'].head()"
   ]
  },
  {
   "cell_type": "markdown",
   "metadata": {},
   "source": [
    "### INFERENCE: <font color='green'> Column 'Height' has few null values but still we are able to convert them to 'float' dtype. We will remove missing values from this column in upcoming steps. </font>\n",
    "### <font color='blue'> Here we have converted height value from 5 foot 7 inches to 67 inches (decimal value) . </font>"
   ]
  },
  {
   "cell_type": "markdown",
   "metadata": {},
   "source": [
    "####  vi)  Column = 'Weight' :\tContains the suffix lbs. Remove the suffix and convert to float"
   ]
  },
  {
   "cell_type": "code",
   "execution_count": 495,
   "metadata": {},
   "outputs": [
    {
     "data": {
      "text/plain": [
       "0    159lbs\n",
       "1    183lbs\n",
       "2    150lbs\n",
       "3    168lbs\n",
       "4    154lbs\n",
       "Name: Weight, dtype: object"
      ]
     },
     "execution_count": 495,
     "metadata": {},
     "output_type": "execute_result"
    }
   ],
   "source": [
    "# Before conversion\n",
    "data['Weight'].head()"
   ]
  },
  {
   "cell_type": "code",
   "execution_count": 496,
   "metadata": {},
   "outputs": [],
   "source": [
    "weight=[]\n",
    "for i in data['Weight']:\n",
    "    if isinstance(i, str):\n",
    "        weight.append(float(i[:-3]))\n",
    "    else:\n",
    "        weight.append(i)\n",
    "        \n",
    "data['Weight']=weight"
   ]
  },
  {
   "cell_type": "code",
   "execution_count": 497,
   "metadata": {},
   "outputs": [
    {
     "data": {
      "text/plain": [
       "0    159.0\n",
       "1    183.0\n",
       "2    150.0\n",
       "3    168.0\n",
       "4    154.0\n",
       "Name: Weight, dtype: float64"
      ]
     },
     "execution_count": 497,
     "metadata": {},
     "output_type": "execute_result"
    }
   ],
   "source": [
    "# After conversion\n",
    "data['Weight'].head()"
   ]
  },
  {
   "cell_type": "markdown",
   "metadata": {},
   "source": [
    "### INFERENCE: <font color='green'> Column 'Weight' has few null values but we are able to convert them to 'float' dtype. We will remove missing values from this column in upcoming steps. </font>"
   ]
  },
  {
   "cell_type": "markdown",
   "metadata": {},
   "source": [
    "#### vii)  Column =  'Release Clause' : \t Amount with Euro symbol as prefix and suffix ‘K’ or ‘M’ indicating thousands and millions respectively.\tConvert to Float after getting rid of currency symbol and suffix."
   ]
  },
  {
   "cell_type": "code",
   "execution_count": 498,
   "metadata": {},
   "outputs": [
    {
     "data": {
      "text/plain": [
       "0    €226.5M\n",
       "1    €127.1M\n",
       "2    €228.1M\n",
       "3    €138.6M\n",
       "4    €196.4M\n",
       "Name: Release Clause, dtype: object"
      ]
     },
     "execution_count": 498,
     "metadata": {},
     "output_type": "execute_result"
    }
   ],
   "source": [
    "# Before conversion\n",
    "data['Release Clause'].head()"
   ]
  },
  {
   "cell_type": "code",
   "execution_count": 499,
   "metadata": {},
   "outputs": [],
   "source": [
    "release=[]\n",
    "for i in data['Release Clause']:\n",
    "    if isinstance(i,str) and i[-1:] == 'M':\n",
    "        release.append(float(i[1:-1]) * 1000000) \n",
    "    elif isinstance(i,str) and i[-1:] == 'K':\n",
    "        release.append(float(i[1:-1]) * 1000) \n",
    "    elif isinstance(i,str):\n",
    "        release.append(float(i[1:])) \n",
    "    else:\n",
    "        release.append(i)\n",
    "        \n",
    "data['Release Clause']=release"
   ]
  },
  {
   "cell_type": "code",
   "execution_count": 500,
   "metadata": {},
   "outputs": [
    {
     "data": {
      "text/plain": [
       "0    226500000.0\n",
       "1    127100000.0\n",
       "2    228100000.0\n",
       "3    138600000.0\n",
       "4    196400000.0\n",
       "Name: Release Clause, dtype: float64"
      ]
     },
     "execution_count": 500,
     "metadata": {},
     "output_type": "execute_result"
    }
   ],
   "source": [
    "# After conversion\n",
    "data['Release Clause'].head()"
   ]
  },
  {
   "cell_type": "markdown",
   "metadata": {},
   "source": [
    "### INFERENCE: <font color='green'> Column 'Release Clause' also has some null values but we are able to convert them to 'float' dtype. We will remove missing values from this column in upcoming steps. </font>"
   ]
  },
  {
   "cell_type": "markdown",
   "metadata": {},
   "source": [
    "#### 4.  Check for missing values and do a mean imputation where necessary. (3 marks)"
   ]
  },
  {
   "cell_type": "code",
   "execution_count": 501,
   "metadata": {},
   "outputs": [
    {
     "data": {
      "text/plain": [
       "ID                              0\n",
       "Name                            0\n",
       "Age                             0\n",
       "Overall                         0\n",
       "Potential                       0\n",
       "Value                           0\n",
       "Wage                            0\n",
       "International Reputation       48\n",
       "Weak Foot                      48\n",
       "Skill Moves                    48\n",
       "Position                       60\n",
       "Joined                          0\n",
       "Loaned From                 16943\n",
       "Contract Valid Until          289\n",
       "Height                         48\n",
       "Weight                         48\n",
       "Crossing                       48\n",
       "Finishing                      48\n",
       "HeadingAccuracy                48\n",
       "ShortPassing                   48\n",
       "Volleys                        48\n",
       "Dribbling                      48\n",
       "Curve                          48\n",
       "FKAccuracy                     48\n",
       "LongPassing                    48\n",
       "BallControl                    48\n",
       "Acceleration                   48\n",
       "SprintSpeed                    48\n",
       "Agility                        48\n",
       "Reactions                      48\n",
       "Balance                        48\n",
       "ShotPower                      48\n",
       "Jumping                        48\n",
       "Stamina                        48\n",
       "Strength                       48\n",
       "LongShots                      48\n",
       "Aggression                     48\n",
       "Interceptions                  48\n",
       "Positioning                    48\n",
       "Vision                         48\n",
       "Penalties                      48\n",
       "Composure                      48\n",
       "Marking                        48\n",
       "StandingTackle                 48\n",
       "SlidingTackle                  48\n",
       "GKDiving                       48\n",
       "GKHandling                     48\n",
       "GKKicking                      48\n",
       "GKPositioning                  48\n",
       "GKReflexes                     48\n",
       "Release Clause               1564\n",
       "dtype: int64"
      ]
     },
     "execution_count": 501,
     "metadata": {},
     "output_type": "execute_result"
    }
   ],
   "source": [
    "data.isnull().sum()"
   ]
  },
  {
   "cell_type": "code",
   "execution_count": 502,
   "metadata": {},
   "outputs": [
    {
     "name": "stdout",
     "output_type": "stream",
     "text": [
      "Number of columns with 48 missing values=  39\n",
      "Columns with 48 missing values=  ['International Reputation', 'Weak Foot', 'Skill Moves', 'Height', 'Weight', 'Crossing', 'Finishing', 'HeadingAccuracy', 'ShortPassing', 'Volleys', 'Dribbling', 'Curve', 'FKAccuracy', 'LongPassing', 'BallControl', 'Acceleration', 'SprintSpeed', 'Agility', 'Reactions', 'Balance', 'ShotPower', 'Jumping', 'Stamina', 'Strength', 'LongShots', 'Aggression', 'Interceptions', 'Positioning', 'Vision', 'Penalties', 'Composure', 'Marking', 'StandingTackle', 'SlidingTackle', 'GKDiving', 'GKHandling', 'GKKicking', 'GKPositioning', 'GKReflexes']\n"
     ]
    }
   ],
   "source": [
    "missing_values=[]\n",
    "for i in data:\n",
    "    if data[i].isnull().sum() == 48:\n",
    "        missing_values.append(i)\n",
    "print(\"Number of columns with 48 missing values= \", len(missing_values))\n",
    "print(\"Columns with 48 missing values= \", missing_values)"
   ]
  },
  {
   "cell_type": "markdown",
   "metadata": {},
   "source": [
    "###  INFERENCE: <font color='green'> We can see out of 45 columns, 41 columns has same number of  missing values (i.e., 48). That means for 48 players, we have no values for 41 fields. We can ignore these 48 players from our analysis. </font>"
   ]
  },
  {
   "cell_type": "code",
   "execution_count": 503,
   "metadata": {},
   "outputs": [
    {
     "data": {
      "text/plain": [
       "(18207, 51)"
      ]
     },
     "execution_count": 503,
     "metadata": {},
     "output_type": "execute_result"
    }
   ],
   "source": [
    "# Shape before dropping the columns\n",
    "data.shape"
   ]
  },
  {
   "cell_type": "code",
   "execution_count": 504,
   "metadata": {},
   "outputs": [],
   "source": [
    "data.dropna(axis=0,inplace=True,subset=missing_values)\n",
    "data.reset_index(drop=True, inplace=True)"
   ]
  },
  {
   "cell_type": "code",
   "execution_count": 505,
   "metadata": {},
   "outputs": [
    {
     "data": {
      "text/plain": [
       "(18159, 51)"
      ]
     },
     "execution_count": 505,
     "metadata": {},
     "output_type": "execute_result"
    }
   ],
   "source": [
    "# Shape after dropping the columns\n",
    "data.shape"
   ]
  },
  {
   "cell_type": "code",
   "execution_count": 506,
   "metadata": {},
   "outputs": [
    {
     "data": {
      "text/plain": [
       "Position                   12\n",
       "Contract Valid Until      241\n",
       "Release Clause           1516\n",
       "Loaned From             16895\n",
       "dtype: int64"
      ]
     },
     "execution_count": 506,
     "metadata": {},
     "output_type": "execute_result"
    }
   ],
   "source": [
    "# To check remaining columns with null values.\n",
    "data.isnull().sum()[data.isnull().sum()>0].sort_values()"
   ]
  },
  {
   "cell_type": "markdown",
   "metadata": {},
   "source": [
    "###  INFERENCE: <font color='blue'> Above 4 columns are the remaining columns with missing values. </font> "
   ]
  },
  {
   "cell_type": "code",
   "execution_count": 507,
   "metadata": {},
   "outputs": [
    {
     "data": {
      "text/plain": [
       "ST     2152\n",
       "GK     2025\n",
       "CB     1778\n",
       "CM     1394\n",
       "LB     1322\n",
       "RB     1291\n",
       "RM     1124\n",
       "LM     1095\n",
       "CAM     958\n",
       "CDM     948\n",
       "RCB     662\n",
       "LCB     648\n",
       "LCM     395\n",
       "RCM     391\n",
       "LW      381\n",
       "RW      370\n",
       "RDM     248\n",
       "LDM     243\n",
       "LS      207\n",
       "RS      203\n",
       "RWB      87\n",
       "LWB      78\n",
       "CF       74\n",
       "RAM      21\n",
       "LAM      21\n",
       "RF       16\n",
       "LF       15\n",
       "NaN      12\n",
       "Name: Position, dtype: int64"
      ]
     },
     "execution_count": 507,
     "metadata": {},
     "output_type": "execute_result"
    }
   ],
   "source": [
    "data['Position'].value_counts(dropna=False)"
   ]
  },
  {
   "cell_type": "markdown",
   "metadata": {},
   "source": [
    "### INFERENCE:  <font color='blue'> For Column = 'Position', we have 12 players with missing values and we cannot  impute positions as it can mislead results in our analysis. For example, 'Release Clause' for players will differ with positions. So we will remove these 12 players that are present with no position.</font> "
   ]
  },
  {
   "cell_type": "code",
   "execution_count": 508,
   "metadata": {},
   "outputs": [
    {
     "data": {
      "text/plain": [
       "(18159, 51)"
      ]
     },
     "execution_count": 508,
     "metadata": {},
     "output_type": "execute_result"
    }
   ],
   "source": [
    "# Please note number of rows before dropping 12 missing values.\n",
    "data.shape"
   ]
  },
  {
   "cell_type": "code",
   "execution_count": 509,
   "metadata": {},
   "outputs": [],
   "source": [
    "data.dropna(axis=0,inplace=True,subset=['Position'])\n",
    "data.reset_index(drop=True, inplace=True)"
   ]
  },
  {
   "cell_type": "code",
   "execution_count": 510,
   "metadata": {},
   "outputs": [
    {
     "data": {
      "text/plain": [
       "(18147, 51)"
      ]
     },
     "execution_count": 510,
     "metadata": {},
     "output_type": "execute_result"
    }
   ],
   "source": [
    "# Now check number of rows after dropping 12 missing values.\n",
    "data.shape"
   ]
  },
  {
   "cell_type": "code",
   "execution_count": 511,
   "metadata": {},
   "outputs": [
    {
     "data": {
      "text/plain": [
       "Contract Valid Until      229\n",
       "Release Clause           1504\n",
       "Loaned From             16883\n",
       "dtype: int64"
      ]
     },
     "execution_count": 511,
     "metadata": {},
     "output_type": "execute_result"
    }
   ],
   "source": [
    "# Check remaining columns with missing values\n",
    "data.isnull().sum()[data.isnull().sum()>0].sort_values()"
   ]
  },
  {
   "cell_type": "markdown",
   "metadata": {},
   "source": [
    "### <font color='green'> Now we are left with 3 columns that has missing values. Let us check for column = 'Contract Valid Until' .</font> "
   ]
  },
  {
   "cell_type": "code",
   "execution_count": 512,
   "metadata": {},
   "outputs": [
    {
     "data": {
      "text/plain": [
       "Timestamp('2026-12-31 00:00:00')"
      ]
     },
     "execution_count": 512,
     "metadata": {},
     "output_type": "execute_result"
    }
   ],
   "source": [
    "maximum_date=data['Contract Valid Until'].max()\n",
    "maximum_date"
   ]
  },
  {
   "cell_type": "code",
   "execution_count": 513,
   "metadata": {},
   "outputs": [],
   "source": [
    "data['Contract Valid Until'].fillna(maximum_date,inplace = True)"
   ]
  },
  {
   "cell_type": "markdown",
   "metadata": {},
   "source": [
    "###  INFERENCE:  <font color='blue'>The maximum date  for 'Contract Valid Until' column is '2026-12-31'. So we have  replaced maximum value in all 229 null values. (Imputation by constant) </font>"
   ]
  },
  {
   "cell_type": "code",
   "execution_count": 514,
   "metadata": {},
   "outputs": [
    {
     "data": {
      "text/plain": [
       "Release Clause     1504\n",
       "Loaned From       16883\n",
       "dtype: int64"
      ]
     },
     "execution_count": 514,
     "metadata": {},
     "output_type": "execute_result"
    }
   ],
   "source": [
    "# Check remaining columns with missing values\n",
    "data.isnull().sum()[data.isnull().sum()>0].sort_values()"
   ]
  },
  {
   "cell_type": "markdown",
   "metadata": {},
   "source": [
    "### <font color='green'> Now we are left with 2 columns that has missing values. Let us check for column = 'Release Clause'.</font>"
   ]
  },
  {
   "cell_type": "code",
   "execution_count": 515,
   "metadata": {},
   "outputs": [
    {
     "data": {
      "text/plain": [
       "<matplotlib.axes._subplots.AxesSubplot at 0x209e03c1c08>"
      ]
     },
     "execution_count": 515,
     "metadata": {},
     "output_type": "execute_result"
    },
    {
     "data": {
      "image/png": "[encoded data removed]",
      "text/plain": [
       "<Figure size 720x360 with 1 Axes>"
      ]
     },
     "metadata": {
      "needs_background": "light"
     },
     "output_type": "display_data"
    }
   ],
   "source": [
    "plt.figure(figsize=(10,5))\n",
    "sns.boxplot(data['Release Clause'])"
   ]
  },
  {
   "cell_type": "markdown",
   "metadata": {},
   "source": [
    "###  INFERENCE:   <font color='blue'> We have 1504 missing values in 'Release Clause' column and from the above box plot we can conclude that it has outliers too.  So we cannot impute missing values with mean. Lets impute missing values using median. </font>"
   ]
  },
  {
   "cell_type": "code",
   "execution_count": 516,
   "metadata": {},
   "outputs": [],
   "source": [
    "for i in range(len(data)):\n",
    "    if np.isnan(data['Release Clause'][i]):\n",
    "        position=data['Position'][i]\n",
    "        median_val=data[data['Position'] == position].median()\n",
    "        data['Release Clause'][i] = median_val['Release Clause']"
   ]
  },
  {
   "cell_type": "markdown",
   "metadata": {},
   "source": [
    "###  INFERENCE:   <font color='blue'> For 'Release Clause' column we have found median with respect to each 'Position' and imputed the same in place of null values. </font>"
   ]
  },
  {
   "cell_type": "code",
   "execution_count": 517,
   "metadata": {},
   "outputs": [
    {
     "data": {
      "text/plain": [
       "Loaned From    16883\n",
       "dtype: int64"
      ]
     },
     "execution_count": 517,
     "metadata": {},
     "output_type": "execute_result"
    }
   ],
   "source": [
    "# Check remaining columns with missing values\n",
    "data.isnull().sum()[data.isnull().sum()>0].sort_values()"
   ]
  },
  {
   "cell_type": "markdown",
   "metadata": {},
   "source": [
    "###  <font color='green'> Now we are left with only 1 column = 'Loaned From' </font>"
   ]
  },
  {
   "cell_type": "code",
   "execution_count": 518,
   "metadata": {},
   "outputs": [
    {
     "name": "stdout",
     "output_type": "stream",
     "text": [
      "Number of null values in 'Loaned From' column= 16883\n",
      "Number of non-null values in 'Loaned From' column= 1264\n"
     ]
    }
   ],
   "source": [
    "print(\"Number of null values in 'Loaned From' column=\",data['Loaned From'].isnull().sum())\n",
    "print(\"Number of non-null values in 'Loaned From' column=\",data['Loaned From'].notnull().sum())"
   ]
  },
  {
   "cell_type": "markdown",
   "metadata": {},
   "source": [
    "###  INFERENCE: <font color='blue'>  Since there are more than 16k null values for 18k records in the dataset, it is better to drop this column from the dataset 'fifa.csv'. </font>"
   ]
  },
  {
   "cell_type": "code",
   "execution_count": 519,
   "metadata": {},
   "outputs": [
    {
     "name": "stdout",
     "output_type": "stream",
     "text": [
      "Number of rows & columns before dropping 'Loaned from' column: (18147, 51)\n",
      "Number of rows & columns after dropping 'Loaned from' column: (18147, 50)\n"
     ]
    }
   ],
   "source": [
    "print(\"Number of rows & columns before dropping 'Loaned from' column:\",data.shape)\n",
    "\n",
    "data.drop(columns=['Loaned From'],axis=1,inplace=True)\n",
    "\n",
    "print(\"Number of rows & columns after dropping 'Loaned from' column:\",data.shape)"
   ]
  },
  {
   "cell_type": "markdown",
   "metadata": {},
   "source": [
    "# Exploratory Analysis:"
   ]
  },
  {
   "cell_type": "markdown",
   "metadata": {},
   "source": [
    "#### 1.\tPlot the distribution of Overall rating for all players. (2 marks)"
   ]
  },
  {
   "cell_type": "code",
   "execution_count": 520,
   "metadata": {},
   "outputs": [
    {
     "data": {
      "image/png": "[encoded data removed]",
      "text/plain": [
       "<Figure size 576x360 with 1 Axes>"
      ]
     },
     "metadata": {
      "needs_background": "light"
     },
     "output_type": "display_data"
    }
   ],
   "source": [
    "plt.figure(figsize=(8,5))\n",
    "plt.title('Distribution of Overall rating for all players.\\n')\n",
    "sns.distplot(data['Overall'])\n",
    "plt.xlabel(\"Overall rating\")\n",
    "plt.ylabel(\"Distribution\")\n",
    "plt.show()"
   ]
  },
  {
   "cell_type": "markdown",
   "metadata": {},
   "source": [
    "###  INFERENCE: <font color='blue'> By looking into  above distplot, we can get an impression that given data may be normally distributed.  </font>"
   ]
  },
  {
   "cell_type": "markdown",
   "metadata": {},
   "source": [
    "#### 2.\tGenerate pair plots for the following variables: (3 marks)\n",
    "#####  Variables:  Overall, Value, Wage, International Reputation, Height, Weight, Release Clause\n"
   ]
  },
  {
   "cell_type": "code",
   "execution_count": 521,
   "metadata": {},
   "outputs": [
    {
     "data": {
      "text/plain": [
       "<seaborn.axisgrid.PairGrid at 0x209ded9df48>"
      ]
     },
     "execution_count": 521,
     "metadata": {},
     "output_type": "execute_result"
    },
    {
     "data": {
      "image/png": "[encoded data removed]",
      "text/plain": [
       "<Figure size 1260x1260 with 56 Axes>"
      ]
     },
     "metadata": {
      "needs_background": "light"
     },
     "output_type": "display_data"
    }
   ],
   "source": [
    "plt_column=['Overall','Value','Wage','International Reputation','Height','Weight','Release Clause']\n",
    "sns.pairplot(data[plt_column])"
   ]
  },
  {
   "cell_type": "markdown",
   "metadata": {},
   "source": [
    "### INFERENCE: <font color='blue'>In Pairplot, each variable is plotted against the rest of the variables. Diagonal plots represents the univariate distribution of each variable . It allows us to take in a huge amount of data and see relationship between variables and the spread of each data point.</font>"
   ]
  },
  {
   "cell_type": "markdown",
   "metadata": {},
   "source": [
    "#### 3.\tGenerate a table containing the top 20 players ranked by Overall score and whose contract expires in 2020. (3 marks)\n",
    "##### a)\tWhat would the average wage for this set of players be?\n",
    "##### b)\tWhat is the average age?\n",
    "##### c)\tIs there a correlation between the Overall rating and Value for these players?\n"
   ]
  },
  {
   "cell_type": "code",
   "execution_count": 522,
   "metadata": {},
   "outputs": [
    {
     "name": "stdout",
     "output_type": "stream",
     "text": [
      "2021\n",
      "<class 'numpy.int64'>\n"
     ]
    }
   ],
   "source": [
    "data['Contract_exp_year'] = pd.DatetimeIndex(data['Contract Valid Until']).year\n",
    "print(data['Contract_exp_year'][0])\n",
    "print(type(data['Contract_exp_year'][0]))"
   ]
  },
  {
   "cell_type": "markdown",
   "metadata": {},
   "source": [
    "###  <font color='green'> We have created a new column 'Contract_exp_year' by taking only the year value (e.g. 2021) from column 'Contract Valid Until' .</font>"
   ]
  },
  {
   "cell_type": "code",
   "execution_count": 523,
   "metadata": {},
   "outputs": [
    {
     "data": {
      "text/html": [
       "<div>\n",
       "<style scoped>\n",
       "    .dataframe tbody tr th:only-of-type {\n",
       "        vertical-align: middle;\n",
       "    }\n",
       "\n",
       "    .dataframe tbody tr th {\n",
       "        vertical-align: top;\n",
       "    }\n",
       "\n",
       "    .dataframe thead th {\n",
       "        text-align: right;\n",
       "    }\n",
       "</style>\n",
       "<table border=\"1\" class=\"dataframe\">\n",
       "  <thead>\n",
       "    <tr style=\"text-align: right;\">\n",
       "      <th></th>\n",
       "      <th>ID</th>\n",
       "      <th>Name</th>\n",
       "      <th>Age</th>\n",
       "      <th>Overall</th>\n",
       "      <th>Potential</th>\n",
       "      <th>Value</th>\n",
       "      <th>Wage</th>\n",
       "      <th>International Reputation</th>\n",
       "      <th>Weak Foot</th>\n",
       "      <th>Skill Moves</th>\n",
       "      <th>Position</th>\n",
       "      <th>Joined</th>\n",
       "      <th>Contract Valid Until</th>\n",
       "      <th>Height</th>\n",
       "      <th>Weight</th>\n",
       "      <th>Crossing</th>\n",
       "      <th>Finishing</th>\n",
       "      <th>HeadingAccuracy</th>\n",
       "      <th>ShortPassing</th>\n",
       "      <th>Volleys</th>\n",
       "      <th>Dribbling</th>\n",
       "      <th>Curve</th>\n",
       "      <th>FKAccuracy</th>\n",
       "      <th>LongPassing</th>\n",
       "      <th>BallControl</th>\n",
       "      <th>Acceleration</th>\n",
       "      <th>SprintSpeed</th>\n",
       "      <th>Agility</th>\n",
       "      <th>Reactions</th>\n",
       "      <th>Balance</th>\n",
       "      <th>ShotPower</th>\n",
       "      <th>Jumping</th>\n",
       "      <th>Stamina</th>\n",
       "      <th>Strength</th>\n",
       "      <th>LongShots</th>\n",
       "      <th>Aggression</th>\n",
       "      <th>Interceptions</th>\n",
       "      <th>Positioning</th>\n",
       "      <th>Vision</th>\n",
       "      <th>Penalties</th>\n",
       "      <th>Composure</th>\n",
       "      <th>Marking</th>\n",
       "      <th>StandingTackle</th>\n",
       "      <th>SlidingTackle</th>\n",
       "      <th>GKDiving</th>\n",
       "      <th>GKHandling</th>\n",
       "      <th>GKKicking</th>\n",
       "      <th>GKPositioning</th>\n",
       "      <th>GKReflexes</th>\n",
       "      <th>Release Clause</th>\n",
       "      <th>Contract_exp_year</th>\n",
       "    </tr>\n",
       "  </thead>\n",
       "  <tbody>\n",
       "    <tr>\n",
       "      <th>3</th>\n",
       "      <td>193080.0</td>\n",
       "      <td>De Gea</td>\n",
       "      <td>27.0</td>\n",
       "      <td>91.0</td>\n",
       "      <td>93.0</td>\n",
       "      <td>72000000.0</td>\n",
       "      <td>260000.0</td>\n",
       "      <td>4.0</td>\n",
       "      <td>3.0</td>\n",
       "      <td>1.0</td>\n",
       "      <td>GK</td>\n",
       "      <td>2011.0</td>\n",
       "      <td>2020-12-31</td>\n",
       "      <td>76.0</td>\n",
       "      <td>168.0</td>\n",
       "      <td>17.0</td>\n",
       "      <td>13.0</td>\n",
       "      <td>21.0</td>\n",
       "      <td>50.0</td>\n",
       "      <td>13.0</td>\n",
       "      <td>18.0</td>\n",
       "      <td>21.0</td>\n",
       "      <td>19.0</td>\n",
       "      <td>51.0</td>\n",
       "      <td>42.0</td>\n",
       "      <td>57.0</td>\n",
       "      <td>58.0</td>\n",
       "      <td>60.0</td>\n",
       "      <td>90.0</td>\n",
       "      <td>43.0</td>\n",
       "      <td>31.0</td>\n",
       "      <td>67.0</td>\n",
       "      <td>43.0</td>\n",
       "      <td>64.0</td>\n",
       "      <td>12.0</td>\n",
       "      <td>38.0</td>\n",
       "      <td>30.0</td>\n",
       "      <td>12.0</td>\n",
       "      <td>68.0</td>\n",
       "      <td>40.0</td>\n",
       "      <td>68.0</td>\n",
       "      <td>15.0</td>\n",
       "      <td>21.0</td>\n",
       "      <td>13.0</td>\n",
       "      <td>90.0</td>\n",
       "      <td>85.0</td>\n",
       "      <td>87.0</td>\n",
       "      <td>88.0</td>\n",
       "      <td>94.0</td>\n",
       "      <td>138600000.0</td>\n",
       "      <td>2020.0</td>\n",
       "    </tr>\n",
       "    <tr>\n",
       "      <th>5</th>\n",
       "      <td>183277.0</td>\n",
       "      <td>E. Hazard</td>\n",
       "      <td>27.0</td>\n",
       "      <td>91.0</td>\n",
       "      <td>91.0</td>\n",
       "      <td>93000000.0</td>\n",
       "      <td>340000.0</td>\n",
       "      <td>4.0</td>\n",
       "      <td>4.0</td>\n",
       "      <td>4.0</td>\n",
       "      <td>LF</td>\n",
       "      <td>2012.0</td>\n",
       "      <td>2020-12-31</td>\n",
       "      <td>68.0</td>\n",
       "      <td>163.0</td>\n",
       "      <td>81.0</td>\n",
       "      <td>84.0</td>\n",
       "      <td>61.0</td>\n",
       "      <td>89.0</td>\n",
       "      <td>80.0</td>\n",
       "      <td>95.0</td>\n",
       "      <td>83.0</td>\n",
       "      <td>79.0</td>\n",
       "      <td>83.0</td>\n",
       "      <td>94.0</td>\n",
       "      <td>94.0</td>\n",
       "      <td>88.0</td>\n",
       "      <td>95.0</td>\n",
       "      <td>90.0</td>\n",
       "      <td>94.0</td>\n",
       "      <td>82.0</td>\n",
       "      <td>56.0</td>\n",
       "      <td>83.0</td>\n",
       "      <td>66.0</td>\n",
       "      <td>80.0</td>\n",
       "      <td>54.0</td>\n",
       "      <td>41.0</td>\n",
       "      <td>87.0</td>\n",
       "      <td>89.0</td>\n",
       "      <td>86.0</td>\n",
       "      <td>91.0</td>\n",
       "      <td>34.0</td>\n",
       "      <td>27.0</td>\n",
       "      <td>22.0</td>\n",
       "      <td>11.0</td>\n",
       "      <td>12.0</td>\n",
       "      <td>6.0</td>\n",
       "      <td>8.0</td>\n",
       "      <td>8.0</td>\n",
       "      <td>172100000.0</td>\n",
       "      <td>2020.0</td>\n",
       "    </tr>\n",
       "    <tr>\n",
       "      <th>6</th>\n",
       "      <td>177003.0</td>\n",
       "      <td>L. Modrić</td>\n",
       "      <td>32.0</td>\n",
       "      <td>91.0</td>\n",
       "      <td>91.0</td>\n",
       "      <td>67000000.0</td>\n",
       "      <td>420000.0</td>\n",
       "      <td>4.0</td>\n",
       "      <td>4.0</td>\n",
       "      <td>4.0</td>\n",
       "      <td>RCM</td>\n",
       "      <td>2012.0</td>\n",
       "      <td>2020-12-31</td>\n",
       "      <td>68.0</td>\n",
       "      <td>146.0</td>\n",
       "      <td>86.0</td>\n",
       "      <td>72.0</td>\n",
       "      <td>55.0</td>\n",
       "      <td>93.0</td>\n",
       "      <td>76.0</td>\n",
       "      <td>90.0</td>\n",
       "      <td>85.0</td>\n",
       "      <td>78.0</td>\n",
       "      <td>88.0</td>\n",
       "      <td>93.0</td>\n",
       "      <td>80.0</td>\n",
       "      <td>72.0</td>\n",
       "      <td>93.0</td>\n",
       "      <td>90.0</td>\n",
       "      <td>94.0</td>\n",
       "      <td>79.0</td>\n",
       "      <td>68.0</td>\n",
       "      <td>89.0</td>\n",
       "      <td>58.0</td>\n",
       "      <td>82.0</td>\n",
       "      <td>62.0</td>\n",
       "      <td>83.0</td>\n",
       "      <td>79.0</td>\n",
       "      <td>92.0</td>\n",
       "      <td>82.0</td>\n",
       "      <td>84.0</td>\n",
       "      <td>60.0</td>\n",
       "      <td>76.0</td>\n",
       "      <td>73.0</td>\n",
       "      <td>13.0</td>\n",
       "      <td>9.0</td>\n",
       "      <td>7.0</td>\n",
       "      <td>14.0</td>\n",
       "      <td>9.0</td>\n",
       "      <td>137400000.0</td>\n",
       "      <td>2020.0</td>\n",
       "    </tr>\n",
       "    <tr>\n",
       "      <th>8</th>\n",
       "      <td>155862.0</td>\n",
       "      <td>Sergio Ramos</td>\n",
       "      <td>32.0</td>\n",
       "      <td>91.0</td>\n",
       "      <td>91.0</td>\n",
       "      <td>51000000.0</td>\n",
       "      <td>380000.0</td>\n",
       "      <td>4.0</td>\n",
       "      <td>3.0</td>\n",
       "      <td>3.0</td>\n",
       "      <td>RCB</td>\n",
       "      <td>2005.0</td>\n",
       "      <td>2020-12-31</td>\n",
       "      <td>72.0</td>\n",
       "      <td>181.0</td>\n",
       "      <td>66.0</td>\n",
       "      <td>60.0</td>\n",
       "      <td>91.0</td>\n",
       "      <td>78.0</td>\n",
       "      <td>66.0</td>\n",
       "      <td>63.0</td>\n",
       "      <td>74.0</td>\n",
       "      <td>72.0</td>\n",
       "      <td>77.0</td>\n",
       "      <td>84.0</td>\n",
       "      <td>76.0</td>\n",
       "      <td>75.0</td>\n",
       "      <td>78.0</td>\n",
       "      <td>85.0</td>\n",
       "      <td>66.0</td>\n",
       "      <td>79.0</td>\n",
       "      <td>93.0</td>\n",
       "      <td>84.0</td>\n",
       "      <td>83.0</td>\n",
       "      <td>59.0</td>\n",
       "      <td>88.0</td>\n",
       "      <td>90.0</td>\n",
       "      <td>60.0</td>\n",
       "      <td>63.0</td>\n",
       "      <td>75.0</td>\n",
       "      <td>82.0</td>\n",
       "      <td>87.0</td>\n",
       "      <td>92.0</td>\n",
       "      <td>91.0</td>\n",
       "      <td>11.0</td>\n",
       "      <td>8.0</td>\n",
       "      <td>9.0</td>\n",
       "      <td>7.0</td>\n",
       "      <td>11.0</td>\n",
       "      <td>104600000.0</td>\n",
       "      <td>2020.0</td>\n",
       "    </tr>\n",
       "    <tr>\n",
       "      <th>12</th>\n",
       "      <td>182493.0</td>\n",
       "      <td>D. Godín</td>\n",
       "      <td>32.0</td>\n",
       "      <td>90.0</td>\n",
       "      <td>90.0</td>\n",
       "      <td>44000000.0</td>\n",
       "      <td>125000.0</td>\n",
       "      <td>3.0</td>\n",
       "      <td>3.0</td>\n",
       "      <td>2.0</td>\n",
       "      <td>CB</td>\n",
       "      <td>2010.0</td>\n",
       "      <td>2019-12-31</td>\n",
       "      <td>74.0</td>\n",
       "      <td>172.0</td>\n",
       "      <td>55.0</td>\n",
       "      <td>42.0</td>\n",
       "      <td>92.0</td>\n",
       "      <td>79.0</td>\n",
       "      <td>47.0</td>\n",
       "      <td>53.0</td>\n",
       "      <td>49.0</td>\n",
       "      <td>51.0</td>\n",
       "      <td>70.0</td>\n",
       "      <td>76.0</td>\n",
       "      <td>68.0</td>\n",
       "      <td>68.0</td>\n",
       "      <td>58.0</td>\n",
       "      <td>85.0</td>\n",
       "      <td>54.0</td>\n",
       "      <td>67.0</td>\n",
       "      <td>91.0</td>\n",
       "      <td>66.0</td>\n",
       "      <td>88.0</td>\n",
       "      <td>43.0</td>\n",
       "      <td>89.0</td>\n",
       "      <td>88.0</td>\n",
       "      <td>48.0</td>\n",
       "      <td>52.0</td>\n",
       "      <td>50.0</td>\n",
       "      <td>82.0</td>\n",
       "      <td>90.0</td>\n",
       "      <td>89.0</td>\n",
       "      <td>89.0</td>\n",
       "      <td>6.0</td>\n",
       "      <td>8.0</td>\n",
       "      <td>15.0</td>\n",
       "      <td>5.0</td>\n",
       "      <td>15.0</td>\n",
       "      <td>90200000.0</td>\n",
       "      <td>2019.0</td>\n",
       "    </tr>\n",
       "    <tr>\n",
       "      <th>13</th>\n",
       "      <td>168542.0</td>\n",
       "      <td>David Silva</td>\n",
       "      <td>32.0</td>\n",
       "      <td>90.0</td>\n",
       "      <td>90.0</td>\n",
       "      <td>60000000.0</td>\n",
       "      <td>285000.0</td>\n",
       "      <td>4.0</td>\n",
       "      <td>2.0</td>\n",
       "      <td>4.0</td>\n",
       "      <td>LCM</td>\n",
       "      <td>2010.0</td>\n",
       "      <td>2020-12-31</td>\n",
       "      <td>68.0</td>\n",
       "      <td>148.0</td>\n",
       "      <td>84.0</td>\n",
       "      <td>76.0</td>\n",
       "      <td>54.0</td>\n",
       "      <td>93.0</td>\n",
       "      <td>82.0</td>\n",
       "      <td>89.0</td>\n",
       "      <td>82.0</td>\n",
       "      <td>77.0</td>\n",
       "      <td>87.0</td>\n",
       "      <td>94.0</td>\n",
       "      <td>70.0</td>\n",
       "      <td>64.0</td>\n",
       "      <td>92.0</td>\n",
       "      <td>90.0</td>\n",
       "      <td>90.0</td>\n",
       "      <td>72.0</td>\n",
       "      <td>64.0</td>\n",
       "      <td>78.0</td>\n",
       "      <td>52.0</td>\n",
       "      <td>75.0</td>\n",
       "      <td>57.0</td>\n",
       "      <td>50.0</td>\n",
       "      <td>89.0</td>\n",
       "      <td>92.0</td>\n",
       "      <td>75.0</td>\n",
       "      <td>93.0</td>\n",
       "      <td>59.0</td>\n",
       "      <td>53.0</td>\n",
       "      <td>29.0</td>\n",
       "      <td>6.0</td>\n",
       "      <td>15.0</td>\n",
       "      <td>7.0</td>\n",
       "      <td>6.0</td>\n",
       "      <td>12.0</td>\n",
       "      <td>111000000.0</td>\n",
       "      <td>2020.0</td>\n",
       "    </tr>\n",
       "    <tr>\n",
       "      <th>21</th>\n",
       "      <td>179813.0</td>\n",
       "      <td>E. Cavani</td>\n",
       "      <td>31.0</td>\n",
       "      <td>89.0</td>\n",
       "      <td>89.0</td>\n",
       "      <td>60000000.0</td>\n",
       "      <td>200000.0</td>\n",
       "      <td>4.0</td>\n",
       "      <td>4.0</td>\n",
       "      <td>3.0</td>\n",
       "      <td>LS</td>\n",
       "      <td>2013.0</td>\n",
       "      <td>2020-12-31</td>\n",
       "      <td>73.0</td>\n",
       "      <td>170.0</td>\n",
       "      <td>70.0</td>\n",
       "      <td>89.0</td>\n",
       "      <td>89.0</td>\n",
       "      <td>78.0</td>\n",
       "      <td>90.0</td>\n",
       "      <td>80.0</td>\n",
       "      <td>77.0</td>\n",
       "      <td>76.0</td>\n",
       "      <td>52.0</td>\n",
       "      <td>82.0</td>\n",
       "      <td>75.0</td>\n",
       "      <td>76.0</td>\n",
       "      <td>77.0</td>\n",
       "      <td>91.0</td>\n",
       "      <td>59.0</td>\n",
       "      <td>87.0</td>\n",
       "      <td>88.0</td>\n",
       "      <td>92.0</td>\n",
       "      <td>78.0</td>\n",
       "      <td>79.0</td>\n",
       "      <td>84.0</td>\n",
       "      <td>48.0</td>\n",
       "      <td>93.0</td>\n",
       "      <td>77.0</td>\n",
       "      <td>85.0</td>\n",
       "      <td>82.0</td>\n",
       "      <td>52.0</td>\n",
       "      <td>45.0</td>\n",
       "      <td>39.0</td>\n",
       "      <td>12.0</td>\n",
       "      <td>5.0</td>\n",
       "      <td>13.0</td>\n",
       "      <td>13.0</td>\n",
       "      <td>10.0</td>\n",
       "      <td>111000000.0</td>\n",
       "      <td>2020.0</td>\n",
       "    </tr>\n",
       "    <tr>\n",
       "      <th>24</th>\n",
       "      <td>138956.0</td>\n",
       "      <td>G. Chiellini</td>\n",
       "      <td>33.0</td>\n",
       "      <td>89.0</td>\n",
       "      <td>89.0</td>\n",
       "      <td>27000000.0</td>\n",
       "      <td>215000.0</td>\n",
       "      <td>4.0</td>\n",
       "      <td>3.0</td>\n",
       "      <td>2.0</td>\n",
       "      <td>LCB</td>\n",
       "      <td>2005.0</td>\n",
       "      <td>2020-12-31</td>\n",
       "      <td>74.0</td>\n",
       "      <td>187.0</td>\n",
       "      <td>58.0</td>\n",
       "      <td>33.0</td>\n",
       "      <td>83.0</td>\n",
       "      <td>59.0</td>\n",
       "      <td>45.0</td>\n",
       "      <td>58.0</td>\n",
       "      <td>60.0</td>\n",
       "      <td>31.0</td>\n",
       "      <td>59.0</td>\n",
       "      <td>57.0</td>\n",
       "      <td>63.0</td>\n",
       "      <td>75.0</td>\n",
       "      <td>54.0</td>\n",
       "      <td>82.0</td>\n",
       "      <td>55.0</td>\n",
       "      <td>78.0</td>\n",
       "      <td>89.0</td>\n",
       "      <td>65.0</td>\n",
       "      <td>89.0</td>\n",
       "      <td>49.0</td>\n",
       "      <td>92.0</td>\n",
       "      <td>88.0</td>\n",
       "      <td>28.0</td>\n",
       "      <td>50.0</td>\n",
       "      <td>50.0</td>\n",
       "      <td>84.0</td>\n",
       "      <td>93.0</td>\n",
       "      <td>93.0</td>\n",
       "      <td>90.0</td>\n",
       "      <td>3.0</td>\n",
       "      <td>3.0</td>\n",
       "      <td>2.0</td>\n",
       "      <td>4.0</td>\n",
       "      <td>3.0</td>\n",
       "      <td>44600000.0</td>\n",
       "      <td>2020.0</td>\n",
       "    </tr>\n",
       "    <tr>\n",
       "      <th>28</th>\n",
       "      <td>198710.0</td>\n",
       "      <td>J. Rodríguez</td>\n",
       "      <td>26.0</td>\n",
       "      <td>88.0</td>\n",
       "      <td>89.0</td>\n",
       "      <td>69500000.0</td>\n",
       "      <td>315000.0</td>\n",
       "      <td>4.0</td>\n",
       "      <td>3.0</td>\n",
       "      <td>4.0</td>\n",
       "      <td>LAM</td>\n",
       "      <td>0.0</td>\n",
       "      <td>2019-06-30</td>\n",
       "      <td>71.0</td>\n",
       "      <td>172.0</td>\n",
       "      <td>90.0</td>\n",
       "      <td>83.0</td>\n",
       "      <td>62.0</td>\n",
       "      <td>89.0</td>\n",
       "      <td>90.0</td>\n",
       "      <td>85.0</td>\n",
       "      <td>89.0</td>\n",
       "      <td>86.0</td>\n",
       "      <td>83.0</td>\n",
       "      <td>90.0</td>\n",
       "      <td>73.0</td>\n",
       "      <td>67.0</td>\n",
       "      <td>83.0</td>\n",
       "      <td>85.0</td>\n",
       "      <td>76.0</td>\n",
       "      <td>86.0</td>\n",
       "      <td>54.0</td>\n",
       "      <td>70.0</td>\n",
       "      <td>68.0</td>\n",
       "      <td>92.0</td>\n",
       "      <td>64.0</td>\n",
       "      <td>55.0</td>\n",
       "      <td>80.0</td>\n",
       "      <td>89.0</td>\n",
       "      <td>81.0</td>\n",
       "      <td>87.0</td>\n",
       "      <td>52.0</td>\n",
       "      <td>41.0</td>\n",
       "      <td>44.0</td>\n",
       "      <td>15.0</td>\n",
       "      <td>15.0</td>\n",
       "      <td>15.0</td>\n",
       "      <td>5.0</td>\n",
       "      <td>14.0</td>\n",
       "      <td>3200000.0</td>\n",
       "      <td>2019.0</td>\n",
       "    </tr>\n",
       "    <tr>\n",
       "      <th>31</th>\n",
       "      <td>190460.0</td>\n",
       "      <td>C. Eriksen</td>\n",
       "      <td>26.0</td>\n",
       "      <td>88.0</td>\n",
       "      <td>91.0</td>\n",
       "      <td>73500000.0</td>\n",
       "      <td>205000.0</td>\n",
       "      <td>3.0</td>\n",
       "      <td>5.0</td>\n",
       "      <td>4.0</td>\n",
       "      <td>CAM</td>\n",
       "      <td>2013.0</td>\n",
       "      <td>2020-12-31</td>\n",
       "      <td>71.0</td>\n",
       "      <td>168.0</td>\n",
       "      <td>88.0</td>\n",
       "      <td>80.0</td>\n",
       "      <td>52.0</td>\n",
       "      <td>91.0</td>\n",
       "      <td>77.0</td>\n",
       "      <td>84.0</td>\n",
       "      <td>86.0</td>\n",
       "      <td>87.0</td>\n",
       "      <td>88.0</td>\n",
       "      <td>91.0</td>\n",
       "      <td>75.0</td>\n",
       "      <td>73.0</td>\n",
       "      <td>79.0</td>\n",
       "      <td>88.0</td>\n",
       "      <td>81.0</td>\n",
       "      <td>84.0</td>\n",
       "      <td>50.0</td>\n",
       "      <td>92.0</td>\n",
       "      <td>58.0</td>\n",
       "      <td>89.0</td>\n",
       "      <td>46.0</td>\n",
       "      <td>56.0</td>\n",
       "      <td>83.0</td>\n",
       "      <td>91.0</td>\n",
       "      <td>67.0</td>\n",
       "      <td>88.0</td>\n",
       "      <td>59.0</td>\n",
       "      <td>57.0</td>\n",
       "      <td>22.0</td>\n",
       "      <td>9.0</td>\n",
       "      <td>14.0</td>\n",
       "      <td>7.0</td>\n",
       "      <td>7.0</td>\n",
       "      <td>6.0</td>\n",
       "      <td>141500000.0</td>\n",
       "      <td>2020.0</td>\n",
       "    </tr>\n",
       "    <tr>\n",
       "      <th>38</th>\n",
       "      <td>167664.0</td>\n",
       "      <td>G. Higuaín</td>\n",
       "      <td>30.0</td>\n",
       "      <td>88.0</td>\n",
       "      <td>88.0</td>\n",
       "      <td>57000000.0</td>\n",
       "      <td>245000.0</td>\n",
       "      <td>4.0</td>\n",
       "      <td>4.0</td>\n",
       "      <td>3.0</td>\n",
       "      <td>LS</td>\n",
       "      <td>0.0</td>\n",
       "      <td>2019-06-30</td>\n",
       "      <td>73.0</td>\n",
       "      <td>196.0</td>\n",
       "      <td>68.0</td>\n",
       "      <td>92.0</td>\n",
       "      <td>80.0</td>\n",
       "      <td>75.0</td>\n",
       "      <td>90.0</td>\n",
       "      <td>84.0</td>\n",
       "      <td>74.0</td>\n",
       "      <td>62.0</td>\n",
       "      <td>59.0</td>\n",
       "      <td>85.0</td>\n",
       "      <td>73.0</td>\n",
       "      <td>73.0</td>\n",
       "      <td>75.0</td>\n",
       "      <td>86.0</td>\n",
       "      <td>69.0</td>\n",
       "      <td>86.0</td>\n",
       "      <td>79.0</td>\n",
       "      <td>70.0</td>\n",
       "      <td>85.0</td>\n",
       "      <td>80.0</td>\n",
       "      <td>50.0</td>\n",
       "      <td>20.0</td>\n",
       "      <td>92.0</td>\n",
       "      <td>74.0</td>\n",
       "      <td>70.0</td>\n",
       "      <td>86.0</td>\n",
       "      <td>35.0</td>\n",
       "      <td>22.0</td>\n",
       "      <td>18.0</td>\n",
       "      <td>5.0</td>\n",
       "      <td>12.0</td>\n",
       "      <td>7.0</td>\n",
       "      <td>5.0</td>\n",
       "      <td>10.0</td>\n",
       "      <td>2400000.0</td>\n",
       "      <td>2019.0</td>\n",
       "    </tr>\n",
       "    <tr>\n",
       "      <th>39</th>\n",
       "      <td>164240.0</td>\n",
       "      <td>Thiago Silva</td>\n",
       "      <td>33.0</td>\n",
       "      <td>88.0</td>\n",
       "      <td>88.0</td>\n",
       "      <td>24000000.0</td>\n",
       "      <td>165000.0</td>\n",
       "      <td>4.0</td>\n",
       "      <td>3.0</td>\n",
       "      <td>2.0</td>\n",
       "      <td>RCB</td>\n",
       "      <td>2012.0</td>\n",
       "      <td>2020-12-31</td>\n",
       "      <td>72.0</td>\n",
       "      <td>181.0</td>\n",
       "      <td>60.0</td>\n",
       "      <td>38.0</td>\n",
       "      <td>81.0</td>\n",
       "      <td>80.0</td>\n",
       "      <td>63.0</td>\n",
       "      <td>62.0</td>\n",
       "      <td>61.0</td>\n",
       "      <td>64.0</td>\n",
       "      <td>80.0</td>\n",
       "      <td>80.0</td>\n",
       "      <td>70.0</td>\n",
       "      <td>72.0</td>\n",
       "      <td>68.0</td>\n",
       "      <td>82.0</td>\n",
       "      <td>68.0</td>\n",
       "      <td>71.0</td>\n",
       "      <td>90.0</td>\n",
       "      <td>74.0</td>\n",
       "      <td>82.0</td>\n",
       "      <td>68.0</td>\n",
       "      <td>76.0</td>\n",
       "      <td>89.0</td>\n",
       "      <td>59.0</td>\n",
       "      <td>72.0</td>\n",
       "      <td>60.0</td>\n",
       "      <td>81.0</td>\n",
       "      <td>88.0</td>\n",
       "      <td>89.0</td>\n",
       "      <td>85.0</td>\n",
       "      <td>9.0</td>\n",
       "      <td>12.0</td>\n",
       "      <td>5.0</td>\n",
       "      <td>9.0</td>\n",
       "      <td>10.0</td>\n",
       "      <td>44400000.0</td>\n",
       "      <td>2020.0</td>\n",
       "    </tr>\n",
       "    <tr>\n",
       "      <th>41</th>\n",
       "      <td>1179.0</td>\n",
       "      <td>G. Buffon</td>\n",
       "      <td>40.0</td>\n",
       "      <td>88.0</td>\n",
       "      <td>88.0</td>\n",
       "      <td>4000000.0</td>\n",
       "      <td>77000.0</td>\n",
       "      <td>4.0</td>\n",
       "      <td>2.0</td>\n",
       "      <td>1.0</td>\n",
       "      <td>GK</td>\n",
       "      <td>2018.0</td>\n",
       "      <td>2019-12-31</td>\n",
       "      <td>76.0</td>\n",
       "      <td>203.0</td>\n",
       "      <td>13.0</td>\n",
       "      <td>15.0</td>\n",
       "      <td>13.0</td>\n",
       "      <td>37.0</td>\n",
       "      <td>17.0</td>\n",
       "      <td>26.0</td>\n",
       "      <td>20.0</td>\n",
       "      <td>13.0</td>\n",
       "      <td>35.0</td>\n",
       "      <td>28.0</td>\n",
       "      <td>49.0</td>\n",
       "      <td>43.0</td>\n",
       "      <td>55.0</td>\n",
       "      <td>79.0</td>\n",
       "      <td>49.0</td>\n",
       "      <td>39.0</td>\n",
       "      <td>75.0</td>\n",
       "      <td>39.0</td>\n",
       "      <td>69.0</td>\n",
       "      <td>13.0</td>\n",
       "      <td>38.0</td>\n",
       "      <td>28.0</td>\n",
       "      <td>12.0</td>\n",
       "      <td>50.0</td>\n",
       "      <td>22.0</td>\n",
       "      <td>70.0</td>\n",
       "      <td>13.0</td>\n",
       "      <td>11.0</td>\n",
       "      <td>11.0</td>\n",
       "      <td>88.0</td>\n",
       "      <td>87.0</td>\n",
       "      <td>74.0</td>\n",
       "      <td>90.0</td>\n",
       "      <td>83.0</td>\n",
       "      <td>7400000.0</td>\n",
       "      <td>2019.0</td>\n",
       "    </tr>\n",
       "    <tr>\n",
       "      <th>46</th>\n",
       "      <td>193041.0</td>\n",
       "      <td>K. Navas</td>\n",
       "      <td>31.0</td>\n",
       "      <td>87.0</td>\n",
       "      <td>87.0</td>\n",
       "      <td>30500000.0</td>\n",
       "      <td>195000.0</td>\n",
       "      <td>3.0</td>\n",
       "      <td>3.0</td>\n",
       "      <td>1.0</td>\n",
       "      <td>GK</td>\n",
       "      <td>2014.0</td>\n",
       "      <td>2020-12-31</td>\n",
       "      <td>73.0</td>\n",
       "      <td>176.0</td>\n",
       "      <td>11.0</td>\n",
       "      <td>15.0</td>\n",
       "      <td>11.0</td>\n",
       "      <td>30.0</td>\n",
       "      <td>11.0</td>\n",
       "      <td>16.0</td>\n",
       "      <td>11.0</td>\n",
       "      <td>15.0</td>\n",
       "      <td>37.0</td>\n",
       "      <td>19.0</td>\n",
       "      <td>54.0</td>\n",
       "      <td>53.0</td>\n",
       "      <td>60.0</td>\n",
       "      <td>84.0</td>\n",
       "      <td>61.0</td>\n",
       "      <td>21.0</td>\n",
       "      <td>74.0</td>\n",
       "      <td>39.0</td>\n",
       "      <td>75.0</td>\n",
       "      <td>13.0</td>\n",
       "      <td>32.0</td>\n",
       "      <td>20.0</td>\n",
       "      <td>16.0</td>\n",
       "      <td>68.0</td>\n",
       "      <td>25.0</td>\n",
       "      <td>67.0</td>\n",
       "      <td>28.0</td>\n",
       "      <td>14.0</td>\n",
       "      <td>14.0</td>\n",
       "      <td>90.0</td>\n",
       "      <td>81.0</td>\n",
       "      <td>75.0</td>\n",
       "      <td>82.0</td>\n",
       "      <td>90.0</td>\n",
       "      <td>62500000.0</td>\n",
       "      <td>2020.0</td>\n",
       "    </tr>\n",
       "    <tr>\n",
       "      <th>49</th>\n",
       "      <td>189332.0</td>\n",
       "      <td>Jordi Alba</td>\n",
       "      <td>29.0</td>\n",
       "      <td>87.0</td>\n",
       "      <td>87.0</td>\n",
       "      <td>38000000.0</td>\n",
       "      <td>250000.0</td>\n",
       "      <td>3.0</td>\n",
       "      <td>3.0</td>\n",
       "      <td>3.0</td>\n",
       "      <td>LB</td>\n",
       "      <td>2012.0</td>\n",
       "      <td>2020-12-31</td>\n",
       "      <td>67.0</td>\n",
       "      <td>150.0</td>\n",
       "      <td>87.0</td>\n",
       "      <td>73.0</td>\n",
       "      <td>70.0</td>\n",
       "      <td>84.0</td>\n",
       "      <td>60.0</td>\n",
       "      <td>80.0</td>\n",
       "      <td>80.0</td>\n",
       "      <td>63.0</td>\n",
       "      <td>74.0</td>\n",
       "      <td>84.0</td>\n",
       "      <td>93.0</td>\n",
       "      <td>93.0</td>\n",
       "      <td>90.0</td>\n",
       "      <td>83.0</td>\n",
       "      <td>85.0</td>\n",
       "      <td>64.0</td>\n",
       "      <td>81.0</td>\n",
       "      <td>91.0</td>\n",
       "      <td>61.0</td>\n",
       "      <td>66.0</td>\n",
       "      <td>75.0</td>\n",
       "      <td>84.0</td>\n",
       "      <td>79.0</td>\n",
       "      <td>70.0</td>\n",
       "      <td>59.0</td>\n",
       "      <td>79.0</td>\n",
       "      <td>72.0</td>\n",
       "      <td>84.0</td>\n",
       "      <td>85.0</td>\n",
       "      <td>13.0</td>\n",
       "      <td>15.0</td>\n",
       "      <td>13.0</td>\n",
       "      <td>6.0</td>\n",
       "      <td>13.0</td>\n",
       "      <td>77900000.0</td>\n",
       "      <td>2020.0</td>\n",
       "    </tr>\n",
       "    <tr>\n",
       "      <th>50</th>\n",
       "      <td>175943.0</td>\n",
       "      <td>D. Mertens</td>\n",
       "      <td>31.0</td>\n",
       "      <td>87.0</td>\n",
       "      <td>87.0</td>\n",
       "      <td>45000000.0</td>\n",
       "      <td>135000.0</td>\n",
       "      <td>3.0</td>\n",
       "      <td>4.0</td>\n",
       "      <td>4.0</td>\n",
       "      <td>RF</td>\n",
       "      <td>2013.0</td>\n",
       "      <td>2020-12-31</td>\n",
       "      <td>67.0</td>\n",
       "      <td>134.0</td>\n",
       "      <td>77.0</td>\n",
       "      <td>86.0</td>\n",
       "      <td>35.0</td>\n",
       "      <td>82.0</td>\n",
       "      <td>70.0</td>\n",
       "      <td>91.0</td>\n",
       "      <td>82.0</td>\n",
       "      <td>79.0</td>\n",
       "      <td>74.0</td>\n",
       "      <td>89.0</td>\n",
       "      <td>93.0</td>\n",
       "      <td>85.0</td>\n",
       "      <td>94.0</td>\n",
       "      <td>88.0</td>\n",
       "      <td>92.0</td>\n",
       "      <td>80.0</td>\n",
       "      <td>60.0</td>\n",
       "      <td>75.0</td>\n",
       "      <td>42.0</td>\n",
       "      <td>81.0</td>\n",
       "      <td>59.0</td>\n",
       "      <td>36.0</td>\n",
       "      <td>87.0</td>\n",
       "      <td>83.0</td>\n",
       "      <td>79.0</td>\n",
       "      <td>81.0</td>\n",
       "      <td>25.0</td>\n",
       "      <td>40.0</td>\n",
       "      <td>40.0</td>\n",
       "      <td>7.0</td>\n",
       "      <td>10.0</td>\n",
       "      <td>8.0</td>\n",
       "      <td>10.0</td>\n",
       "      <td>4.0</td>\n",
       "      <td>76500000.0</td>\n",
       "      <td>2020.0</td>\n",
       "    </tr>\n",
       "    <tr>\n",
       "      <th>51</th>\n",
       "      <td>172871.0</td>\n",
       "      <td>J. Vertonghen</td>\n",
       "      <td>31.0</td>\n",
       "      <td>87.0</td>\n",
       "      <td>87.0</td>\n",
       "      <td>34000000.0</td>\n",
       "      <td>155000.0</td>\n",
       "      <td>3.0</td>\n",
       "      <td>3.0</td>\n",
       "      <td>3.0</td>\n",
       "      <td>LCB</td>\n",
       "      <td>2012.0</td>\n",
       "      <td>2019-12-31</td>\n",
       "      <td>74.0</td>\n",
       "      <td>190.0</td>\n",
       "      <td>68.0</td>\n",
       "      <td>56.0</td>\n",
       "      <td>80.0</td>\n",
       "      <td>79.0</td>\n",
       "      <td>52.0</td>\n",
       "      <td>71.0</td>\n",
       "      <td>58.0</td>\n",
       "      <td>73.0</td>\n",
       "      <td>74.0</td>\n",
       "      <td>76.0</td>\n",
       "      <td>61.0</td>\n",
       "      <td>65.0</td>\n",
       "      <td>61.0</td>\n",
       "      <td>84.0</td>\n",
       "      <td>60.0</td>\n",
       "      <td>80.0</td>\n",
       "      <td>85.0</td>\n",
       "      <td>75.0</td>\n",
       "      <td>79.0</td>\n",
       "      <td>66.0</td>\n",
       "      <td>84.0</td>\n",
       "      <td>89.0</td>\n",
       "      <td>60.0</td>\n",
       "      <td>68.0</td>\n",
       "      <td>66.0</td>\n",
       "      <td>83.0</td>\n",
       "      <td>90.0</td>\n",
       "      <td>87.0</td>\n",
       "      <td>88.0</td>\n",
       "      <td>6.0</td>\n",
       "      <td>10.0</td>\n",
       "      <td>9.0</td>\n",
       "      <td>12.0</td>\n",
       "      <td>7.0</td>\n",
       "      <td>62900000.0</td>\n",
       "      <td>2019.0</td>\n",
       "    </tr>\n",
       "    <tr>\n",
       "      <th>52</th>\n",
       "      <td>171877.0</td>\n",
       "      <td>M. Hamšík</td>\n",
       "      <td>30.0</td>\n",
       "      <td>87.0</td>\n",
       "      <td>87.0</td>\n",
       "      <td>46500000.0</td>\n",
       "      <td>125000.0</td>\n",
       "      <td>3.0</td>\n",
       "      <td>5.0</td>\n",
       "      <td>3.0</td>\n",
       "      <td>LCM</td>\n",
       "      <td>2007.0</td>\n",
       "      <td>2020-12-31</td>\n",
       "      <td>72.0</td>\n",
       "      <td>174.0</td>\n",
       "      <td>78.0</td>\n",
       "      <td>79.0</td>\n",
       "      <td>74.0</td>\n",
       "      <td>88.0</td>\n",
       "      <td>79.0</td>\n",
       "      <td>86.0</td>\n",
       "      <td>80.0</td>\n",
       "      <td>72.0</td>\n",
       "      <td>83.0</td>\n",
       "      <td>87.0</td>\n",
       "      <td>69.0</td>\n",
       "      <td>68.0</td>\n",
       "      <td>76.0</td>\n",
       "      <td>88.0</td>\n",
       "      <td>66.0</td>\n",
       "      <td>82.0</td>\n",
       "      <td>71.0</td>\n",
       "      <td>84.0</td>\n",
       "      <td>67.0</td>\n",
       "      <td>83.0</td>\n",
       "      <td>56.0</td>\n",
       "      <td>72.0</td>\n",
       "      <td>88.0</td>\n",
       "      <td>86.0</td>\n",
       "      <td>70.0</td>\n",
       "      <td>84.0</td>\n",
       "      <td>75.0</td>\n",
       "      <td>73.0</td>\n",
       "      <td>62.0</td>\n",
       "      <td>8.0</td>\n",
       "      <td>6.0</td>\n",
       "      <td>4.0</td>\n",
       "      <td>14.0</td>\n",
       "      <td>14.0</td>\n",
       "      <td>79100000.0</td>\n",
       "      <td>2020.0</td>\n",
       "    </tr>\n",
       "    <tr>\n",
       "      <th>64</th>\n",
       "      <td>191043.0</td>\n",
       "      <td>Alex Sandro</td>\n",
       "      <td>27.0</td>\n",
       "      <td>86.0</td>\n",
       "      <td>86.0</td>\n",
       "      <td>36500000.0</td>\n",
       "      <td>160000.0</td>\n",
       "      <td>3.0</td>\n",
       "      <td>3.0</td>\n",
       "      <td>3.0</td>\n",
       "      <td>LB</td>\n",
       "      <td>2015.0</td>\n",
       "      <td>2020-12-31</td>\n",
       "      <td>71.0</td>\n",
       "      <td>176.0</td>\n",
       "      <td>84.0</td>\n",
       "      <td>55.0</td>\n",
       "      <td>76.0</td>\n",
       "      <td>81.0</td>\n",
       "      <td>68.0</td>\n",
       "      <td>80.0</td>\n",
       "      <td>78.0</td>\n",
       "      <td>59.0</td>\n",
       "      <td>71.0</td>\n",
       "      <td>81.0</td>\n",
       "      <td>83.0</td>\n",
       "      <td>86.0</td>\n",
       "      <td>79.0</td>\n",
       "      <td>84.0</td>\n",
       "      <td>78.0</td>\n",
       "      <td>80.0</td>\n",
       "      <td>79.0</td>\n",
       "      <td>92.0</td>\n",
       "      <td>79.0</td>\n",
       "      <td>72.0</td>\n",
       "      <td>82.0</td>\n",
       "      <td>82.0</td>\n",
       "      <td>70.0</td>\n",
       "      <td>70.0</td>\n",
       "      <td>60.0</td>\n",
       "      <td>82.0</td>\n",
       "      <td>81.0</td>\n",
       "      <td>84.0</td>\n",
       "      <td>84.0</td>\n",
       "      <td>7.0</td>\n",
       "      <td>7.0</td>\n",
       "      <td>9.0</td>\n",
       "      <td>12.0</td>\n",
       "      <td>5.0</td>\n",
       "      <td>60200000.0</td>\n",
       "      <td>2020.0</td>\n",
       "    </tr>\n",
       "    <tr>\n",
       "      <th>71</th>\n",
       "      <td>184087.0</td>\n",
       "      <td>T. Alderweireld</td>\n",
       "      <td>29.0</td>\n",
       "      <td>86.0</td>\n",
       "      <td>87.0</td>\n",
       "      <td>39000000.0</td>\n",
       "      <td>150000.0</td>\n",
       "      <td>3.0</td>\n",
       "      <td>3.0</td>\n",
       "      <td>2.0</td>\n",
       "      <td>RCB</td>\n",
       "      <td>2015.0</td>\n",
       "      <td>2020-12-31</td>\n",
       "      <td>73.0</td>\n",
       "      <td>179.0</td>\n",
       "      <td>64.0</td>\n",
       "      <td>45.0</td>\n",
       "      <td>82.0</td>\n",
       "      <td>79.0</td>\n",
       "      <td>38.0</td>\n",
       "      <td>62.0</td>\n",
       "      <td>63.0</td>\n",
       "      <td>69.0</td>\n",
       "      <td>85.0</td>\n",
       "      <td>74.0</td>\n",
       "      <td>61.0</td>\n",
       "      <td>66.0</td>\n",
       "      <td>60.0</td>\n",
       "      <td>86.0</td>\n",
       "      <td>50.0</td>\n",
       "      <td>78.0</td>\n",
       "      <td>84.0</td>\n",
       "      <td>74.0</td>\n",
       "      <td>79.0</td>\n",
       "      <td>65.0</td>\n",
       "      <td>80.0</td>\n",
       "      <td>87.0</td>\n",
       "      <td>58.0</td>\n",
       "      <td>67.0</td>\n",
       "      <td>58.0</td>\n",
       "      <td>81.0</td>\n",
       "      <td>90.0</td>\n",
       "      <td>91.0</td>\n",
       "      <td>86.0</td>\n",
       "      <td>16.0</td>\n",
       "      <td>6.0</td>\n",
       "      <td>14.0</td>\n",
       "      <td>16.0</td>\n",
       "      <td>14.0</td>\n",
       "      <td>75100000.0</td>\n",
       "      <td>2020.0</td>\n",
       "    </tr>\n",
       "  </tbody>\n",
       "</table>\n",
       "</div>"
      ],
      "text/plain": [
       "          ID             Name   Age  Overall  Potential       Value      Wage  \\\n",
       "3   193080.0           De Gea  27.0     91.0       93.0  72000000.0  260000.0   \n",
       "5   183277.0        E. Hazard  27.0     91.0       91.0  93000000.0  340000.0   \n",
       "6   177003.0        L. Modrić  32.0     91.0       91.0  67000000.0  420000.0   \n",
       "8   155862.0     Sergio Ramos  32.0     91.0       91.0  51000000.0  380000.0   \n",
       "12  182493.0         D. Godín  32.0     90.0       90.0  44000000.0  125000.0   \n",
       "13  168542.0      David Silva  32.0     90.0       90.0  60000000.0  285000.0   \n",
       "21  179813.0        E. Cavani  31.0     89.0       89.0  60000000.0  200000.0   \n",
       "24  138956.0     G. Chiellini  33.0     89.0       89.0  27000000.0  215000.0   \n",
       "28  198710.0     J. Rodríguez  26.0     88.0       89.0  69500000.0  315000.0   \n",
       "31  190460.0       C. Eriksen  26.0     88.0       91.0  73500000.0  205000.0   \n",
       "38  167664.0       G. Higuaín  30.0     88.0       88.0  57000000.0  245000.0   \n",
       "39  164240.0     Thiago Silva  33.0     88.0       88.0  24000000.0  165000.0   \n",
       "41    1179.0        G. Buffon  40.0     88.0       88.0   4000000.0   77000.0   \n",
       "46  193041.0         K. Navas  31.0     87.0       87.0  30500000.0  195000.0   \n",
       "49  189332.0       Jordi Alba  29.0     87.0       87.0  38000000.0  250000.0   \n",
       "50  175943.0       D. Mertens  31.0     87.0       87.0  45000000.0  135000.0   \n",
       "51  172871.0    J. Vertonghen  31.0     87.0       87.0  34000000.0  155000.0   \n",
       "52  171877.0        M. Hamšík  30.0     87.0       87.0  46500000.0  125000.0   \n",
       "64  191043.0      Alex Sandro  27.0     86.0       86.0  36500000.0  160000.0   \n",
       "71  184087.0  T. Alderweireld  29.0     86.0       87.0  39000000.0  150000.0   \n",
       "\n",
       "    International Reputation  Weak Foot  Skill Moves Position  Joined  \\\n",
       "3                        4.0        3.0          1.0       GK  2011.0   \n",
       "5                        4.0        4.0          4.0       LF  2012.0   \n",
       "6                        4.0        4.0          4.0      RCM  2012.0   \n",
       "8                        4.0        3.0          3.0      RCB  2005.0   \n",
       "12                       3.0        3.0          2.0       CB  2010.0   \n",
       "13                       4.0        2.0          4.0      LCM  2010.0   \n",
       "21                       4.0        4.0          3.0       LS  2013.0   \n",
       "24                       4.0        3.0          2.0      LCB  2005.0   \n",
       "28                       4.0        3.0          4.0      LAM     0.0   \n",
       "31                       3.0        5.0          4.0      CAM  2013.0   \n",
       "38                       4.0        4.0          3.0       LS     0.0   \n",
       "39                       4.0        3.0          2.0      RCB  2012.0   \n",
       "41                       4.0        2.0          1.0       GK  2018.0   \n",
       "46                       3.0        3.0          1.0       GK  2014.0   \n",
       "49                       3.0        3.0          3.0       LB  2012.0   \n",
       "50                       3.0        4.0          4.0       RF  2013.0   \n",
       "51                       3.0        3.0          3.0      LCB  2012.0   \n",
       "52                       3.0        5.0          3.0      LCM  2007.0   \n",
       "64                       3.0        3.0          3.0       LB  2015.0   \n",
       "71                       3.0        3.0          2.0      RCB  2015.0   \n",
       "\n",
       "   Contract Valid Until  Height  Weight  Crossing  Finishing  HeadingAccuracy  \\\n",
       "3            2020-12-31    76.0   168.0      17.0       13.0             21.0   \n",
       "5            2020-12-31    68.0   163.0      81.0       84.0             61.0   \n",
       "6            2020-12-31    68.0   146.0      86.0       72.0             55.0   \n",
       "8            2020-12-31    72.0   181.0      66.0       60.0             91.0   \n",
       "12           2019-12-31    74.0   172.0      55.0       42.0             92.0   \n",
       "13           2020-12-31    68.0   148.0      84.0       76.0             54.0   \n",
       "21           2020-12-31    73.0   170.0      70.0       89.0             89.0   \n",
       "24           2020-12-31    74.0   187.0      58.0       33.0             83.0   \n",
       "28           2019-06-30    71.0   172.0      90.0       83.0             62.0   \n",
       "31           2020-12-31    71.0   168.0      88.0       80.0             52.0   \n",
       "38           2019-06-30    73.0   196.0      68.0       92.0             80.0   \n",
       "39           2020-12-31    72.0   181.0      60.0       38.0             81.0   \n",
       "41           2019-12-31    76.0   203.0      13.0       15.0             13.0   \n",
       "46           2020-12-31    73.0   176.0      11.0       15.0             11.0   \n",
       "49           2020-12-31    67.0   150.0      87.0       73.0             70.0   \n",
       "50           2020-12-31    67.0   134.0      77.0       86.0             35.0   \n",
       "51           2019-12-31    74.0   190.0      68.0       56.0             80.0   \n",
       "52           2020-12-31    72.0   174.0      78.0       79.0             74.0   \n",
       "64           2020-12-31    71.0   176.0      84.0       55.0             76.0   \n",
       "71           2020-12-31    73.0   179.0      64.0       45.0             82.0   \n",
       "\n",
       "    ShortPassing  Volleys  Dribbling  Curve  FKAccuracy  LongPassing  \\\n",
       "3           50.0     13.0       18.0   21.0        19.0         51.0   \n",
       "5           89.0     80.0       95.0   83.0        79.0         83.0   \n",
       "6           93.0     76.0       90.0   85.0        78.0         88.0   \n",
       "8           78.0     66.0       63.0   74.0        72.0         77.0   \n",
       "12          79.0     47.0       53.0   49.0        51.0         70.0   \n",
       "13          93.0     82.0       89.0   82.0        77.0         87.0   \n",
       "21          78.0     90.0       80.0   77.0        76.0         52.0   \n",
       "24          59.0     45.0       58.0   60.0        31.0         59.0   \n",
       "28          89.0     90.0       85.0   89.0        86.0         83.0   \n",
       "31          91.0     77.0       84.0   86.0        87.0         88.0   \n",
       "38          75.0     90.0       84.0   74.0        62.0         59.0   \n",
       "39          80.0     63.0       62.0   61.0        64.0         80.0   \n",
       "41          37.0     17.0       26.0   20.0        13.0         35.0   \n",
       "46          30.0     11.0       16.0   11.0        15.0         37.0   \n",
       "49          84.0     60.0       80.0   80.0        63.0         74.0   \n",
       "50          82.0     70.0       91.0   82.0        79.0         74.0   \n",
       "51          79.0     52.0       71.0   58.0        73.0         74.0   \n",
       "52          88.0     79.0       86.0   80.0        72.0         83.0   \n",
       "64          81.0     68.0       80.0   78.0        59.0         71.0   \n",
       "71          79.0     38.0       62.0   63.0        69.0         85.0   \n",
       "\n",
       "    BallControl  Acceleration  SprintSpeed  Agility  Reactions  Balance  \\\n",
       "3          42.0          57.0         58.0     60.0       90.0     43.0   \n",
       "5          94.0          94.0         88.0     95.0       90.0     94.0   \n",
       "6          93.0          80.0         72.0     93.0       90.0     94.0   \n",
       "8          84.0          76.0         75.0     78.0       85.0     66.0   \n",
       "12         76.0          68.0         68.0     58.0       85.0     54.0   \n",
       "13         94.0          70.0         64.0     92.0       90.0     90.0   \n",
       "21         82.0          75.0         76.0     77.0       91.0     59.0   \n",
       "24         57.0          63.0         75.0     54.0       82.0     55.0   \n",
       "28         90.0          73.0         67.0     83.0       85.0     76.0   \n",
       "31         91.0          75.0         73.0     79.0       88.0     81.0   \n",
       "38         85.0          73.0         73.0     75.0       86.0     69.0   \n",
       "39         80.0          70.0         72.0     68.0       82.0     68.0   \n",
       "41         28.0          49.0         43.0     55.0       79.0     49.0   \n",
       "46         19.0          54.0         53.0     60.0       84.0     61.0   \n",
       "49         84.0          93.0         93.0     90.0       83.0     85.0   \n",
       "50         89.0          93.0         85.0     94.0       88.0     92.0   \n",
       "51         76.0          61.0         65.0     61.0       84.0     60.0   \n",
       "52         87.0          69.0         68.0     76.0       88.0     66.0   \n",
       "64         81.0          83.0         86.0     79.0       84.0     78.0   \n",
       "71         74.0          61.0         66.0     60.0       86.0     50.0   \n",
       "\n",
       "    ShotPower  Jumping  Stamina  Strength  LongShots  Aggression  \\\n",
       "3        31.0     67.0     43.0      64.0       12.0        38.0   \n",
       "5        82.0     56.0     83.0      66.0       80.0        54.0   \n",
       "6        79.0     68.0     89.0      58.0       82.0        62.0   \n",
       "8        79.0     93.0     84.0      83.0       59.0        88.0   \n",
       "12       67.0     91.0     66.0      88.0       43.0        89.0   \n",
       "13       72.0     64.0     78.0      52.0       75.0        57.0   \n",
       "21       87.0     88.0     92.0      78.0       79.0        84.0   \n",
       "24       78.0     89.0     65.0      89.0       49.0        92.0   \n",
       "28       86.0     54.0     70.0      68.0       92.0        64.0   \n",
       "31       84.0     50.0     92.0      58.0       89.0        46.0   \n",
       "38       86.0     79.0     70.0      85.0       80.0        50.0   \n",
       "39       71.0     90.0     74.0      82.0       68.0        76.0   \n",
       "41       39.0     75.0     39.0      69.0       13.0        38.0   \n",
       "46       21.0     74.0     39.0      75.0       13.0        32.0   \n",
       "49       64.0     81.0     91.0      61.0       66.0        75.0   \n",
       "50       80.0     60.0     75.0      42.0       81.0        59.0   \n",
       "51       80.0     85.0     75.0      79.0       66.0        84.0   \n",
       "52       82.0     71.0     84.0      67.0       83.0        56.0   \n",
       "64       80.0     79.0     92.0      79.0       72.0        82.0   \n",
       "71       78.0     84.0     74.0      79.0       65.0        80.0   \n",
       "\n",
       "    Interceptions  Positioning  Vision  Penalties  Composure  Marking  \\\n",
       "3            30.0         12.0    68.0       40.0       68.0     15.0   \n",
       "5            41.0         87.0    89.0       86.0       91.0     34.0   \n",
       "6            83.0         79.0    92.0       82.0       84.0     60.0   \n",
       "8            90.0         60.0    63.0       75.0       82.0     87.0   \n",
       "12           88.0         48.0    52.0       50.0       82.0     90.0   \n",
       "13           50.0         89.0    92.0       75.0       93.0     59.0   \n",
       "21           48.0         93.0    77.0       85.0       82.0     52.0   \n",
       "24           88.0         28.0    50.0       50.0       84.0     93.0   \n",
       "28           55.0         80.0    89.0       81.0       87.0     52.0   \n",
       "31           56.0         83.0    91.0       67.0       88.0     59.0   \n",
       "38           20.0         92.0    74.0       70.0       86.0     35.0   \n",
       "39           89.0         59.0    72.0       60.0       81.0     88.0   \n",
       "41           28.0         12.0    50.0       22.0       70.0     13.0   \n",
       "46           20.0         16.0    68.0       25.0       67.0     28.0   \n",
       "49           84.0         79.0    70.0       59.0       79.0     72.0   \n",
       "50           36.0         87.0    83.0       79.0       81.0     25.0   \n",
       "51           89.0         60.0    68.0       66.0       83.0     90.0   \n",
       "52           72.0         88.0    86.0       70.0       84.0     75.0   \n",
       "64           82.0         70.0    70.0       60.0       82.0     81.0   \n",
       "71           87.0         58.0    67.0       58.0       81.0     90.0   \n",
       "\n",
       "    StandingTackle  SlidingTackle  GKDiving  GKHandling  GKKicking  \\\n",
       "3             21.0           13.0      90.0        85.0       87.0   \n",
       "5             27.0           22.0      11.0        12.0        6.0   \n",
       "6             76.0           73.0      13.0         9.0        7.0   \n",
       "8             92.0           91.0      11.0         8.0        9.0   \n",
       "12            89.0           89.0       6.0         8.0       15.0   \n",
       "13            53.0           29.0       6.0        15.0        7.0   \n",
       "21            45.0           39.0      12.0         5.0       13.0   \n",
       "24            93.0           90.0       3.0         3.0        2.0   \n",
       "28            41.0           44.0      15.0        15.0       15.0   \n",
       "31            57.0           22.0       9.0        14.0        7.0   \n",
       "38            22.0           18.0       5.0        12.0        7.0   \n",
       "39            89.0           85.0       9.0        12.0        5.0   \n",
       "41            11.0           11.0      88.0        87.0       74.0   \n",
       "46            14.0           14.0      90.0        81.0       75.0   \n",
       "49            84.0           85.0      13.0        15.0       13.0   \n",
       "50            40.0           40.0       7.0        10.0        8.0   \n",
       "51            87.0           88.0       6.0        10.0        9.0   \n",
       "52            73.0           62.0       8.0         6.0        4.0   \n",
       "64            84.0           84.0       7.0         7.0        9.0   \n",
       "71            91.0           86.0      16.0         6.0       14.0   \n",
       "\n",
       "    GKPositioning  GKReflexes  Release Clause  Contract_exp_year  \n",
       "3            88.0        94.0     138600000.0             2020.0  \n",
       "5             8.0         8.0     172100000.0             2020.0  \n",
       "6            14.0         9.0     137400000.0             2020.0  \n",
       "8             7.0        11.0     104600000.0             2020.0  \n",
       "12            5.0        15.0      90200000.0             2019.0  \n",
       "13            6.0        12.0     111000000.0             2020.0  \n",
       "21           13.0        10.0     111000000.0             2020.0  \n",
       "24            4.0         3.0      44600000.0             2020.0  \n",
       "28            5.0        14.0       3200000.0             2019.0  \n",
       "31            7.0         6.0     141500000.0             2020.0  \n",
       "38            5.0        10.0       2400000.0             2019.0  \n",
       "39            9.0        10.0      44400000.0             2020.0  \n",
       "41           90.0        83.0       7400000.0             2019.0  \n",
       "46           82.0        90.0      62500000.0             2020.0  \n",
       "49            6.0        13.0      77900000.0             2020.0  \n",
       "50           10.0         4.0      76500000.0             2020.0  \n",
       "51           12.0         7.0      62900000.0             2019.0  \n",
       "52           14.0        14.0      79100000.0             2020.0  \n",
       "64           12.0         5.0      60200000.0             2020.0  \n",
       "71           16.0        14.0      75100000.0             2020.0  "
      ]
     },
     "execution_count": 523,
     "metadata": {},
     "output_type": "execute_result"
    }
   ],
   "source": [
    "top_20 = data.where(data['Contract_exp_year'] <= np.int64(2020)).nlargest(20,['Overall'])\n",
    "\n",
    "# Lets drop the column that was created to store year value. \n",
    "data.drop(columns=['Contract_exp_year'], inplace=True)\n",
    "\n",
    "top_20"
   ]
  },
  {
   "cell_type": "markdown",
   "metadata": {},
   "source": [
    "### INFERENCE: <font color='blue'> We have extracted top 20 players with highest Overall rating  whose contract expires in 2020. We have also dropped the new column 'Contract_exp_year' that we created for this analysis. </font> "
   ]
  },
  {
   "cell_type": "markdown",
   "metadata": {},
   "source": [
    "#### a)  What would the average wage for this set of players be?"
   ]
  },
  {
   "cell_type": "code",
   "execution_count": 524,
   "metadata": {},
   "outputs": [
    {
     "name": "stdout",
     "output_type": "stream",
     "text": [
      "Average 'Wage' for these top 20 players = 220100.0\n"
     ]
    }
   ],
   "source": [
    "print(\"Average 'Wage' for these top 20 players =\", top_20['Wage'].mean())"
   ]
  },
  {
   "cell_type": "markdown",
   "metadata": {},
   "source": [
    "#### b)\tWhat is the average age?"
   ]
  },
  {
   "cell_type": "code",
   "execution_count": 525,
   "metadata": {},
   "outputs": [
    {
     "name": "stdout",
     "output_type": "stream",
     "text": [
      "Average 'Age' for these top 20 players = 30.45\n"
     ]
    }
   ],
   "source": [
    "print(\"Average 'Age' for these top 20 players =\", top_20['Age'].mean())"
   ]
  },
  {
   "cell_type": "markdown",
   "metadata": {},
   "source": [
    "####  c)\tIs there a correlation between the Overall rating and Value for these players?"
   ]
  },
  {
   "cell_type": "code",
   "execution_count": 526,
   "metadata": {},
   "outputs": [
    {
     "data": {
      "text/plain": [
       "0.5376602976016893"
      ]
     },
     "execution_count": 526,
     "metadata": {},
     "output_type": "execute_result"
    }
   ],
   "source": [
    "top_20['Overall'].corr(top_20['Value'])"
   ]
  },
  {
   "cell_type": "markdown",
   "metadata": {},
   "source": [
    "###  INFERENCE: <font color='blue'>  Correlation coefficient lies in -1 to +1 range. The correlation value between column 'Overall' and column 'Value' is 0.537 which is a moderate positive relationship. i.e., it follows slight positive correlation. </font>\n",
    "### Note: <font color='blue'> By default python follows Pearson’s correlation coefficient to calculate correlation.</font> "
   ]
  },
  {
   "cell_type": "code",
   "execution_count": 527,
   "metadata": {},
   "outputs": [
    {
     "data": {
      "text/plain": [
       "<matplotlib.collections.PathCollection at 0x209df223888>"
      ]
     },
     "execution_count": 527,
     "metadata": {},
     "output_type": "execute_result"
    },
    {
     "data": {
      "image/png": "[encoded data removed]",
      "text/plain": [
       "<Figure size 432x288 with 1 Axes>"
      ]
     },
     "metadata": {
      "needs_background": "light"
     },
     "output_type": "display_data"
    }
   ],
   "source": [
    "plt.scatter(top_20['Overall'],top_20['Value'])"
   ]
  },
  {
   "cell_type": "markdown",
   "metadata": {},
   "source": [
    "###  INFERENCE: <font color='blue'>  From the above scatterplot, we can conclude that columns 'Overall' and 'Value' follows  moderate positive correlation. </font>"
   ]
  },
  {
   "cell_type": "markdown",
   "metadata": {},
   "source": [
    "####       4.   Convert the categorical features to numerical features with suitable encoding techniques. (4 marks)"
   ]
  },
  {
   "cell_type": "code",
   "execution_count": 528,
   "metadata": {},
   "outputs": [
    {
     "data": {
      "text/plain": [
       "Index(['Name', 'Position'], dtype='object')"
      ]
     },
     "execution_count": 528,
     "metadata": {},
     "output_type": "execute_result"
    }
   ],
   "source": [
    "data.select_dtypes(include=['object']).columns"
   ]
  },
  {
   "cell_type": "markdown",
   "metadata": {},
   "source": [
    "###  INFERENCE: <font color='blue'>  We have only 2 columns with object datatype i.e, 'Name' and 'Position' , within which only column 'Position' can be encoded into suitable numerical values.</font> "
   ]
  },
  {
   "cell_type": "code",
   "execution_count": 529,
   "metadata": {},
   "outputs": [
    {
     "data": {
      "text/plain": [
       "array(['RF', 'ST', 'LW', 'GK', 'RCM', 'LF', 'RS', 'RCB', 'LCM', 'CB',\n",
       "       'LDM', 'CAM', 'CDM', 'LS', 'LCB', 'RM', 'LAM', 'LM', 'LB', 'RDM',\n",
       "       'RW', 'CM', 'RB', 'RAM', 'CF', 'RWB', 'LWB'], dtype=object)"
      ]
     },
     "execution_count": 529,
     "metadata": {},
     "output_type": "execute_result"
    }
   ],
   "source": [
    "data['Position'].unique()"
   ]
  },
  {
   "cell_type": "code",
   "execution_count": 530,
   "metadata": {},
   "outputs": [
    {
     "data": {
      "text/plain": [
       "{'CAM': 0,\n",
       " 'CB': 1,\n",
       " 'CDM': 2,\n",
       " 'CF': 3,\n",
       " 'CM': 4,\n",
       " 'GK': 5,\n",
       " 'LAM': 6,\n",
       " 'LB': 7,\n",
       " 'LCB': 8,\n",
       " 'LCM': 9,\n",
       " 'LDM': 10,\n",
       " 'LF': 11,\n",
       " 'LM': 12,\n",
       " 'LS': 13,\n",
       " 'LW': 14,\n",
       " 'LWB': 15,\n",
       " 'RAM': 16,\n",
       " 'RB': 17,\n",
       " 'RCB': 18,\n",
       " 'RCM': 19,\n",
       " 'RDM': 20,\n",
       " 'RF': 21,\n",
       " 'RM': 22,\n",
       " 'RS': 23,\n",
       " 'RW': 24,\n",
       " 'RWB': 25,\n",
       " 'ST': 26}"
      ]
     },
     "execution_count": 530,
     "metadata": {},
     "output_type": "execute_result"
    }
   ],
   "source": [
    "from sklearn import preprocessing\n",
    "le = preprocessing.LabelEncoder()\n",
    "le.fit(data['Position'])\n",
    "dict(zip(le.classes_,range(len(le.classes_))))"
   ]
  },
  {
   "cell_type": "markdown",
   "metadata": {},
   "source": [
    "###  INFERENCE: <font color='blue'>  The above code is simply used to map categorical value to its respective numerical value. For example, 'CAM' is encoded to value 0 . </font>"
   ]
  },
  {
   "cell_type": "code",
   "execution_count": 531,
   "metadata": {},
   "outputs": [],
   "source": [
    "encode=LabelEncoder()\n",
    "data['Position']=encode.fit_transform(data['Position'])"
   ]
  },
  {
   "cell_type": "code",
   "execution_count": 532,
   "metadata": {},
   "outputs": [
    {
     "data": {
      "text/plain": [
       "array([21, 26, 14,  5, 19, 11, 23, 18,  9,  1, 10,  0,  2, 13,  8, 22,  6,\n",
       "       12,  7, 20, 24,  4, 17, 16,  3, 25, 15])"
      ]
     },
     "execution_count": 532,
     "metadata": {},
     "output_type": "execute_result"
    }
   ],
   "source": [
    "data['Position'].unique()"
   ]
  },
  {
   "cell_type": "markdown",
   "metadata": {},
   "source": [
    "###  INFERENCE: <font color='blue'>  Now, we have encoded all 27 categorical values in column  'Position' to 27 numerical values. </font>"
   ]
  },
  {
   "cell_type": "markdown",
   "metadata": {},
   "source": [
    "#### 5. Generate tables containing the top 5 players by Overall rating for each unique position. (2 marks)\n",
    "#### a) \tAre there any players appearing in more than one Table. Please point out such players.\n",
    "##### b)\tWhat is the average wage one can expect to pay for the top 5 in every position?\n"
   ]
  },
  {
   "cell_type": "code",
   "execution_count": 533,
   "metadata": {},
   "outputs": [
    {
     "data": {
      "text/html": [
       "<div>\n",
       "<style scoped>\n",
       "    .dataframe tbody tr th:only-of-type {\n",
       "        vertical-align: middle;\n",
       "    }\n",
       "\n",
       "    .dataframe tbody tr th {\n",
       "        vertical-align: top;\n",
       "    }\n",
       "\n",
       "    .dataframe thead th {\n",
       "        text-align: right;\n",
       "    }\n",
       "</style>\n",
       "<table border=\"1\" class=\"dataframe\">\n",
       "  <thead>\n",
       "    <tr style=\"text-align: right;\">\n",
       "      <th></th>\n",
       "      <th>ID</th>\n",
       "      <th>Name</th>\n",
       "      <th>Age</th>\n",
       "      <th>Overall</th>\n",
       "      <th>Potential</th>\n",
       "      <th>Value</th>\n",
       "      <th>Wage</th>\n",
       "      <th>International Reputation</th>\n",
       "      <th>Weak Foot</th>\n",
       "      <th>Skill Moves</th>\n",
       "      <th>Position</th>\n",
       "      <th>Joined</th>\n",
       "      <th>Contract Valid Until</th>\n",
       "      <th>Height</th>\n",
       "      <th>Weight</th>\n",
       "      <th>Crossing</th>\n",
       "      <th>Finishing</th>\n",
       "      <th>HeadingAccuracy</th>\n",
       "      <th>ShortPassing</th>\n",
       "      <th>Volleys</th>\n",
       "      <th>Dribbling</th>\n",
       "      <th>Curve</th>\n",
       "      <th>FKAccuracy</th>\n",
       "      <th>LongPassing</th>\n",
       "      <th>BallControl</th>\n",
       "      <th>Acceleration</th>\n",
       "      <th>SprintSpeed</th>\n",
       "      <th>Agility</th>\n",
       "      <th>Reactions</th>\n",
       "      <th>Balance</th>\n",
       "      <th>ShotPower</th>\n",
       "      <th>Jumping</th>\n",
       "      <th>Stamina</th>\n",
       "      <th>Strength</th>\n",
       "      <th>LongShots</th>\n",
       "      <th>Aggression</th>\n",
       "      <th>Interceptions</th>\n",
       "      <th>Positioning</th>\n",
       "      <th>Vision</th>\n",
       "      <th>Penalties</th>\n",
       "      <th>Composure</th>\n",
       "      <th>Marking</th>\n",
       "      <th>StandingTackle</th>\n",
       "      <th>SlidingTackle</th>\n",
       "      <th>GKDiving</th>\n",
       "      <th>GKHandling</th>\n",
       "      <th>GKKicking</th>\n",
       "      <th>GKPositioning</th>\n",
       "      <th>GKReflexes</th>\n",
       "      <th>Release Clause</th>\n",
       "    </tr>\n",
       "  </thead>\n",
       "  <tbody>\n",
       "    <tr>\n",
       "      <th>17</th>\n",
       "      <td>194765.0</td>\n",
       "      <td>A. Griezmann</td>\n",
       "      <td>27.0</td>\n",
       "      <td>89.0</td>\n",
       "      <td>90.0</td>\n",
       "      <td>78000000.0</td>\n",
       "      <td>145000.0</td>\n",
       "      <td>4.0</td>\n",
       "      <td>3.0</td>\n",
       "      <td>4.0</td>\n",
       "      <td>0.0</td>\n",
       "      <td>2014.0</td>\n",
       "      <td>2023-12-31</td>\n",
       "      <td>69.0</td>\n",
       "      <td>161.0</td>\n",
       "      <td>82.0</td>\n",
       "      <td>90.0</td>\n",
       "      <td>84.0</td>\n",
       "      <td>83.0</td>\n",
       "      <td>87.0</td>\n",
       "      <td>88.0</td>\n",
       "      <td>84.0</td>\n",
       "      <td>78.0</td>\n",
       "      <td>76.0</td>\n",
       "      <td>90.0</td>\n",
       "      <td>88.0</td>\n",
       "      <td>85.0</td>\n",
       "      <td>90.0</td>\n",
       "      <td>90.0</td>\n",
       "      <td>80.0</td>\n",
       "      <td>80.0</td>\n",
       "      <td>90.0</td>\n",
       "      <td>83.0</td>\n",
       "      <td>62.0</td>\n",
       "      <td>82.0</td>\n",
       "      <td>69.0</td>\n",
       "      <td>35.0</td>\n",
       "      <td>91.0</td>\n",
       "      <td>83.0</td>\n",
       "      <td>79.0</td>\n",
       "      <td>87.0</td>\n",
       "      <td>59.0</td>\n",
       "      <td>47.0</td>\n",
       "      <td>48.0</td>\n",
       "      <td>14.0</td>\n",
       "      <td>8.0</td>\n",
       "      <td>14.0</td>\n",
       "      <td>13.0</td>\n",
       "      <td>14.0</td>\n",
       "      <td>165800000.0</td>\n",
       "    </tr>\n",
       "    <tr>\n",
       "      <th>31</th>\n",
       "      <td>190460.0</td>\n",
       "      <td>C. Eriksen</td>\n",
       "      <td>26.0</td>\n",
       "      <td>88.0</td>\n",
       "      <td>91.0</td>\n",
       "      <td>73500000.0</td>\n",
       "      <td>205000.0</td>\n",
       "      <td>3.0</td>\n",
       "      <td>5.0</td>\n",
       "      <td>4.0</td>\n",
       "      <td>0.0</td>\n",
       "      <td>2013.0</td>\n",
       "      <td>2020-12-31</td>\n",
       "      <td>71.0</td>\n",
       "      <td>168.0</td>\n",
       "      <td>88.0</td>\n",
       "      <td>80.0</td>\n",
       "      <td>52.0</td>\n",
       "      <td>91.0</td>\n",
       "      <td>77.0</td>\n",
       "      <td>84.0</td>\n",
       "      <td>86.0</td>\n",
       "      <td>87.0</td>\n",
       "      <td>88.0</td>\n",
       "      <td>91.0</td>\n",
       "      <td>75.0</td>\n",
       "      <td>73.0</td>\n",
       "      <td>79.0</td>\n",
       "      <td>88.0</td>\n",
       "      <td>81.0</td>\n",
       "      <td>84.0</td>\n",
       "      <td>50.0</td>\n",
       "      <td>92.0</td>\n",
       "      <td>58.0</td>\n",
       "      <td>89.0</td>\n",
       "      <td>46.0</td>\n",
       "      <td>56.0</td>\n",
       "      <td>83.0</td>\n",
       "      <td>91.0</td>\n",
       "      <td>67.0</td>\n",
       "      <td>88.0</td>\n",
       "      <td>59.0</td>\n",
       "      <td>57.0</td>\n",
       "      <td>22.0</td>\n",
       "      <td>9.0</td>\n",
       "      <td>14.0</td>\n",
       "      <td>7.0</td>\n",
       "      <td>7.0</td>\n",
       "      <td>6.0</td>\n",
       "      <td>141500000.0</td>\n",
       "    </tr>\n",
       "    <tr>\n",
       "      <th>61</th>\n",
       "      <td>201942.0</td>\n",
       "      <td>Roberto Firmino</td>\n",
       "      <td>26.0</td>\n",
       "      <td>86.0</td>\n",
       "      <td>87.0</td>\n",
       "      <td>53000000.0</td>\n",
       "      <td>195000.0</td>\n",
       "      <td>3.0</td>\n",
       "      <td>4.0</td>\n",
       "      <td>4.0</td>\n",
       "      <td>0.0</td>\n",
       "      <td>2015.0</td>\n",
       "      <td>2023-12-31</td>\n",
       "      <td>71.0</td>\n",
       "      <td>168.0</td>\n",
       "      <td>72.0</td>\n",
       "      <td>87.0</td>\n",
       "      <td>77.0</td>\n",
       "      <td>86.0</td>\n",
       "      <td>81.0</td>\n",
       "      <td>87.0</td>\n",
       "      <td>80.0</td>\n",
       "      <td>65.0</td>\n",
       "      <td>75.0</td>\n",
       "      <td>88.0</td>\n",
       "      <td>78.0</td>\n",
       "      <td>77.0</td>\n",
       "      <td>80.0</td>\n",
       "      <td>86.0</td>\n",
       "      <td>81.0</td>\n",
       "      <td>81.0</td>\n",
       "      <td>81.0</td>\n",
       "      <td>90.0</td>\n",
       "      <td>74.0</td>\n",
       "      <td>76.0</td>\n",
       "      <td>73.0</td>\n",
       "      <td>58.0</td>\n",
       "      <td>87.0</td>\n",
       "      <td>85.0</td>\n",
       "      <td>72.0</td>\n",
       "      <td>87.0</td>\n",
       "      <td>60.0</td>\n",
       "      <td>64.0</td>\n",
       "      <td>42.0</td>\n",
       "      <td>8.0</td>\n",
       "      <td>11.0</td>\n",
       "      <td>9.0</td>\n",
       "      <td>6.0</td>\n",
       "      <td>10.0</td>\n",
       "      <td>104700000.0</td>\n",
       "    </tr>\n",
       "    <tr>\n",
       "      <th>66</th>\n",
       "      <td>189596.0</td>\n",
       "      <td>T. Müller</td>\n",
       "      <td>28.0</td>\n",
       "      <td>86.0</td>\n",
       "      <td>86.0</td>\n",
       "      <td>45000000.0</td>\n",
       "      <td>135000.0</td>\n",
       "      <td>4.0</td>\n",
       "      <td>4.0</td>\n",
       "      <td>3.0</td>\n",
       "      <td>0.0</td>\n",
       "      <td>2008.0</td>\n",
       "      <td>2021-12-31</td>\n",
       "      <td>73.0</td>\n",
       "      <td>165.0</td>\n",
       "      <td>79.0</td>\n",
       "      <td>87.0</td>\n",
       "      <td>82.0</td>\n",
       "      <td>83.0</td>\n",
       "      <td>84.0</td>\n",
       "      <td>75.0</td>\n",
       "      <td>81.0</td>\n",
       "      <td>59.0</td>\n",
       "      <td>72.0</td>\n",
       "      <td>82.0</td>\n",
       "      <td>73.0</td>\n",
       "      <td>75.0</td>\n",
       "      <td>75.0</td>\n",
       "      <td>91.0</td>\n",
       "      <td>72.0</td>\n",
       "      <td>78.0</td>\n",
       "      <td>81.0</td>\n",
       "      <td>87.0</td>\n",
       "      <td>68.0</td>\n",
       "      <td>80.0</td>\n",
       "      <td>57.0</td>\n",
       "      <td>58.0</td>\n",
       "      <td>92.0</td>\n",
       "      <td>85.0</td>\n",
       "      <td>60.0</td>\n",
       "      <td>83.0</td>\n",
       "      <td>44.0</td>\n",
       "      <td>41.0</td>\n",
       "      <td>44.0</td>\n",
       "      <td>6.0</td>\n",
       "      <td>7.0</td>\n",
       "      <td>11.0</td>\n",
       "      <td>14.0</td>\n",
       "      <td>14.0</td>\n",
       "      <td>74300000.0</td>\n",
       "    </tr>\n",
       "    <tr>\n",
       "      <th>74</th>\n",
       "      <td>176635.0</td>\n",
       "      <td>M. Özil</td>\n",
       "      <td>29.0</td>\n",
       "      <td>86.0</td>\n",
       "      <td>86.0</td>\n",
       "      <td>43500000.0</td>\n",
       "      <td>190000.0</td>\n",
       "      <td>4.0</td>\n",
       "      <td>2.0</td>\n",
       "      <td>4.0</td>\n",
       "      <td>0.0</td>\n",
       "      <td>2013.0</td>\n",
       "      <td>2021-12-31</td>\n",
       "      <td>71.0</td>\n",
       "      <td>168.0</td>\n",
       "      <td>83.0</td>\n",
       "      <td>73.0</td>\n",
       "      <td>54.0</td>\n",
       "      <td>89.0</td>\n",
       "      <td>80.0</td>\n",
       "      <td>84.0</td>\n",
       "      <td>84.0</td>\n",
       "      <td>77.0</td>\n",
       "      <td>82.0</td>\n",
       "      <td>90.0</td>\n",
       "      <td>72.0</td>\n",
       "      <td>69.0</td>\n",
       "      <td>79.0</td>\n",
       "      <td>84.0</td>\n",
       "      <td>70.0</td>\n",
       "      <td>70.0</td>\n",
       "      <td>48.0</td>\n",
       "      <td>69.0</td>\n",
       "      <td>57.0</td>\n",
       "      <td>75.0</td>\n",
       "      <td>48.0</td>\n",
       "      <td>24.0</td>\n",
       "      <td>83.0</td>\n",
       "      <td>91.0</td>\n",
       "      <td>67.0</td>\n",
       "      <td>82.0</td>\n",
       "      <td>24.0</td>\n",
       "      <td>16.0</td>\n",
       "      <td>19.0</td>\n",
       "      <td>6.0</td>\n",
       "      <td>14.0</td>\n",
       "      <td>10.0</td>\n",
       "      <td>6.0</td>\n",
       "      <td>14.0</td>\n",
       "      <td>82700000.0</td>\n",
       "    </tr>\n",
       "  </tbody>\n",
       "</table>\n",
       "</div>"
      ],
      "text/plain": [
       "          ID             Name   Age  Overall  Potential       Value      Wage  \\\n",
       "17  194765.0     A. Griezmann  27.0     89.0       90.0  78000000.0  145000.0   \n",
       "31  190460.0       C. Eriksen  26.0     88.0       91.0  73500000.0  205000.0   \n",
       "61  201942.0  Roberto Firmino  26.0     86.0       87.0  53000000.0  195000.0   \n",
       "66  189596.0        T. Müller  28.0     86.0       86.0  45000000.0  135000.0   \n",
       "74  176635.0          M. Özil  29.0     86.0       86.0  43500000.0  190000.0   \n",
       "\n",
       "    International Reputation  Weak Foot  Skill Moves  Position  Joined  \\\n",
       "17                       4.0        3.0          4.0       0.0  2014.0   \n",
       "31                       3.0        5.0          4.0       0.0  2013.0   \n",
       "61                       3.0        4.0          4.0       0.0  2015.0   \n",
       "66                       4.0        4.0          3.0       0.0  2008.0   \n",
       "74                       4.0        2.0          4.0       0.0  2013.0   \n",
       "\n",
       "   Contract Valid Until  Height  Weight  Crossing  Finishing  HeadingAccuracy  \\\n",
       "17           2023-12-31    69.0   161.0      82.0       90.0             84.0   \n",
       "31           2020-12-31    71.0   168.0      88.0       80.0             52.0   \n",
       "61           2023-12-31    71.0   168.0      72.0       87.0             77.0   \n",
       "66           2021-12-31    73.0   165.0      79.0       87.0             82.0   \n",
       "74           2021-12-31    71.0   168.0      83.0       73.0             54.0   \n",
       "\n",
       "    ShortPassing  Volleys  Dribbling  Curve  FKAccuracy  LongPassing  \\\n",
       "17          83.0     87.0       88.0   84.0        78.0         76.0   \n",
       "31          91.0     77.0       84.0   86.0        87.0         88.0   \n",
       "61          86.0     81.0       87.0   80.0        65.0         75.0   \n",
       "66          83.0     84.0       75.0   81.0        59.0         72.0   \n",
       "74          89.0     80.0       84.0   84.0        77.0         82.0   \n",
       "\n",
       "    BallControl  Acceleration  SprintSpeed  Agility  Reactions  Balance  \\\n",
       "17         90.0          88.0         85.0     90.0       90.0     80.0   \n",
       "31         91.0          75.0         73.0     79.0       88.0     81.0   \n",
       "61         88.0          78.0         77.0     80.0       86.0     81.0   \n",
       "66         82.0          73.0         75.0     75.0       91.0     72.0   \n",
       "74         90.0          72.0         69.0     79.0       84.0     70.0   \n",
       "\n",
       "    ShotPower  Jumping  Stamina  Strength  LongShots  Aggression  \\\n",
       "17       80.0     90.0     83.0      62.0       82.0        69.0   \n",
       "31       84.0     50.0     92.0      58.0       89.0        46.0   \n",
       "61       81.0     81.0     90.0      74.0       76.0        73.0   \n",
       "66       78.0     81.0     87.0      68.0       80.0        57.0   \n",
       "74       70.0     48.0     69.0      57.0       75.0        48.0   \n",
       "\n",
       "    Interceptions  Positioning  Vision  Penalties  Composure  Marking  \\\n",
       "17           35.0         91.0    83.0       79.0       87.0     59.0   \n",
       "31           56.0         83.0    91.0       67.0       88.0     59.0   \n",
       "61           58.0         87.0    85.0       72.0       87.0     60.0   \n",
       "66           58.0         92.0    85.0       60.0       83.0     44.0   \n",
       "74           24.0         83.0    91.0       67.0       82.0     24.0   \n",
       "\n",
       "    StandingTackle  SlidingTackle  GKDiving  GKHandling  GKKicking  \\\n",
       "17            47.0           48.0      14.0         8.0       14.0   \n",
       "31            57.0           22.0       9.0        14.0        7.0   \n",
       "61            64.0           42.0       8.0        11.0        9.0   \n",
       "66            41.0           44.0       6.0         7.0       11.0   \n",
       "74            16.0           19.0       6.0        14.0       10.0   \n",
       "\n",
       "    GKPositioning  GKReflexes  Release Clause  \n",
       "17           13.0        14.0     165800000.0  \n",
       "31            7.0         6.0     141500000.0  \n",
       "61            6.0        10.0     104700000.0  \n",
       "66           14.0        14.0      74300000.0  \n",
       "74            6.0        14.0      82700000.0  "
      ]
     },
     "execution_count": 533,
     "metadata": {},
     "output_type": "execute_result"
    }
   ],
   "source": [
    "top5 = data.where(data['Position'] == 0).nlargest(5, ['Overall'])\n",
    "top5"
   ]
  },
  {
   "cell_type": "markdown",
   "metadata": {},
   "source": [
    "###  INFERENCE: <font color='blue'>  The above table shows top 5 players with highest overall rating under 'Position' = 0. </font>\n"
   ]
  },
  {
   "cell_type": "code",
   "execution_count": 534,
   "metadata": {},
   "outputs": [
    {
     "name": "stdout",
     "output_type": "stream",
     "text": [
      "               Name  Overall  Position\n",
      "17     A. Griezmann     89.0       0.0\n",
      "31       C. Eriksen     88.0       0.0\n",
      "61  Roberto Firmino     86.0       0.0\n",
      "66        T. Müller     86.0       0.0\n",
      "74          M. Özil     86.0       0.0\n",
      "            Name  Overall  Position\n",
      "12      D. Godín     90.0       1.0\n",
      "42     S. Umtiti     87.0       1.0\n",
      "73    M. Benatia     86.0       1.0\n",
      "89   N. Otamendi     85.0       1.0\n",
      "102        Naldo     85.0       1.0\n",
      "                Name  Overall  Position\n",
      "20   Sergio Busquets     89.0       2.0\n",
      "27          Casemiro     88.0       2.0\n",
      "72         M. Pjanić     86.0       2.0\n",
      "75       Fernandinho     86.0       2.0\n",
      "118          Fabinho     84.0       2.0\n",
      "             Name  Overall  Position\n",
      "271  Luis Alberto     82.0       3.0\n",
      "293   S. Giovinco     82.0       3.0\n",
      "350      A. Milik     81.0       3.0\n",
      "382     L. Stindl     81.0       3.0\n",
      "407       Raffael     81.0       3.0\n",
      "                    Name  Overall  Position\n",
      "67                Thiago     86.0       4.0\n",
      "78   S. Milinković-Savić     85.0       4.0\n",
      "121             Jorginho     84.0       4.0\n",
      "136          I. Gündoğan     84.0       4.0\n",
      "161             N. Keïta     83.0       4.0\n",
      "             Name  Overall  Position\n",
      "3          De Gea     91.0       5.0\n",
      "9        J. Oblak     90.0       5.0\n",
      "18  M. ter Stegen     89.0       5.0\n",
      "19    T. Courtois     89.0       5.0\n",
      "22       M. Neuer     89.0       5.0\n",
      "                 Name  Overall  Position\n",
      "28       J. Rodríguez     88.0       6.0\n",
      "365          D. Tadić     81.0       6.0\n",
      "1587   Fabrio Farinha     75.0       6.0\n",
      "2247  Leo Caldeirinha     74.0       6.0\n",
      "2342  Nicolás Formido     74.0       6.0\n",
      "            Name  Overall  Position\n",
      "35       Marcelo     88.0       7.0\n",
      "49    Jordi Alba     87.0       7.0\n",
      "64   Alex Sandro     86.0       7.0\n",
      "85      D. Alaba     85.0       7.0\n",
      "106  Filipe Luís     85.0       7.0\n",
      "             Name  Overall  Position\n",
      "24   G. Chiellini     89.0       8.0\n",
      "34     M. Hummels     88.0       8.0\n",
      "44   K. Koulibaly     87.0       8.0\n",
      "51  J. Vertonghen     87.0       8.0\n",
      "59    V. van Dijk     86.0       8.0\n",
      "                Name  Overall  Position\n",
      "11          T. Kroos     90.0       9.0\n",
      "13       David Silva     90.0       9.0\n",
      "52         M. Hamšík     87.0       9.0\n",
      "63       M. Verratti     86.0       9.0\n",
      "114  Bruno Fernandes     84.0       9.0\n",
      "            Name  Overall  Position\n",
      "14      N. Kanté     89.0      10.0\n",
      "91      Paulinho     85.0      10.0\n",
      "119   Marquinhos     84.0      10.0\n",
      "217  Lucas Leiva     83.0      10.0\n",
      "323   F. de Jong     81.0      10.0\n",
      "                Name  Overall  Position\n",
      "5          E. Hazard     91.0      11.0\n",
      "15         P. Dybala     89.0      11.0\n",
      "76           Iniesta     86.0      11.0\n",
      "272   Jonathan Viera     82.0      11.0\n",
      "1379       S. Blanco     76.0      11.0\n",
      "             Name  Overall  Position\n",
      "33  P. Aubameyang     88.0      12.0\n",
      "58        S. Mané     86.0      12.0\n",
      "65  Douglas Costa     86.0      12.0\n",
      "68        M. Reus     86.0      12.0\n",
      "86           Koke     85.0      12.0\n",
      "              Name  Overall  Position\n",
      "21       E. Cavani     89.0      13.0\n",
      "38      G. Higuaín     88.0      13.0\n",
      "100    Diego Costa     85.0      13.0\n",
      "151       A. Gómez     84.0      13.0\n",
      "174  Gerard Moreno     83.0      13.0\n",
      "          Name  Overall  Position\n",
      "2    Neymar Jr     92.0      14.0\n",
      "29  L. Insigne     88.0      14.0\n",
      "30        Isco     88.0      14.0\n",
      "32    Coutinho     88.0      14.0\n",
      "55     L. Sané     86.0      14.0\n",
      "          Name  Overall  Position\n",
      "474  N. Schulz     80.0      15.0\n",
      "581    Granell     79.0      15.0\n",
      "601      Jonny     79.0      15.0\n",
      "605  J. Hector     79.0      15.0\n",
      "787  J. Mojica     78.0      15.0\n",
      "                Name  Overall  Position\n",
      "129      J. Cuadrado     84.0      16.0\n",
      "171        H. Ziyech     83.0      16.0\n",
      "1705  Allan Bardinho     75.0      16.0\n",
      "2242    Jacson Zonta     74.0      16.0\n",
      "2322  Sebas Couteira     74.0      16.0\n",
      "              Name  Overall  Position\n",
      "69     Azpilicueta     86.0      17.0\n",
      "123       Carvajal     84.0      17.0\n",
      "135      K. Walker     84.0      17.0\n",
      "192  Sergi Roberto     83.0      17.0\n",
      "216      L. Bender     83.0      17.0\n",
      "            Name  Overall  Position\n",
      "8   Sergio Ramos     91.0      18.0\n",
      "39  Thiago Silva     88.0      18.0\n",
      "54         Piqué     87.0      18.0\n",
      "62     R. Varane     86.0      18.0\n",
      "70    L. Bonucci     86.0      18.0\n",
      "            Name  Overall  Position\n",
      "4   K. De Bruyne     91.0      19.0\n",
      "6      L. Modrić     91.0      19.0\n",
      "53    I. Rakitić     87.0      19.0\n",
      "82    J. Kimmich     85.0      19.0\n",
      "83          Saúl     85.0      19.0\n",
      "             Name  Overall  Position\n",
      "45       P. Pogba     87.0      20.0\n",
      "134  Illarramendi     84.0      20.0\n",
      "198      I. Gueye     83.0      20.0\n",
      "223   D. De Rossi     83.0      20.0\n",
      "298     M. Parolo     82.0      20.0\n",
      "             Name  Overall  Position\n",
      "0        L. Messi     94.0      21.0\n",
      "50     D. Mertens     87.0      21.0\n",
      "528     D. Valeri     80.0      21.0\n",
      "890   L. Podolski     78.0      21.0\n",
      "1774     C. Ciano     75.0      21.0\n",
      "              Name  Overall  Position\n",
      "25       K. Mbappé     88.0      22.0\n",
      "26        M. Salah     88.0      22.0\n",
      "122     F. Thauvin     84.0      22.0\n",
      "137  José Callejón     84.0      22.0\n",
      "138    A. Di María     84.0      22.0\n",
      "               Name  Overall  Position\n",
      "7         L. Suárez     91.0      23.0\n",
      "109  Z. Ibrahimović     85.0      23.0\n",
      "148          Falcao     84.0      23.0\n",
      "267   W. Ben Yedder     82.0      23.0\n",
      "357         S. Zaza     81.0      23.0\n",
      "              Name  Overall  Position\n",
      "56  Bernardo Silva     86.0      24.0\n",
      "60     R. Sterling     86.0      24.0\n",
      "79   Marco Asensio     85.0      24.0\n",
      "84       R. Mahrez     85.0      24.0\n",
      "93      A. Sánchez     85.0      24.0\n",
      "             Name  Overall  Position\n",
      "450     M. Ginter     80.0      25.0\n",
      "465  P. Kadeřábek     80.0      25.0\n",
      "517    S. Coleman     80.0      25.0\n",
      "652  D. Caligiuri     79.0      25.0\n",
      "766  Pablo Maffeo     78.0      25.0\n",
      "                 Name  Overall  Position\n",
      "1   Cristiano Ronaldo     94.0      26.0\n",
      "10     R. Lewandowski     90.0      26.0\n",
      "16            H. Kane     89.0      26.0\n",
      "23          S. Agüero     89.0      26.0\n",
      "36            G. Bale     88.0      26.0\n"
     ]
    }
   ],
   "source": [
    "for i in range(len(data['Position'].unique())):\n",
    "    print(data[['Name','Overall','Position']].where(data['Position'] == i).nlargest(5, ['Overall']))"
   ]
  },
  {
   "cell_type": "markdown",
   "metadata": {},
   "source": [
    "###  INFERENCE: <font color='blue'> Similarly, we can find top 5 players with highest overall rating for rest  26 Positions using 'for loop' . To avoid confusion we chose only 3 features: 'Name','Overall','Position' to be printed.</font>\n"
   ]
  },
  {
   "cell_type": "code",
   "execution_count": 535,
   "metadata": {},
   "outputs": [],
   "source": [
    "tables=[]\n",
    "for i in range(len(data['Position'].unique())):\n",
    "    tables.append(data.where(data['Position'] == i).nlargest(5, ['Overall']))"
   ]
  },
  {
   "cell_type": "markdown",
   "metadata": {},
   "source": [
    "###  INFERENCE: <font color='blue'> We can also store the same  result in a list.</font>"
   ]
  },
  {
   "cell_type": "markdown",
   "metadata": {},
   "source": [
    "####  a)\tAre there any players appearing in more than one Table. Please point out such players."
   ]
  },
  {
   "cell_type": "code",
   "execution_count": 536,
   "metadata": {},
   "outputs": [
    {
     "name": "stdout",
     "output_type": "stream",
     "text": [
      "No, there are no players in more than one table\n"
     ]
    }
   ],
   "source": [
    "uniq_pos= data['Position'].unique()\n",
    "a=[]\n",
    "for i in uniq_pos:\n",
    "    if (data[data['ID']==i]['Position'].count()>=2):\n",
    "        a.append(i)\n",
    "if a==[]:\n",
    "    print('No, there are no players in more than one table') \n",
    "else:\n",
    "    print('Yes, there are players in more than one table', a)"
   ]
  },
  {
   "cell_type": "markdown",
   "metadata": {},
   "source": [
    "###  INFERENCE: <font color='blue'> From the above result, it is clear that there is no player appearing in more than 1 table.</font>\n"
   ]
  },
  {
   "cell_type": "markdown",
   "metadata": {},
   "source": [
    "#### b)\t What is the average wage one can expect to pay for the top 5 in every position?"
   ]
  },
  {
   "cell_type": "code",
   "execution_count": 537,
   "metadata": {},
   "outputs": [
    {
     "name": "stdout",
     "output_type": "stream",
     "text": [
      "Total number of unique positions: 27\n",
      "Average wage for top 5 players in 21 position=: 148000.0\n",
      "Average wage for top 5 players in 26 position=: 294000.0\n",
      "Average wage for top 5 players in 14 position=: 261000.0\n",
      "Average wage for top 5 players in 5 position=: 192800.0\n",
      "Average wage for top 5 players in 19 position=: 240800.0\n",
      "Average wage for top 5 players in 11 position=: 121200.0\n",
      "Average wage for top 5 players in 23 position=: 132200.0\n",
      "Average wage for top 5 players in 18 position=: 231000.0\n",
      "Average wage for top 5 players in 9 position=: 184400.0\n",
      "Average wage for top 5 players in 1 position=: 139600.0\n",
      "Average wage for top 5 players in 10 position=: 126600.0\n",
      "Average wage for top 5 players in 0 position=: 174000.0\n",
      "Average wage for top 5 players in 2 position=: 217000.0\n",
      "Average wage for top 5 players in 13 position=: 130200.0\n",
      "Average wage for top 5 players in 8 position=: 162000.0\n",
      "Average wage for top 5 players in 22 position=: 131400.0\n",
      "Average wage for top 5 players in 6 position=: 81600.0\n",
      "Average wage for top 5 players in 12 position=: 164600.0\n",
      "Average wage for top 5 players in 7 position=: 177200.0\n",
      "Average wage for top 5 players in 20 position=: 105000.0\n",
      "Average wage for top 5 players in 24 position=: 202000.0\n",
      "Average wage for top 5 players in 4 position=: 130600.0\n",
      "Average wage for top 5 players in 17 position=: 155400.0\n",
      "Average wage for top 5 players in 16 position=: 45400.0\n",
      "Average wage for top 5 players in 3 position=: 47400.0\n",
      "Average wage for top 5 players in 25 position=: 44200.0\n",
      "Average wage for top 5 players in 15 position=: 34200.0\n"
     ]
    }
   ],
   "source": [
    "position = list(data['Position'].unique()) \n",
    "print('Total number of unique positions:', len(position))\n",
    "for i in position:\n",
    "    print('Average wage for top 5 players in',i,'position=:',data[data['Position']==i]['Wage'].head(5).mean())"
   ]
  },
  {
   "cell_type": "markdown",
   "metadata": {},
   "source": [
    "###  INFERENCE: <font color='blue'> Above result clearly shows average wage for top 5 players in each position.</font>"
   ]
  },
  {
   "cell_type": "code",
   "execution_count": null,
   "metadata": {},
   "outputs": [],
   "source": []
  }
 ],
 "metadata": {
  "kernelspec": {
   "display_name": "Python 3",
   "language": "python",
   "name": "python3"
  },
  "language_info": {
   "codemirror_mode": {
    "name": "ipython",
    "version": 3
   },
   "file_extension": ".py",
   "mimetype": "text/x-python",
   "name": "python",
   "nbconvert_exporter": "python",
   "pygments_lexer": "ipython3",
   "version": "3.7.6"
  }
 },
 "nbformat": 4,
 "nbformat_minor": 4
}
