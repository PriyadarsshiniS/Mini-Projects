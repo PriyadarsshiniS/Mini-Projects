{
 "cells": [
  {
   "cell_type": "markdown",
   "metadata": {},
   "source": [
    "# Assignment 2 - Probability and Statistics (25 marks)"
   ]
  },
  {
   "cell_type": "markdown",
   "metadata": {},
   "source": [
    "##### Import the required Libararies "
   ]
  },
  {
   "cell_type": "markdown",
   "metadata": {},
   "source": [
    "Write the inference for all the questions"
   ]
  },
  {
   "cell_type": "code",
   "execution_count": 2,
   "metadata": {},
   "outputs": [],
   "source": [
    "import numpy as np\n",
    "import pandas as pd\n",
    "import scipy.stats as stats\n",
    "from matplotlib import pyplot as plt\n",
    "import warnings\n",
    "import seaborn as sns\n",
    "warnings.filterwarnings(\"ignore\")"
   ]
  },
  {
   "cell_type": "markdown",
   "metadata": {},
   "source": [
    "<span style=\"font-family: Arial; font-weight:bold;font-size:1.5em;\">1. In a library 50 books are selected at random.On an average 1 out of 10 books is a statistics book. . (5 marks)\n",
    "\n",
    "i) Probability of getting exactly 3 statistics book.\n",
    "\n",
    "ii) Probability of getting atleast 3 statistics book.\n",
    "\n",
    "iii) Probability of getting atmost 3 statistics book.\n",
    "\n",
    "iv) Probability of getting between 3 and 10 statistics book.\n",
    "\n",
    "v)  Plot the distribution graph.\n",
    "\n",
    "[Note: Think what kind of distribution equation we need to use to solve all the above questions]\n"
   ]
  },
  {
   "cell_type": "markdown",
   "metadata": {},
   "source": [
    "**i) Probability of getting exactly 3 statistics book.**"
   ]
  },
  {
   "cell_type": "code",
   "execution_count": 3,
   "metadata": {},
   "outputs": [
    {
     "data": {
      "text/plain": [
       "0.13856514960695693"
      ]
     },
     "execution_count": 3,
     "metadata": {},
     "output_type": "execute_result"
    }
   ],
   "source": [
    "# pmf- probability exactly at a point\n",
    "\n",
    "# x= exactly 3 statistics book.\n",
    "# n= 50 total no of books\n",
    "# p= 0.1 (1 out of 10 books is a statistics book)\n",
    "\n",
    "stats.binom.pmf(3,50,0.1)  "
   ]
  },
  {
   "cell_type": "markdown",
   "metadata": {},
   "source": [
    "###  INFERENCE:   <font color='green'> Probability of getting exactly 3 statistics books out of 50 books is 13%. </font>"
   ]
  },
  {
   "cell_type": "markdown",
   "metadata": {},
   "source": [
    "**ii) Probability of getting atleast 3 statistics book**"
   ]
  },
  {
   "cell_type": "code",
   "execution_count": 4,
   "metadata": {},
   "outputs": [
    {
     "data": {
      "text/plain": [
       "0.7497060940466924"
      ]
     },
     "execution_count": 4,
     "metadata": {},
     "output_type": "execute_result"
    }
   ],
   "source": [
    "#cdf- cumulative distribution\n",
    "1-stats.binom.cdf(3,50,0.1)"
   ]
  },
  {
   "cell_type": "markdown",
   "metadata": {},
   "source": [
    "###  INFERENCE:   <font color='green'> Probability of getting atleast 3 statistics books out of 50 books is 74%. </font>"
   ]
  },
  {
   "cell_type": "markdown",
   "metadata": {},
   "source": [
    "**iii) Probability of getting atmost 3 statistics book.**"
   ]
  },
  {
   "cell_type": "code",
   "execution_count": 5,
   "metadata": {},
   "outputs": [
    {
     "data": {
      "text/plain": [
       "0.2502939059533075"
      ]
     },
     "execution_count": 5,
     "metadata": {},
     "output_type": "execute_result"
    }
   ],
   "source": [
    "#cdf- cumulative distribution\n",
    "stats.binom.cdf(3,50,0.1)"
   ]
  },
  {
   "cell_type": "markdown",
   "metadata": {},
   "source": [
    "###  INFERENCE:   <font color='green'> Probability of getting atmost 3 statistics books out of 50 books is 25%. </font>"
   ]
  },
  {
   "cell_type": "markdown",
   "metadata": {},
   "source": [
    "**iv) Probability of getting between 3 and 10 statistics book.**"
   ]
  },
  {
   "cell_type": "code",
   "execution_count": 6,
   "metadata": {},
   "outputs": [
    {
     "data": {
      "text/plain": [
       "0.7403514924593635"
      ]
     },
     "execution_count": 6,
     "metadata": {},
     "output_type": "execute_result"
    }
   ],
   "source": [
    "#cdf- cumulative distribution\n",
    "stats.binom.cdf(10,50,0.1) - stats.binom.cdf(3,50,0.1)"
   ]
  },
  {
   "cell_type": "markdown",
   "metadata": {},
   "source": [
    "###  INFERENCE:   <font color='green'> Probability of getting between 3 to 10 statistics books out of 50 books is 74%. </font>"
   ]
  },
  {
   "cell_type": "markdown",
   "metadata": {},
   "source": [
    "**v)  Plot the distribution graph.**"
   ]
  },
  {
   "cell_type": "code",
   "execution_count": 7,
   "metadata": {},
   "outputs": [
    {
     "name": "stdout",
     "output_type": "stream",
     "text": [
      "Probability at each data point = [2.86320845e-02 7.79428967e-02 1.38565150e-01 1.80904501e-01\n",
      " 1.84924601e-01 1.54103834e-01 1.07628075e-01 6.42778779e-02\n",
      " 3.33292700e-02 1.51833341e-02 6.13468045e-03 2.21530127e-03\n",
      " 7.19499559e-04 2.11281617e-04 5.63417644e-05 1.36941789e-05\n",
      " 3.04315086e-06 6.19901100e-07 1.16004884e-07 1.99786190e-08\n",
      " 3.17120936e-09 4.64470058e-10 6.28268677e-11 7.85335846e-12\n",
      " 9.07499200e-13 9.69550427e-14 9.57580669e-15 8.73982356e-16\n",
      " 7.36690109e-17 5.72981196e-18 4.10739208e-19 2.70973783e-20\n",
      " 1.64226535e-21 9.12369641e-23 4.63425849e-24 2.14549004e-25\n",
      " 9.02007826e-27 3.42868472e-28 1.17219990e-29 3.58172193e-31\n",
      " 9.70656349e-33 2.31108655e-34 4.77743989e-36 8.44496950e-38\n",
      " 1.25110659e-39 1.51099830e-41 1.42884000e-43 9.92250000e-46\n",
      " 4.50000000e-48 1.00000000e-50]\n"
     ]
    },
    {
     "data": {
      "text/plain": [
       "[<matplotlib.lines.Line2D at 0x238cde86cc8>]"
      ]
     },
     "execution_count": 7,
     "metadata": {},
     "output_type": "execute_result"
    },
    {
     "data": {
      "image/png": "[encoded data removed]",
      "text/plain": [
       "<Figure size 432x288 with 1 Axes>"
      ]
     },
     "metadata": {
      "needs_background": "light"
     },
     "output_type": "display_data"
    }
   ],
   "source": [
    "x=np.arange(1,51)\n",
    "prob=stats.binom.pmf(x,50,0.1)\n",
    "print(\"Probability at each data point =\",prob)\n",
    "plt.plot(prob)"
   ]
  },
  {
   "cell_type": "markdown",
   "metadata": {},
   "source": [
    "###  INFERENCE:   <font color='green'> As the Statistics books are taken in random and has only 2 possibilities either statistics book or not a statistics book, we are taking Binomial distribution to find the probablity.</font>"
   ]
  },
  {
   "cell_type": "markdown",
   "metadata": {},
   "source": [
    "<span style=\"font-family: Arial; font-weight:bold;font-size:1.5em;\"> 2. In a village, the average number of people affected by corona virus in a day is 5.(5 marks)\n",
    "\n",
    "Find the probability of the following:\n",
    "\n",
    "(i) exactly 2 persons suffer.\n",
    "\n",
    "(ii) atleast 2 persons suffer.\n",
    "\n",
    "(iii) atmost 2 persons suffer.\n",
    "\n",
    "(iv) between 2 and 5 persons suffer. \n",
    "\n",
    "(v ) Plot the Distribution\n",
    "    \n",
    "[Note: Think what kind of distribution equation we need to use to solve all the above questions]\n",
    "\n"
   ]
  },
  {
   "cell_type": "markdown",
   "metadata": {},
   "source": [
    "**(i) exactly 2 persons suffer.**"
   ]
  },
  {
   "cell_type": "code",
   "execution_count": 8,
   "metadata": {},
   "outputs": [
    {
     "data": {
      "text/plain": [
       "0.08422433748856832"
      ]
     },
     "execution_count": 8,
     "metadata": {},
     "output_type": "execute_result"
    }
   ],
   "source": [
    "# pmf- probability exactly at a point\n",
    "\n",
    "# x = exactly 2 people suffer.\n",
    "# lambda = 5 (avg no of people affected by corona) \n",
    "\n",
    "# poison.pmf(x,lambda)\n",
    "\n",
    "stats.poisson.pmf(2,5) "
   ]
  },
  {
   "cell_type": "markdown",
   "metadata": {},
   "source": [
    "###  INFERENCE:   <font color='green'> Probability of exactly 2 people suffering with corona virus is 8.4%.</font>"
   ]
  },
  {
   "cell_type": "markdown",
   "metadata": {},
   "source": [
    "**(ii) atleast 2 persons suffer.**"
   ]
  },
  {
   "cell_type": "code",
   "execution_count": 9,
   "metadata": {},
   "outputs": [
    {
     "data": {
      "text/plain": [
       "0.8753479805169189"
      ]
     },
     "execution_count": 9,
     "metadata": {},
     "output_type": "execute_result"
    }
   ],
   "source": [
    "# cdf- cumulative distribution\n",
    "# x = exactly 2 people suffer.\n",
    "# lambda = 5 (avg no of people affected by corona)\n",
    "# atleast 2 --> minimum 2 peple to avg no of people suffer\n",
    "\n",
    "1-stats.poisson.cdf(2,5) "
   ]
  },
  {
   "cell_type": "markdown",
   "metadata": {},
   "source": [
    "###  INFERENCE:   <font color='green'> Probability of atleast 2 people suffering with corona virus is 87%.</font>"
   ]
  },
  {
   "cell_type": "markdown",
   "metadata": {},
   "source": [
    "**(iii) atmost 2 persons suffer.**"
   ]
  },
  {
   "cell_type": "code",
   "execution_count": 10,
   "metadata": {},
   "outputs": [
    {
     "data": {
      "text/plain": [
       "0.12465201948308108"
      ]
     },
     "execution_count": 10,
     "metadata": {},
     "output_type": "execute_result"
    }
   ],
   "source": [
    "# cdf- cumulative distribution\n",
    "# x = exactly 2 people suffer.\n",
    "# lambda = 5 (avg no of people affected by corona)\n",
    "# atmost 2 --> maximum 2 people suffer\n",
    "\n",
    "stats.poisson.cdf(2,5) "
   ]
  },
  {
   "cell_type": "markdown",
   "metadata": {},
   "source": [
    "###  INFERENCE:   <font color='green'> Probability of atmost 2 people suffering with corona virus is 12%.</font>"
   ]
  },
  {
   "cell_type": "markdown",
   "metadata": {},
   "source": [
    "**(iv) between 2 and 5 persons suffer.**"
   ]
  },
  {
   "cell_type": "code",
   "execution_count": 11,
   "metadata": {},
   "outputs": [
    {
     "data": {
      "text/plain": [
       "0.49130863534998187"
      ]
     },
     "execution_count": 11,
     "metadata": {},
     "output_type": "execute_result"
    }
   ],
   "source": [
    "# cdf- cumulative distribution\n",
    "# x = exactly 2 people suffer.\n",
    "# lambda = 5 (avg no of people affected by corona)\n",
    "\n",
    "\n",
    "stats.poisson.cdf(5,5) - stats.poisson.cdf(2,5) "
   ]
  },
  {
   "cell_type": "markdown",
   "metadata": {},
   "source": [
    "###  INFERENCE:   <font color='green'> Probability of 2 to 5 people suffering with corona virus is 49%.</font>"
   ]
  },
  {
   "cell_type": "markdown",
   "metadata": {},
   "source": [
    "**(v) Plot the Distribution**"
   ]
  },
  {
   "cell_type": "code",
   "execution_count": 12,
   "metadata": {},
   "outputs": [
    {
     "name": "stdout",
     "output_type": "stream",
     "text": [
      "Probability at each data point = [0.03368973 0.08422434 0.1403739  0.17546737 0.17546737]\n"
     ]
    },
    {
     "data": {
      "text/plain": [
       "[<matplotlib.lines.Line2D at 0x238d00ef448>]"
      ]
     },
     "execution_count": 12,
     "metadata": {},
     "output_type": "execute_result"
    },
    {
     "data": {
      "image/png": "[encoded data removed]",
      "text/plain": [
       "<Figure size 432x288 with 1 Axes>"
      ]
     },
     "metadata": {
      "needs_background": "light"
     },
     "output_type": "display_data"
    }
   ],
   "source": [
    "x=np.arange(1,6)\n",
    "prob=stats.poisson.pmf(x,5)\n",
    "print(\"Probability at each data point =\",prob)\n",
    "plt.plot(prob)"
   ]
  },
  {
   "cell_type": "markdown",
   "metadata": {},
   "source": [
    "###  INFERENCE:  <font color='green'> As the data of Corona affected people is taken over a period of time with event of occurence i.e, 5 people are affected by corona on an average in a day, we are considering poisson distribution to find the probablity.</font>"
   ]
  },
  {
   "cell_type": "markdown",
   "metadata": {},
   "source": [
    "<span style=\"font-family: Arial; font-weight:bold;font-size:1.5em;\">3.The piston pressure in a randomly selected bike is normally distributed with mean value of 28 psi and standard deviation of 0.7 psi. (3 marks)\n",
    "\n",
    "\n",
    "What is the probability that the pressure for a randomly selected piston:\n",
    "\n",
    "(a) between 25 and 29 psi \n",
    "\n",
    "(b) less than 30 psi\n",
    "\n",
    "(c) greater than 30.5 psi  "
   ]
  },
  {
   "cell_type": "markdown",
   "metadata": {},
   "source": [
    "**(a) between 25 and 29 psi**"
   ]
  },
  {
   "cell_type": "code",
   "execution_count": 13,
   "metadata": {},
   "outputs": [
    {
     "data": {
      "text/plain": [
       "0.9234271668415907"
      ]
     },
     "execution_count": 13,
     "metadata": {},
     "output_type": "execute_result"
    }
   ],
   "source": [
    "# between 25 & 29 psi\n",
    "# norm() can take only z score value\n",
    "# zscore = (xi - sample_mean)/sample_std\n",
    "\n",
    "mean=28\n",
    "std=0.7\n",
    "z25=(25-28)/0.7\n",
    "z29=(29-28)/0.7\n",
    "stats.norm.cdf(z29)-stats.norm.cdf(z25)"
   ]
  },
  {
   "cell_type": "markdown",
   "metadata": {},
   "source": [
    "###  INFERENCE:  <font color='green'>Probability that the pressure for a randomly selected piston is between 25 and 29 psi is 92% .</font>"
   ]
  },
  {
   "cell_type": "markdown",
   "metadata": {},
   "source": [
    "**(b) less than 30 psi**"
   ]
  },
  {
   "cell_type": "code",
   "execution_count": 14,
   "metadata": {},
   "outputs": [
    {
     "data": {
      "text/plain": [
       "0.9978626330199137"
      ]
     },
     "execution_count": 14,
     "metadata": {},
     "output_type": "execute_result"
    }
   ],
   "source": [
    "# less than 30 psi\n",
    "# norm() can take only z score value\n",
    "mean=28\n",
    "std=0.7\n",
    "z30=(30-28)/0.7\n",
    "stats.norm.cdf(z30)"
   ]
  },
  {
   "cell_type": "markdown",
   "metadata": {},
   "source": [
    "###  INFERENCE:  <font color='green'>Probability that the pressure for a randomly selected piston is less than 30 psi is 99% .</font>"
   ]
  },
  {
   "cell_type": "markdown",
   "metadata": {},
   "source": [
    "**(c) greater than 30.5 psi**"
   ]
  },
  {
   "cell_type": "code",
   "execution_count": 15,
   "metadata": {},
   "outputs": [
    {
     "data": {
      "text/plain": [
       "0.00017751969037349546"
      ]
     },
     "execution_count": 15,
     "metadata": {},
     "output_type": "execute_result"
    }
   ],
   "source": [
    "# greater than 30.5 psi\n",
    "\n",
    "mean=28\n",
    "std=0.7\n",
    "z30_5 =(30.5-28)/0.7\n",
    "1-stats.norm.cdf(z30_5)"
   ]
  },
  {
   "cell_type": "markdown",
   "metadata": {},
   "source": [
    "###  INFERENCE:  <font color='green'> Probability that the pressure for a randomly selected piston is greater than 30 psi is 0.017% (extremely low probability). </font>\n",
    "\n",
    "###  INFERENCE:  <font color='red'>Since the normal distribution is a continuous distribution, the area under the curve (cumulative distribution) represents the probabilities. Mean gives us average and standard Deviation tells us how “spread out” the data is.To find probability of a value occurring within a range in a normal distribution, we just need to find the area under the curve in that range.</font>"
   ]
  },
  {
   "cell_type": "markdown",
   "metadata": {},
   "source": [
    "<span style=\"font-family: Arial; font-weight:bold;font-size:1.2em;\">A sample of 400 bulbs is manufactued found to have a mean lifetime is 171.38 hrs. Can it\n",
    "reasonably be regarded as a large population with mean  more than 173 hrs\n",
    "and standard deviation of 3.3 hrs so that company can make profit(Test at 5% significance level).Will company make profit? Assume data is normally distributed. (2 marks)"
   ]
  },
  {
   "cell_type": "markdown",
   "metadata": {},
   "source": [
    "**Ho: Lifetime of bulbs is less than or equal to 173 hrs.**\n",
    "\n",
    "**Ha: Lifetime of bulbs is more than 173 hrs.**"
   ]
  },
  {
   "cell_type": "code",
   "execution_count": 16,
   "metadata": {},
   "outputs": [
    {
     "name": "stdout",
     "output_type": "stream",
     "text": [
      "critical value (alpha) = -1.6448536269514729\n",
      "z_stat= -9.818181818181847\n",
      "pval (evidence/probability for H0)= 1.0\n",
      "Failed to reject Null Hyp H0\n",
      "Lifetime of bulbs is <= 173 hrs (less than or equal).\n"
     ]
    }
   ],
   "source": [
    "# Step 1: Determine Null hypothesis and alternate hypothesis\n",
    "h0=\"Lifetime of bulbs is <= 173 hrs (less than or equal).\"\n",
    "ha=\"Lifetime of bulbs is  > 173 hrs (more than).\"\n",
    "\n",
    "# Step 2:\n",
    "# Level of significance : 0.05\n",
    "# Lets find critical value for this level of significance\n",
    "print(\"critical value (alpha) =\",stats.norm.ppf(0.05))\n",
    "\n",
    "# Step 3:\n",
    "# Lets calculate z stat since n is 400.\n",
    "n=400\n",
    "sample_mean=171.38\n",
    "hyp_mean=173\n",
    "sample_sd=3.3\n",
    "z_stat=(sample_mean-hyp_mean)/(sample_sd/np.sqrt(n))\n",
    "print(\"z_stat=\",z_stat)\n",
    "\n",
    "# For RIGHT TAIL TEST --> pval= 1-pval\n",
    "pval=stats.norm.cdf(z_stat)\n",
    "pval=1-pval\n",
    "# pval is the evidence(probability) for H0\n",
    "print(\"pval (evidence/probability for H0)=\", pval)\n",
    "\n",
    "if pval > 0.05:\n",
    "    print(\"Failed to reject Null Hyp H0\")\n",
    "    print(h0)\n",
    "else:\n",
    "    print(\"Reject Null Hyp / We can go with Alternate Hyp Ha\")\n",
    "    print(ha)\n"
   ]
  },
  {
   "cell_type": "markdown",
   "metadata": {},
   "source": [
    "###  INFERENCE:  <font color='green'> Since pval is greater than 0.05, we say that it  failed to reject Null Hypothesis H0 i.e., average lifetime of bulb is <= 173 hrs (less than or equal).</font>"
   ]
  },
  {
   "cell_type": "markdown",
   "metadata": {},
   "source": [
    "<span style=\"font-family: Arial; font-weight:bold;font-size:1.2em;\">The data of weight loss program is given below.Find whether gender has any effect in weight loss. (2 marks)\n",
    "\n",
    "\n",
    "\n",
    "\n",
    "Weight_loss_Male   = [ 3.69, 4.12, 4.65, 3.19,  4.34, 3.68, 4.12, 4.50, 3.70, 3.09,3.65, 4.73, 3.93, 3.46, 3.28, 4.43, 4.13, 3.62, 3.71, 2.92]\n",
    "\n",
    "Weight_loss_Female = [2.99, 1.80, 3.79, 4.12, 1.76, 3.50, 3.61, 2.32, 3.67, 4.26, 4.57, 3.01, 3.82, 4.33, 3.40, 3.86]\n",
    "\n",
    "Calculate the test statistic and p value manually and compare with the inbuilt function.\n",
    "    \n",
    "**Note: Assume data is normally distributed**"
   ]
  },
  {
   "cell_type": "code",
   "execution_count": 17,
   "metadata": {},
   "outputs": [],
   "source": [
    "male = [ 3.69, 4.12, 4.65, 3.19, 4.34, 3.68, 4.12, 4.50, 3.70, 3.09,\n",
    "                     3.65, 4.73, 3.93, 3.46, 3.28, 4.43, 4.13, 3.62, 3.71, 2.92]\n",
    "female = [2.99, 1.80, 3.79, 4.12, 1.76, 3.50, 3.61, 2.32, 3.67, 4.26, \n",
    "                      4.57, 3.01, 3.82, 4.33, 3.40, 3.86]"
   ]
  },
  {
   "cell_type": "code",
   "execution_count": 18,
   "metadata": {},
   "outputs": [
    {
     "name": "stdout",
     "output_type": "stream",
     "text": [
      "Variance of 'Weight lost by male'= 0.25942100000000007\n",
      "Variance of 'Weight lost by female'= 0.680287109375\n",
      "Ratio between variance:  2.6223286063001834\n"
     ]
    }
   ],
   "source": [
    "H0 = \"Avg weight loss of male = avg weight loss of female.\"\n",
    "Ha = \"Avg weight loss of male != avg weight loss of femle.\"\n",
    "\n",
    "male_arr=np.array(male)\n",
    "female_arr=np.array(female)\n",
    "\n",
    "# Print the variance of both data groups\n",
    "print(\"Variance of 'Weight lost by male'=\", np.var(male_arr))\n",
    "print(\"Variance of 'Weight lost by female'=\", np.var(female_arr))\n",
    "\n",
    "\n",
    "print(\"Ratio between variance: \", np.var(female_arr)/np.var(male_arr))\n"
   ]
  },
  {
   "cell_type": "markdown",
   "metadata": {},
   "source": [
    "###  INFERENCE:  <font color='green'>  Since ratio of 2 variances is  less than 4, we can perform Two-Sample T-Test with 'equal_var = True'  (it takes 'True' by default). </font>"
   ]
  },
  {
   "cell_type": "code",
   "execution_count": 19,
   "metadata": {},
   "outputs": [
    {
     "name": "stdout",
     "output_type": "stream",
     "text": [
      "tstat= 1.827188295981286\n",
      "pval= 0.0764604205335295\n",
      "Failed to reject Null Hyp H0.\n",
      "Avg weight loss of male = avg weight loss of female.\n",
      "Gender has no effect in weight loss.\n"
     ]
    }
   ],
   "source": [
    "tstat,pval=stats.ttest_ind(male,female)\n",
    "print(\"tstat=\", tstat)\n",
    "print(\"pval=\", pval)\n",
    "\n",
    "if pval>0.05:\n",
    "    print(\"Failed to reject Null Hyp H0.\")\n",
    "    print(H0)\n",
    "    print(\"Gender has no effect in weight loss.\")\n",
    "else:\n",
    "    print(\"Reject Null Hyp / We can go with Alternate Hyp Ha.\")\n",
    "    print(Ha)\n",
    "    print(\"Gender has effect in weight loss.\")"
   ]
  },
  {
   "cell_type": "markdown",
   "metadata": {},
   "source": [
    "###  INFERENCE:  <font color='green'> Since pval is greater than 0.05 , we can say that it  <font color='red'>Failed to reject Null Hypothesis H0.</font> This means that gender has no effective in weight loss . i.e., Average weight loss of male is equal to average weight loss of female. </font>"
   ]
  },
  {
   "cell_type": "markdown",
   "metadata": {},
   "source": [
    "<span style=\"font-family: Arial; font-weight:bold;font-size:1.2em;\"> The data of weight gain program is given below.Find whether the program is effective. (2 marks)\n",
    "    \n",
    "\n",
    "Weight_before =[52, 56, 61, 47, 58, 52, 56, 60, 52, 46, 51, 62, 54, 50, 48, 59, 56, 51, 52, 44, 52, 45, 57, 60, 45]\n",
    "\n",
    "Weight_after  =[62, 64, 40, 65, 76, 82, 53, 68, 77, 60, 69, 34, 69, 73, 67, 82, 62, 49, 44, 43, 77, 61, 67, 67, 54]\n",
    "\n",
    "**Note: Assume data is normally distributed and have equal variance.**"
   ]
  },
  {
   "cell_type": "code",
   "execution_count": 20,
   "metadata": {},
   "outputs": [],
   "source": [
    "Weight_before=[52, 56, 61, 47, 58, 52, 56, 60, 52, 46, 51, 62, 54, 50, \n",
    "                48, 59, 56, 51, 52, 44, 52, 45, 57, 60, 45]\n",
    "\n",
    "Weight_after=[62, 64, 40, 65, 76, 82, 53, 68, 77, 60, 69, 34, 69, 73, \n",
    "                67, 82, 62, 49, 44, 43, 77, 61, 67, 67, 54]\n"
   ]
  },
  {
   "cell_type": "code",
   "execution_count": 21,
   "metadata": {},
   "outputs": [
    {
     "name": "stdout",
     "output_type": "stream",
     "text": [
      "Variance of 'Weight before'= 27.558400000000002\n",
      "Variance of 'Weight after'= 162.08\n",
      "Ratio between variance:  5.881328379006038\n"
     ]
    }
   ],
   "source": [
    "H0 = \"Avg weight loss before program = avg weight loss after program.\"\n",
    "Ha = \"Avg weight loss before program != avg weight loss after program.\"\n",
    "\n",
    "w_before= np.array(Weight_before)\n",
    "w_after= np.array(Weight_after)\n",
    "\n",
    "# Print the variance of both data groups\n",
    "print(\"Variance of 'Weight before'=\", np.var(w_before))\n",
    "print(\"Variance of 'Weight after'=\", np.var(w_after))\n",
    "\n",
    "print(\"Ratio between variance: \", np.var(w_after)/np.var(w_before))"
   ]
  },
  {
   "cell_type": "markdown",
   "metadata": {},
   "source": [
    "###  INFERENCE:  <font color='green'>  Since ratio of 2 variances is  greater than 4, we can conduct Welch's t-Test by making equal_var = False. </font>"
   ]
  },
  {
   "cell_type": "code",
   "execution_count": 22,
   "metadata": {},
   "outputs": [
    {
     "name": "stdout",
     "output_type": "stream",
     "text": [
      "tstat= -3.4009509774290745\n",
      "pval= 0.0018213716687280747\n",
      "Reject Null Hyp / We can go with Alternate Hyp Ha.\n",
      "Avg weight loss before program != avg weight loss after program.\n",
      "Program is effective.\n"
     ]
    }
   ],
   "source": [
    "tstat,pval=stats.ttest_ind(Weight_before,Weight_after,equal_var=False)\n",
    "print(\"tstat=\", tstat)\n",
    "print(\"pval=\", pval)\n",
    "\n",
    "if pval>0.05:\n",
    "    print(\"Failed to reject Null Hyp H0.\")\n",
    "    print(H0)\n",
    "    print(\"Program is not effective.\")\n",
    "else:\n",
    "    print(\"Reject Null Hyp / We can go with Alternate Hyp Ha.\")\n",
    "    print(Ha)\n",
    "    print(\"Program is effective.\")"
   ]
  },
  {
   "cell_type": "markdown",
   "metadata": {},
   "source": [
    "###  INFERENCE:  <font color='green'> Since pval is less than 0.05 , we can <font color='red'> Reject Null Hyp / We can go with Alternate Hyp Ha.</font> This means that weight loss program is effective. i.e., Average weight loss before program is not equal to average weight loss after program. </font>"
   ]
  },
  {
   "cell_type": "markdown",
   "metadata": {},
   "source": [
    "# Parkinson Data Statistical Analysis"
   ]
  },
  {
   "cell_type": "markdown",
   "metadata": {},
   "source": [
    "**Attribute Information:**\n",
    "\n",
    "Matrix column entries (attributes):\n",
    "\n",
    "name - ASCII subject name and recording number\n",
    "\n",
    "MDVP:Fo(Hz) - Average vocal fundamental frequency\n",
    "\n",
    "MDVP:Fhi(Hz) - Maximum vocal fundamental frequency\n",
    "\n",
    "MDVP:Flo(Hz) - Minimum vocal fundamental frequency\n",
    "\n",
    "MDVP:Jitter(%),MDVP:Jitter(Abs),MDVP:RAP,MDVP:PPQ,Jitter:DDP - Several measures of variation in fundamental frequency\n",
    "\n",
    "MDVP:Shimmer,MDVP:Shimmer(dB),Shimmer:APQ3,Shimmer:APQ5,MDVP:APQ,Shimmer:DDA - Several measures of variation in amplitude\n",
    "\n",
    "NHR,HNR - Two measures of ratio of noise to tonal components in the voice\n",
    "\n",
    "status - Health status of the subject (one) - Parkinson's, (zero) - healthy\n",
    "\n",
    "RPDE,D2 - Two nonlinear dynamical complexity measures\n",
    "\n",
    "DFA - Signal fractal scaling exponent\n",
    "\n",
    "spread1,spread2,PPE - Three nonlinear measures of fundamental frequency variation"
   ]
  },
  {
   "cell_type": "markdown",
   "metadata": {},
   "source": [
    "#### Reading file"
   ]
  },
  {
   "cell_type": "code",
   "execution_count": 46,
   "metadata": {},
   "outputs": [
    {
     "data": {
      "text/html": [
       "<div>\n",
       "<style scoped>\n",
       "    .dataframe tbody tr th:only-of-type {\n",
       "        vertical-align: middle;\n",
       "    }\n",
       "\n",
       "    .dataframe tbody tr th {\n",
       "        vertical-align: top;\n",
       "    }\n",
       "\n",
       "    .dataframe thead th {\n",
       "        text-align: right;\n",
       "    }\n",
       "</style>\n",
       "<table border=\"1\" class=\"dataframe\">\n",
       "  <thead>\n",
       "    <tr style=\"text-align: right;\">\n",
       "      <th></th>\n",
       "      <th>name</th>\n",
       "      <th>MDVP:Fo(Hz)</th>\n",
       "      <th>MDVP:Fhi(Hz)</th>\n",
       "      <th>MDVP:Flo(Hz)</th>\n",
       "      <th>MDVP:Jitter(%)</th>\n",
       "      <th>MDVP:Jitter(Abs)</th>\n",
       "      <th>MDVP:RAP</th>\n",
       "      <th>MDVP:PPQ</th>\n",
       "      <th>Jitter:DDP</th>\n",
       "      <th>MDVP:Shimmer</th>\n",
       "      <th>...</th>\n",
       "      <th>Shimmer:DDA</th>\n",
       "      <th>NHR</th>\n",
       "      <th>HNR</th>\n",
       "      <th>status</th>\n",
       "      <th>RPDE</th>\n",
       "      <th>DFA</th>\n",
       "      <th>spread1</th>\n",
       "      <th>spread2</th>\n",
       "      <th>D2</th>\n",
       "      <th>PPE</th>\n",
       "    </tr>\n",
       "  </thead>\n",
       "  <tbody>\n",
       "    <tr>\n",
       "      <th>0</th>\n",
       "      <td>phon_R01_S01_1</td>\n",
       "      <td>119.992</td>\n",
       "      <td>157.302</td>\n",
       "      <td>74.997</td>\n",
       "      <td>0.00784</td>\n",
       "      <td>0.00007</td>\n",
       "      <td>0.00370</td>\n",
       "      <td>0.00554</td>\n",
       "      <td>0.01109</td>\n",
       "      <td>0.04374</td>\n",
       "      <td>...</td>\n",
       "      <td>0.06545</td>\n",
       "      <td>0.02211</td>\n",
       "      <td>21.033</td>\n",
       "      <td>1</td>\n",
       "      <td>0.414783</td>\n",
       "      <td>0.815285</td>\n",
       "      <td>-4.813031</td>\n",
       "      <td>0.266482</td>\n",
       "      <td>2.301442</td>\n",
       "      <td>0.284654</td>\n",
       "    </tr>\n",
       "    <tr>\n",
       "      <th>1</th>\n",
       "      <td>phon_R01_S01_2</td>\n",
       "      <td>122.400</td>\n",
       "      <td>148.650</td>\n",
       "      <td>113.819</td>\n",
       "      <td>0.00968</td>\n",
       "      <td>0.00008</td>\n",
       "      <td>0.00465</td>\n",
       "      <td>0.00696</td>\n",
       "      <td>0.01394</td>\n",
       "      <td>0.06134</td>\n",
       "      <td>...</td>\n",
       "      <td>0.09403</td>\n",
       "      <td>0.01929</td>\n",
       "      <td>19.085</td>\n",
       "      <td>1</td>\n",
       "      <td>0.458359</td>\n",
       "      <td>0.819521</td>\n",
       "      <td>-4.075192</td>\n",
       "      <td>0.335590</td>\n",
       "      <td>2.486855</td>\n",
       "      <td>0.368674</td>\n",
       "    </tr>\n",
       "  </tbody>\n",
       "</table>\n",
       "<p>2 rows × 24 columns</p>\n",
       "</div>"
      ],
      "text/plain": [
       "             name  MDVP:Fo(Hz)  MDVP:Fhi(Hz)  MDVP:Flo(Hz)  MDVP:Jitter(%)  \\\n",
       "0  phon_R01_S01_1      119.992       157.302        74.997         0.00784   \n",
       "1  phon_R01_S01_2      122.400       148.650       113.819         0.00968   \n",
       "\n",
       "   MDVP:Jitter(Abs)  MDVP:RAP  MDVP:PPQ  Jitter:DDP  MDVP:Shimmer  ...  \\\n",
       "0           0.00007   0.00370   0.00554     0.01109       0.04374  ...   \n",
       "1           0.00008   0.00465   0.00696     0.01394       0.06134  ...   \n",
       "\n",
       "   Shimmer:DDA      NHR     HNR  status      RPDE       DFA   spread1  \\\n",
       "0      0.06545  0.02211  21.033       1  0.414783  0.815285 -4.813031   \n",
       "1      0.09403  0.01929  19.085       1  0.458359  0.819521 -4.075192   \n",
       "\n",
       "    spread2        D2       PPE  \n",
       "0  0.266482  2.301442  0.284654  \n",
       "1  0.335590  2.486855  0.368674  \n",
       "\n",
       "[2 rows x 24 columns]"
      ]
     },
     "execution_count": 46,
     "metadata": {},
     "output_type": "execute_result"
    }
   ],
   "source": [
    "data=pd.read_csv('parkinson.csv')\n",
    "data.head(2)"
   ]
  },
  {
   "cell_type": "markdown",
   "metadata": {},
   "source": [
    "# Statistical Tests (6 marks)"
   ]
  },
  {
   "cell_type": "markdown",
   "metadata": {},
   "source": [
    "###  Find  whether MDVP:Fhi(Hz)  is helpful in predicting Status? (2 maks)"
   ]
  },
  {
   "cell_type": "code",
   "execution_count": 24,
   "metadata": {},
   "outputs": [
    {
     "data": {
      "text/plain": [
       "(195, 24)"
      ]
     },
     "execution_count": 24,
     "metadata": {},
     "output_type": "execute_result"
    }
   ],
   "source": [
    "# Lets find number of rows and columns.\n",
    "data.shape"
   ]
  },
  {
   "cell_type": "code",
   "execution_count": 25,
   "metadata": {},
   "outputs": [],
   "source": [
    "# Output is to predict the 'Status' value\n",
    "out=data['status']\n",
    "\n",
    "# Input is all the columns except 'Name' and 'Status'\n",
    "inp=data.drop(columns=['name','status'])"
   ]
  },
  {
   "cell_type": "code",
   "execution_count": 26,
   "metadata": {},
   "outputs": [],
   "source": [
    "from sklearn.model_selection import train_test_split"
   ]
  },
  {
   "cell_type": "code",
   "execution_count": 27,
   "metadata": {},
   "outputs": [],
   "source": [
    "xtrain,xtest,ytrain,ytest=train_test_split(inp,out,test_size=0.3,random_state=40)\n",
    "\n",
    "# random_state=freezing randomness to a certain extent."
   ]
  },
  {
   "cell_type": "code",
   "execution_count": 28,
   "metadata": {},
   "outputs": [
    {
     "name": "stdout",
     "output_type": "stream",
     "text": [
      "Shape of input data:\n",
      "(195, 22)\n",
      "(136, 22)\n",
      "(59, 22)\n",
      "Shape of output data:\n",
      "(195,)\n",
      "(136,)\n",
      "(59,)\n"
     ]
    }
   ],
   "source": [
    "print(\"Shape of input data:\")\n",
    "print(inp.shape)\n",
    "print(xtrain.shape)\n",
    "print(xtest.shape)\n",
    "\n",
    "print(\"Shape of output data:\")\n",
    "print(out.shape)\n",
    "print(ytrain.shape)\n",
    "print(ytest.shape)"
   ]
  },
  {
   "cell_type": "code",
   "execution_count": 29,
   "metadata": {},
   "outputs": [],
   "source": [
    "from sklearn.linear_model import LogisticRegression\n",
    "from sklearn.metrics import accuracy_score"
   ]
  },
  {
   "cell_type": "markdown",
   "metadata": {},
   "source": [
    "###  INFERENCE:  <font color='green'> Logistic regression is used to predict categorical outcomes, unlike linear regression that predicts a continuous outcome. In the above case there are only two outcomes, Status value equal to '0' or '1'(binomial) hence above regression can be considered as binomial logistic regression. Other cases may have more than two outcomes (multinomial). </font>"
   ]
  },
  {
   "cell_type": "code",
   "execution_count": 30,
   "metadata": {},
   "outputs": [
    {
     "data": {
      "text/plain": [
       "LogisticRegression(C=1.0, class_weight=None, dual=False, fit_intercept=True,\n",
       "                   intercept_scaling=1, l1_ratio=None, max_iter=100,\n",
       "                   multi_class='auto', n_jobs=None, penalty='l2',\n",
       "                   random_state=None, solver='lbfgs', tol=0.0001, verbose=0,\n",
       "                   warm_start=False)"
      ]
     },
     "execution_count": 30,
     "metadata": {},
     "output_type": "execute_result"
    }
   ],
   "source": [
    "log_MDVP=LogisticRegression()\n",
    "\n",
    "xtrain_M=xtrain['MDVP:Fhi(Hz)'].to_numpy().reshape(-1,1)\n",
    "\n",
    "log_MDVP.fit(xtrain_M,ytrain)"
   ]
  },
  {
   "cell_type": "code",
   "execution_count": 31,
   "metadata": {},
   "outputs": [
    {
     "data": {
      "text/plain": [
       "array([1, 1, 1, 1, 1, 1, 1, 1, 1, 0, 1, 1, 1, 1, 1, 1, 1, 1, 1, 1, 1, 1,\n",
       "       1, 1, 1, 1, 1, 1, 1, 1, 1, 1, 1, 1, 1, 1, 1, 1, 1, 1, 1, 1, 1, 1,\n",
       "       1, 1, 1, 1, 1, 1, 1, 1, 1, 1, 1, 1, 1, 1, 1], dtype=int64)"
      ]
     },
     "execution_count": 31,
     "metadata": {},
     "output_type": "execute_result"
    }
   ],
   "source": [
    "xtest_M=xtest['MDVP:Fhi(Hz)'].to_numpy().reshape(-1,1)\n",
    "\n",
    "ypred_M=log_MDVP.predict(xtest_M)\n",
    "ypred_M"
   ]
  },
  {
   "cell_type": "code",
   "execution_count": 32,
   "metadata": {},
   "outputs": [
    {
     "data": {
      "text/plain": [
       "0.7966101694915254"
      ]
     },
     "execution_count": 32,
     "metadata": {},
     "output_type": "execute_result"
    }
   ],
   "source": [
    "accuracy_score(ypred_M,ytest)"
   ]
  },
  {
   "cell_type": "markdown",
   "metadata": {},
   "source": [
    "###  INFERENCE:  <font color='green'> Accuracy_score  is used to calculate the accuracy of either the fraction or count of correct prediction. It is used to measure accuracy level of test_value to predicted_value.</font> <font color='red'> From the result, we can see that above model as predicted 'Status' using 'MDVP:Fhi(Hz)' feature with 79% accuracy.  </font>"
   ]
  },
  {
   "cell_type": "markdown",
   "metadata": {},
   "source": [
    "###  Find  whether NHR is helpful in predicting Status? (2 marks)"
   ]
  },
  {
   "cell_type": "code",
   "execution_count": 33,
   "metadata": {},
   "outputs": [
    {
     "name": "stdout",
     "output_type": "stream",
     "text": [
      "Shape of input data:\n",
      "(195, 22)\n",
      "(136, 22)\n",
      "(59, 22)\n",
      "Shape of output data:\n",
      "(195,)\n",
      "(136,)\n",
      "(59,)\n"
     ]
    }
   ],
   "source": [
    "print(\"Shape of input data:\")\n",
    "print(inp.shape)\n",
    "print(xtrain.shape)\n",
    "print(xtest.shape)\n",
    "\n",
    "print(\"Shape of output data:\")\n",
    "print(out.shape)\n",
    "print(ytrain.shape)\n",
    "print(ytest.shape)"
   ]
  },
  {
   "cell_type": "code",
   "execution_count": 34,
   "metadata": {},
   "outputs": [
    {
     "data": {
      "text/plain": [
       "LogisticRegression(C=1.0, class_weight=None, dual=False, fit_intercept=True,\n",
       "                   intercept_scaling=1, l1_ratio=None, max_iter=100,\n",
       "                   multi_class='auto', n_jobs=None, penalty='l2',\n",
       "                   random_state=None, solver='lbfgs', tol=0.0001, verbose=0,\n",
       "                   warm_start=False)"
      ]
     },
     "execution_count": 34,
     "metadata": {},
     "output_type": "execute_result"
    }
   ],
   "source": [
    "from sklearn.linear_model import LogisticRegression\n",
    "\n",
    "log_NHR =LogisticRegression()\n",
    "\n",
    "xtrain_NHR =xtrain['NHR'].to_numpy().reshape(-1,1)\n",
    "\n",
    "log_NHR.fit(xtrain_NHR,ytrain)"
   ]
  },
  {
   "cell_type": "code",
   "execution_count": 35,
   "metadata": {},
   "outputs": [
    {
     "data": {
      "text/plain": [
       "array([1, 1, 1, 1, 1, 1, 1, 1, 1, 1, 1, 1, 1, 1, 1, 1, 1, 1, 1, 1, 1, 1,\n",
       "       1, 1, 1, 1, 1, 1, 1, 1, 1, 1, 1, 1, 1, 1, 1, 1, 1, 1, 1, 1, 1, 1,\n",
       "       1, 1, 1, 1, 1, 1, 1, 1, 1, 1, 1, 1, 1, 1, 1], dtype=int64)"
      ]
     },
     "execution_count": 35,
     "metadata": {},
     "output_type": "execute_result"
    }
   ],
   "source": [
    "xtest_NHR = xtest['NHR'].to_numpy().reshape(-1,1)\n",
    "\n",
    "ypred_NHR=log_NHR.predict(xtest_NHR)\n",
    "ypred_NHR"
   ]
  },
  {
   "cell_type": "code",
   "execution_count": 36,
   "metadata": {},
   "outputs": [
    {
     "data": {
      "text/plain": [
       "0.7796610169491526"
      ]
     },
     "execution_count": 36,
     "metadata": {},
     "output_type": "execute_result"
    }
   ],
   "source": [
    "accuracy_score(ypred_NHR,ytest)"
   ]
  },
  {
   "cell_type": "markdown",
   "metadata": {},
   "source": [
    "###  INFERENCE:  </font> <font color='red'> From the above result, we can say that the model as predicted 'Status' using 'NHR' feature with 77% accuracy.  </font>"
   ]
  },
  {
   "cell_type": "markdown",
   "metadata": {},
   "source": [
    "###  Find  whether spread2 is helpful in predicting Status? (2 marks)"
   ]
  },
  {
   "cell_type": "code",
   "execution_count": 37,
   "metadata": {},
   "outputs": [
    {
     "name": "stdout",
     "output_type": "stream",
     "text": [
      "Shape of input data:\n",
      "(195, 22)\n",
      "(136, 22)\n",
      "(59, 22)\n",
      "Shape of output data:\n",
      "(195,)\n",
      "(136,)\n",
      "(59,)\n"
     ]
    }
   ],
   "source": [
    "print(\"Shape of input data:\")\n",
    "print(inp.shape)\n",
    "print(xtrain.shape)\n",
    "print(xtest.shape)\n",
    "\n",
    "print(\"Shape of output data:\")\n",
    "print(out.shape)\n",
    "print(ytrain.shape)\n",
    "print(ytest.shape)"
   ]
  },
  {
   "cell_type": "code",
   "execution_count": 38,
   "metadata": {},
   "outputs": [
    {
     "data": {
      "text/plain": [
       "LogisticRegression(C=1.0, class_weight=None, dual=False, fit_intercept=True,\n",
       "                   intercept_scaling=1, l1_ratio=None, max_iter=100,\n",
       "                   multi_class='auto', n_jobs=None, penalty='l2',\n",
       "                   random_state=None, solver='lbfgs', tol=0.0001, verbose=0,\n",
       "                   warm_start=False)"
      ]
     },
     "execution_count": 38,
     "metadata": {},
     "output_type": "execute_result"
    }
   ],
   "source": [
    "from sklearn.linear_model import LogisticRegression\n",
    "\n",
    "log_spread2 =LogisticRegression()\n",
    "\n",
    "xtrain_s =xtrain['spread2'].to_numpy().reshape(-1,1)\n",
    "\n",
    "log_spread2.fit(xtrain_s,ytrain)"
   ]
  },
  {
   "cell_type": "code",
   "execution_count": 39,
   "metadata": {},
   "outputs": [
    {
     "data": {
      "text/plain": [
       "array([1, 1, 1, 1, 1, 1, 1, 1, 1, 1, 1, 1, 1, 1, 1, 1, 1, 1, 1, 1, 1, 1,\n",
       "       1, 1, 1, 1, 1, 1, 1, 1, 1, 1, 1, 1, 1, 1, 1, 1, 1, 1, 1, 1, 1, 1,\n",
       "       1, 1, 1, 1, 1, 1, 1, 1, 1, 1, 1, 1, 1, 1, 1], dtype=int64)"
      ]
     },
     "execution_count": 39,
     "metadata": {},
     "output_type": "execute_result"
    }
   ],
   "source": [
    "xtest_spread2 = xtest['spread2'].to_numpy().reshape(-1,1)\n",
    "\n",
    "ypred_s=log_spread2.predict(xtest_spread2)\n",
    "ypred_s"
   ]
  },
  {
   "cell_type": "code",
   "execution_count": 40,
   "metadata": {},
   "outputs": [
    {
     "data": {
      "text/plain": [
       "0.7796610169491526"
      ]
     },
     "execution_count": 40,
     "metadata": {},
     "output_type": "execute_result"
    }
   ],
   "source": [
    "accuracy_score(ypred_s,ytest)"
   ]
  },
  {
   "cell_type": "markdown",
   "metadata": {},
   "source": [
    "###  INFERENCE:  </font> <font color='red'> From the above result, we can say that the model as predicted 'Status' using 'spread2' feature with 78% accuracy.  </font>"
   ]
  }
 ],
 "metadata": {
  "kernelspec": {
   "display_name": "Python 3",
   "language": "python",
   "name": "python3"
  },
  "language_info": {
   "codemirror_mode": {
    "name": "ipython",
    "version": 3
   },
   "file_extension": ".py",
   "mimetype": "text/x-python",
   "name": "python",
   "nbconvert_exporter": "python",
   "pygments_lexer": "ipython3",
   "version": "3.7.6"
  }
 },
 "nbformat": 4,
 "nbformat_minor": 2
}
