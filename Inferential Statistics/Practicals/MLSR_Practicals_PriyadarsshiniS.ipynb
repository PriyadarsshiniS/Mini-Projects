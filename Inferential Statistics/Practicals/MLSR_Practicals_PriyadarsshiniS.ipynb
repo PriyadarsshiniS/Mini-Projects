{
 "cells": [
  {
   "cell_type": "markdown",
   "metadata": {
    "id": "7GaATE6ut3u8"
   },
   "source": [
    "# Machine Learning - Supervised Regression _ Practical Examination -2023"
   ]
  },
  {
   "cell_type": "markdown",
   "metadata": {
    "id": "szer_8I0t3vF"
   },
   "source": [
    "### Data_set: \n",
    "Given are the variable name, variable type, the measurement unit and a brief description. The concrete compressive strength is the regression problem. The order of this listing corresponds to the order of numerals along the rows of the database."
   ]
  },
  {
   "cell_type": "markdown",
   "metadata": {
    "id": "cqjToRqyt3vG"
   },
   "source": [
    "Attribute Information:\n",
    "\n",
    "\n",
    "\n",
    "Name -- Data Type -- Measurement -- Description\n",
    "\n",
    "    Cement (component 1) -- quantitative -- kg in a m3 mixture -- Input Variable\n",
    "    Blast Furnace Slag (component 2) -- quantitative -- kg in a m3 mixture -- Input Variable\n",
    "    Fly Ash (component 3) -- quantitative -- kg in a m3 mixture -- Input Variable\n",
    "    Water (component 4) -- quantitative -- kg in a m3 mixture -- Input Variable\n",
    "    Superplasticizer (component 5) -- quantitative -- kg in a m3 mixture -- Input Variable\n",
    "    Coarse Aggregate (component 6) -- quantitative -- kg in a m3 mixture -- Input Variable\n",
    "    Fine Aggregate (component 7) -- quantitative -- kg in a m3 mixture -- Input Variable\n",
    "    Age -- quantitative -- Day (1~365) -- Input Variable\n",
    "    Concrete compressive strength -- quantitative -- MPa -- Output Variable"
   ]
  },
  {
   "cell_type": "code",
   "execution_count": 54,
   "metadata": {
    "id": "E_wBwmJ9t3vI"
   },
   "outputs": [],
   "source": [
    "# Kindly change the below cells from markdown to code and execute it "
   ]
  },
  {
   "cell_type": "markdown",
   "metadata": {
    "id": "5FjZc0HTt3vL"
   },
   "source": [
    "import pandas as pd\n",
    "\n",
    "import csv\n",
    "\n",
    "with open(\"concrete.csv\",\"r\")as file:\n",
    "\n",
    "reader=csv.reader(file)\n",
    "df=pd.read_csv(\"data_set.csv\")\n",
    "\n",
    "df.head()"
   ]
  },
  {
   "cell_type": "code",
   "execution_count": 55,
   "metadata": {
    "id": "cJx6tto0t3vM"
   },
   "outputs": [],
   "source": [
    "# import 'Pandas' \n",
    "import pandas as pd \n",
    "\n",
    "# import 'Numpy' \n",
    "import numpy as np\n",
    "\n",
    "# import subpackage of Matplotlib\n",
    "import matplotlib.pyplot as plt\n",
    "\n",
    "# import 'Seaborn' \n",
    "import seaborn as sns\n",
    "\n",
    "# to suppress warnings \n",
    "from warnings import filterwarnings\n",
    "filterwarnings('ignore')\n",
    "\n",
    "# display all columns of the dataframe\n",
    "pd.options.display.max_columns = None\n",
    "\n",
    "# display all rows of the dataframe\n",
    "pd.options.display.max_rows = None\n",
    " \n",
    "# to display the float values upto 6 decimal places     \n",
    "pd.options.display.float_format = '{:.6f}'.format\n",
    "\n",
    "# import train-test split \n",
    "from sklearn.model_selection import train_test_split\n",
    "\n",
    "# import various functions from statsmodel to perform linear regression\n",
    "import statsmodels\n",
    "import statsmodels.api as sm\n",
    "import statsmodels.stats.api as sms\n",
    "from statsmodels.compat import lzip\n",
    "from statsmodels.stats.outliers_influence import variance_inflation_factor\n",
    "from statsmodels.graphics.gofplots import qqplot\n",
    "from statsmodels.stats.anova import anova_lm\n",
    "from statsmodels.formula.api import ols\n",
    "from statsmodels.tools.eval_measures import rmse\n",
    "\n",
    "# import various functions from scipy\n",
    "from scipy import stats\n",
    "from scipy.stats import shapiro\n",
    "\n",
    "from sklearn.model_selection import cross_val_score\n",
    "from sklearn.linear_model import LinearRegression\n",
    "from sklearn.metrics import r2_score, mean_absolute_error, mean_squared_error, accuracy_score\n",
    "from statsmodels.stats.outliers_influence import variance_inflation_factor\n",
    "from sklearn.preprocessing import PowerTransformer,StandardScaler\n",
    "\n"
   ]
  },
  {
   "cell_type": "markdown",
   "metadata": {
    "id": "B1zLlhBgt3vO"
   },
   "source": [
    "#### 1.\tData Understanding (10 marks)\n",
    "\n",
    "\n",
    "a.\tRead the dataset. What are the number of rows and no. of cols & types of variables (continuous, categorical etc.)? (2 MARK)\n",
    "\n",
    "b.\tCalculate five-point summary for numerical variables (2 MARK)\n",
    "\n",
    "c.\tSummarize observations for categorical variables – no. of categories, % observations in each category. (2 marks)\n",
    "\n",
    "d.\tCheck for defects in the data such as missing values, null, outliers, etc. (2 marks)\n",
    "\n",
    "e. Is the data normally distributed? Is it a defect? Why or why not? (2 Mark)"
   ]
  },
  {
   "cell_type": "code",
   "execution_count": 56,
   "metadata": {
    "id": "OT53CUHLt3vQ"
   },
   "outputs": [
    {
     "data": {
      "text/html": [
       "<div>\n",
       "<style scoped>\n",
       "    .dataframe tbody tr th:only-of-type {\n",
       "        vertical-align: middle;\n",
       "    }\n",
       "\n",
       "    .dataframe tbody tr th {\n",
       "        vertical-align: top;\n",
       "    }\n",
       "\n",
       "    .dataframe thead th {\n",
       "        text-align: right;\n",
       "    }\n",
       "</style>\n",
       "<table border=\"1\" class=\"dataframe\">\n",
       "  <thead>\n",
       "    <tr style=\"text-align: right;\">\n",
       "      <th></th>\n",
       "      <th>cement</th>\n",
       "      <th>slag</th>\n",
       "      <th>flyash</th>\n",
       "      <th>water</th>\n",
       "      <th>superplasticizer</th>\n",
       "      <th>coarseaggregate</th>\n",
       "      <th>fineaggregate</th>\n",
       "      <th>age</th>\n",
       "      <th>csMPa</th>\n",
       "    </tr>\n",
       "  </thead>\n",
       "  <tbody>\n",
       "    <tr>\n",
       "      <th>0</th>\n",
       "      <td>540.000000</td>\n",
       "      <td>0.000000</td>\n",
       "      <td>0.000000</td>\n",
       "      <td>162.000000</td>\n",
       "      <td>2.500000</td>\n",
       "      <td>1040.000000</td>\n",
       "      <td>676.000000</td>\n",
       "      <td>28</td>\n",
       "      <td>79.990000</td>\n",
       "    </tr>\n",
       "    <tr>\n",
       "      <th>1</th>\n",
       "      <td>540.000000</td>\n",
       "      <td>0.000000</td>\n",
       "      <td>0.000000</td>\n",
       "      <td>162.000000</td>\n",
       "      <td>2.500000</td>\n",
       "      <td>1055.000000</td>\n",
       "      <td>676.000000</td>\n",
       "      <td>28</td>\n",
       "      <td>61.890000</td>\n",
       "    </tr>\n",
       "    <tr>\n",
       "      <th>2</th>\n",
       "      <td>332.500000</td>\n",
       "      <td>142.500000</td>\n",
       "      <td>0.000000</td>\n",
       "      <td>228.000000</td>\n",
       "      <td>0.000000</td>\n",
       "      <td>932.000000</td>\n",
       "      <td>594.000000</td>\n",
       "      <td>270</td>\n",
       "      <td>40.270000</td>\n",
       "    </tr>\n",
       "    <tr>\n",
       "      <th>3</th>\n",
       "      <td>332.500000</td>\n",
       "      <td>142.500000</td>\n",
       "      <td>0.000000</td>\n",
       "      <td>228.000000</td>\n",
       "      <td>0.000000</td>\n",
       "      <td>932.000000</td>\n",
       "      <td>594.000000</td>\n",
       "      <td>365</td>\n",
       "      <td>41.050000</td>\n",
       "    </tr>\n",
       "    <tr>\n",
       "      <th>4</th>\n",
       "      <td>198.600000</td>\n",
       "      <td>132.400000</td>\n",
       "      <td>0.000000</td>\n",
       "      <td>192.000000</td>\n",
       "      <td>0.000000</td>\n",
       "      <td>978.400000</td>\n",
       "      <td>825.500000</td>\n",
       "      <td>360</td>\n",
       "      <td>44.300000</td>\n",
       "    </tr>\n",
       "  </tbody>\n",
       "</table>\n",
       "</div>"
      ],
      "text/plain": [
       "      cement       slag   flyash      water  superplasticizer  \\\n",
       "0 540.000000   0.000000 0.000000 162.000000          2.500000   \n",
       "1 540.000000   0.000000 0.000000 162.000000          2.500000   \n",
       "2 332.500000 142.500000 0.000000 228.000000          0.000000   \n",
       "3 332.500000 142.500000 0.000000 228.000000          0.000000   \n",
       "4 198.600000 132.400000 0.000000 192.000000          0.000000   \n",
       "\n",
       "   coarseaggregate  fineaggregate  age     csMPa  \n",
       "0      1040.000000     676.000000   28 79.990000  \n",
       "1      1055.000000     676.000000   28 61.890000  \n",
       "2       932.000000     594.000000  270 40.270000  \n",
       "3       932.000000     594.000000  365 41.050000  \n",
       "4       978.400000     825.500000  360 44.300000  "
      ]
     },
     "execution_count": 56,
     "metadata": {},
     "output_type": "execute_result"
    }
   ],
   "source": [
    "data=pd.read_csv(r'C:\\Users\\priya\\SRM PYTHON\\IS\\Practicals\\Concrete+(1).csv')\n",
    "org_data=data.copy()\n",
    "data.head(5)"
   ]
  },
  {
   "cell_type": "code",
   "execution_count": 57,
   "metadata": {},
   "outputs": [
    {
     "data": {
      "text/plain": [
       "(1030, 9)"
      ]
     },
     "execution_count": 57,
     "metadata": {},
     "output_type": "execute_result"
    }
   ],
   "source": [
    "#a. Read the dataset. What are the number of rows and no. of cols & types of variables (continuous, categorical etc.)? (2 MARK)\n",
    "data.shape"
   ]
  },
  {
   "cell_type": "code",
   "execution_count": 58,
   "metadata": {},
   "outputs": [
    {
     "data": {
      "text/plain": [
       "cement              float64\n",
       "slag                float64\n",
       "flyash              float64\n",
       "water               float64\n",
       "superplasticizer    float64\n",
       "coarseaggregate     float64\n",
       "fineaggregate       float64\n",
       "age                   int64\n",
       "csMPa               float64\n",
       "dtype: object"
      ]
     },
     "execution_count": 58,
     "metadata": {},
     "output_type": "execute_result"
    }
   ],
   "source": [
    "# type of variable \n",
    "data.dtypes"
   ]
  },
  {
   "cell_type": "markdown",
   "metadata": {},
   "source": [
    "### INFERENCE: <font color='blue'> There are 1030 rows and 9 columns </font>"
   ]
  },
  {
   "cell_type": "code",
   "execution_count": 62,
   "metadata": {},
   "outputs": [
    {
     "data": {
      "text/html": [
       "<div>\n",
       "<style scoped>\n",
       "    .dataframe tbody tr th:only-of-type {\n",
       "        vertical-align: middle;\n",
       "    }\n",
       "\n",
       "    .dataframe tbody tr th {\n",
       "        vertical-align: top;\n",
       "    }\n",
       "\n",
       "    .dataframe thead th {\n",
       "        text-align: right;\n",
       "    }\n",
       "</style>\n",
       "<table border=\"1\" class=\"dataframe\">\n",
       "  <thead>\n",
       "    <tr style=\"text-align: right;\">\n",
       "      <th></th>\n",
       "      <th>cement</th>\n",
       "      <th>slag</th>\n",
       "      <th>flyash</th>\n",
       "      <th>water</th>\n",
       "      <th>superplasticizer</th>\n",
       "      <th>coarseaggregate</th>\n",
       "      <th>fineaggregate</th>\n",
       "      <th>age</th>\n",
       "      <th>csMPa</th>\n",
       "    </tr>\n",
       "  </thead>\n",
       "  <tbody>\n",
       "    <tr>\n",
       "      <th>count</th>\n",
       "      <td>1030.000000</td>\n",
       "      <td>1030.000000</td>\n",
       "      <td>1030.000000</td>\n",
       "      <td>1030.000000</td>\n",
       "      <td>1030.000000</td>\n",
       "      <td>1030.000000</td>\n",
       "      <td>1030.000000</td>\n",
       "      <td>1030.000000</td>\n",
       "      <td>1030.000000</td>\n",
       "    </tr>\n",
       "    <tr>\n",
       "      <th>mean</th>\n",
       "      <td>281.167864</td>\n",
       "      <td>73.895825</td>\n",
       "      <td>54.188350</td>\n",
       "      <td>181.567282</td>\n",
       "      <td>6.204660</td>\n",
       "      <td>972.918932</td>\n",
       "      <td>773.580485</td>\n",
       "      <td>45.662136</td>\n",
       "      <td>35.817961</td>\n",
       "    </tr>\n",
       "    <tr>\n",
       "      <th>std</th>\n",
       "      <td>104.506364</td>\n",
       "      <td>86.279342</td>\n",
       "      <td>63.997004</td>\n",
       "      <td>21.354219</td>\n",
       "      <td>5.973841</td>\n",
       "      <td>77.753954</td>\n",
       "      <td>80.175980</td>\n",
       "      <td>63.169912</td>\n",
       "      <td>16.705742</td>\n",
       "    </tr>\n",
       "    <tr>\n",
       "      <th>min</th>\n",
       "      <td>102.000000</td>\n",
       "      <td>0.000000</td>\n",
       "      <td>0.000000</td>\n",
       "      <td>121.800000</td>\n",
       "      <td>0.000000</td>\n",
       "      <td>801.000000</td>\n",
       "      <td>594.000000</td>\n",
       "      <td>1.000000</td>\n",
       "      <td>2.330000</td>\n",
       "    </tr>\n",
       "    <tr>\n",
       "      <th>25%</th>\n",
       "      <td>192.375000</td>\n",
       "      <td>0.000000</td>\n",
       "      <td>0.000000</td>\n",
       "      <td>164.900000</td>\n",
       "      <td>0.000000</td>\n",
       "      <td>932.000000</td>\n",
       "      <td>730.950000</td>\n",
       "      <td>7.000000</td>\n",
       "      <td>23.710000</td>\n",
       "    </tr>\n",
       "    <tr>\n",
       "      <th>50%</th>\n",
       "      <td>272.900000</td>\n",
       "      <td>22.000000</td>\n",
       "      <td>0.000000</td>\n",
       "      <td>185.000000</td>\n",
       "      <td>6.400000</td>\n",
       "      <td>968.000000</td>\n",
       "      <td>779.500000</td>\n",
       "      <td>28.000000</td>\n",
       "      <td>34.445000</td>\n",
       "    </tr>\n",
       "    <tr>\n",
       "      <th>75%</th>\n",
       "      <td>350.000000</td>\n",
       "      <td>142.950000</td>\n",
       "      <td>118.300000</td>\n",
       "      <td>192.000000</td>\n",
       "      <td>10.200000</td>\n",
       "      <td>1029.400000</td>\n",
       "      <td>824.000000</td>\n",
       "      <td>56.000000</td>\n",
       "      <td>46.135000</td>\n",
       "    </tr>\n",
       "    <tr>\n",
       "      <th>max</th>\n",
       "      <td>540.000000</td>\n",
       "      <td>359.400000</td>\n",
       "      <td>200.100000</td>\n",
       "      <td>247.000000</td>\n",
       "      <td>32.200000</td>\n",
       "      <td>1145.000000</td>\n",
       "      <td>992.600000</td>\n",
       "      <td>365.000000</td>\n",
       "      <td>82.600000</td>\n",
       "    </tr>\n",
       "  </tbody>\n",
       "</table>\n",
       "</div>"
      ],
      "text/plain": [
       "           cement        slag      flyash       water  superplasticizer  \\\n",
       "count 1030.000000 1030.000000 1030.000000 1030.000000       1030.000000   \n",
       "mean   281.167864   73.895825   54.188350  181.567282          6.204660   \n",
       "std    104.506364   86.279342   63.997004   21.354219          5.973841   \n",
       "min    102.000000    0.000000    0.000000  121.800000          0.000000   \n",
       "25%    192.375000    0.000000    0.000000  164.900000          0.000000   \n",
       "50%    272.900000   22.000000    0.000000  185.000000          6.400000   \n",
       "75%    350.000000  142.950000  118.300000  192.000000         10.200000   \n",
       "max    540.000000  359.400000  200.100000  247.000000         32.200000   \n",
       "\n",
       "       coarseaggregate  fineaggregate         age       csMPa  \n",
       "count      1030.000000    1030.000000 1030.000000 1030.000000  \n",
       "mean        972.918932     773.580485   45.662136   35.817961  \n",
       "std          77.753954      80.175980   63.169912   16.705742  \n",
       "min         801.000000     594.000000    1.000000    2.330000  \n",
       "25%         932.000000     730.950000    7.000000   23.710000  \n",
       "50%         968.000000     779.500000   28.000000   34.445000  \n",
       "75%        1029.400000     824.000000   56.000000   46.135000  \n",
       "max        1145.000000     992.600000  365.000000   82.600000  "
      ]
     },
     "execution_count": 62,
     "metadata": {},
     "output_type": "execute_result"
    }
   ],
   "source": [
    "# b. Calculate five-point summary for numerical variables (2 MARK)\n",
    "data.describe()"
   ]
  },
  {
   "cell_type": "code",
   "execution_count": 116,
   "metadata": {},
   "outputs": [],
   "source": [
    "#c. Summarize observations for categorical variables – no. of categories, % observations in each category. (2 marks)"
   ]
  },
  {
   "cell_type": "markdown",
   "metadata": {},
   "source": [
    "### INFERENCE: <font color='blue'> All columns are numerical in nature. There are no categorical variable. All are continuous in nature with 'age' in integer format while rest all are of float datatype.</font>"
   ]
  },
  {
   "cell_type": "code",
   "execution_count": 91,
   "metadata": {},
   "outputs": [
    {
     "data": {
      "text/plain": [
       "cement              0\n",
       "slag                0\n",
       "flyash              0\n",
       "water               0\n",
       "superplasticizer    0\n",
       "coarseaggregate     0\n",
       "fineaggregate       0\n",
       "age                 0\n",
       "csMPa               0\n",
       "dtype: int64"
      ]
     },
     "execution_count": 91,
     "metadata": {},
     "output_type": "execute_result"
    }
   ],
   "source": [
    "#d. Check for defects in the data such as missing values, null, outliers, etc. (2 marks)\n",
    "# missing value\n",
    "data.isnull().sum()"
   ]
  },
  {
   "cell_type": "code",
   "execution_count": 64,
   "metadata": {
    "scrolled": false
   },
   "outputs": [
    {
     "data": {
      "image/png": "[encoded data removed]",
      "text/plain": [
       "<Figure size 720x1080 with 9 Axes>"
      ]
     },
     "metadata": {
      "needs_background": "light"
     },
     "output_type": "display_data"
    }
   ],
   "source": [
    "# outlier\n",
    "col=data.columns\n",
    "col\n",
    "# outlier\n",
    "plt.figure(figsize=(10,15))\n",
    "for i in range(0,len(col)):\n",
    "    plt.subplot(3,3,i+1)\n",
    "    sns.boxplot(data[col[i]]) \n",
    "    \n",
    "plt.tight_layout()\n",
    "plt.show()    "
   ]
  },
  {
   "cell_type": "markdown",
   "metadata": {},
   "source": [
    "### INFERENCE: <font color='blue'> There are no missing values. Outliers are present in 6 columns:  'slag', 'water','superplasticizer','fineaggregate' , 'age'and 'csMPa.'</font>"
   ]
  },
  {
   "cell_type": "code",
   "execution_count": 94,
   "metadata": {},
   "outputs": [
    {
     "data": {
      "image/png": "[encoded data removed]",
      "text/plain": [
       "<Figure size 720x1080 with 9 Axes>"
      ]
     },
     "metadata": {
      "needs_background": "light"
     },
     "output_type": "display_data"
    }
   ],
   "source": [
    "#e. Is the data normally distributed? Is it a defect? Why or why not? (2 Mark)\n",
    "plt.figure(figsize=(10,15))\n",
    "for i in range(0,len(col)):\n",
    "    plt.subplot(3,3,i+1)\n",
    "    sns.distplot(data[col[i]]) \n",
    "    \n",
    "plt.tight_layout()\n",
    "plt.show()"
   ]
  },
  {
   "cell_type": "markdown",
   "metadata": {},
   "source": [
    "### INFERENCE: <font color='Green'> By looking at  the distplot, we can conclude that data is not normally distributed.</font>\n"
   ]
  },
  {
   "cell_type": "markdown",
   "metadata": {
    "id": "F1Ubwnkjt3vR"
   },
   "source": [
    "#### 2.\tData Preparation (15 marks)\n",
    "\n",
    "a.\tFix the defects found above and do appropriate treatment if any. (5 marks)\n",
    "\n",
    "b.\tVisualize the data using relevant plots. Find out the variables which are highly correlated with target variable? (5 marks)\n",
    "\n",
    "c.\tDo you want to exclude some variables from the model based on this analysis? What other actions will you take? (2 marks)\n",
    "\n",
    "d.\tSplit dataset into train and test (70:30). Are both train and test representative of the overall data? How would you ascertain this statistically? (3 marks)\n",
    "\n",
    " "
   ]
  },
  {
   "cell_type": "code",
   "execution_count": 66,
   "metadata": {
    "id": "pFC5jWm2t3vS"
   },
   "outputs": [],
   "source": [
    "#a. Fix the defects found above and do appropriate treatment if any. (5 marks)\n",
    "\n",
    "def find_cap_outlier(col):\n",
    "    Q1=col.quantile(0.25)\n",
    "    Q3=col.quantile(0.75)\n",
    "    lb=(Q1 - 1.5*(Q3-Q1))    # LB=Q1-1.5*IQR \n",
    "    ub=(Q3 + 1.5*(Q3-Q1))    # UB=Q3+1.5*IQR\n",
    "    print('Upper bound=',ub)\n",
    "    print('Lower bound=',lb)\n",
    "    out_ind=np.where((col > ub) | (col < lb))\n",
    "    index=list(out_ind[0])\n",
    "    outlier_val=[]\n",
    "    for i in index:\n",
    "        outlier_val.append(col.loc[i])\n",
    "    return index,ub,lb;\n",
    "\n",
    "\n",
    "def cap_outlier(col_nm,UB,LB):\n",
    "    data[col_nm]=np.where(data[col_nm] > UB, UB,\n",
    "                 np.where(data[col_nm] < LB, LB, data[col_nm]))\n",
    "    print(col_nm)"
   ]
  },
  {
   "cell_type": "code",
   "execution_count": 118,
   "metadata": {},
   "outputs": [
    {
     "name": "stdout",
     "output_type": "stream",
     "text": [
      "Upper bound= 357.375\n",
      "Lower bound= -214.42499999999998\n",
      "slag\n",
      "Upper bound= 232.64999999999998\n",
      "Lower bound= 124.25000000000001\n",
      "water\n",
      "Upper bound= 25.5\n",
      "Lower bound= -15.299999999999999\n",
      "superplasticizer\n",
      "Upper bound= 963.575\n",
      "Lower bound= 591.3749999999998\n",
      "fineaggregate\n",
      "Upper bound= 129.5\n",
      "Lower bound= -66.5\n",
      "age\n",
      "Upper bound= 79.77250000000001\n",
      "Lower bound= -9.927500000000013\n",
      "csMPa\n"
     ]
    }
   ],
   "source": [
    "# Finding outlier index and  Capping outlier\n",
    "outlier_column=['slag', 'water','superplasticizer','fineaggregate' , 'age', 'csMPa']\n",
    "\n",
    "for i in outlier_column:\n",
    "    out_ind,Upper_bd,Lower_bd=find_cap_outlier(data[i])\n",
    "    cap_outlier(i,Upper_bd,Lower_bd)\n"
   ]
  },
  {
   "cell_type": "code",
   "execution_count": 119,
   "metadata": {},
   "outputs": [
    {
     "data": {
      "image/png": "[encoded data removed]",
      "text/plain": [
       "<Figure size 720x1080 with 9 Axes>"
      ]
     },
     "metadata": {
      "needs_background": "light"
     },
     "output_type": "display_data"
    }
   ],
   "source": [
    "col=data.columns\n",
    "col\n",
    "# Rechecking outlier values \n",
    "plt.figure(figsize=(10,15))\n",
    "for i in range(0,len(col)):\n",
    "    plt.subplot(3,3,i+1)\n",
    "    sns.boxplot(data[col[i]]) \n",
    "    \n",
    "plt.tight_layout()\n",
    "plt.show()   "
   ]
  },
  {
   "cell_type": "markdown",
   "metadata": {},
   "source": [
    "### INFERENCE: <font color='Green'> Now outlier found in all six columns are replaced with either upper bound or lower bound values.</font>\n"
   ]
  },
  {
   "cell_type": "code",
   "execution_count": 71,
   "metadata": {},
   "outputs": [
    {
     "data": {
      "text/plain": [
       "<matplotlib.axes._subplots.AxesSubplot at 0x1f0e2f90f08>"
      ]
     },
     "execution_count": 71,
     "metadata": {},
     "output_type": "execute_result"
    },
    {
     "data": {
      "image/png": "[encoded data removed]",
      "text/plain": [
       "<Figure size 432x288 with 2 Axes>"
      ]
     },
     "metadata": {
      "needs_background": "light"
     },
     "output_type": "display_data"
    }
   ],
   "source": [
    "#b. Visualize the data using relevant plots. Find out the variables which are highly correlated with target variable? (5 marks)\n",
    "sns.heatmap(data.corr(), annot = True)"
   ]
  },
  {
   "cell_type": "code",
   "execution_count": 82,
   "metadata": {},
   "outputs": [
    {
     "data": {
      "text/plain": [
       "csMPa               1.000000\n",
       "cement              0.498008\n",
       "age                 0.469807\n",
       "superplasticizer    0.366235\n",
       "slag                0.134621\n",
       "flyash             -0.105577\n",
       "coarseaggregate    -0.165250\n",
       "fineaggregate      -0.169601\n",
       "water              -0.290969\n",
       "Name: csMPa, dtype: float64"
      ]
     },
     "execution_count": 82,
     "metadata": {},
     "output_type": "execute_result"
    }
   ],
   "source": [
    "data.corr().loc['csMPa'].sort_values(ascending=False)"
   ]
  },
  {
   "cell_type": "markdown",
   "metadata": {},
   "source": [
    "### INFERENCE: <font color='blue'> From the last row of heatmap, we can see that column 'cement' and 'age' has very high correlation with output column 'csMPa'."
   ]
  },
  {
   "cell_type": "code",
   "execution_count": 117,
   "metadata": {},
   "outputs": [],
   "source": [
    "#c. Do you want to exclude some variables from the model based on this analysis? What other actions will you take? (2 marks)"
   ]
  },
  {
   "cell_type": "markdown",
   "metadata": {},
   "source": [
    "### INFERENCE: <font color='blue'> Eventhough few variables has very low correlation values, we can keep those features because they are significant in real world."
   ]
  },
  {
   "cell_type": "code",
   "execution_count": 73,
   "metadata": {},
   "outputs": [
    {
     "name": "stdout",
     "output_type": "stream",
     "text": [
      "Shape of input data: (1030, 8)\n",
      "xtrain= (721, 8)\n",
      "xtest= (309, 8)\n",
      "Shape of output data: (1030,)\n",
      "ytrain= (721,)\n",
      "ytest= (309,)\n"
     ]
    }
   ],
   "source": [
    "#d. Split dataset into train and test (70:30). \n",
    "#Are both train and test representative of the overall data? How would you ascertain this statistically? (3 marks)\n",
    "\n",
    "# Output is to predict the Concrete compressive strength -- csMPa\n",
    "out=data['csMPa']\n",
    "out1=out.copy()\n",
    "\n",
    "# Input is all the columns except 'csMPa' \n",
    "inp=data.drop(columns=['csMPa'])\n",
    "\n",
    "\n",
    "xtrain,xtest,ytrain,ytest=train_test_split(inp,out,test_size=0.3)\n",
    "\n",
    "print(\"Shape of input data:\", inp.shape)\n",
    "print(\"xtrain=\",xtrain.shape)\n",
    "print(\"xtest=\",xtest.shape)\n",
    "\n",
    "print(\"Shape of output data:\",out.shape)\n",
    "print(\"ytrain=\",ytrain.shape)\n",
    "print(\"ytest=\",ytest.shape)"
   ]
  },
  {
   "cell_type": "code",
   "execution_count": 95,
   "metadata": {},
   "outputs": [
    {
     "data": {
      "text/html": [
       "<div>\n",
       "<style scoped>\n",
       "    .dataframe tbody tr th:only-of-type {\n",
       "        vertical-align: middle;\n",
       "    }\n",
       "\n",
       "    .dataframe tbody tr th {\n",
       "        vertical-align: top;\n",
       "    }\n",
       "\n",
       "    .dataframe thead th {\n",
       "        text-align: right;\n",
       "    }\n",
       "</style>\n",
       "<table border=\"1\" class=\"dataframe\">\n",
       "  <thead>\n",
       "    <tr style=\"text-align: right;\">\n",
       "      <th></th>\n",
       "      <th>cement</th>\n",
       "      <th>slag</th>\n",
       "      <th>flyash</th>\n",
       "      <th>water</th>\n",
       "      <th>superplasticizer</th>\n",
       "      <th>coarseaggregate</th>\n",
       "      <th>fineaggregate</th>\n",
       "      <th>age</th>\n",
       "    </tr>\n",
       "  </thead>\n",
       "  <tbody>\n",
       "    <tr>\n",
       "      <th>count</th>\n",
       "      <td>721.000000</td>\n",
       "      <td>721.000000</td>\n",
       "      <td>721.000000</td>\n",
       "      <td>721.000000</td>\n",
       "      <td>721.000000</td>\n",
       "      <td>721.000000</td>\n",
       "      <td>721.000000</td>\n",
       "      <td>721.000000</td>\n",
       "    </tr>\n",
       "    <tr>\n",
       "      <th>mean</th>\n",
       "      <td>279.604854</td>\n",
       "      <td>72.330999</td>\n",
       "      <td>55.125381</td>\n",
       "      <td>182.360610</td>\n",
       "      <td>6.029404</td>\n",
       "      <td>975.426768</td>\n",
       "      <td>771.019279</td>\n",
       "      <td>38.278086</td>\n",
       "    </tr>\n",
       "    <tr>\n",
       "      <th>std</th>\n",
       "      <td>101.941366</td>\n",
       "      <td>84.920998</td>\n",
       "      <td>64.287195</td>\n",
       "      <td>21.598919</td>\n",
       "      <td>5.747342</td>\n",
       "      <td>77.979815</td>\n",
       "      <td>81.046157</td>\n",
       "      <td>36.494644</td>\n",
       "    </tr>\n",
       "    <tr>\n",
       "      <th>min</th>\n",
       "      <td>102.000000</td>\n",
       "      <td>0.000000</td>\n",
       "      <td>0.000000</td>\n",
       "      <td>124.250000</td>\n",
       "      <td>0.000000</td>\n",
       "      <td>801.000000</td>\n",
       "      <td>594.000000</td>\n",
       "      <td>1.000000</td>\n",
       "    </tr>\n",
       "    <tr>\n",
       "      <th>25%</th>\n",
       "      <td>194.700000</td>\n",
       "      <td>0.000000</td>\n",
       "      <td>0.000000</td>\n",
       "      <td>164.900000</td>\n",
       "      <td>0.000000</td>\n",
       "      <td>932.000000</td>\n",
       "      <td>721.000000</td>\n",
       "      <td>7.000000</td>\n",
       "    </tr>\n",
       "    <tr>\n",
       "      <th>50%</th>\n",
       "      <td>266.000000</td>\n",
       "      <td>22.000000</td>\n",
       "      <td>0.000000</td>\n",
       "      <td>185.700000</td>\n",
       "      <td>6.100000</td>\n",
       "      <td>968.000000</td>\n",
       "      <td>777.500000</td>\n",
       "      <td>28.000000</td>\n",
       "    </tr>\n",
       "    <tr>\n",
       "      <th>75%</th>\n",
       "      <td>349.000000</td>\n",
       "      <td>142.500000</td>\n",
       "      <td>118.300000</td>\n",
       "      <td>193.000000</td>\n",
       "      <td>10.200000</td>\n",
       "      <td>1040.000000</td>\n",
       "      <td>822.200000</td>\n",
       "      <td>56.000000</td>\n",
       "    </tr>\n",
       "    <tr>\n",
       "      <th>max</th>\n",
       "      <td>540.000000</td>\n",
       "      <td>357.375000</td>\n",
       "      <td>200.000000</td>\n",
       "      <td>232.650000</td>\n",
       "      <td>25.500000</td>\n",
       "      <td>1145.000000</td>\n",
       "      <td>963.575000</td>\n",
       "      <td>129.500000</td>\n",
       "    </tr>\n",
       "  </tbody>\n",
       "</table>\n",
       "</div>"
      ],
      "text/plain": [
       "          cement       slag     flyash      water  superplasticizer  \\\n",
       "count 721.000000 721.000000 721.000000 721.000000        721.000000   \n",
       "mean  279.604854  72.330999  55.125381 182.360610          6.029404   \n",
       "std   101.941366  84.920998  64.287195  21.598919          5.747342   \n",
       "min   102.000000   0.000000   0.000000 124.250000          0.000000   \n",
       "25%   194.700000   0.000000   0.000000 164.900000          0.000000   \n",
       "50%   266.000000  22.000000   0.000000 185.700000          6.100000   \n",
       "75%   349.000000 142.500000 118.300000 193.000000         10.200000   \n",
       "max   540.000000 357.375000 200.000000 232.650000         25.500000   \n",
       "\n",
       "       coarseaggregate  fineaggregate        age  \n",
       "count       721.000000     721.000000 721.000000  \n",
       "mean        975.426768     771.019279  38.278086  \n",
       "std          77.979815      81.046157  36.494644  \n",
       "min         801.000000     594.000000   1.000000  \n",
       "25%         932.000000     721.000000   7.000000  \n",
       "50%         968.000000     777.500000  28.000000  \n",
       "75%        1040.000000     822.200000  56.000000  \n",
       "max        1145.000000     963.575000 129.500000  "
      ]
     },
     "execution_count": 95,
     "metadata": {},
     "output_type": "execute_result"
    }
   ],
   "source": [
    "xtrain.describe()"
   ]
  },
  {
   "cell_type": "code",
   "execution_count": 96,
   "metadata": {},
   "outputs": [
    {
     "data": {
      "text/html": [
       "<div>\n",
       "<style scoped>\n",
       "    .dataframe tbody tr th:only-of-type {\n",
       "        vertical-align: middle;\n",
       "    }\n",
       "\n",
       "    .dataframe tbody tr th {\n",
       "        vertical-align: top;\n",
       "    }\n",
       "\n",
       "    .dataframe thead th {\n",
       "        text-align: right;\n",
       "    }\n",
       "</style>\n",
       "<table border=\"1\" class=\"dataframe\">\n",
       "  <thead>\n",
       "    <tr style=\"text-align: right;\">\n",
       "      <th></th>\n",
       "      <th>cement</th>\n",
       "      <th>slag</th>\n",
       "      <th>flyash</th>\n",
       "      <th>water</th>\n",
       "      <th>superplasticizer</th>\n",
       "      <th>coarseaggregate</th>\n",
       "      <th>fineaggregate</th>\n",
       "      <th>age</th>\n",
       "    </tr>\n",
       "  </thead>\n",
       "  <tbody>\n",
       "    <tr>\n",
       "      <th>count</th>\n",
       "      <td>309.000000</td>\n",
       "      <td>309.000000</td>\n",
       "      <td>309.000000</td>\n",
       "      <td>309.000000</td>\n",
       "      <td>309.000000</td>\n",
       "      <td>309.000000</td>\n",
       "      <td>309.000000</td>\n",
       "      <td>309.000000</td>\n",
       "    </tr>\n",
       "    <tr>\n",
       "      <th>mean</th>\n",
       "      <td>284.814887</td>\n",
       "      <td>77.533981</td>\n",
       "      <td>52.001942</td>\n",
       "      <td>179.636084</td>\n",
       "      <td>6.461489</td>\n",
       "      <td>967.067314</td>\n",
       "      <td>779.086974</td>\n",
       "      <td>37.585761</td>\n",
       "    </tr>\n",
       "    <tr>\n",
       "      <th>std</th>\n",
       "      <td>110.344273</td>\n",
       "      <td>89.361187</td>\n",
       "      <td>63.364334</td>\n",
       "      <td>20.231792</td>\n",
       "      <td>5.927460</td>\n",
       "      <td>77.032497</td>\n",
       "      <td>76.698154</td>\n",
       "      <td>34.114945</td>\n",
       "    </tr>\n",
       "    <tr>\n",
       "      <th>min</th>\n",
       "      <td>116.000000</td>\n",
       "      <td>0.000000</td>\n",
       "      <td>0.000000</td>\n",
       "      <td>124.250000</td>\n",
       "      <td>0.000000</td>\n",
       "      <td>801.000000</td>\n",
       "      <td>594.000000</td>\n",
       "      <td>3.000000</td>\n",
       "    </tr>\n",
       "    <tr>\n",
       "      <th>25%</th>\n",
       "      <td>190.000000</td>\n",
       "      <td>0.000000</td>\n",
       "      <td>0.000000</td>\n",
       "      <td>164.900000</td>\n",
       "      <td>0.000000</td>\n",
       "      <td>926.100000</td>\n",
       "      <td>746.600000</td>\n",
       "      <td>14.000000</td>\n",
       "    </tr>\n",
       "    <tr>\n",
       "      <th>50%</th>\n",
       "      <td>277.100000</td>\n",
       "      <td>24.000000</td>\n",
       "      <td>0.000000</td>\n",
       "      <td>181.700000</td>\n",
       "      <td>7.000000</td>\n",
       "      <td>967.000000</td>\n",
       "      <td>781.500000</td>\n",
       "      <td>28.000000</td>\n",
       "    </tr>\n",
       "    <tr>\n",
       "      <th>75%</th>\n",
       "      <td>362.600000</td>\n",
       "      <td>145.000000</td>\n",
       "      <td>112.000000</td>\n",
       "      <td>192.000000</td>\n",
       "      <td>10.400000</td>\n",
       "      <td>1014.300000</td>\n",
       "      <td>825.500000</td>\n",
       "      <td>56.000000</td>\n",
       "    </tr>\n",
       "    <tr>\n",
       "      <th>max</th>\n",
       "      <td>540.000000</td>\n",
       "      <td>342.100000</td>\n",
       "      <td>200.100000</td>\n",
       "      <td>228.000000</td>\n",
       "      <td>25.500000</td>\n",
       "      <td>1130.000000</td>\n",
       "      <td>963.575000</td>\n",
       "      <td>129.500000</td>\n",
       "    </tr>\n",
       "  </tbody>\n",
       "</table>\n",
       "</div>"
      ],
      "text/plain": [
       "          cement       slag     flyash      water  superplasticizer  \\\n",
       "count 309.000000 309.000000 309.000000 309.000000        309.000000   \n",
       "mean  284.814887  77.533981  52.001942 179.636084          6.461489   \n",
       "std   110.344273  89.361187  63.364334  20.231792          5.927460   \n",
       "min   116.000000   0.000000   0.000000 124.250000          0.000000   \n",
       "25%   190.000000   0.000000   0.000000 164.900000          0.000000   \n",
       "50%   277.100000  24.000000   0.000000 181.700000          7.000000   \n",
       "75%   362.600000 145.000000 112.000000 192.000000         10.400000   \n",
       "max   540.000000 342.100000 200.100000 228.000000         25.500000   \n",
       "\n",
       "       coarseaggregate  fineaggregate        age  \n",
       "count       309.000000     309.000000 309.000000  \n",
       "mean        967.067314     779.086974  37.585761  \n",
       "std          77.032497      76.698154  34.114945  \n",
       "min         801.000000     594.000000   3.000000  \n",
       "25%         926.100000     746.600000  14.000000  \n",
       "50%         967.000000     781.500000  28.000000  \n",
       "75%        1014.300000     825.500000  56.000000  \n",
       "max        1130.000000     963.575000 129.500000  "
      ]
     },
     "execution_count": 96,
     "metadata": {},
     "output_type": "execute_result"
    }
   ],
   "source": [
    "xtest.describe()"
   ]
  },
  {
   "cell_type": "code",
   "execution_count": 97,
   "metadata": {},
   "outputs": [
    {
     "data": {
      "text/plain": [
       "count   721.000000\n",
       "mean     35.292101\n",
       "std      16.606602\n",
       "min       2.330000\n",
       "25%      22.630000\n",
       "50%      33.760000\n",
       "75%      45.080000\n",
       "max      79.772500\n",
       "Name: csMPa, dtype: float64"
      ]
     },
     "execution_count": 97,
     "metadata": {},
     "output_type": "execute_result"
    }
   ],
   "source": [
    "ytrain.describe()"
   ]
  },
  {
   "cell_type": "code",
   "execution_count": 98,
   "metadata": {},
   "outputs": [
    {
     "data": {
      "text/plain": [
       "count   309.000000\n",
       "mean     37.027330\n",
       "std      16.852260\n",
       "min       4.780000\n",
       "25%      24.500000\n",
       "50%      35.960000\n",
       "75%      48.280000\n",
       "max      79.772500\n",
       "Name: csMPa, dtype: float64"
      ]
     },
     "execution_count": 98,
     "metadata": {},
     "output_type": "execute_result"
    }
   ],
   "source": [
    "ytest.describe()"
   ]
  },
  {
   "cell_type": "markdown",
   "metadata": {},
   "source": [
    "### INFERENCE: <font color='Green'> From the describe results, we can say that ytest and ytrain are more statistically similar. While xtrain and xtest has moderate differnces. There are few columns like 'cement' and 'superplasticizer' with significant differnce in mean values. </font>"
   ]
  },
  {
   "cell_type": "markdown",
   "metadata": {
    "id": "9hTOPiyKt3vT"
   },
   "source": [
    "\n",
    "### 3.\tModel Building (15 marks)\n",
    "\n",
    "a.\tFit a base model.\n",
    "\n",
    "b.  Observe the overall R- Squared, RMSE and MAPE values of the model. Please comment on whether it is good or not.  \n",
    "\n",
    "\n"
   ]
  },
  {
   "cell_type": "code",
   "execution_count": 114,
   "metadata": {},
   "outputs": [],
   "source": [
    "# a. Fit a base model."
   ]
  },
  {
   "cell_type": "code",
   "execution_count": 100,
   "metadata": {
    "id": "lqXK9e3st3vU"
   },
   "outputs": [],
   "source": [
    "#from sklearn.linear_model import LinearRegression\n",
    "lr = LinearRegression()\n",
    "ypred= lr.fit(xtrain, ytrain).predict(xtest)"
   ]
  },
  {
   "cell_type": "code",
   "execution_count": 101,
   "metadata": {},
   "outputs": [
    {
     "data": {
      "text/html": [
       "<table class=\"simpletable\">\n",
       "<caption>OLS Regression Results</caption>\n",
       "<tr>\n",
       "  <th>Dep. Variable:</th>          <td>csMPa</td>      <th>  R-squared:         </th> <td>   0.729</td> \n",
       "</tr>\n",
       "<tr>\n",
       "  <th>Model:</th>                   <td>OLS</td>       <th>  Adj. R-squared:    </th> <td>   0.727</td> \n",
       "</tr>\n",
       "<tr>\n",
       "  <th>Method:</th>             <td>Least Squares</td>  <th>  F-statistic:       </th> <td>   343.4</td> \n",
       "</tr>\n",
       "<tr>\n",
       "  <th>Date:</th>             <td>Sat, 21 Jan 2023</td> <th>  Prob (F-statistic):</th> <td>2.85e-283</td>\n",
       "</tr>\n",
       "<tr>\n",
       "  <th>Time:</th>                 <td>15:05:33</td>     <th>  Log-Likelihood:    </th> <td> -3687.9</td> \n",
       "</tr>\n",
       "<tr>\n",
       "  <th>No. Observations:</th>      <td>  1030</td>      <th>  AIC:               </th> <td>   7394.</td> \n",
       "</tr>\n",
       "<tr>\n",
       "  <th>Df Residuals:</th>          <td>  1021</td>      <th>  BIC:               </th> <td>   7438.</td> \n",
       "</tr>\n",
       "<tr>\n",
       "  <th>Df Model:</th>              <td>     8</td>      <th>                     </th>     <td> </td>    \n",
       "</tr>\n",
       "<tr>\n",
       "  <th>Covariance Type:</th>      <td>nonrobust</td>    <th>                     </th>     <td> </td>    \n",
       "</tr>\n",
       "</table>\n",
       "<table class=\"simpletable\">\n",
       "<tr>\n",
       "          <td></td>            <th>coef</th>     <th>std err</th>      <th>t</th>      <th>P>|t|</th>  <th>[0.025</th>    <th>0.975]</th>  \n",
       "</tr>\n",
       "<tr>\n",
       "  <th>const</th>            <td>   -3.8247</td> <td>   22.441</td> <td>   -0.170</td> <td> 0.865</td> <td>  -47.860</td> <td>   40.210</td>\n",
       "</tr>\n",
       "<tr>\n",
       "  <th>cement</th>           <td>    0.1139</td> <td>    0.007</td> <td>   15.993</td> <td> 0.000</td> <td>    0.100</td> <td>    0.128</td>\n",
       "</tr>\n",
       "<tr>\n",
       "  <th>slag</th>             <td>    0.0969</td> <td>    0.008</td> <td>   11.425</td> <td> 0.000</td> <td>    0.080</td> <td>    0.113</td>\n",
       "</tr>\n",
       "<tr>\n",
       "  <th>flyash</th>           <td>    0.0765</td> <td>    0.011</td> <td>    7.279</td> <td> 0.000</td> <td>    0.056</td> <td>    0.097</td>\n",
       "</tr>\n",
       "<tr>\n",
       "  <th>water</th>            <td>   -0.1758</td> <td>    0.034</td> <td>   -5.123</td> <td> 0.000</td> <td>   -0.243</td> <td>   -0.108</td>\n",
       "</tr>\n",
       "<tr>\n",
       "  <th>superplasticizer</th> <td>    0.2596</td> <td>    0.083</td> <td>    3.141</td> <td> 0.002</td> <td>    0.097</td> <td>    0.422</td>\n",
       "</tr>\n",
       "<tr>\n",
       "  <th>coarseaggregate</th>  <td>    0.0093</td> <td>    0.008</td> <td>    1.176</td> <td> 0.240</td> <td>   -0.006</td> <td>    0.025</td>\n",
       "</tr>\n",
       "<tr>\n",
       "  <th>fineaggregate</th>    <td>    0.0103</td> <td>    0.009</td> <td>    1.143</td> <td> 0.253</td> <td>   -0.007</td> <td>    0.028</td>\n",
       "</tr>\n",
       "<tr>\n",
       "  <th>age</th>              <td>    0.2530</td> <td>    0.008</td> <td>   32.418</td> <td> 0.000</td> <td>    0.238</td> <td>    0.268</td>\n",
       "</tr>\n",
       "</table>\n",
       "<table class=\"simpletable\">\n",
       "<tr>\n",
       "  <th>Omnibus:</th>       <td> 6.268</td> <th>  Durbin-Watson:     </th> <td>   1.224</td>\n",
       "</tr>\n",
       "<tr>\n",
       "  <th>Prob(Omnibus):</th> <td> 0.044</td> <th>  Jarque-Bera (JB):  </th> <td>   7.045</td>\n",
       "</tr>\n",
       "<tr>\n",
       "  <th>Skew:</th>          <td> 0.108</td> <th>  Prob(JB):          </th> <td>  0.0295</td>\n",
       "</tr>\n",
       "<tr>\n",
       "  <th>Kurtosis:</th>      <td> 3.343</td> <th>  Cond. No.          </th> <td>1.07e+05</td>\n",
       "</tr>\n",
       "</table><br/><br/>Warnings:<br/>[1] Standard Errors assume that the covariance matrix of the errors is correctly specified.<br/>[2] The condition number is large, 1.07e+05. This might indicate that there are<br/>strong multicollinearity or other numerical problems."
      ],
      "text/plain": [
       "<class 'statsmodels.iolib.summary.Summary'>\n",
       "\"\"\"\n",
       "                            OLS Regression Results                            \n",
       "==============================================================================\n",
       "Dep. Variable:                  csMPa   R-squared:                       0.729\n",
       "Model:                            OLS   Adj. R-squared:                  0.727\n",
       "Method:                 Least Squares   F-statistic:                     343.4\n",
       "Date:                Sat, 21 Jan 2023   Prob (F-statistic):          2.85e-283\n",
       "Time:                        15:05:33   Log-Likelihood:                -3687.9\n",
       "No. Observations:                1030   AIC:                             7394.\n",
       "Df Residuals:                    1021   BIC:                             7438.\n",
       "Df Model:                           8                                         \n",
       "Covariance Type:            nonrobust                                         \n",
       "====================================================================================\n",
       "                       coef    std err          t      P>|t|      [0.025      0.975]\n",
       "------------------------------------------------------------------------------------\n",
       "const               -3.8247     22.441     -0.170      0.865     -47.860      40.210\n",
       "cement               0.1139      0.007     15.993      0.000       0.100       0.128\n",
       "slag                 0.0969      0.008     11.425      0.000       0.080       0.113\n",
       "flyash               0.0765      0.011      7.279      0.000       0.056       0.097\n",
       "water               -0.1758      0.034     -5.123      0.000      -0.243      -0.108\n",
       "superplasticizer     0.2596      0.083      3.141      0.002       0.097       0.422\n",
       "coarseaggregate      0.0093      0.008      1.176      0.240      -0.006       0.025\n",
       "fineaggregate        0.0103      0.009      1.143      0.253      -0.007       0.028\n",
       "age                  0.2530      0.008     32.418      0.000       0.238       0.268\n",
       "==============================================================================\n",
       "Omnibus:                        6.268   Durbin-Watson:                   1.224\n",
       "Prob(Omnibus):                  0.044   Jarque-Bera (JB):                7.045\n",
       "Skew:                           0.108   Prob(JB):                       0.0295\n",
       "Kurtosis:                       3.343   Cond. No.                     1.07e+05\n",
       "==============================================================================\n",
       "\n",
       "Warnings:\n",
       "[1] Standard Errors assume that the covariance matrix of the errors is correctly specified.\n",
       "[2] The condition number is large, 1.07e+05. This might indicate that there are\n",
       "strong multicollinearity or other numerical problems.\n",
       "\"\"\""
      ]
     },
     "execution_count": 101,
     "metadata": {},
     "output_type": "execute_result"
    }
   ],
   "source": [
    "inpc=sm.add_constant(inp)\n",
    "mod=sm.OLS(out1,inpc)\n",
    "ols_mod=mod.fit()\n",
    "ols_mod.summary()"
   ]
  },
  {
   "cell_type": "markdown",
   "metadata": {},
   "source": [
    "### INFERENCE: <font color='Green'>From the OLS summary, we can say that R2 value is nearly equal to 0.72, which means for any change in input or independent variables, there will be nearly 72 % change in output or target variable.\n",
    "\n",
    "### <font color='Green'>The data also has a strong multi collinearity.</font>\n"
   ]
  },
  {
   "cell_type": "code",
   "execution_count": 84,
   "metadata": {},
   "outputs": [
    {
     "data": {
      "text/html": [
       "<div>\n",
       "<style scoped>\n",
       "    .dataframe tbody tr th:only-of-type {\n",
       "        vertical-align: middle;\n",
       "    }\n",
       "\n",
       "    .dataframe tbody tr th {\n",
       "        vertical-align: top;\n",
       "    }\n",
       "\n",
       "    .dataframe thead th {\n",
       "        text-align: right;\n",
       "    }\n",
       "</style>\n",
       "<table border=\"1\" class=\"dataframe\">\n",
       "  <thead>\n",
       "    <tr style=\"text-align: right;\">\n",
       "      <th></th>\n",
       "      <th>features</th>\n",
       "      <th>VIF</th>\n",
       "    </tr>\n",
       "  </thead>\n",
       "  <tbody>\n",
       "    <tr>\n",
       "      <th>5</th>\n",
       "      <td>coarseaggregate</td>\n",
       "      <td>85.208452</td>\n",
       "    </tr>\n",
       "    <tr>\n",
       "      <th>3</th>\n",
       "      <td>water</td>\n",
       "      <td>82.404805</td>\n",
       "    </tr>\n",
       "    <tr>\n",
       "      <th>6</th>\n",
       "      <td>fineaggregate</td>\n",
       "      <td>72.789987</td>\n",
       "    </tr>\n",
       "    <tr>\n",
       "      <th>0</th>\n",
       "      <td>cement</td>\n",
       "      <td>15.551495</td>\n",
       "    </tr>\n",
       "    <tr>\n",
       "      <th>4</th>\n",
       "      <td>superplasticizer</td>\n",
       "      <td>5.787237</td>\n",
       "    </tr>\n",
       "    <tr>\n",
       "      <th>2</th>\n",
       "      <td>flyash</td>\n",
       "      <td>4.271344</td>\n",
       "    </tr>\n",
       "    <tr>\n",
       "      <th>1</th>\n",
       "      <td>slag</td>\n",
       "      <td>3.373500</td>\n",
       "    </tr>\n",
       "    <tr>\n",
       "      <th>7</th>\n",
       "      <td>age</td>\n",
       "      <td>2.249178</td>\n",
       "    </tr>\n",
       "  </tbody>\n",
       "</table>\n",
       "</div>"
      ],
      "text/plain": [
       "           features       VIF\n",
       "5   coarseaggregate 85.208452\n",
       "3             water 82.404805\n",
       "6     fineaggregate 72.789987\n",
       "0            cement 15.551495\n",
       "4  superplasticizer  5.787237\n",
       "2            flyash  4.271344\n",
       "1              slag  3.373500\n",
       "7               age  2.249178"
      ]
     },
     "execution_count": 84,
     "metadata": {},
     "output_type": "execute_result"
    }
   ],
   "source": [
    "# To handle multicollinearity\n",
    "\n",
    "vif=pd.DataFrame()\n",
    "vif['features']=inp.columns\n",
    "vif['VIF']=[variance_inflation_factor(inp.values,i) for i in range(inp.shape[1])]\n",
    "vif.sort_values('VIF',ascending=False)"
   ]
  },
  {
   "cell_type": "markdown",
   "metadata": {},
   "source": [
    "### INFERENCE: <font color='Green'>From the VIF result , we can say that 'coarseaggregate', 'fineaggregate', 'water' has high multi- correlation in the dataset. Lets try dropping features that has high correlation.</font>"
   ]
  },
  {
   "cell_type": "code",
   "execution_count": 85,
   "metadata": {},
   "outputs": [
    {
     "data": {
      "text/html": [
       "<div>\n",
       "<style scoped>\n",
       "    .dataframe tbody tr th:only-of-type {\n",
       "        vertical-align: middle;\n",
       "    }\n",
       "\n",
       "    .dataframe tbody tr th {\n",
       "        vertical-align: top;\n",
       "    }\n",
       "\n",
       "    .dataframe thead th {\n",
       "        text-align: right;\n",
       "    }\n",
       "</style>\n",
       "<table border=\"1\" class=\"dataframe\">\n",
       "  <thead>\n",
       "    <tr style=\"text-align: right;\">\n",
       "      <th></th>\n",
       "      <th>features</th>\n",
       "      <th>VIF</th>\n",
       "    </tr>\n",
       "  </thead>\n",
       "  <tbody>\n",
       "    <tr>\n",
       "      <th>3</th>\n",
       "      <td>water</td>\n",
       "      <td>72.259537</td>\n",
       "    </tr>\n",
       "    <tr>\n",
       "      <th>5</th>\n",
       "      <td>fineaggregate</td>\n",
       "      <td>48.745497</td>\n",
       "    </tr>\n",
       "    <tr>\n",
       "      <th>0</th>\n",
       "      <td>cement</td>\n",
       "      <td>14.624787</td>\n",
       "    </tr>\n",
       "    <tr>\n",
       "      <th>4</th>\n",
       "      <td>superplasticizer</td>\n",
       "      <td>5.721247</td>\n",
       "    </tr>\n",
       "    <tr>\n",
       "      <th>2</th>\n",
       "      <td>flyash</td>\n",
       "      <td>4.090715</td>\n",
       "    </tr>\n",
       "    <tr>\n",
       "      <th>1</th>\n",
       "      <td>slag</td>\n",
       "      <td>3.344039</td>\n",
       "    </tr>\n",
       "    <tr>\n",
       "      <th>6</th>\n",
       "      <td>age</td>\n",
       "      <td>2.248150</td>\n",
       "    </tr>\n",
       "  </tbody>\n",
       "</table>\n",
       "</div>"
      ],
      "text/plain": [
       "           features       VIF\n",
       "3             water 72.259537\n",
       "5     fineaggregate 48.745497\n",
       "0            cement 14.624787\n",
       "4  superplasticizer  5.721247\n",
       "2            flyash  4.090715\n",
       "1              slag  3.344039\n",
       "6               age  2.248150"
      ]
     },
     "execution_count": 85,
     "metadata": {},
     "output_type": "execute_result"
    }
   ],
   "source": [
    "inp1=inp.drop('coarseaggregate',axis=1)\n",
    "vif=pd.DataFrame()\n",
    "vif['features']=inp1.columns\n",
    "vif['VIF']=[variance_inflation_factor(inp1.values,i) for i in range(inp1.shape[1])]\n",
    "vif.sort_values('VIF',ascending=False)"
   ]
  },
  {
   "cell_type": "code",
   "execution_count": 86,
   "metadata": {},
   "outputs": [
    {
     "data": {
      "text/html": [
       "<div>\n",
       "<style scoped>\n",
       "    .dataframe tbody tr th:only-of-type {\n",
       "        vertical-align: middle;\n",
       "    }\n",
       "\n",
       "    .dataframe tbody tr th {\n",
       "        vertical-align: top;\n",
       "    }\n",
       "\n",
       "    .dataframe thead th {\n",
       "        text-align: right;\n",
       "    }\n",
       "</style>\n",
       "<table border=\"1\" class=\"dataframe\">\n",
       "  <thead>\n",
       "    <tr style=\"text-align: right;\">\n",
       "      <th></th>\n",
       "      <th>features</th>\n",
       "      <th>VIF</th>\n",
       "    </tr>\n",
       "  </thead>\n",
       "  <tbody>\n",
       "    <tr>\n",
       "      <th>3</th>\n",
       "      <td>water</td>\n",
       "      <td>21.649099</td>\n",
       "    </tr>\n",
       "    <tr>\n",
       "      <th>0</th>\n",
       "      <td>cement</td>\n",
       "      <td>14.336074</td>\n",
       "    </tr>\n",
       "    <tr>\n",
       "      <th>4</th>\n",
       "      <td>superplasticizer</td>\n",
       "      <td>4.025402</td>\n",
       "    </tr>\n",
       "    <tr>\n",
       "      <th>2</th>\n",
       "      <td>flyash</td>\n",
       "      <td>3.993553</td>\n",
       "    </tr>\n",
       "    <tr>\n",
       "      <th>1</th>\n",
       "      <td>slag</td>\n",
       "      <td>3.058662</td>\n",
       "    </tr>\n",
       "    <tr>\n",
       "      <th>5</th>\n",
       "      <td>age</td>\n",
       "      <td>2.235123</td>\n",
       "    </tr>\n",
       "  </tbody>\n",
       "</table>\n",
       "</div>"
      ],
      "text/plain": [
       "           features       VIF\n",
       "3             water 21.649099\n",
       "0            cement 14.336074\n",
       "4  superplasticizer  4.025402\n",
       "2            flyash  3.993553\n",
       "1              slag  3.058662\n",
       "5               age  2.235123"
      ]
     },
     "execution_count": 86,
     "metadata": {},
     "output_type": "execute_result"
    }
   ],
   "source": [
    "inp2=inp1.drop('fineaggregate',axis=1)\n",
    "vif=pd.DataFrame()\n",
    "vif['features']=inp2.columns\n",
    "vif['VIF']=[variance_inflation_factor(inp2.values,i) for i in range(inp2.shape[1])]\n",
    "vif.sort_values('VIF',ascending=False)"
   ]
  },
  {
   "cell_type": "markdown",
   "metadata": {},
   "source": [
    "### INFERENCE: <font color='Green'>We have dropped  'coarseaggregate' and 'fineaggregate' feature but still left with water. Water cannot be dropped as it is an important factor in predicting 'csMPa'. Lets try to fit a model again by ignoring these 2 variables also.</font>"
   ]
  },
  {
   "cell_type": "code",
   "execution_count": 113,
   "metadata": {},
   "outputs": [
    {
     "data": {
      "text/html": [
       "<table class=\"simpletable\">\n",
       "<caption>OLS Regression Results</caption>\n",
       "<tr>\n",
       "  <th>Dep. Variable:</th>          <td>csMPa</td>      <th>  R-squared:         </th> <td>   0.729</td> \n",
       "</tr>\n",
       "<tr>\n",
       "  <th>Model:</th>                   <td>OLS</td>       <th>  Adj. R-squared:    </th> <td>   0.727</td> \n",
       "</tr>\n",
       "<tr>\n",
       "  <th>Method:</th>             <td>Least Squares</td>  <th>  F-statistic:       </th> <td>   457.8</td> \n",
       "</tr>\n",
       "<tr>\n",
       "  <th>Date:</th>             <td>Sat, 21 Jan 2023</td> <th>  Prob (F-statistic):</th> <td>1.30e-285</td>\n",
       "</tr>\n",
       "<tr>\n",
       "  <th>Time:</th>                 <td>15:12:53</td>     <th>  Log-Likelihood:    </th> <td> -3688.7</td> \n",
       "</tr>\n",
       "<tr>\n",
       "  <th>No. Observations:</th>      <td>  1030</td>      <th>  AIC:               </th> <td>   7391.</td> \n",
       "</tr>\n",
       "<tr>\n",
       "  <th>Df Residuals:</th>          <td>  1023</td>      <th>  BIC:               </th> <td>   7426.</td> \n",
       "</tr>\n",
       "<tr>\n",
       "  <th>Df Model:</th>              <td>     6</td>      <th>                     </th>     <td> </td>    \n",
       "</tr>\n",
       "<tr>\n",
       "  <th>Covariance Type:</th>      <td>nonrobust</td>    <th>                     </th>     <td> </td>    \n",
       "</tr>\n",
       "</table>\n",
       "<table class=\"simpletable\">\n",
       "<tr>\n",
       "          <td></td>            <th>coef</th>     <th>std err</th>      <th>t</th>      <th>P>|t|</th>  <th>[0.025</th>    <th>0.975]</th>  \n",
       "</tr>\n",
       "<tr>\n",
       "  <th>const</th>            <td>   23.0431</td> <td>    3.554</td> <td>    6.484</td> <td> 0.000</td> <td>   16.069</td> <td>   30.017</td>\n",
       "</tr>\n",
       "<tr>\n",
       "  <th>cement</th>           <td>    0.1066</td> <td>    0.004</td> <td>   29.946</td> <td> 0.000</td> <td>    0.100</td> <td>    0.114</td>\n",
       "</tr>\n",
       "<tr>\n",
       "  <th>slag</th>             <td>    0.0880</td> <td>    0.004</td> <td>   21.010</td> <td> 0.000</td> <td>    0.080</td> <td>    0.096</td>\n",
       "</tr>\n",
       "<tr>\n",
       "  <th>flyash</th>           <td>    0.0668</td> <td>    0.007</td> <td>   10.189</td> <td> 0.000</td> <td>    0.054</td> <td>    0.080</td>\n",
       "</tr>\n",
       "<tr>\n",
       "  <th>water</th>            <td>   -0.2113</td> <td>    0.018</td> <td>  -11.865</td> <td> 0.000</td> <td>   -0.246</td> <td>   -0.176</td>\n",
       "</tr>\n",
       "<tr>\n",
       "  <th>superplasticizer</th> <td>    0.2294</td> <td>    0.075</td> <td>    3.079</td> <td> 0.002</td> <td>    0.083</td> <td>    0.376</td>\n",
       "</tr>\n",
       "<tr>\n",
       "  <th>age</th>              <td>    0.2529</td> <td>    0.008</td> <td>   32.462</td> <td> 0.000</td> <td>    0.238</td> <td>    0.268</td>\n",
       "</tr>\n",
       "</table>\n",
       "<table class=\"simpletable\">\n",
       "<tr>\n",
       "  <th>Omnibus:</th>       <td> 5.631</td> <th>  Durbin-Watson:     </th> <td>   1.230</td>\n",
       "</tr>\n",
       "<tr>\n",
       "  <th>Prob(Omnibus):</th> <td> 0.060</td> <th>  Jarque-Bera (JB):  </th> <td>   6.325</td>\n",
       "</tr>\n",
       "<tr>\n",
       "  <th>Skew:</th>          <td> 0.095</td> <th>  Prob(JB):          </th> <td>  0.0423</td>\n",
       "</tr>\n",
       "<tr>\n",
       "  <th>Kurtosis:</th>      <td> 3.334</td> <th>  Cond. No.          </th> <td>4.68e+03</td>\n",
       "</tr>\n",
       "</table><br/><br/>Warnings:<br/>[1] Standard Errors assume that the covariance matrix of the errors is correctly specified.<br/>[2] The condition number is large, 4.68e+03. This might indicate that there are<br/>strong multicollinearity or other numerical problems."
      ],
      "text/plain": [
       "<class 'statsmodels.iolib.summary.Summary'>\n",
       "\"\"\"\n",
       "                            OLS Regression Results                            \n",
       "==============================================================================\n",
       "Dep. Variable:                  csMPa   R-squared:                       0.729\n",
       "Model:                            OLS   Adj. R-squared:                  0.727\n",
       "Method:                 Least Squares   F-statistic:                     457.8\n",
       "Date:                Sat, 21 Jan 2023   Prob (F-statistic):          1.30e-285\n",
       "Time:                        15:12:53   Log-Likelihood:                -3688.7\n",
       "No. Observations:                1030   AIC:                             7391.\n",
       "Df Residuals:                    1023   BIC:                             7426.\n",
       "Df Model:                           6                                         \n",
       "Covariance Type:            nonrobust                                         \n",
       "====================================================================================\n",
       "                       coef    std err          t      P>|t|      [0.025      0.975]\n",
       "------------------------------------------------------------------------------------\n",
       "const               23.0431      3.554      6.484      0.000      16.069      30.017\n",
       "cement               0.1066      0.004     29.946      0.000       0.100       0.114\n",
       "slag                 0.0880      0.004     21.010      0.000       0.080       0.096\n",
       "flyash               0.0668      0.007     10.189      0.000       0.054       0.080\n",
       "water               -0.2113      0.018    -11.865      0.000      -0.246      -0.176\n",
       "superplasticizer     0.2294      0.075      3.079      0.002       0.083       0.376\n",
       "age                  0.2529      0.008     32.462      0.000       0.238       0.268\n",
       "==============================================================================\n",
       "Omnibus:                        5.631   Durbin-Watson:                   1.230\n",
       "Prob(Omnibus):                  0.060   Jarque-Bera (JB):                6.325\n",
       "Skew:                           0.095   Prob(JB):                       0.0423\n",
       "Kurtosis:                       3.334   Cond. No.                     4.68e+03\n",
       "==============================================================================\n",
       "\n",
       "Warnings:\n",
       "[1] Standard Errors assume that the covariance matrix of the errors is correctly specified.\n",
       "[2] The condition number is large, 4.68e+03. This might indicate that there are\n",
       "strong multicollinearity or other numerical problems.\n",
       "\"\"\""
      ]
     },
     "execution_count": 113,
     "metadata": {},
     "output_type": "execute_result"
    }
   ],
   "source": [
    "out2=data['csMPa']\n",
    "\n",
    "# Input is all the columns except 'coarseaggregate', 'fineaggregate', 'csMPa'\n",
    "inp2=data.drop(columns=['coarseaggregate', 'fineaggregate', 'csMPa'])\n",
    "                   \n",
    "xtrain1,xtest1,ytrain1,ytest1=train_test_split(inp2,out2,test_size=0.3,random_state=40)\n",
    "\n",
    "\n",
    "lr = LinearRegression()\n",
    "ypred1= lr.fit(xtrain1, ytrain1).predict(xtest1)\n",
    "\n",
    "inpc=sm.add_constant(inp2)\n",
    "mod=sm.OLS(out2,inpc)\n",
    "ols_mod=mod.fit()\n",
    "ols_mod.summary()"
   ]
  },
  {
   "cell_type": "markdown",
   "metadata": {},
   "source": [
    "### INFERENCE: <font color='Green'>Even after dropping the values R-squared value and adjusted R2 remains the same.</font>\n",
    "### <font color='Green'>R-squared value = 0.729.</font>\n",
    "### <font color='Green'>Adjusted R2 value = 0.727 </font>"
   ]
  },
  {
   "cell_type": "code",
   "execution_count": 77,
   "metadata": {},
   "outputs": [],
   "source": [
    "#b. Observe the overall R- Squared, RMSE and MAPE values of the model. Please comment on whether it is good or not."
   ]
  },
  {
   "cell_type": "code",
   "execution_count": 105,
   "metadata": {},
   "outputs": [
    {
     "name": "stdout",
     "output_type": "stream",
     "text": [
      "R2 Score:  0.703739587045823\n",
      "RMSE(Root mean square error):  9.15779834236957\n",
      "MAPE(Mean absolute percentage error): 23.64277158723979\n"
     ]
    }
   ],
   "source": [
    "# Checking Model Metrics\n",
    "print(\"R2 Score: \", r2_score(ytest, ypred))\n",
    "print(\"RMSE(Root mean square error): \", np.sqrt(mean_squared_error(ytest, ypred)))\n",
    "print(\"MAPE(Mean absolute percentage error):\", np.mean(np.abs((ytest - ypred)/ytest))*100) "
   ]
  },
  {
   "cell_type": "markdown",
   "metadata": {},
   "source": [
    "### INFERENCE: <font color='Green'> R2 value is nearly equal to 0.7, which means for any change in input or independent variables, there will be nearly 72 % change in output ortarget variable.</font>\n",
    "\n",
    "### <font color='Green'> We can see that the RMSE value is 9.15.</font>\n",
    " \n",
    "### <font color='Green'> We can see that the MAPE value is 23.6%.</font>"
   ]
  },
  {
   "cell_type": "code",
   "execution_count": null,
   "metadata": {},
   "outputs": [],
   "source": []
  }
 ],
 "metadata": {
  "colab": {
   "provenance": []
  },
  "kernelspec": {
   "display_name": "Python 3",
   "language": "python",
   "name": "python3"
  },
  "language_info": {
   "codemirror_mode": {
    "name": "ipython",
    "version": 3
   },
   "file_extension": ".py",
   "mimetype": "text/x-python",
   "name": "python",
   "nbconvert_exporter": "python",
   "pygments_lexer": "ipython3",
   "version": "3.7.6"
  }
 },
 "nbformat": 4,
 "nbformat_minor": 1
}
