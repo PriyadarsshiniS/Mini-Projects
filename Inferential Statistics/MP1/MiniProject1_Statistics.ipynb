{
 "cells": [
  {
   "cell_type": "markdown",
   "metadata": {
    "id": "XMvqQFs1ERE-"
   },
   "source": [
    "<table align=\"center\" width=100%>\n",
    "    <tr>\n",
    "       <td>\n",
    "            <div align=\"center\">\n",
    "                <font color=\"#21618C\" size=8px>\n",
    "                    <b> MINI PROJECT 1 Inferential Statistics<br>\n",
    "                    </b>\n",
    "                </font>\n",
    "            </div>\n",
    "        </td>\n",
    "        <td width=\"25%\">\n",
    "            <img src=\"NEW_GL_Logo.png\">\n",
    "        </td>\n",
    "    </tr>\n",
    "</table>"
   ]
  },
  {
   "cell_type": "markdown",
   "metadata": {
    "id": "ih5xV04uERFH"
   },
   "source": [
    "### Question -1(20 Marks)"
   ]
  },
  {
   "cell_type": "markdown",
   "metadata": {
    "id": "d9YOuCEhERFI"
   },
   "source": [
    "a.Read the Dataset \"turnout.csv\" (1 mark)\n",
    "\n",
    "b.Identify non-numerical inputs and convert into numerical wherever needed (3 marks) (*Hint: Use replace function if needed)\n",
    "\n",
    "c. Check whether the dataset having null values or not. If yes, do replace them with suitable average value (2 marks) (*Think out of box)\n",
    "\n",
    "d.Find mean, median and mode for atleast one possible column for each (3 marks)\n",
    "\n",
    "e.Check the outliers and remove it from the dataset. (3 marks)\n",
    "\n",
    "f.A city affected by 3 cyclones in a year on an average. Find the probability if the same city will getting affected by exactly 2 cyclones in the upcoming year (4 marks)\n",
    "\n",
    "g.If an athlete attended  6 olympics in his lifetime. Find the probability if he exactly have 2 wins (4 marks)\n",
    "\n"
   ]
  },
  {
   "cell_type": "code",
   "execution_count": 31,
   "metadata": {
    "id": "qnQgOXQYERFJ"
   },
   "outputs": [],
   "source": [
    "#import the libraries\n",
    "import pandas as pd\n",
    "import numpy as np\n",
    "import seaborn as sns\n",
    "from matplotlib import pyplot as plt"
   ]
  },
  {
   "cell_type": "markdown",
   "metadata": {
    "id": "AdGDjSCUblrp"
   },
   "source": [
    "### A. Read the Dataset \"turnout.csv\" (1 mark)"
   ]
  },
  {
   "cell_type": "code",
   "execution_count": 32,
   "metadata": {
    "id": "_I_S2aosERFL"
   },
   "outputs": [
    {
     "data": {
      "text/html": [
       "<div>\n",
       "<style scoped>\n",
       "    .dataframe tbody tr th:only-of-type {\n",
       "        vertical-align: middle;\n",
       "    }\n",
       "\n",
       "    .dataframe tbody tr th {\n",
       "        vertical-align: top;\n",
       "    }\n",
       "\n",
       "    .dataframe thead th {\n",
       "        text-align: right;\n",
       "    }\n",
       "</style>\n",
       "<table border=\"1\" class=\"dataframe\">\n",
       "  <thead>\n",
       "    <tr style=\"text-align: right;\">\n",
       "      <th></th>\n",
       "      <th>Employee ID</th>\n",
       "      <th>event</th>\n",
       "      <th>gender</th>\n",
       "      <th>age</th>\n",
       "      <th>industry</th>\n",
       "      <th>profession</th>\n",
       "      <th>traffic</th>\n",
       "      <th>coach</th>\n",
       "      <th>head_gender</th>\n",
       "      <th>greywage</th>\n",
       "      <th>way</th>\n",
       "      <th>extraversion</th>\n",
       "      <th>independ</th>\n",
       "      <th>selfcontrol</th>\n",
       "      <th>anxiety</th>\n",
       "      <th>novator</th>\n",
       "    </tr>\n",
       "  </thead>\n",
       "  <tbody>\n",
       "    <tr>\n",
       "      <th>0</th>\n",
       "      <td>1011</td>\n",
       "      <td>1</td>\n",
       "      <td>m</td>\n",
       "      <td>35.0</td>\n",
       "      <td>Banks</td>\n",
       "      <td>HR</td>\n",
       "      <td>rabrecNErab</td>\n",
       "      <td>no</td>\n",
       "      <td>f</td>\n",
       "      <td>white</td>\n",
       "      <td>bus</td>\n",
       "      <td>6.2</td>\n",
       "      <td>4.1</td>\n",
       "      <td>5.7</td>\n",
       "      <td>7.1</td>\n",
       "      <td>8.3</td>\n",
       "    </tr>\n",
       "    <tr>\n",
       "      <th>1</th>\n",
       "      <td>1012</td>\n",
       "      <td>1</td>\n",
       "      <td>m</td>\n",
       "      <td>33.0</td>\n",
       "      <td>Banks</td>\n",
       "      <td>HR</td>\n",
       "      <td>empjs</td>\n",
       "      <td>no</td>\n",
       "      <td>m</td>\n",
       "      <td>white</td>\n",
       "      <td>bus</td>\n",
       "      <td>6.2</td>\n",
       "      <td>4.1</td>\n",
       "      <td>5.7</td>\n",
       "      <td>7.1</td>\n",
       "      <td>8.3</td>\n",
       "    </tr>\n",
       "    <tr>\n",
       "      <th>2</th>\n",
       "      <td>1013</td>\n",
       "      <td>1</td>\n",
       "      <td>f</td>\n",
       "      <td>35.0</td>\n",
       "      <td>PowerGeneration</td>\n",
       "      <td>HR</td>\n",
       "      <td>rabrecNErab</td>\n",
       "      <td>no</td>\n",
       "      <td>m</td>\n",
       "      <td>white</td>\n",
       "      <td>bus</td>\n",
       "      <td>6.2</td>\n",
       "      <td>6.2</td>\n",
       "      <td>2.6</td>\n",
       "      <td>4.8</td>\n",
       "      <td>8.3</td>\n",
       "    </tr>\n",
       "    <tr>\n",
       "      <th>3</th>\n",
       "      <td>1014</td>\n",
       "      <td>1</td>\n",
       "      <td>f</td>\n",
       "      <td>35.0</td>\n",
       "      <td>PowerGeneration</td>\n",
       "      <td>HR</td>\n",
       "      <td>rabrecNErab</td>\n",
       "      <td>no</td>\n",
       "      <td>m</td>\n",
       "      <td>white</td>\n",
       "      <td>bus</td>\n",
       "      <td>5.4</td>\n",
       "      <td>7.6</td>\n",
       "      <td>4.9</td>\n",
       "      <td>2.5</td>\n",
       "      <td>6.7</td>\n",
       "    </tr>\n",
       "    <tr>\n",
       "      <th>4</th>\n",
       "      <td>1015</td>\n",
       "      <td>1</td>\n",
       "      <td>m</td>\n",
       "      <td>32.0</td>\n",
       "      <td>Retail</td>\n",
       "      <td>Commercial</td>\n",
       "      <td>youjs</td>\n",
       "      <td>yes</td>\n",
       "      <td>f</td>\n",
       "      <td>white</td>\n",
       "      <td>bus</td>\n",
       "      <td>3.0</td>\n",
       "      <td>4.1</td>\n",
       "      <td>8.0</td>\n",
       "      <td>7.1</td>\n",
       "      <td>3.7</td>\n",
       "    </tr>\n",
       "  </tbody>\n",
       "</table>\n",
       "</div>"
      ],
      "text/plain": [
       "   Employee ID  event gender   age         industry  profession      traffic  \\\n",
       "0         1011      1      m  35.0            Banks          HR  rabrecNErab   \n",
       "1         1012      1      m  33.0            Banks          HR        empjs   \n",
       "2         1013      1      f  35.0  PowerGeneration          HR  rabrecNErab   \n",
       "3         1014      1      f  35.0  PowerGeneration          HR  rabrecNErab   \n",
       "4         1015      1      m  32.0           Retail  Commercial        youjs   \n",
       "\n",
       "  coach head_gender greywage  way  extraversion  independ  selfcontrol  \\\n",
       "0    no           f    white  bus           6.2       4.1          5.7   \n",
       "1    no           m    white  bus           6.2       4.1          5.7   \n",
       "2    no           m    white  bus           6.2       6.2          2.6   \n",
       "3    no           m    white  bus           5.4       7.6          4.9   \n",
       "4   yes           f    white  bus           3.0       4.1          8.0   \n",
       "\n",
       "   anxiety  novator  \n",
       "0      7.1      8.3  \n",
       "1      7.1      8.3  \n",
       "2      4.8      8.3  \n",
       "3      2.5      6.7  \n",
       "4      7.1      3.7  "
      ]
     },
     "execution_count": 32,
     "metadata": {},
     "output_type": "execute_result"
    }
   ],
   "source": [
    "original_data=pd.read_csv('turnout.csv',encoding='ISO-8859-1')\n",
    "data=original_data.copy()\n",
    "data.head(5)"
   ]
  },
  {
   "cell_type": "markdown",
   "metadata": {
    "id": "RyfxYh8Lbwdd"
   },
   "source": [
    "### B.Identify non-numerical inputs and convert into numerical whatever needed (3 marks) \n",
    "(*Hint: Use replace function if needed)"
   ]
  },
  {
   "cell_type": "code",
   "execution_count": 33,
   "metadata": {},
   "outputs": [
    {
     "data": {
      "text/plain": [
       "gender         object\n",
       "greywage       object\n",
       "head_gender    object\n",
       "dtype: object"
      ]
     },
     "execution_count": 33,
     "metadata": {},
     "output_type": "execute_result"
    }
   ],
   "source": [
    "cat_col= pd.DataFrame(data,columns = ['gender','greywage','head_gender'])\n",
    "cat_col.dtypes"
   ]
  },
  {
   "cell_type": "markdown",
   "metadata": {},
   "source": [
    "### <font color='green'>INFERENCE: Initially above three columns are in non-numerical format. In other words, they fall under categorical data type</font>"
   ]
  },
  {
   "cell_type": "code",
   "execution_count": 34,
   "metadata": {},
   "outputs": [],
   "source": [
    "data['gender'].replace({'m':1.0,'f':0.0},inplace=True)\n",
    "data['head_gender'].replace({'m':1.0,'f':0.0},inplace=True)\n",
    "data['greywage'].replace({'white':0,'grey':1},inplace=True)"
   ]
  },
  {
   "cell_type": "code",
   "execution_count": 35,
   "metadata": {},
   "outputs": [
    {
     "data": {
      "text/plain": [
       "gender         float64\n",
       "head_gender    float64\n",
       "greywage         int64\n",
       "dtype: object"
      ]
     },
     "execution_count": 35,
     "metadata": {},
     "output_type": "execute_result"
    }
   ],
   "source": [
    "num_col= pd.DataFrame(data,columns = ['gender','head_gender','greywage'])\n",
    "num_col.dtypes"
   ]
  },
  {
   "cell_type": "markdown",
   "metadata": {},
   "source": [
    "### <font color='green'>INFERENCE: By using 'replace' function we converted above 3 non-numerical data into numerical data format. This is also confirmed by displaying their data type in the above cell.</font>"
   ]
  },
  {
   "cell_type": "markdown",
   "metadata": {
    "id": "oQbYqF4Bb1Gs"
   },
   "source": [
    "### C. Describe the statistical measures using single function (2 marks)"
   ]
  },
  {
   "cell_type": "code",
   "execution_count": 36,
   "metadata": {
    "id": "oB2gD_tXb7TD"
   },
   "outputs": [
    {
     "data": {
      "text/html": [
       "<div>\n",
       "<style scoped>\n",
       "    .dataframe tbody tr th:only-of-type {\n",
       "        vertical-align: middle;\n",
       "    }\n",
       "\n",
       "    .dataframe tbody tr th {\n",
       "        vertical-align: top;\n",
       "    }\n",
       "\n",
       "    .dataframe thead th {\n",
       "        text-align: right;\n",
       "    }\n",
       "</style>\n",
       "<table border=\"1\" class=\"dataframe\">\n",
       "  <thead>\n",
       "    <tr style=\"text-align: right;\">\n",
       "      <th></th>\n",
       "      <th>Employee ID</th>\n",
       "      <th>event</th>\n",
       "      <th>gender</th>\n",
       "      <th>age</th>\n",
       "      <th>industry</th>\n",
       "      <th>profession</th>\n",
       "      <th>traffic</th>\n",
       "      <th>coach</th>\n",
       "      <th>head_gender</th>\n",
       "      <th>greywage</th>\n",
       "      <th>way</th>\n",
       "      <th>extraversion</th>\n",
       "      <th>independ</th>\n",
       "      <th>selfcontrol</th>\n",
       "      <th>anxiety</th>\n",
       "      <th>novator</th>\n",
       "    </tr>\n",
       "  </thead>\n",
       "  <tbody>\n",
       "    <tr>\n",
       "      <th>count</th>\n",
       "      <td>1129.000000</td>\n",
       "      <td>1129.000000</td>\n",
       "      <td>1129.000000</td>\n",
       "      <td>1129.000000</td>\n",
       "      <td>1129</td>\n",
       "      <td>1129</td>\n",
       "      <td>1129</td>\n",
       "      <td>1129</td>\n",
       "      <td>1129.000000</td>\n",
       "      <td>1129.000000</td>\n",
       "      <td>1129</td>\n",
       "      <td>1128.000000</td>\n",
       "      <td>1127.000000</td>\n",
       "      <td>1128.000000</td>\n",
       "      <td>1128.000000</td>\n",
       "      <td>1128.000000</td>\n",
       "    </tr>\n",
       "    <tr>\n",
       "      <th>unique</th>\n",
       "      <td>NaN</td>\n",
       "      <td>NaN</td>\n",
       "      <td>NaN</td>\n",
       "      <td>NaN</td>\n",
       "      <td>16</td>\n",
       "      <td>15</td>\n",
       "      <td>8</td>\n",
       "      <td>3</td>\n",
       "      <td>NaN</td>\n",
       "      <td>NaN</td>\n",
       "      <td>3</td>\n",
       "      <td>NaN</td>\n",
       "      <td>NaN</td>\n",
       "      <td>NaN</td>\n",
       "      <td>NaN</td>\n",
       "      <td>NaN</td>\n",
       "    </tr>\n",
       "    <tr>\n",
       "      <th>top</th>\n",
       "      <td>NaN</td>\n",
       "      <td>NaN</td>\n",
       "      <td>NaN</td>\n",
       "      <td>NaN</td>\n",
       "      <td>Retail</td>\n",
       "      <td>HR</td>\n",
       "      <td>youjs</td>\n",
       "      <td>no</td>\n",
       "      <td>NaN</td>\n",
       "      <td>NaN</td>\n",
       "      <td>bus</td>\n",
       "      <td>NaN</td>\n",
       "      <td>NaN</td>\n",
       "      <td>NaN</td>\n",
       "      <td>NaN</td>\n",
       "      <td>NaN</td>\n",
       "    </tr>\n",
       "    <tr>\n",
       "      <th>freq</th>\n",
       "      <td>NaN</td>\n",
       "      <td>NaN</td>\n",
       "      <td>NaN</td>\n",
       "      <td>NaN</td>\n",
       "      <td>289</td>\n",
       "      <td>757</td>\n",
       "      <td>318</td>\n",
       "      <td>683</td>\n",
       "      <td>NaN</td>\n",
       "      <td>NaN</td>\n",
       "      <td>681</td>\n",
       "      <td>NaN</td>\n",
       "      <td>NaN</td>\n",
       "      <td>NaN</td>\n",
       "      <td>NaN</td>\n",
       "      <td>NaN</td>\n",
       "    </tr>\n",
       "    <tr>\n",
       "      <th>mean</th>\n",
       "      <td>1575.000000</td>\n",
       "      <td>0.505757</td>\n",
       "      <td>0.244464</td>\n",
       "      <td>31.050136</td>\n",
       "      <td>NaN</td>\n",
       "      <td>NaN</td>\n",
       "      <td>NaN</td>\n",
       "      <td>NaN</td>\n",
       "      <td>0.517272</td>\n",
       "      <td>0.112489</td>\n",
       "      <td>NaN</td>\n",
       "      <td>5.593262</td>\n",
       "      <td>5.480479</td>\n",
       "      <td>5.593794</td>\n",
       "      <td>5.667110</td>\n",
       "      <td>5.881560</td>\n",
       "    </tr>\n",
       "    <tr>\n",
       "      <th>std</th>\n",
       "      <td>326.058533</td>\n",
       "      <td>0.500188</td>\n",
       "      <td>0.429959</td>\n",
       "      <td>7.419808</td>\n",
       "      <td>NaN</td>\n",
       "      <td>NaN</td>\n",
       "      <td>NaN</td>\n",
       "      <td>NaN</td>\n",
       "      <td>0.499923</td>\n",
       "      <td>0.316107</td>\n",
       "      <td>NaN</td>\n",
       "      <td>1.852222</td>\n",
       "      <td>1.703578</td>\n",
       "      <td>1.977562</td>\n",
       "      <td>1.709213</td>\n",
       "      <td>1.903753</td>\n",
       "    </tr>\n",
       "    <tr>\n",
       "      <th>min</th>\n",
       "      <td>1011.000000</td>\n",
       "      <td>0.000000</td>\n",
       "      <td>0.000000</td>\n",
       "      <td>2.000000</td>\n",
       "      <td>NaN</td>\n",
       "      <td>NaN</td>\n",
       "      <td>NaN</td>\n",
       "      <td>NaN</td>\n",
       "      <td>0.000000</td>\n",
       "      <td>0.000000</td>\n",
       "      <td>NaN</td>\n",
       "      <td>1.000000</td>\n",
       "      <td>1.000000</td>\n",
       "      <td>1.000000</td>\n",
       "      <td>1.700000</td>\n",
       "      <td>1.000000</td>\n",
       "    </tr>\n",
       "    <tr>\n",
       "      <th>25%</th>\n",
       "      <td>1293.000000</td>\n",
       "      <td>0.000000</td>\n",
       "      <td>0.000000</td>\n",
       "      <td>25.000000</td>\n",
       "      <td>NaN</td>\n",
       "      <td>NaN</td>\n",
       "      <td>NaN</td>\n",
       "      <td>NaN</td>\n",
       "      <td>0.000000</td>\n",
       "      <td>0.000000</td>\n",
       "      <td>NaN</td>\n",
       "      <td>4.600000</td>\n",
       "      <td>4.100000</td>\n",
       "      <td>4.100000</td>\n",
       "      <td>4.800000</td>\n",
       "      <td>4.400000</td>\n",
       "    </tr>\n",
       "    <tr>\n",
       "      <th>50%</th>\n",
       "      <td>1575.000000</td>\n",
       "      <td>1.000000</td>\n",
       "      <td>0.000000</td>\n",
       "      <td>30.000000</td>\n",
       "      <td>NaN</td>\n",
       "      <td>NaN</td>\n",
       "      <td>NaN</td>\n",
       "      <td>NaN</td>\n",
       "      <td>1.000000</td>\n",
       "      <td>0.000000</td>\n",
       "      <td>NaN</td>\n",
       "      <td>5.400000</td>\n",
       "      <td>5.500000</td>\n",
       "      <td>5.700000</td>\n",
       "      <td>5.600000</td>\n",
       "      <td>6.000000</td>\n",
       "    </tr>\n",
       "    <tr>\n",
       "      <th>75%</th>\n",
       "      <td>1857.000000</td>\n",
       "      <td>1.000000</td>\n",
       "      <td>0.000000</td>\n",
       "      <td>36.000000</td>\n",
       "      <td>NaN</td>\n",
       "      <td>NaN</td>\n",
       "      <td>NaN</td>\n",
       "      <td>NaN</td>\n",
       "      <td>1.000000</td>\n",
       "      <td>0.000000</td>\n",
       "      <td>NaN</td>\n",
       "      <td>7.000000</td>\n",
       "      <td>6.900000</td>\n",
       "      <td>7.200000</td>\n",
       "      <td>7.100000</td>\n",
       "      <td>7.500000</td>\n",
       "    </tr>\n",
       "    <tr>\n",
       "      <th>max</th>\n",
       "      <td>2139.000000</td>\n",
       "      <td>1.000000</td>\n",
       "      <td>1.000000</td>\n",
       "      <td>98.000000</td>\n",
       "      <td>NaN</td>\n",
       "      <td>NaN</td>\n",
       "      <td>NaN</td>\n",
       "      <td>NaN</td>\n",
       "      <td>1.000000</td>\n",
       "      <td>1.000000</td>\n",
       "      <td>NaN</td>\n",
       "      <td>10.000000</td>\n",
       "      <td>10.000000</td>\n",
       "      <td>10.000000</td>\n",
       "      <td>10.000000</td>\n",
       "      <td>10.000000</td>\n",
       "    </tr>\n",
       "  </tbody>\n",
       "</table>\n",
       "</div>"
      ],
      "text/plain": [
       "        Employee ID        event       gender          age industry  \\\n",
       "count   1129.000000  1129.000000  1129.000000  1129.000000     1129   \n",
       "unique          NaN          NaN          NaN          NaN       16   \n",
       "top             NaN          NaN          NaN          NaN   Retail   \n",
       "freq            NaN          NaN          NaN          NaN      289   \n",
       "mean    1575.000000     0.505757     0.244464    31.050136      NaN   \n",
       "std      326.058533     0.500188     0.429959     7.419808      NaN   \n",
       "min     1011.000000     0.000000     0.000000     2.000000      NaN   \n",
       "25%     1293.000000     0.000000     0.000000    25.000000      NaN   \n",
       "50%     1575.000000     1.000000     0.000000    30.000000      NaN   \n",
       "75%     1857.000000     1.000000     0.000000    36.000000      NaN   \n",
       "max     2139.000000     1.000000     1.000000    98.000000      NaN   \n",
       "\n",
       "       profession traffic coach  head_gender     greywage   way  extraversion  \\\n",
       "count        1129    1129  1129  1129.000000  1129.000000  1129   1128.000000   \n",
       "unique         15       8     3          NaN          NaN     3           NaN   \n",
       "top            HR   youjs    no          NaN          NaN   bus           NaN   \n",
       "freq          757     318   683          NaN          NaN   681           NaN   \n",
       "mean          NaN     NaN   NaN     0.517272     0.112489   NaN      5.593262   \n",
       "std           NaN     NaN   NaN     0.499923     0.316107   NaN      1.852222   \n",
       "min           NaN     NaN   NaN     0.000000     0.000000   NaN      1.000000   \n",
       "25%           NaN     NaN   NaN     0.000000     0.000000   NaN      4.600000   \n",
       "50%           NaN     NaN   NaN     1.000000     0.000000   NaN      5.400000   \n",
       "75%           NaN     NaN   NaN     1.000000     0.000000   NaN      7.000000   \n",
       "max           NaN     NaN   NaN     1.000000     1.000000   NaN     10.000000   \n",
       "\n",
       "           independ  selfcontrol      anxiety      novator  \n",
       "count   1127.000000  1128.000000  1128.000000  1128.000000  \n",
       "unique          NaN          NaN          NaN          NaN  \n",
       "top             NaN          NaN          NaN          NaN  \n",
       "freq            NaN          NaN          NaN          NaN  \n",
       "mean       5.480479     5.593794     5.667110     5.881560  \n",
       "std        1.703578     1.977562     1.709213     1.903753  \n",
       "min        1.000000     1.000000     1.700000     1.000000  \n",
       "25%        4.100000     4.100000     4.800000     4.400000  \n",
       "50%        5.500000     5.700000     5.600000     6.000000  \n",
       "75%        6.900000     7.200000     7.100000     7.500000  \n",
       "max       10.000000    10.000000    10.000000    10.000000  "
      ]
     },
     "execution_count": 36,
     "metadata": {},
     "output_type": "execute_result"
    }
   ],
   "source": [
    "data.describe(include='all')"
   ]
  },
  {
   "cell_type": "markdown",
   "metadata": {
    "id": "cMWhXtQgb-hG"
   },
   "source": [
    "### D.Find mean, median and mode for atleast one possible column for each (3 marks)"
   ]
  },
  {
   "cell_type": "code",
   "execution_count": 37,
   "metadata": {
    "id": "9QPegyyocAne"
   },
   "outputs": [
    {
     "name": "stdout",
     "output_type": "stream",
     "text": [
      "Mean of 'age': 31.050135512072632\n",
      "Median of 'age': 30.0\n",
      "Mode of 'age':\n",
      " 0    26.0\n",
      "dtype: float64\n"
     ]
    }
   ],
   "source": [
    "# let us consider column 'age'\n",
    "print(\"Mean of 'age':\",data['age'].mean())\n",
    "print(\"Median of 'age':\",data['age'].median())\n",
    "print(\"Mode of 'age':\\n\",data['age'].mode())"
   ]
  },
  {
   "cell_type": "markdown",
   "metadata": {
    "id": "GdgFRvcvcBQA"
   },
   "source": [
    "### E.Check the outliers and remove it from the dataset. (3 marks)"
   ]
  },
  {
   "cell_type": "code",
   "execution_count": 38,
   "metadata": {
    "id": "50BJ6rrecKhf"
   },
   "outputs": [
    {
     "data": {
      "image/png": "[encoded data removed]",
      "text/plain": [
       "<Figure size 720x360 with 8 Axes>"
      ]
     },
     "metadata": {
      "needs_background": "light"
     },
     "output_type": "display_data"
    }
   ],
   "source": [
    "#dimensions of subplots (rows, columns, figsize=(width,height))\n",
    "fig, axes = plt.subplots(2, 4, figsize=(10,5))\n",
    "\n",
    "#create chart in each subplot\n",
    "sns.boxplot(original_data['Employee ID'],ax=axes[0,0])\n",
    "sns.boxplot(original_data['event'],ax=axes[0,1])\n",
    "sns.boxplot(original_data['age'],ax=axes[0,2])\n",
    "sns.boxplot(original_data['extraversion'],ax=axes[0,3])\n",
    "sns.boxplot(original_data['independ'],ax=axes[1,0])\n",
    "sns.boxplot(original_data['selfcontrol'],ax=axes[1,1])\n",
    "sns.boxplot(original_data['anxiety'],ax=axes[1,2])\n",
    "sns.boxplot(original_data['novator'],ax=axes[1,3])\n",
    "\n",
    "fig.subplots_adjust(left=0.10, right=0.98, bottom=0, top=0.9,\n",
    "                    hspace=0.5, wspace=0.8)"
   ]
  },
  {
   "cell_type": "code",
   "execution_count": 39,
   "metadata": {},
   "outputs": [
    {
     "name": "stdout",
     "output_type": "stream",
     "text": [
      "Mean of 'age'= 31.050135512072632\n",
      "SD of 'age'= 7.419807601857085\n",
      "u1= 53.30955831764389 and u2= 8.790712706501377\n"
     ]
    }
   ],
   "source": [
    "mean_age=data['age'].mean()\n",
    "print(\"Mean of 'age'=\",mean_age)\n",
    "std_age=data['age'].std()\n",
    "print(\"SD of 'age'=\",std_age)\n",
    "\n",
    "u1=mean_age+ 3*std_age\n",
    "u2=mean_age- 3*std_age\n",
    "print(\"u1=\",u1,\"and u2=\",u2)"
   ]
  },
  {
   "cell_type": "code",
   "execution_count": 40,
   "metadata": {},
   "outputs": [
    {
     "name": "stdout",
     "output_type": "stream",
     "text": [
      "Values of outliers are: (array([  18,   77,  139,  181,  461,  462,  638,  741,  898, 1043],\n",
      "      dtype=int64),)\n"
     ]
    }
   ],
   "source": [
    "data_outlier=np.where((data['age']>=u1)| (data['age']<=u2))\n",
    "print(\"Values of outliers are:\",data_outlier)"
   ]
  },
  {
   "cell_type": "code",
   "execution_count": 49,
   "metadata": {},
   "outputs": [],
   "source": [
    "data.drop(data_outlier[0], inplace = True)"
   ]
  },
  {
   "cell_type": "code",
   "execution_count": 51,
   "metadata": {},
   "outputs": [
    {
     "name": "stdout",
     "output_type": "stream",
     "text": [
      "Number of rows in 'age' after removing outliers: (1129,)\n",
      "Number of rows in 'age' after removing outliers: (1118,)\n"
     ]
    },
    {
     "data": {
      "image/png": "[encoded data removed]",
      "text/plain": [
       "<Figure size 432x288 with 2 Axes>"
      ]
     },
     "metadata": {
      "needs_background": "light"
     },
     "output_type": "display_data"
    }
   ],
   "source": [
    "fig, axes = plt.subplots(1,2)\n",
    "sns.boxplot(original_data['age'],ax=axes[0]).set(title='Before removing outlier')\n",
    "sns.boxplot(data['age'],ax=axes[1]).set(title='After removing outlier')\n",
    "print(\"Number of rows in 'age' after removing outliers:\", original_data['age'].shape)\n",
    "print(\"Number of rows in 'age' after removing outliers:\", data['age'].shape)"
   ]
  },
  {
   "cell_type": "markdown",
   "metadata": {},
   "source": [
    "### <font color='green'>INFERENCE: The presence of outliers was checked by using boxplot on each & every column. From the plot, it was clear that only column 'Age' had outliers. We extracted those outliers using mean and standard deviation values  i.e., values that lie before (mean- 3*SD) and values that lie after (mean+ 3*SD) are considered as outliers. Boxplot comparison of 'Age' column before and after removing outliers shows that outlier has been removed using above technique.</font>"
   ]
  },
  {
   "cell_type": "markdown",
   "metadata": {
    "id": "sSfwt4GVcLIg"
   },
   "source": [
    "### F. A city affected by 3 cyclones in a year on an average. Find the probability if the same city will getting affected by exactly 2 cyclones in the upcoming year (4 marks)"
   ]
  },
  {
   "cell_type": "code",
   "execution_count": 43,
   "metadata": {
    "id": "g03T_bbfcRgA"
   },
   "outputs": [
    {
     "name": "stdout",
     "output_type": "stream",
     "text": [
      "P(exactly 2 cyclones=) 0.22404180765538775\n"
     ]
    }
   ],
   "source": [
    "from scipy.stats import poisson\n",
    "#calculate probability\n",
    "#k=2  --> probability of city being affected by exactly 2 cyclones.\n",
    "#mu=3 --> average value of city being affected by cyclones.\n",
    "probability=poisson.pmf(k=2,mu=3)\n",
    "print(\"P(exactly 2 cyclones=)\",probability)"
   ]
  },
  {
   "cell_type": "markdown",
   "metadata": {},
   "source": [
    "### <font color='green'>INFERENCE: From the above calculation, we can infer that the probability of city being affected by exactly 2 cyclones in the upcoming year is 22% .</font>"
   ]
  },
  {
   "cell_type": "markdown",
   "metadata": {
    "id": "aneC8Hi8cSS2"
   },
   "source": [
    "### G.If an athlete attended 6 olympics in his lifetime. Find the probability if he exactly have 2 wins (4 marks)"
   ]
  },
  {
   "cell_type": "code",
   "execution_count": 53,
   "metadata": {
    "id": "LD3STCIdcXMx"
   },
   "outputs": [
    {
     "name": "stdout",
     "output_type": "stream",
     "text": [
      "P(exactly 2 wins=) 0.23437500000000003\n"
     ]
    }
   ],
   "source": [
    "from scipy.stats import binom\n",
    "x=2    #probability of exactly 2 wins\n",
    "n=6    #Number of times attending Olympics\n",
    "p=0.5  #probability of win\n",
    "prob=binom.pmf(x,n,p)\n",
    "print(\"P(exactly 2 wins=)\",prob)"
   ]
  },
  {
   "cell_type": "markdown",
   "metadata": {},
   "source": [
    "### <font color='green'>INFERENCE: From the above calculation, we can infer that the probability of having exactly 2 wins in the Olympics is nearly 23% .</font>"
   ]
  }
 ],
 "metadata": {
  "celltoolbar": "Raw Cell Format",
  "colab": {
   "name": "DS&DSAI MLSR_IS Project-1 file.ipynb",
   "provenance": []
  },
  "kernelspec": {
   "display_name": "Python 3",
   "language": "python",
   "name": "python3"
  },
  "language_info": {
   "codemirror_mode": {
    "name": "ipython",
    "version": 3
   },
   "file_extension": ".py",
   "mimetype": "text/x-python",
   "name": "python",
   "nbconvert_exporter": "python",
   "pygments_lexer": "ipython3",
   "version": "3.7.6"
  }
 },
 "nbformat": 4,
 "nbformat_minor": 1
}
