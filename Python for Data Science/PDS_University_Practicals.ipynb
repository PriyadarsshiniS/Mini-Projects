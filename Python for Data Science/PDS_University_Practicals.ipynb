{
 "cells": [
  {
   "cell_type": "markdown",
   "metadata": {
    "id": "H-T3rXcWRbF7"
   },
   "source": [
    "<table align=\"center\" width=100%>\n",
    "    <tr>\n",
    "       <td>\n",
    "            <div align=\"center\">\n",
    "                <font color=\"#21618C\" size=5px>\n",
    "                    <b> SRM INSTITUTE OF SCIENCE AND TECHNOLOGY <br>\n",
    "                        20PAIC51J- PYTHON FOR DATA SCIENCE <br>\n",
    "                        End Semester Examination - Practical <br>\n",
    "                    </b>\n",
    "                </font>\n",
    "            </div>\n",
    "        </td>\n",
    "        <td width=\"25%\">\n",
    "            <img src=\"NEW_GL_Logo.png\">\n",
    "        </td>\n",
    "    </tr>\n",
    "</table>"
   ]
  },
  {
   "cell_type": "markdown",
   "metadata": {
    "id": "2SWXoFHjRbGE"
   },
   "source": [
    "## Section A- Write your own logical script to solve the given problems (25 Marks)"
   ]
  },
  {
   "cell_type": "markdown",
   "metadata": {
    "id": "PtuTRJHvRbGF"
   },
   "source": [
    "#### 1. Write a program to transpose a matrix using List Comprehension and without using List Comprehension    (5 marks)"
   ]
  },
  {
   "cell_type": "markdown",
   "metadata": {
    "id": "PDQvp6NvRbGG"
   },
   "source": [
    "<b> matrix= [[1,2,3],[3,4,5],[5,6,8],[7,8,9]] </b><br>"
   ]
  },
  {
   "cell_type": "code",
   "execution_count": 24,
   "metadata": {},
   "outputs": [],
   "source": [
    "import numpy as np\n",
    "import pandas as pd"
   ]
  },
  {
   "cell_type": "code",
   "execution_count": 2,
   "metadata": {},
   "outputs": [],
   "source": [
    "pd.set_option('display.max_rows',None)\n",
    "pd.set_option('display.max_columns',None)"
   ]
  },
  {
   "cell_type": "code",
   "execution_count": 27,
   "metadata": {
    "id": "60NuhxtURbGH"
   },
   "outputs": [
    {
     "data": {
      "text/plain": [
       "[[10, 30, 50, 70], [20, 40, 60, 80], [30, 50, 80, 90]]"
      ]
     },
     "execution_count": 27,
     "metadata": {},
     "output_type": "execute_result"
    }
   ],
   "source": [
    "# type your code here \"Using LIST Comprehension\"\n",
    "matrix= [[10,20,30],[30,40,50],[50,60,80],[70,80,90]]\n",
    "\n",
    "tmat=[[i[j] for i in matrix] for j in range(0,len(matrix[0]))] \n",
    "\n",
    "tmat"
   ]
  },
  {
   "cell_type": "code",
   "execution_count": 35,
   "metadata": {},
   "outputs": [
    {
     "data": {
      "text/plain": [
       "[[1, 3], [2, 4], [3, 5]]"
      ]
     },
     "execution_count": 35,
     "metadata": {},
     "output_type": "execute_result"
    }
   ],
   "source": [
    "matrix= [[1,2,3],[3,4,5]]\n",
    "\n",
    "t_matrix = [[matrix[i][j] for i in range(len(matrix))] for j in range(len(matrix[0]))]\n",
    "t_matrix"
   ]
  },
  {
   "cell_type": "code",
   "execution_count": 36,
   "metadata": {},
   "outputs": [
    {
     "data": {
      "text/plain": [
       "[[10, 30], [20, 40], [30, 50]]"
      ]
     },
     "execution_count": 36,
     "metadata": {},
     "output_type": "execute_result"
    }
   ],
   "source": [
    "matrix= [[10,20,30],[30,40,50]]\n",
    "\n",
    "tmat= [[i[j] for i in matrix] for j in range(len(matrix[0]))]\n",
    "tmat"
   ]
  },
  {
   "cell_type": "code",
   "execution_count": 5,
   "metadata": {},
   "outputs": [
    {
     "data": {
      "text/plain": [
       "[[10, 30, 50, 70], [20, 40, 60, 80], [30, 50, 80, 90]]"
      ]
     },
     "execution_count": 5,
     "metadata": {},
     "output_type": "execute_result"
    }
   ],
   "source": [
    "# type your code here \"without Using LIST Comprehension\"\n",
    "matrix= [[10,20,30],[30,40,50],[50,60,80],[70,80,90]]\n",
    "tmat=[[0,0,0,0],[0,0,0,0],[0,0,0,0]]\n",
    "\n",
    "for i in range(0,len(matrix)):\n",
    "    for j in range(0,len(matrix[0])):\n",
    "        tmat[j][i]=matrix[i][j]\n",
    "        \n",
    "tmat"
   ]
  },
  {
   "cell_type": "code",
   "execution_count": 65,
   "metadata": {},
   "outputs": [
    {
     "name": "stdout",
     "output_type": "stream",
     "text": [
      "0 [10]\n",
      "0 [10, 30]\n",
      "1 [20]\n",
      "1 [20, 40]\n",
      "2 [30]\n",
      "2 [30, 50]\n"
     ]
    }
   ],
   "source": [
    "matrix= [[10,20,30],\n",
    "         [30,40,50]]\n",
    "#tmat=[[i[j] for i in matrix] for j in range(0,len(matrix[0]))] \n",
    "#tmat\n",
    "r=len(matrix)\n",
    "c=len(matrix[0])\n",
    "#print(r,c)\n",
    "\n",
    "tmat=[]\n",
    "for j in range(0,c):\n",
    "    tlist=[]\n",
    "    for i in matrix:\n",
    "        tlist.append(i[j])\n",
    "        print(j,tlist)\n",
    "#    tmat.append(tlist)\n",
    "#tlist    "
   ]
  },
  {
   "cell_type": "code",
   "execution_count": 68,
   "metadata": {},
   "outputs": [
    {
     "data": {
      "text/plain": [
       "[[10, 40], [20, 50], [30, 60]]"
      ]
     },
     "execution_count": 68,
     "metadata": {},
     "output_type": "execute_result"
    }
   ],
   "source": [
    "matrix= [[10,20,30],\n",
    "         [40,50,60]]\n",
    "#tmat=[[i[j] for i in matrix] for j in range(0,len(matrix[0]))] \n",
    "#tmat\n",
    "r=len(matrix)\n",
    "c=len(matrix[0])\n",
    "#print(r,c)\n",
    "\n",
    "tmat=[]\n",
    "for j in range(0,c):\n",
    "    tlist=[]\n",
    "    for i in matrix:\n",
    "        tlist.append(i[j])\n",
    "    tmat.append(tlist)\n",
    "tmat  "
   ]
  },
  {
   "cell_type": "markdown",
   "metadata": {},
   "source": [
    "#### 2. Create a dictionary containing four lambda functions square, cube, squareroot, multiply by 3 (8 marks)\n",
    "\n",
    "**E.g. dict = {'Square': function for squaring, 'Cube': function for cube, 'Squareroot': function for squareroot, 'Double': function for double} and so on**\n",
    "\n",
    "**Pass the values (input from the user) to the functions in the dictionary respectively. Then add the outputs of each function and print it.**"
   ]
  },
  {
   "cell_type": "code",
   "execution_count": 6,
   "metadata": {
    "id": "Pxj1Oh5rRbGL"
   },
   "outputs": [
    {
     "name": "stdout",
     "output_type": "stream",
     "text": [
      "Enter any number = 8\n",
      "{'Square': 64, 'Cube': 512, 'Squareroot': 2.8284271247461903, 'Double': 16, 'Multiply by 3': 24}\n",
      "618.8284271247462\n"
     ]
    }
   ],
   "source": [
    "# type your code here\n",
    "ndict = {'Square': lambda a: a**2,\n",
    "        'Cube': lambda a: a**3,\n",
    "        'Squareroot': lambda a: a**0.5,\n",
    "        'Double': lambda a: a*2,\n",
    "        'Multiply by 3': lambda a: a*3}\n",
    "total=0\n",
    "a=int(input(\"Enter any number = \"))8\n",
    "\n",
    "for i in ndict:\n",
    "    ndict[i]= ndict[i](a)\n",
    "    total+=ndict[i]\n",
    "print(ndict)\n",
    "print(total)\n"
   ]
  },
  {
   "cell_type": "markdown",
   "metadata": {},
   "source": [
    "####  3. A list of words is given. Define a function to find the words from the list that have their second character in uppercase (4 marks)"
   ]
  },
  {
   "cell_type": "markdown",
   "metadata": {
    "id": "JoEJ3RCbRbGN"
   },
   "source": [
    "<b>list1 = ['swiggy', 'Zomato', 'aMazon', 'TATa Cliq', 'uBer', 'JioMart','BIG BASKET' ]</b><br>"
   ]
  },
  {
   "cell_type": "code",
   "execution_count": 7,
   "metadata": {
    "id": "u2mSIYH4RbGO"
   },
   "outputs": [
    {
     "data": {
      "text/plain": [
       "['aMazon', 'TATa Cliq', 'uBer', 'BIG BASKET']"
      ]
     },
     "execution_count": 7,
     "metadata": {},
     "output_type": "execute_result"
    }
   ],
   "source": [
    "list1 = ['swiggy', 'Zomato', 'aMazon', 'TATa Cliq', 'uBer', 'JioMart','BIG BASKET' ]\n",
    "\n",
    "def sec_char(lst):\n",
    "    new=list()\n",
    "    for i in lst:\n",
    "        if i[1].isupper():\n",
    "            new.append(i)            \n",
    "    return new\n",
    "\n",
    "sec_char(list1)\n",
    "    "
   ]
  },
  {
   "cell_type": "markdown",
   "metadata": {},
   "source": [
    " #### 4. Define a function to filter the marks from the tuple \"tmarks\" that are greater than 40 and print corresponding names from the \"tnames\" tuple (4 marks)"
   ]
  },
  {
   "cell_type": "markdown",
   "metadata": {
    "id": "bxm4wgFjRbGQ"
   },
   "source": [
    "<b>tnames = ('John','Sharon','Jack','Annie', 'Antony', 'Thomson', 'Rijo')</b><br>\n",
    "<b>tmarks = (32,50,75,12,40,23,37)</b>"
   ]
  },
  {
   "cell_type": "code",
   "execution_count": 8,
   "metadata": {
    "id": "d6fEuvKMRbGQ"
   },
   "outputs": [
    {
     "name": "stdout",
     "output_type": "stream",
     "text": [
      "dictionary =  {'John': 32, 'Sharon': 50, 'Jack': 75, 'Annie': 12, 'Antony': 40, 'Thomson': 23, 'Rijo': 37}\n",
      "Marks scored greater than 40 is  Sharon with score  50\n",
      "Marks scored greater than 40 is  Jack with score  75\n"
     ]
    }
   ],
   "source": [
    "# type your code here\n",
    "tn = ('John','Sharon','Jack','Annie', 'Antony', 'Thomson', 'Rijo')\n",
    "tm = (32,50,75,12,40,23,37)\n",
    "\n",
    "def filter_marks(t1,t2):\n",
    "    result=list(zip(t1,t2))\n",
    "    rdict={k:v for k,v in result}\n",
    "    print('dictionary = ',rdict)\n",
    "    for key in rdict:\n",
    "        if rdict[key] >40:\n",
    "            print('Marks scored greater than 40 is ', key, 'with score ',rdict[key] )\n",
    "            \n",
    "filter_marks(tn,tm)           \n",
    "        "
   ]
  },
  {
   "cell_type": "code",
   "execution_count": 9,
   "metadata": {},
   "outputs": [
    {
     "name": "stdout",
     "output_type": "stream",
     "text": [
      "John\n",
      "32\n",
      "1\n",
      "Sharon\n",
      "50\n",
      "2\n",
      "Jack\n",
      "75\n",
      "3\n"
     ]
    }
   ],
   "source": [
    "tn = ('John','Sharon','Jack')\n",
    "tm = (32,50,75)\n",
    "tp=(1,2,3)\n",
    "result=list(zip(tn,tm,tp))\n",
    "#rdict={k:v for k,v in result}\n",
    "for k,v,i in result:\n",
    "    print(k)\n",
    "    print(v)\n",
    "    print(i)\n"
   ]
  },
  {
   "cell_type": "markdown",
   "metadata": {},
   "source": [
    "#### 5.A list containing multiple lists is given. Convert each inner list into sets and find intersection of all the sets (use reduce function) (4 marks)"
   ]
  },
  {
   "cell_type": "markdown",
   "metadata": {
    "id": "RaAgVCDwRbGS"
   },
   "source": [
    "given_sets = [[1, 2, 3, 4, 8], [2, 3, 8, 5, 6], [8, 4, 5, 3, 7], [6, 9, 8, 3], [9, 12, 3, 7, 6, 8, 4, 6, 21, 1, 6]]"
   ]
  },
  {
   "cell_type": "code",
   "execution_count": 10,
   "metadata": {},
   "outputs": [
    {
     "name": "stdout",
     "output_type": "stream",
     "text": [
      "[{1, 2, 3, 4, 8}, {2, 3, 5, 6, 8}, {3, 4, 5, 7, 8}, {8, 9, 3, 6}, {1, 3, 4, 6, 7, 8, 9, 12, 21}]\n",
      "{8, 3}\n",
      "{1, 2, 3, 4, 5, 6, 7, 8, 9, 12, 21}\n"
     ]
    }
   ],
   "source": [
    "from functools  import reduce\n",
    "\n",
    "slist=[]\n",
    "given_sets = [[1, 2, 3, 4, 8], [2, 3, 8, 5, 6], [8, 4, 5, 3, 7], [6, 9, 8, 3], [9, 12, 3, 7, 6, 8, 4, 6, 21, 1, 6]]\n",
    "for i in given_sets:\n",
    "    slist.append(set(i))\n",
    "print(slist)    \n",
    "\n",
    "inter_set= reduce((lambda x,y: x & y), slist)\n",
    "print(inter_set)\n",
    "inter_set= reduce((lambda x,y: x | y), slist)\n",
    "print(inter_set)"
   ]
  },
  {
   "cell_type": "markdown",
   "metadata": {},
   "source": [
    "<b> The reduce(fun,seq) function is used to apply a particular function passed in its argument to all of the list elements mentioned in the sequence passed along.This function is defined in “functools” module.\n",
    "\n",
    "Working :  \n",
    "\n",
    "At first step, first two elements of sequence are picked and the result is obtained.\n",
    "Next step is to apply the same function to the previously attained result and the number just succeeding the second element and the result is again stored.\n",
    "This process continues till no more elements are left in the container.\n",
    "The final returned result is returned and printed on console.</b>"
   ]
  },
  {
   "cell_type": "markdown",
   "metadata": {},
   "source": [
    "## Section B--NPV                          Total--(15 marks)"
   ]
  },
  {
   "cell_type": "markdown",
   "metadata": {},
   "source": [
    "#### 1. Read the given Dataset UK_Flight_2018.\n",
    "\n",
    "A. Find the number of rows and columns present in it. (1 Marks)\n",
    "\n",
    "B. Identify the airline names flying in the UK. (2 Marks)\n",
    "\n",
    "C. Find the list of flights that origin from Vietnam. (2 Marks)\n",
    "\n",
    "D. Find the number of airlines under each reporting airport. (2 Marks)\n",
    "\n",
    "E. Find the number of flights that origin from Los Angeles and reporting at Heathrow Airport. (2 Marks)"
   ]
  },
  {
   "cell_type": "code",
   "execution_count": 11,
   "metadata": {},
   "outputs": [],
   "source": [
    "%matplotlib inline\n",
    "import matplotlib.pyplot as plt\n",
    "import numpy as np\n",
    "import pandas as pd\n",
    "import math\n",
    "import seaborn as sns"
   ]
  },
  {
   "cell_type": "code",
   "execution_count": 12,
   "metadata": {},
   "outputs": [
    {
     "data": {
      "text/html": [
       "<div>\n",
       "<style scoped>\n",
       "    .dataframe tbody tr th:only-of-type {\n",
       "        vertical-align: middle;\n",
       "    }\n",
       "\n",
       "    .dataframe tbody tr th {\n",
       "        vertical-align: top;\n",
       "    }\n",
       "\n",
       "    .dataframe thead th {\n",
       "        text-align: right;\n",
       "    }\n",
       "</style>\n",
       "<table border=\"1\" class=\"dataframe\">\n",
       "  <thead>\n",
       "    <tr style=\"text-align: right;\">\n",
       "      <th></th>\n",
       "      <th>run_date</th>\n",
       "      <th>reporting_period</th>\n",
       "      <th>reporting_airport</th>\n",
       "      <th>origin_destination_country</th>\n",
       "      <th>origin_destination</th>\n",
       "      <th>airline_name</th>\n",
       "      <th>scheduled_charter</th>\n",
       "      <th>number_flights_matched</th>\n",
       "      <th>actual_flights_unmatched</th>\n",
       "      <th>number_flights_cancelled</th>\n",
       "      <th>flights_more_than_15_minutes_early_percent</th>\n",
       "      <th>flights_15_minutes_early_to_1_minute_early_percent</th>\n",
       "      <th>flights_0_to_15_minutes_late_percent</th>\n",
       "      <th>flights_between_16_and_30_minutes_late_percent</th>\n",
       "      <th>flights_between_31_and_60_minutes_late_percent</th>\n",
       "      <th>flights_between_61_and_120_minutes_late_percent</th>\n",
       "      <th>flights_between_121_and_180_minutes_late_percent</th>\n",
       "      <th>flights_between_181_and_360_minutes_late_percent</th>\n",
       "      <th>flights_more_than_360_minutes_late_percent</th>\n",
       "      <th>flights_unmatched_percent</th>\n",
       "      <th>flights_cancelled_percent</th>\n",
       "      <th>average_delay_mins</th>\n",
       "      <th>previous_year_month_flights_matched</th>\n",
       "      <th>previous_year_month_early_to_15_mins_late_percent</th>\n",
       "      <th>previous_year_month_average_delay</th>\n",
       "    </tr>\n",
       "  </thead>\n",
       "  <tbody>\n",
       "    <tr>\n",
       "      <th>0</th>\n",
       "      <td>30/04/2018 13:48</td>\n",
       "      <td>201801</td>\n",
       "      <td>ABERDEEN</td>\n",
       "      <td>POLAND</td>\n",
       "      <td>GDANSK</td>\n",
       "      <td>WIZZ AIR</td>\n",
       "      <td>S</td>\n",
       "      <td>18</td>\n",
       "      <td>0</td>\n",
       "      <td>2</td>\n",
       "      <td>10.000000</td>\n",
       "      <td>40.000000</td>\n",
       "      <td>30.000000</td>\n",
       "      <td>5.000000</td>\n",
       "      <td>0.000000</td>\n",
       "      <td>0.000000</td>\n",
       "      <td>5.000000</td>\n",
       "      <td>0.000000</td>\n",
       "      <td>0.0</td>\n",
       "      <td>0.0</td>\n",
       "      <td>10.000000</td>\n",
       "      <td>11.000000</td>\n",
       "      <td>19</td>\n",
       "      <td>63.157895</td>\n",
       "      <td>33.736842</td>\n",
       "    </tr>\n",
       "    <tr>\n",
       "      <th>1</th>\n",
       "      <td>30/04/2018 13:48</td>\n",
       "      <td>201801</td>\n",
       "      <td>ABERDEEN</td>\n",
       "      <td>POLAND</td>\n",
       "      <td>WARSAW (CHOPIN)</td>\n",
       "      <td>WIZZ AIR</td>\n",
       "      <td>S</td>\n",
       "      <td>12</td>\n",
       "      <td>0</td>\n",
       "      <td>0</td>\n",
       "      <td>0.000000</td>\n",
       "      <td>0.000000</td>\n",
       "      <td>58.333333</td>\n",
       "      <td>16.666667</td>\n",
       "      <td>16.666667</td>\n",
       "      <td>8.333333</td>\n",
       "      <td>0.000000</td>\n",
       "      <td>0.000000</td>\n",
       "      <td>0.0</td>\n",
       "      <td>0.0</td>\n",
       "      <td>0.000000</td>\n",
       "      <td>21.583333</td>\n",
       "      <td>18</td>\n",
       "      <td>83.333333</td>\n",
       "      <td>7.055556</td>\n",
       "    </tr>\n",
       "    <tr>\n",
       "      <th>2</th>\n",
       "      <td>30/04/2018 13:48</td>\n",
       "      <td>201801</td>\n",
       "      <td>ABERDEEN</td>\n",
       "      <td>UNITED KINGDOM</td>\n",
       "      <td>BELFAST CITY (GEORGE BEST)</td>\n",
       "      <td>FLYBE LTD</td>\n",
       "      <td>S</td>\n",
       "      <td>60</td>\n",
       "      <td>0</td>\n",
       "      <td>2</td>\n",
       "      <td>3.225806</td>\n",
       "      <td>58.064516</td>\n",
       "      <td>25.806452</td>\n",
       "      <td>1.612903</td>\n",
       "      <td>6.451613</td>\n",
       "      <td>1.612903</td>\n",
       "      <td>0.000000</td>\n",
       "      <td>0.000000</td>\n",
       "      <td>0.0</td>\n",
       "      <td>0.0</td>\n",
       "      <td>3.225806</td>\n",
       "      <td>5.683333</td>\n",
       "      <td>62</td>\n",
       "      <td>82.258065</td>\n",
       "      <td>12.161290</td>\n",
       "    </tr>\n",
       "    <tr>\n",
       "      <th>3</th>\n",
       "      <td>30/04/2018 13:48</td>\n",
       "      <td>201801</td>\n",
       "      <td>ABERDEEN</td>\n",
       "      <td>UNITED KINGDOM</td>\n",
       "      <td>BIRMINGHAM</td>\n",
       "      <td>FLYBE LTD</td>\n",
       "      <td>S</td>\n",
       "      <td>145</td>\n",
       "      <td>0</td>\n",
       "      <td>1</td>\n",
       "      <td>2.054795</td>\n",
       "      <td>63.013699</td>\n",
       "      <td>25.342466</td>\n",
       "      <td>6.164384</td>\n",
       "      <td>0.684932</td>\n",
       "      <td>2.054795</td>\n",
       "      <td>0.000000</td>\n",
       "      <td>0.000000</td>\n",
       "      <td>0.0</td>\n",
       "      <td>0.0</td>\n",
       "      <td>0.684932</td>\n",
       "      <td>4.000000</td>\n",
       "      <td>176</td>\n",
       "      <td>81.818182</td>\n",
       "      <td>14.835227</td>\n",
       "    </tr>\n",
       "    <tr>\n",
       "      <th>4</th>\n",
       "      <td>30/04/2018 13:48</td>\n",
       "      <td>201801</td>\n",
       "      <td>ABERDEEN</td>\n",
       "      <td>UNITED KINGDOM</td>\n",
       "      <td>BRISTOL</td>\n",
       "      <td>BMI REGIONAL</td>\n",
       "      <td>S</td>\n",
       "      <td>57</td>\n",
       "      <td>0</td>\n",
       "      <td>2</td>\n",
       "      <td>3.389831</td>\n",
       "      <td>44.067797</td>\n",
       "      <td>20.338983</td>\n",
       "      <td>6.779661</td>\n",
       "      <td>6.779661</td>\n",
       "      <td>11.864407</td>\n",
       "      <td>1.694915</td>\n",
       "      <td>1.694915</td>\n",
       "      <td>0.0</td>\n",
       "      <td>0.0</td>\n",
       "      <td>3.389831</td>\n",
       "      <td>23.403509</td>\n",
       "      <td>65</td>\n",
       "      <td>80.000000</td>\n",
       "      <td>22.384615</td>\n",
       "    </tr>\n",
       "  </tbody>\n",
       "</table>\n",
       "</div>"
      ],
      "text/plain": [
       "           run_date  reporting_period reporting_airport  \\\n",
       "0  30/04/2018 13:48            201801          ABERDEEN   \n",
       "1  30/04/2018 13:48            201801          ABERDEEN   \n",
       "2  30/04/2018 13:48            201801          ABERDEEN   \n",
       "3  30/04/2018 13:48            201801          ABERDEEN   \n",
       "4  30/04/2018 13:48            201801          ABERDEEN   \n",
       "\n",
       "  origin_destination_country          origin_destination  airline_name  \\\n",
       "0                     POLAND                      GDANSK      WIZZ AIR   \n",
       "1                     POLAND             WARSAW (CHOPIN)      WIZZ AIR   \n",
       "2             UNITED KINGDOM  BELFAST CITY (GEORGE BEST)     FLYBE LTD   \n",
       "3             UNITED KINGDOM                  BIRMINGHAM     FLYBE LTD   \n",
       "4             UNITED KINGDOM                     BRISTOL  BMI REGIONAL   \n",
       "\n",
       "  scheduled_charter  number_flights_matched  actual_flights_unmatched  \\\n",
       "0                 S                      18                         0   \n",
       "1                 S                      12                         0   \n",
       "2                 S                      60                         0   \n",
       "3                 S                     145                         0   \n",
       "4                 S                      57                         0   \n",
       "\n",
       "   number_flights_cancelled  flights_more_than_15_minutes_early_percent  \\\n",
       "0                         2                                   10.000000   \n",
       "1                         0                                    0.000000   \n",
       "2                         2                                    3.225806   \n",
       "3                         1                                    2.054795   \n",
       "4                         2                                    3.389831   \n",
       "\n",
       "   flights_15_minutes_early_to_1_minute_early_percent  \\\n",
       "0                                          40.000000    \n",
       "1                                           0.000000    \n",
       "2                                          58.064516    \n",
       "3                                          63.013699    \n",
       "4                                          44.067797    \n",
       "\n",
       "   flights_0_to_15_minutes_late_percent  \\\n",
       "0                             30.000000   \n",
       "1                             58.333333   \n",
       "2                             25.806452   \n",
       "3                             25.342466   \n",
       "4                             20.338983   \n",
       "\n",
       "   flights_between_16_and_30_minutes_late_percent  \\\n",
       "0                                        5.000000   \n",
       "1                                       16.666667   \n",
       "2                                        1.612903   \n",
       "3                                        6.164384   \n",
       "4                                        6.779661   \n",
       "\n",
       "   flights_between_31_and_60_minutes_late_percent  \\\n",
       "0                                        0.000000   \n",
       "1                                       16.666667   \n",
       "2                                        6.451613   \n",
       "3                                        0.684932   \n",
       "4                                        6.779661   \n",
       "\n",
       "   flights_between_61_and_120_minutes_late_percent  \\\n",
       "0                                         0.000000   \n",
       "1                                         8.333333   \n",
       "2                                         1.612903   \n",
       "3                                         2.054795   \n",
       "4                                        11.864407   \n",
       "\n",
       "   flights_between_121_and_180_minutes_late_percent  \\\n",
       "0                                          5.000000   \n",
       "1                                          0.000000   \n",
       "2                                          0.000000   \n",
       "3                                          0.000000   \n",
       "4                                          1.694915   \n",
       "\n",
       "   flights_between_181_and_360_minutes_late_percent  \\\n",
       "0                                          0.000000   \n",
       "1                                          0.000000   \n",
       "2                                          0.000000   \n",
       "3                                          0.000000   \n",
       "4                                          1.694915   \n",
       "\n",
       "   flights_more_than_360_minutes_late_percent  flights_unmatched_percent  \\\n",
       "0                                         0.0                        0.0   \n",
       "1                                         0.0                        0.0   \n",
       "2                                         0.0                        0.0   \n",
       "3                                         0.0                        0.0   \n",
       "4                                         0.0                        0.0   \n",
       "\n",
       "   flights_cancelled_percent  average_delay_mins  \\\n",
       "0                  10.000000           11.000000   \n",
       "1                   0.000000           21.583333   \n",
       "2                   3.225806            5.683333   \n",
       "3                   0.684932            4.000000   \n",
       "4                   3.389831           23.403509   \n",
       "\n",
       "   previous_year_month_flights_matched  \\\n",
       "0                                   19   \n",
       "1                                   18   \n",
       "2                                   62   \n",
       "3                                  176   \n",
       "4                                   65   \n",
       "\n",
       "   previous_year_month_early_to_15_mins_late_percent  \\\n",
       "0                                          63.157895   \n",
       "1                                          83.333333   \n",
       "2                                          82.258065   \n",
       "3                                          81.818182   \n",
       "4                                          80.000000   \n",
       "\n",
       "   previous_year_month_average_delay  \n",
       "0                          33.736842  \n",
       "1                           7.055556  \n",
       "2                          12.161290  \n",
       "3                          14.835227  \n",
       "4                          22.384615  "
      ]
     },
     "execution_count": 12,
     "metadata": {},
     "output_type": "execute_result"
    }
   ],
   "source": [
    "df=pd.read_csv(r'C:\\Users\\priya\\SRM PYTHON\\PYTHON\\MP\\UK_Flights_2018.csv')\n",
    "df.head(5)"
   ]
  },
  {
   "cell_type": "code",
   "execution_count": 13,
   "metadata": {},
   "outputs": [
    {
     "data": {
      "text/plain": [
       "run_date                                              0\n",
       "reporting_period                                      0\n",
       "reporting_airport                                     0\n",
       "origin_destination_country                            0\n",
       "origin_destination                                    0\n",
       "airline_name                                          0\n",
       "scheduled_charter                                     0\n",
       "number_flights_matched                                0\n",
       "actual_flights_unmatched                              0\n",
       "number_flights_cancelled                              0\n",
       "flights_more_than_15_minutes_early_percent            0\n",
       "flights_15_minutes_early_to_1_minute_early_percent    0\n",
       "flights_0_to_15_minutes_late_percent                  0\n",
       "flights_between_16_and_30_minutes_late_percent        0\n",
       "flights_between_31_and_60_minutes_late_percent        0\n",
       "flights_between_61_and_120_minutes_late_percent       0\n",
       "flights_between_121_and_180_minutes_late_percent      0\n",
       "flights_between_181_and_360_minutes_late_percent      0\n",
       "flights_more_than_360_minutes_late_percent            0\n",
       "flights_unmatched_percent                             0\n",
       "flights_cancelled_percent                             0\n",
       "average_delay_mins                                    0\n",
       "previous_year_month_flights_matched                   0\n",
       "previous_year_month_early_to_15_mins_late_percent     0\n",
       "previous_year_month_average_delay                     0\n",
       "dtype: int64"
      ]
     },
     "execution_count": 13,
     "metadata": {},
     "output_type": "execute_result"
    }
   ],
   "source": [
    "df.isnull().sum()"
   ]
  },
  {
   "cell_type": "code",
   "execution_count": 14,
   "metadata": {},
   "outputs": [
    {
     "data": {
      "text/plain": [
       "0"
      ]
     },
     "execution_count": 14,
     "metadata": {},
     "output_type": "execute_result"
    }
   ],
   "source": [
    "df.duplicated().sum()"
   ]
  },
  {
   "cell_type": "code",
   "execution_count": 15,
   "metadata": {},
   "outputs": [
    {
     "name": "stdout",
     "output_type": "stream",
     "text": [
      "<class 'pandas.core.frame.DataFrame'>\n",
      "RangeIndex: 3208 entries, 0 to 3207\n",
      "Data columns (total 25 columns):\n",
      " #   Column                                              Non-Null Count  Dtype  \n",
      "---  ------                                              --------------  -----  \n",
      " 0   run_date                                            3208 non-null   object \n",
      " 1   reporting_period                                    3208 non-null   int64  \n",
      " 2   reporting_airport                                   3208 non-null   object \n",
      " 3   origin_destination_country                          3208 non-null   object \n",
      " 4   origin_destination                                  3208 non-null   object \n",
      " 5   airline_name                                        3208 non-null   object \n",
      " 6   scheduled_charter                                   3208 non-null   object \n",
      " 7   number_flights_matched                              3208 non-null   int64  \n",
      " 8   actual_flights_unmatched                            3208 non-null   int64  \n",
      " 9   number_flights_cancelled                            3208 non-null   int64  \n",
      " 10  flights_more_than_15_minutes_early_percent          3208 non-null   float64\n",
      " 11  flights_15_minutes_early_to_1_minute_early_percent  3208 non-null   float64\n",
      " 12  flights_0_to_15_minutes_late_percent                3208 non-null   float64\n",
      " 13  flights_between_16_and_30_minutes_late_percent      3208 non-null   float64\n",
      " 14  flights_between_31_and_60_minutes_late_percent      3208 non-null   float64\n",
      " 15  flights_between_61_and_120_minutes_late_percent     3208 non-null   float64\n",
      " 16  flights_between_121_and_180_minutes_late_percent    3208 non-null   float64\n",
      " 17  flights_between_181_and_360_minutes_late_percent    3208 non-null   float64\n",
      " 18  flights_more_than_360_minutes_late_percent          3208 non-null   float64\n",
      " 19  flights_unmatched_percent                           3208 non-null   float64\n",
      " 20  flights_cancelled_percent                           3208 non-null   float64\n",
      " 21  average_delay_mins                                  3208 non-null   float64\n",
      " 22  previous_year_month_flights_matched                 3208 non-null   int64  \n",
      " 23  previous_year_month_early_to_15_mins_late_percent   3208 non-null   float64\n",
      " 24  previous_year_month_average_delay                   3208 non-null   float64\n",
      "dtypes: float64(14), int64(5), object(6)\n",
      "memory usage: 626.7+ KB\n"
     ]
    }
   ],
   "source": [
    "df.info()"
   ]
  },
  {
   "cell_type": "markdown",
   "metadata": {},
   "source": [
    "### A. Find the number of rows and columns present in it. (1 Marks)\n"
   ]
  },
  {
   "cell_type": "code",
   "execution_count": 16,
   "metadata": {},
   "outputs": [
    {
     "data": {
      "text/plain": [
       "(3208, 25)"
      ]
     },
     "execution_count": 16,
     "metadata": {},
     "output_type": "execute_result"
    }
   ],
   "source": [
    "df.shape"
   ]
  },
  {
   "cell_type": "markdown",
   "metadata": {},
   "source": [
    "### B. Identify the airline names flying in the UK. (2 Marks)"
   ]
  },
  {
   "cell_type": "code",
   "execution_count": 17,
   "metadata": {},
   "outputs": [
    {
     "name": "stdout",
     "output_type": "stream",
     "text": [
      "Number of airlines= 46\n",
      "['FLYBE LTD' 'BMI REGIONAL' 'EASTERN AIRWAYS' 'LOGANAIR LTD'\n",
      " 'EASYJET AIRLINE COMPANY LTD' 'BRITISH AIRWAYS PLC' 'EASYJET SWITZERLAND'\n",
      " 'AIR HAMBURG' 'SAXONAIR CHARTER LTD' 'VANAIR EUROPE AS' 'AER LINGUS'\n",
      " 'JET2.COM LTD' 'VISTAJET LTD MALTA' 'RYANAIR' 'ENTER AIR'\n",
      " 'THOMAS COOK AIRLINES LTD' 'TUI AIRWAYS LTD' 'MONARCH AIRLINES'\n",
      " 'EDELWEISS AIR' 'CELLO AVIATION LTD' 'GAINJET AVIATION' 'MALETH AERO'\n",
      " 'JOTA AVIATION LTD' 'AURIGNY AIR SERVICES' 'SIAVIA' 'BA CITYFLYER LTD'\n",
      " 'ICELANDAIR' 'BLUE ISLANDS LIMITED' 'Unknown' 'CITY JET'\n",
      " 'GERMANIA FLUGGESELLSCHAFT' 'NORWEGIAN AIR SHUTTLE' 'TITAN AIRWAYS LTD'\n",
      " 'VIRGIN ATLANTIC AIRWAYS LTD' 'AMERICAN AIRLINES' 'EL AL' 'LUFTHANSA'\n",
      " 'SUN AIR OF SCANDINAVIA' 'KLM' 'ITALI AIRLINES' 'KAISER AIR' 'AIR FRANCE'\n",
      " 'AIRTANKER SERVICES LTD' 'STOBART AIR' 'AIR X CHARTER' 'KLM CITYHOPPER']\n"
     ]
    }
   ],
   "source": [
    "airline_name_in_UK = df[df['origin_destination_country']=='UNITED KINGDOM']['airline_name'].unique()\n",
    "print('Number of airlines=',len(airline_name_in_UK))\n",
    "print(airline_name_in_UK)\n"
   ]
  },
  {
   "cell_type": "code",
   "execution_count": 18,
   "metadata": {},
   "outputs": [
    {
     "data": {
      "text/plain": [
       "195"
      ]
     },
     "execution_count": 18,
     "metadata": {},
     "output_type": "execute_result"
    }
   ],
   "source": [
    "len(df['airline_name'].unique())"
   ]
  },
  {
   "cell_type": "markdown",
   "metadata": {},
   "source": [
    "### C. Find the list of flights that origin from Vietnam. (2 Marks)"
   ]
  },
  {
   "cell_type": "code",
   "execution_count": 19,
   "metadata": {},
   "outputs": [],
   "source": [
    "#df['origin_destination_country'].unique()"
   ]
  },
  {
   "cell_type": "code",
   "execution_count": 20,
   "metadata": {},
   "outputs": [
    {
     "name": "stdout",
     "output_type": "stream",
     "text": [
      "Number of flights= 2\n",
      "['TUI AIRWAYS LTD' 'VIETNAM AIRLINES']\n"
     ]
    }
   ],
   "source": [
    "flights_from_Vietnam = df[df['origin_destination_country']=='VIETNAM']['airline_name'].unique()\n",
    "print('Number of flights=',len(flights_from_Vietnam))\n",
    "print(flights_from_Vietnam)"
   ]
  },
  {
   "cell_type": "markdown",
   "metadata": {},
   "source": [
    "### D. Find the number of airlines under each reporting airport. (2 Marks)"
   ]
  },
  {
   "cell_type": "code",
   "execution_count": 22,
   "metadata": {},
   "outputs": [
    {
     "data": {
      "text/plain": [
       "reporting_airport\n",
       "ABERDEEN                       18\n",
       "BELFAST CITY (GEORGE BEST)     12\n",
       "BELFAST INTERNATIONAL          13\n",
       "BIRMINGHAM                     50\n",
       "BOURNEMOUTH                    10\n",
       "BRISTOL                        18\n",
       "CARDIFF WALES                  18\n",
       "DONCASTER SHEFFIELD             8\n",
       "DURHAM TEES VALLEY              7\n",
       "EAST MIDLANDS INTERNATIONAL    13\n",
       "EDINBURGH                      35\n",
       "EXETER                          8\n",
       "GATWICK                        69\n",
       "GLASGOW                        26\n",
       "HEATHROW                       84\n",
       "ISLE OF MAN                     7\n",
       "JERSEY                          7\n",
       "LEEDS BRADFORD                 14\n",
       "LIVERPOOL (JOHN LENNON)        16\n",
       "LONDON CITY                    14\n",
       "LUTON                          38\n",
       "MANCHESTER                     63\n",
       "NEWCASTLE                      22\n",
       "SOUTHAMPTON                    12\n",
       "SOUTHEND                        9\n",
       "STANSTED                       27\n",
       "Name: airline_name, dtype: int64"
      ]
     },
     "execution_count": 22,
     "metadata": {},
     "output_type": "execute_result"
    }
   ],
   "source": [
    "df['airline_name'].groupby(by=df['reporting_airport']).nunique()"
   ]
  },
  {
   "cell_type": "code",
   "execution_count": 44,
   "metadata": {},
   "outputs": [
    {
     "data": {
      "text/plain": [
       "reporting_airport  airline_name               \n",
       "ABERDEEN           FLYBE LTD                      19\n",
       "                   EASTERN AIRWAYS                15\n",
       "                   LOGANAIR LTD                    5\n",
       "                   BMI REGIONAL                    4\n",
       "                   EASYJET AIRLINE COMPANY LTD     3\n",
       "                   SAS                             3\n",
       "                   EASYJET SWITZERLAND             2\n",
       "                   RYANAIR                         2\n",
       "                   WIDEROE FLYVESELSKAP A/S        2\n",
       "                   WIZZ AIR                        2\n",
       "Name: airline_name, dtype: int64"
      ]
     },
     "execution_count": 44,
     "metadata": {},
     "output_type": "execute_result"
    }
   ],
   "source": [
    "df['airline_name'].groupby(by=df['reporting_airport']).value_counts().head(10)"
   ]
  },
  {
   "cell_type": "markdown",
   "metadata": {},
   "source": [
    "### E. Find the number of flights that origin from Los Angeles and reporting at Heathrow Airport. (2 Marks)"
   ]
  },
  {
   "cell_type": "code",
   "execution_count": 45,
   "metadata": {},
   "outputs": [
    {
     "data": {
      "text/plain": [
       "4"
      ]
     },
     "execution_count": 45,
     "metadata": {},
     "output_type": "execute_result"
    }
   ],
   "source": [
    "len(df[(df['origin_destination']=='LOS ANGELES INTERNATIONAL') & (df['reporting_airport']=='HEATHROW')])"
   ]
  },
  {
   "cell_type": "code",
   "execution_count": 46,
   "metadata": {},
   "outputs": [
    {
     "data": {
      "text/html": [
       "<div>\n",
       "<style scoped>\n",
       "    .dataframe tbody tr th:only-of-type {\n",
       "        vertical-align: middle;\n",
       "    }\n",
       "\n",
       "    .dataframe tbody tr th {\n",
       "        vertical-align: top;\n",
       "    }\n",
       "\n",
       "    .dataframe thead th {\n",
       "        text-align: right;\n",
       "    }\n",
       "</style>\n",
       "<table border=\"1\" class=\"dataframe\">\n",
       "  <thead>\n",
       "    <tr style=\"text-align: right;\">\n",
       "      <th></th>\n",
       "      <th>run_date</th>\n",
       "      <th>reporting_period</th>\n",
       "      <th>reporting_airport</th>\n",
       "      <th>origin_destination_country</th>\n",
       "      <th>origin_destination</th>\n",
       "      <th>airline_name</th>\n",
       "      <th>scheduled_charter</th>\n",
       "      <th>number_flights_matched</th>\n",
       "      <th>actual_flights_unmatched</th>\n",
       "      <th>number_flights_cancelled</th>\n",
       "      <th>...</th>\n",
       "      <th>flights_between_61_and_120_minutes_late_percent</th>\n",
       "      <th>flights_between_121_and_180_minutes_late_percent</th>\n",
       "      <th>flights_between_181_and_360_minutes_late_percent</th>\n",
       "      <th>flights_more_than_360_minutes_late_percent</th>\n",
       "      <th>flights_unmatched_percent</th>\n",
       "      <th>flights_cancelled_percent</th>\n",
       "      <th>average_delay_mins</th>\n",
       "      <th>previous_year_month_flights_matched</th>\n",
       "      <th>previous_year_month_early_to_15_mins_late_percent</th>\n",
       "      <th>previous_year_month_average_delay</th>\n",
       "    </tr>\n",
       "  </thead>\n",
       "  <tbody>\n",
       "    <tr>\n",
       "      <th>1957</th>\n",
       "      <td>30/04/2018 13:48</td>\n",
       "      <td>201801</td>\n",
       "      <td>HEATHROW</td>\n",
       "      <td>USA</td>\n",
       "      <td>LOS ANGELES INTERNATIONAL</td>\n",
       "      <td>AMERICAN AIRLINES</td>\n",
       "      <td>S</td>\n",
       "      <td>102</td>\n",
       "      <td>0</td>\n",
       "      <td>2</td>\n",
       "      <td>...</td>\n",
       "      <td>2.884615</td>\n",
       "      <td>0.961538</td>\n",
       "      <td>0.961538</td>\n",
       "      <td>0.000000</td>\n",
       "      <td>0.0</td>\n",
       "      <td>1.923077</td>\n",
       "      <td>11.803922</td>\n",
       "      <td>106</td>\n",
       "      <td>66.037736</td>\n",
       "      <td>21.839623</td>\n",
       "    </tr>\n",
       "    <tr>\n",
       "      <th>1958</th>\n",
       "      <td>30/04/2018 13:48</td>\n",
       "      <td>201801</td>\n",
       "      <td>HEATHROW</td>\n",
       "      <td>USA</td>\n",
       "      <td>LOS ANGELES INTERNATIONAL</td>\n",
       "      <td>BRITISH AIRWAYS PLC</td>\n",
       "      <td>S</td>\n",
       "      <td>184</td>\n",
       "      <td>0</td>\n",
       "      <td>2</td>\n",
       "      <td>...</td>\n",
       "      <td>1.612903</td>\n",
       "      <td>1.612903</td>\n",
       "      <td>0.000000</td>\n",
       "      <td>0.000000</td>\n",
       "      <td>0.0</td>\n",
       "      <td>1.075269</td>\n",
       "      <td>10.592391</td>\n",
       "      <td>123</td>\n",
       "      <td>52.032520</td>\n",
       "      <td>20.658537</td>\n",
       "    </tr>\n",
       "    <tr>\n",
       "      <th>1959</th>\n",
       "      <td>30/04/2018 13:48</td>\n",
       "      <td>201801</td>\n",
       "      <td>HEATHROW</td>\n",
       "      <td>USA</td>\n",
       "      <td>LOS ANGELES INTERNATIONAL</td>\n",
       "      <td>UNITED AIRLINES</td>\n",
       "      <td>S</td>\n",
       "      <td>62</td>\n",
       "      <td>0</td>\n",
       "      <td>0</td>\n",
       "      <td>...</td>\n",
       "      <td>1.612903</td>\n",
       "      <td>0.000000</td>\n",
       "      <td>0.000000</td>\n",
       "      <td>1.612903</td>\n",
       "      <td>0.0</td>\n",
       "      <td>0.000000</td>\n",
       "      <td>30.258065</td>\n",
       "      <td>62</td>\n",
       "      <td>80.645161</td>\n",
       "      <td>16.419355</td>\n",
       "    </tr>\n",
       "    <tr>\n",
       "      <th>1960</th>\n",
       "      <td>30/04/2018 13:48</td>\n",
       "      <td>201801</td>\n",
       "      <td>HEATHROW</td>\n",
       "      <td>USA</td>\n",
       "      <td>LOS ANGELES INTERNATIONAL</td>\n",
       "      <td>VIRGIN ATLANTIC AIRWAYS LTD</td>\n",
       "      <td>S</td>\n",
       "      <td>97</td>\n",
       "      <td>0</td>\n",
       "      <td>0</td>\n",
       "      <td>...</td>\n",
       "      <td>1.030928</td>\n",
       "      <td>0.000000</td>\n",
       "      <td>0.000000</td>\n",
       "      <td>0.000000</td>\n",
       "      <td>0.0</td>\n",
       "      <td>0.000000</td>\n",
       "      <td>7.494845</td>\n",
       "      <td>103</td>\n",
       "      <td>83.495146</td>\n",
       "      <td>8.902913</td>\n",
       "    </tr>\n",
       "  </tbody>\n",
       "</table>\n",
       "<p>4 rows × 25 columns</p>\n",
       "</div>"
      ],
      "text/plain": [
       "              run_date  reporting_period reporting_airport  \\\n",
       "1957  30/04/2018 13:48            201801          HEATHROW   \n",
       "1958  30/04/2018 13:48            201801          HEATHROW   \n",
       "1959  30/04/2018 13:48            201801          HEATHROW   \n",
       "1960  30/04/2018 13:48            201801          HEATHROW   \n",
       "\n",
       "     origin_destination_country         origin_destination  \\\n",
       "1957                        USA  LOS ANGELES INTERNATIONAL   \n",
       "1958                        USA  LOS ANGELES INTERNATIONAL   \n",
       "1959                        USA  LOS ANGELES INTERNATIONAL   \n",
       "1960                        USA  LOS ANGELES INTERNATIONAL   \n",
       "\n",
       "                     airline_name scheduled_charter  number_flights_matched  \\\n",
       "1957            AMERICAN AIRLINES                 S                     102   \n",
       "1958          BRITISH AIRWAYS PLC                 S                     184   \n",
       "1959              UNITED AIRLINES                 S                      62   \n",
       "1960  VIRGIN ATLANTIC AIRWAYS LTD                 S                      97   \n",
       "\n",
       "      actual_flights_unmatched  number_flights_cancelled  ...  \\\n",
       "1957                         0                         2  ...   \n",
       "1958                         0                         2  ...   \n",
       "1959                         0                         0  ...   \n",
       "1960                         0                         0  ...   \n",
       "\n",
       "      flights_between_61_and_120_minutes_late_percent  \\\n",
       "1957                                         2.884615   \n",
       "1958                                         1.612903   \n",
       "1959                                         1.612903   \n",
       "1960                                         1.030928   \n",
       "\n",
       "      flights_between_121_and_180_minutes_late_percent  \\\n",
       "1957                                          0.961538   \n",
       "1958                                          1.612903   \n",
       "1959                                          0.000000   \n",
       "1960                                          0.000000   \n",
       "\n",
       "      flights_between_181_and_360_minutes_late_percent  \\\n",
       "1957                                          0.961538   \n",
       "1958                                          0.000000   \n",
       "1959                                          0.000000   \n",
       "1960                                          0.000000   \n",
       "\n",
       "      flights_more_than_360_minutes_late_percent  flights_unmatched_percent  \\\n",
       "1957                                    0.000000                        0.0   \n",
       "1958                                    0.000000                        0.0   \n",
       "1959                                    1.612903                        0.0   \n",
       "1960                                    0.000000                        0.0   \n",
       "\n",
       "      flights_cancelled_percent  average_delay_mins  \\\n",
       "1957                   1.923077           11.803922   \n",
       "1958                   1.075269           10.592391   \n",
       "1959                   0.000000           30.258065   \n",
       "1960                   0.000000            7.494845   \n",
       "\n",
       "      previous_year_month_flights_matched  \\\n",
       "1957                                  106   \n",
       "1958                                  123   \n",
       "1959                                   62   \n",
       "1960                                  103   \n",
       "\n",
       "      previous_year_month_early_to_15_mins_late_percent  \\\n",
       "1957                                          66.037736   \n",
       "1958                                          52.032520   \n",
       "1959                                          80.645161   \n",
       "1960                                          83.495146   \n",
       "\n",
       "      previous_year_month_average_delay  \n",
       "1957                          21.839623  \n",
       "1958                          20.658537  \n",
       "1959                          16.419355  \n",
       "1960                           8.902913  \n",
       "\n",
       "[4 rows x 25 columns]"
      ]
     },
     "execution_count": 46,
     "metadata": {},
     "output_type": "execute_result"
    }
   ],
   "source": [
    "df[(df['origin_destination']=='LOS ANGELES INTERNATIONAL') & (df['reporting_airport']=='HEATHROW')]"
   ]
  },
  {
   "cell_type": "markdown",
   "metadata": {},
   "source": [
    "#### 2. Continue with the UK_Flight_2018 for below A,B,C Questions.\n",
    "\n",
    "A. Find the total number of flights matched, unmatched and cancelled. (2 Marks)\n",
    "\n",
    "B. For flights originating from the USA and find the average delay in minutes for every airline. (2 Marks)\n",
    "\n",
    "C. Count the categories in \"scheduled charter\" namely 'S' and 'C'.Plot horizontally using matplotlib and label and Title of chart should be used appropriately. (2 marks)"
   ]
  },
  {
   "cell_type": "markdown",
   "metadata": {},
   "source": [
    "### A. Find the total number of flights matched, unmatched and cancelled. (2 Marks)\n"
   ]
  },
  {
   "cell_type": "code",
   "execution_count": 47,
   "metadata": {},
   "outputs": [
    {
     "data": {
      "text/plain": [
       "146462"
      ]
     },
     "execution_count": 47,
     "metadata": {},
     "output_type": "execute_result"
    }
   ],
   "source": [
    "df['number_flights_matched'].sum()"
   ]
  },
  {
   "cell_type": "code",
   "execution_count": 48,
   "metadata": {},
   "outputs": [
    {
     "data": {
      "text/plain": [
       "0     3191\n",
       "1       15\n",
       "12       1\n",
       "4        1\n",
       "Name: actual_flights_unmatched, dtype: int64"
      ]
     },
     "execution_count": 48,
     "metadata": {},
     "output_type": "execute_result"
    }
   ],
   "source": [
    "df['actual_flights_unmatched'].value_counts()"
   ]
  },
  {
   "cell_type": "code",
   "execution_count": 49,
   "metadata": {},
   "outputs": [
    {
     "data": {
      "text/plain": [
       "31"
      ]
     },
     "execution_count": 49,
     "metadata": {},
     "output_type": "execute_result"
    }
   ],
   "source": [
    "df['actual_flights_unmatched'].sum()"
   ]
  },
  {
   "cell_type": "code",
   "execution_count": 50,
   "metadata": {},
   "outputs": [
    {
     "data": {
      "text/plain": [
       "1815"
      ]
     },
     "execution_count": 50,
     "metadata": {},
     "output_type": "execute_result"
    }
   ],
   "source": [
    "df['number_flights_cancelled'].sum()"
   ]
  },
  {
   "cell_type": "markdown",
   "metadata": {},
   "source": [
    "### B. For flights originating from the USA and find the average delay in minutes for every airline. (2 Marks)\n"
   ]
  },
  {
   "cell_type": "code",
   "execution_count": 51,
   "metadata": {},
   "outputs": [
    {
     "data": {
      "text/html": [
       "<div>\n",
       "<style scoped>\n",
       "    .dataframe tbody tr th:only-of-type {\n",
       "        vertical-align: middle;\n",
       "    }\n",
       "\n",
       "    .dataframe tbody tr th {\n",
       "        vertical-align: top;\n",
       "    }\n",
       "\n",
       "    .dataframe thead th {\n",
       "        text-align: right;\n",
       "    }\n",
       "</style>\n",
       "<table border=\"1\" class=\"dataframe\">\n",
       "  <thead>\n",
       "    <tr style=\"text-align: right;\">\n",
       "      <th></th>\n",
       "      <th>run_date</th>\n",
       "      <th>reporting_period</th>\n",
       "      <th>reporting_airport</th>\n",
       "      <th>origin_destination_country</th>\n",
       "      <th>origin_destination</th>\n",
       "      <th>airline_name</th>\n",
       "      <th>scheduled_charter</th>\n",
       "      <th>number_flights_matched</th>\n",
       "      <th>actual_flights_unmatched</th>\n",
       "      <th>number_flights_cancelled</th>\n",
       "      <th>...</th>\n",
       "      <th>flights_between_61_and_120_minutes_late_percent</th>\n",
       "      <th>flights_between_121_and_180_minutes_late_percent</th>\n",
       "      <th>flights_between_181_and_360_minutes_late_percent</th>\n",
       "      <th>flights_more_than_360_minutes_late_percent</th>\n",
       "      <th>flights_unmatched_percent</th>\n",
       "      <th>flights_cancelled_percent</th>\n",
       "      <th>average_delay_mins</th>\n",
       "      <th>previous_year_month_flights_matched</th>\n",
       "      <th>previous_year_month_early_to_15_mins_late_percent</th>\n",
       "      <th>previous_year_month_average_delay</th>\n",
       "    </tr>\n",
       "  </thead>\n",
       "  <tbody>\n",
       "    <tr>\n",
       "      <th>91</th>\n",
       "      <td>30/04/2018 13:48</td>\n",
       "      <td>201801</td>\n",
       "      <td>BELFAST CITY (GEORGE BEST)</td>\n",
       "      <td>USA</td>\n",
       "      <td>OAKLAND</td>\n",
       "      <td>AIR ALSIE</td>\n",
       "      <td>C</td>\n",
       "      <td>0</td>\n",
       "      <td>0</td>\n",
       "      <td>0</td>\n",
       "      <td>...</td>\n",
       "      <td>0.0</td>\n",
       "      <td>0.0</td>\n",
       "      <td>0.0</td>\n",
       "      <td>0.0</td>\n",
       "      <td>0.0</td>\n",
       "      <td>0.0</td>\n",
       "      <td>0.0</td>\n",
       "      <td>1</td>\n",
       "      <td>100.0</td>\n",
       "      <td>0.0</td>\n",
       "    </tr>\n",
       "    <tr>\n",
       "      <th>92</th>\n",
       "      <td>30/04/2018 13:48</td>\n",
       "      <td>201801</td>\n",
       "      <td>BELFAST CITY (GEORGE BEST)</td>\n",
       "      <td>USA</td>\n",
       "      <td>ST PETE (CLEARWATER)</td>\n",
       "      <td>AIR ALSIE</td>\n",
       "      <td>C</td>\n",
       "      <td>0</td>\n",
       "      <td>0</td>\n",
       "      <td>0</td>\n",
       "      <td>...</td>\n",
       "      <td>0.0</td>\n",
       "      <td>0.0</td>\n",
       "      <td>0.0</td>\n",
       "      <td>0.0</td>\n",
       "      <td>0.0</td>\n",
       "      <td>0.0</td>\n",
       "      <td>0.0</td>\n",
       "      <td>1</td>\n",
       "      <td>100.0</td>\n",
       "      <td>6.0</td>\n",
       "    </tr>\n",
       "  </tbody>\n",
       "</table>\n",
       "<p>2 rows × 25 columns</p>\n",
       "</div>"
      ],
      "text/plain": [
       "            run_date  reporting_period           reporting_airport  \\\n",
       "91  30/04/2018 13:48            201801  BELFAST CITY (GEORGE BEST)   \n",
       "92  30/04/2018 13:48            201801  BELFAST CITY (GEORGE BEST)   \n",
       "\n",
       "   origin_destination_country    origin_destination airline_name  \\\n",
       "91                        USA               OAKLAND    AIR ALSIE   \n",
       "92                        USA  ST PETE (CLEARWATER)    AIR ALSIE   \n",
       "\n",
       "   scheduled_charter  number_flights_matched  actual_flights_unmatched  \\\n",
       "91                 C                       0                         0   \n",
       "92                 C                       0                         0   \n",
       "\n",
       "    number_flights_cancelled  ...  \\\n",
       "91                         0  ...   \n",
       "92                         0  ...   \n",
       "\n",
       "    flights_between_61_and_120_minutes_late_percent  \\\n",
       "91                                              0.0   \n",
       "92                                              0.0   \n",
       "\n",
       "    flights_between_121_and_180_minutes_late_percent  \\\n",
       "91                                               0.0   \n",
       "92                                               0.0   \n",
       "\n",
       "    flights_between_181_and_360_minutes_late_percent  \\\n",
       "91                                               0.0   \n",
       "92                                               0.0   \n",
       "\n",
       "    flights_more_than_360_minutes_late_percent  flights_unmatched_percent  \\\n",
       "91                                         0.0                        0.0   \n",
       "92                                         0.0                        0.0   \n",
       "\n",
       "    flights_cancelled_percent  average_delay_mins  \\\n",
       "91                        0.0                 0.0   \n",
       "92                        0.0                 0.0   \n",
       "\n",
       "    previous_year_month_flights_matched  \\\n",
       "91                                    1   \n",
       "92                                    1   \n",
       "\n",
       "    previous_year_month_early_to_15_mins_late_percent  \\\n",
       "91                                              100.0   \n",
       "92                                              100.0   \n",
       "\n",
       "    previous_year_month_average_delay  \n",
       "91                                0.0  \n",
       "92                                6.0  \n",
       "\n",
       "[2 rows x 25 columns]"
      ]
     },
     "execution_count": 51,
     "metadata": {},
     "output_type": "execute_result"
    }
   ],
   "source": [
    "a=df[df['origin_destination_country']=='USA']\n",
    "a.head(2)"
   ]
  },
  {
   "cell_type": "code",
   "execution_count": 52,
   "metadata": {},
   "outputs": [
    {
     "data": {
      "text/html": [
       "<div>\n",
       "<style scoped>\n",
       "    .dataframe tbody tr th:only-of-type {\n",
       "        vertical-align: middle;\n",
       "    }\n",
       "\n",
       "    .dataframe tbody tr th {\n",
       "        vertical-align: top;\n",
       "    }\n",
       "\n",
       "    .dataframe thead th {\n",
       "        text-align: right;\n",
       "    }\n",
       "</style>\n",
       "<table border=\"1\" class=\"dataframe\">\n",
       "  <thead>\n",
       "    <tr style=\"text-align: right;\">\n",
       "      <th></th>\n",
       "      <th>average_delay_mins</th>\n",
       "    </tr>\n",
       "    <tr>\n",
       "      <th>airline_name</th>\n",
       "      <th></th>\n",
       "    </tr>\n",
       "  </thead>\n",
       "  <tbody>\n",
       "    <tr>\n",
       "      <th>AIR ALSIE</th>\n",
       "      <td>0.000000</td>\n",
       "    </tr>\n",
       "    <tr>\n",
       "      <th>AIR CANADA</th>\n",
       "      <td>0.000000</td>\n",
       "    </tr>\n",
       "    <tr>\n",
       "      <th>AIR INDIA</th>\n",
       "      <td>27.333333</td>\n",
       "    </tr>\n",
       "    <tr>\n",
       "      <th>AIRTANKER SERVICES LTD</th>\n",
       "      <td>0.000000</td>\n",
       "    </tr>\n",
       "    <tr>\n",
       "      <th>AMERICAN AIRLINES</th>\n",
       "      <td>10.650075</td>\n",
       "    </tr>\n",
       "    <tr>\n",
       "      <th>ATLAS AIR  INC</th>\n",
       "      <td>0.000000</td>\n",
       "    </tr>\n",
       "    <tr>\n",
       "      <th>BRITISH AIRWAYS PLC</th>\n",
       "      <td>15.349600</td>\n",
       "    </tr>\n",
       "    <tr>\n",
       "      <th>DELTA AIRLINES</th>\n",
       "      <td>9.671347</td>\n",
       "    </tr>\n",
       "    <tr>\n",
       "      <th>EMIRATES</th>\n",
       "      <td>0.000000</td>\n",
       "    </tr>\n",
       "    <tr>\n",
       "      <th>FAI FLIGHT- AMBULANCE SERVICE</th>\n",
       "      <td>0.000000</td>\n",
       "    </tr>\n",
       "    <tr>\n",
       "      <th>JET2.COM LTD</th>\n",
       "      <td>16.666667</td>\n",
       "    </tr>\n",
       "    <tr>\n",
       "      <th>LUFTHANSA</th>\n",
       "      <td>0.000000</td>\n",
       "    </tr>\n",
       "    <tr>\n",
       "      <th>NORWEGIAN AIR INTERNATIONAL</th>\n",
       "      <td>11.247277</td>\n",
       "    </tr>\n",
       "    <tr>\n",
       "      <th>NORWEGIAN AIR SHUTTLE</th>\n",
       "      <td>49.892082</td>\n",
       "    </tr>\n",
       "    <tr>\n",
       "      <th>PAKISTAN INTL AIRLINES</th>\n",
       "      <td>0.000000</td>\n",
       "    </tr>\n",
       "    <tr>\n",
       "      <th>SINGAPORE AIRLINES</th>\n",
       "      <td>6.500000</td>\n",
       "    </tr>\n",
       "    <tr>\n",
       "      <th>THOMAS COOK AIRLINES LTD</th>\n",
       "      <td>130.500000</td>\n",
       "    </tr>\n",
       "    <tr>\n",
       "      <th>UNITED AIRLINES</th>\n",
       "      <td>9.096731</td>\n",
       "    </tr>\n",
       "    <tr>\n",
       "      <th>Unknown</th>\n",
       "      <td>0.000000</td>\n",
       "    </tr>\n",
       "    <tr>\n",
       "      <th>VIRGIN ATLANTIC AIRWAYS LTD</th>\n",
       "      <td>10.147533</td>\n",
       "    </tr>\n",
       "    <tr>\n",
       "      <th>VISTAJET LTD MALTA</th>\n",
       "      <td>0.000000</td>\n",
       "    </tr>\n",
       "  </tbody>\n",
       "</table>\n",
       "</div>"
      ],
      "text/plain": [
       "                               average_delay_mins\n",
       "airline_name                                     \n",
       "AIR ALSIE                                0.000000\n",
       "AIR CANADA                               0.000000\n",
       "AIR INDIA                               27.333333\n",
       "AIRTANKER SERVICES LTD                   0.000000\n",
       "AMERICAN AIRLINES                       10.650075\n",
       "ATLAS AIR  INC                           0.000000\n",
       "BRITISH AIRWAYS PLC                     15.349600\n",
       "DELTA AIRLINES                           9.671347\n",
       "EMIRATES                                 0.000000\n",
       "FAI FLIGHT- AMBULANCE SERVICE            0.000000\n",
       "JET2.COM LTD                            16.666667\n",
       "LUFTHANSA                                0.000000\n",
       "NORWEGIAN AIR INTERNATIONAL             11.247277\n",
       "NORWEGIAN AIR SHUTTLE                   49.892082\n",
       "PAKISTAN INTL AIRLINES                   0.000000\n",
       "SINGAPORE AIRLINES                       6.500000\n",
       "THOMAS COOK AIRLINES LTD               130.500000\n",
       "UNITED AIRLINES                          9.096731\n",
       "Unknown                                  0.000000\n",
       "VIRGIN ATLANTIC AIRWAYS LTD             10.147533\n",
       "VISTAJET LTD MALTA                       0.000000"
      ]
     },
     "execution_count": 52,
     "metadata": {},
     "output_type": "execute_result"
    }
   ],
   "source": [
    "order_airline_delay=a.groupby('airline_name')[\"average_delay_mins\"].mean()\n",
    "order_airline_delay.to_frame()"
   ]
  },
  {
   "cell_type": "code",
   "execution_count": 53,
   "metadata": {},
   "outputs": [
    {
     "data": {
      "text/plain": [
       "21"
      ]
     },
     "execution_count": 53,
     "metadata": {},
     "output_type": "execute_result"
    }
   ],
   "source": [
    "len(order_airline_delay)"
   ]
  },
  {
   "cell_type": "code",
   "execution_count": 54,
   "metadata": {},
   "outputs": [
    {
     "data": {
      "text/html": [
       "<div>\n",
       "<style scoped>\n",
       "    .dataframe tbody tr th:only-of-type {\n",
       "        vertical-align: middle;\n",
       "    }\n",
       "\n",
       "    .dataframe tbody tr th {\n",
       "        vertical-align: top;\n",
       "    }\n",
       "\n",
       "    .dataframe thead th {\n",
       "        text-align: right;\n",
       "    }\n",
       "</style>\n",
       "<table border=\"1\" class=\"dataframe\">\n",
       "  <thead>\n",
       "    <tr style=\"text-align: right;\">\n",
       "      <th></th>\n",
       "      <th>airline_name</th>\n",
       "      <th>average_delay_mins</th>\n",
       "    </tr>\n",
       "  </thead>\n",
       "  <tbody>\n",
       "    <tr>\n",
       "      <th>91</th>\n",
       "      <td>AIR ALSIE</td>\n",
       "      <td>0.000000</td>\n",
       "    </tr>\n",
       "    <tr>\n",
       "      <th>92</th>\n",
       "      <td>AIR ALSIE</td>\n",
       "      <td>0.000000</td>\n",
       "    </tr>\n",
       "    <tr>\n",
       "      <th>1487</th>\n",
       "      <td>AIR ALSIE</td>\n",
       "      <td>0.000000</td>\n",
       "    </tr>\n",
       "    <tr>\n",
       "      <th>1954</th>\n",
       "      <td>AIR CANADA</td>\n",
       "      <td>0.000000</td>\n",
       "    </tr>\n",
       "    <tr>\n",
       "      <th>1970</th>\n",
       "      <td>AIR INDIA</td>\n",
       "      <td>27.333333</td>\n",
       "    </tr>\n",
       "    <tr>\n",
       "      <th>...</th>\n",
       "      <td>...</td>\n",
       "      <td>...</td>\n",
       "    </tr>\n",
       "    <tr>\n",
       "      <th>2269</th>\n",
       "      <td>VISTAJET LTD MALTA</td>\n",
       "      <td>0.000000</td>\n",
       "    </tr>\n",
       "    <tr>\n",
       "      <th>2268</th>\n",
       "      <td>VISTAJET LTD MALTA</td>\n",
       "      <td>0.000000</td>\n",
       "    </tr>\n",
       "    <tr>\n",
       "      <th>2267</th>\n",
       "      <td>VISTAJET LTD MALTA</td>\n",
       "      <td>0.000000</td>\n",
       "    </tr>\n",
       "    <tr>\n",
       "      <th>2265</th>\n",
       "      <td>VISTAJET LTD MALTA</td>\n",
       "      <td>0.000000</td>\n",
       "    </tr>\n",
       "    <tr>\n",
       "      <th>2264</th>\n",
       "      <td>VISTAJET LTD MALTA</td>\n",
       "      <td>0.000000</td>\n",
       "    </tr>\n",
       "  </tbody>\n",
       "</table>\n",
       "<p>118 rows × 2 columns</p>\n",
       "</div>"
      ],
      "text/plain": [
       "            airline_name  average_delay_mins\n",
       "91             AIR ALSIE            0.000000\n",
       "92             AIR ALSIE            0.000000\n",
       "1487           AIR ALSIE            0.000000\n",
       "1954          AIR CANADA            0.000000\n",
       "1970           AIR INDIA           27.333333\n",
       "...                  ...                 ...\n",
       "2269  VISTAJET LTD MALTA            0.000000\n",
       "2268  VISTAJET LTD MALTA            0.000000\n",
       "2267  VISTAJET LTD MALTA            0.000000\n",
       "2265  VISTAJET LTD MALTA            0.000000\n",
       "2264  VISTAJET LTD MALTA            0.000000\n",
       "\n",
       "[118 rows x 2 columns]"
      ]
     },
     "execution_count": 54,
     "metadata": {},
     "output_type": "execute_result"
    }
   ],
   "source": [
    "df[df['origin_destination_country']=='USA'][['airline_name','average_delay_mins']].sort_values('airline_name')"
   ]
  },
  {
   "cell_type": "code",
   "execution_count": 55,
   "metadata": {},
   "outputs": [
    {
     "data": {
      "text/plain": [
       "array(['DURHAM TEES VALLEY', 'DONCASTER SHEFFIELD', 'BOURNEMOUTH',\n",
       "       'LUTON', 'CARDIFF WALES', 'NEWCASTLE', 'SOUTHAMPTON',\n",
       "       'LEEDS BRADFORD', 'SOUTHEND', 'BIRMINGHAM',\n",
       "       'BELFAST CITY (GEORGE BEST)', 'LIVERPOOL (JOHN LENNON)', 'GATWICK',\n",
       "       'EAST MIDLANDS INTERNATIONAL', 'EXETER', 'MANCHESTER', 'ABERDEEN',\n",
       "       'LONDON CITY', 'EDINBURGH', 'ISLE OF MAN', 'GLASGOW', 'BRISTOL',\n",
       "       'BELFAST INTERNATIONAL', 'STANSTED', 'HEATHROW', 'JERSEY'],\n",
       "      dtype=object)"
      ]
     },
     "execution_count": 55,
     "metadata": {},
     "output_type": "execute_result"
    }
   ],
   "source": [
    "order_airport=df.groupby([\"reporting_airport\"])[\"average_delay_mins\"].median().sort_values().index.values\n",
    "order_airport"
   ]
  },
  {
   "cell_type": "markdown",
   "metadata": {},
   "source": [
    "\n",
    "### C. Count the categories in \"scheduled charter\" namely 'S' and 'C'.Plot horizontally using matplotlib and label and Title of chart should be used appropriately. (2 marks)"
   ]
  },
  {
   "cell_type": "code",
   "execution_count": 56,
   "metadata": {},
   "outputs": [
    {
     "data": {
      "text/plain": [
       "S    2540\n",
       "C     668\n",
       "Name: scheduled_charter, dtype: int64"
      ]
     },
     "execution_count": 56,
     "metadata": {},
     "output_type": "execute_result"
    }
   ],
   "source": [
    "df['scheduled_charter'].value_counts()"
   ]
  },
  {
   "cell_type": "code",
   "execution_count": 57,
   "metadata": {},
   "outputs": [
    {
     "data": {
      "text/plain": [
       "Index(['S', 'C'], dtype='object')"
      ]
     },
     "execution_count": 57,
     "metadata": {},
     "output_type": "execute_result"
    }
   ],
   "source": [
    "df['scheduled_charter'].value_counts().index"
   ]
  },
  {
   "cell_type": "code",
   "execution_count": 23,
   "metadata": {},
   "outputs": [
    {
     "data": {
      "text/plain": [
       "array([2540,  668], dtype=int64)"
      ]
     },
     "execution_count": 23,
     "metadata": {},
     "output_type": "execute_result"
    }
   ],
   "source": [
    "df['scheduled_charter'].value_counts().values"
   ]
  },
  {
   "cell_type": "code",
   "execution_count": 58,
   "metadata": {},
   "outputs": [
    {
     "data": {
      "image/png": "[encoded data removed]",
      "text/plain": [
       "<Figure size 432x288 with 1 Axes>"
      ]
     },
     "metadata": {
      "needs_background": "light"
     },
     "output_type": "display_data"
    }
   ],
   "source": [
    "x=df['scheduled_charter'].value_counts().index\n",
    "y=df['scheduled_charter'].value_counts().values\n",
    "\n",
    "plt.barh(x,y)\n",
    "plt.xlabel(\"Number of values in each category\")\n",
    "plt.ylabel(\"Type of category\")\n",
    "for index, value in enumerate(y):\n",
    "    plt.text(x=value, y=index, s=str(value))\n",
    "\n",
    "plt.title('Categories  and their count in \"scheduled charter\" column ')\n",
    "plt.show()"
   ]
  },
  {
   "cell_type": "code",
   "execution_count": 59,
   "metadata": {},
   "outputs": [
    {
     "name": "stdout",
     "output_type": "stream",
     "text": [
      "0\n",
      "2540\n",
      "[2540  668]\n",
      "<enumerate object at 0x0000022810616868>\n",
      "1\n",
      "668\n",
      "[2540  668]\n",
      "<enumerate object at 0x0000022810616868>\n"
     ]
    }
   ],
   "source": [
    "y=df['scheduled_charter'].value_counts().values\n",
    "a=enumerate(y)\n",
    "for index, value in a:\n",
    "    print(index)\n",
    "    print(value)\n",
    "    print(y)\n",
    "    print(a)"
   ]
  },
  {
   "cell_type": "markdown",
   "metadata": {},
   "source": [
    "### Enumerate functions much like a for loop, it loops over a collection of data once for each item in it.  enumerate automatically modifies the data it is fed, essentially turning each item into a key-value pair. As the function iterates over the object, each item is paired with a number that corresponds to the number of times the loop has run including the current loop."
   ]
  },
  {
   "cell_type": "markdown",
   "metadata": {},
   "source": [
    "### The Python enumerate function offers a more simplistic way to access and count items in a data collection. The enumerate function associates a counter as a key to each item in the set. This can help create structure in an unordered collection."
   ]
  },
  {
   "cell_type": "code",
   "execution_count": null,
   "metadata": {},
   "outputs": [],
   "source": []
  }
 ],
 "metadata": {
  "colab": {
   "name": "ITP-Day 4_TH Exercise.ipynb",
   "provenance": []
  },
  "kernelspec": {
   "display_name": "Python 3",
   "language": "python",
   "name": "python3"
  },
  "language_info": {
   "codemirror_mode": {
    "name": "ipython",
    "version": 3
   },
   "file_extension": ".py",
   "mimetype": "text/x-python",
   "name": "python",
   "nbconvert_exporter": "python",
   "pygments_lexer": "ipython3",
   "version": "3.7.6"
  }
 },
 "nbformat": 4,
 "nbformat_minor": 1
}
