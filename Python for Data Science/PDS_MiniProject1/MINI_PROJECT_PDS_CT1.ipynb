{
 "cells": [
  {
   "cell_type": "markdown",
   "metadata": {
    "id": "H-T3rXcWRbF7"
   },
   "source": [
    "<table align=\"center\" width=100%>\n",
    "    <tr>\n",
    "       <td>\n",
    "            <div align=\"center\">\n",
    "                <font color=\"#21618C\" size=8px>\n",
    "                    <b> MINI PROJECT 1<br>\n",
    "                    </b>\n",
    "                </font>\n",
    "            </div>\n",
    "        </td>\n",
    "        <td width=\"25%\">\n",
    "            <img src=\"NEW_GL_Logo.png\">\n",
    "        </td>\n",
    "    </tr>\n",
    "</table>"
   ]
  },
  {
   "cell_type": "markdown",
   "metadata": {
    "id": "2SWXoFHjRbGE"
   },
   "source": [
    "## Write your own logical script to solve the given problems (20 Marks)"
   ]
  },
  {
   "cell_type": "markdown",
   "metadata": {
    "id": "PtuTRJHvRbGF"
   },
   "source": [
    "### 1. Write a program to transpose a matrix using List Comprehension and without using List Comprehension    (4 marks)"
   ]
  },
  {
   "cell_type": "markdown",
   "metadata": {
    "id": "PDQvp6NvRbGG"
   },
   "source": [
    "<b> matrix= [[1,2,3],[3,4,5],[5,6,8],[7,8,9]] </b><br>"
   ]
  },
  {
   "cell_type": "code",
   "execution_count": 1,
   "metadata": {
    "id": "60NuhxtURbGH"
   },
   "outputs": [
    {
     "name": "stdout",
     "output_type": "stream",
     "text": [
      "Input matrix:\n",
      "[1, 2, 3]\n",
      "[3, 4, 5]\n",
      "[5, 6, 8]\n",
      "[7, 8, 9]\n",
      "Transpose of matrix:\n",
      "[1, 3, 5, 7]\n",
      "[2, 4, 6, 8]\n",
      "[3, 5, 8, 9]\n"
     ]
    }
   ],
   "source": [
    "# \"Using LIST Comprehension\"\n",
    "matrix= [[1,2,3],[3,4,5],[5,6,8],[7,8,9]]\n",
    "\n",
    "# display input matrix\n",
    "print(\"Input matrix:\")\n",
    "for i in matrix:\n",
    "    print(i)\n",
    "    \n",
    "matrix_transpose=[[row[col] for row in matrix] for col in range(len(matrix[0]))]\n",
    "    \n",
    "# display transpose of matrix\n",
    "print(\"Transpose of matrix:\")\n",
    "for i in matrix_transpose:\n",
    "    print(i)    \n"
   ]
  },
  {
   "cell_type": "code",
   "execution_count": 2,
   "metadata": {},
   "outputs": [
    {
     "name": "stdout",
     "output_type": "stream",
     "text": [
      "Input matrix:\n",
      "[1, 2, 3]\n",
      "[3, 4, 5]\n",
      "[5, 6, 8]\n",
      "[7, 8, 9]\n",
      "Transpose of matrix:\n",
      "[1, 3, 5, 7]\n",
      "[2, 4, 6, 8]\n",
      "[3, 5, 8, 9]\n"
     ]
    }
   ],
   "source": [
    "# \"without Using LIST Comprehension\"\n",
    "matrix= [[1,2,3],[3,4,5],[5,6,8],[7,8,9]]\n",
    "\n",
    "# display input matrix\n",
    "print(\"Input matrix:\")\n",
    "for i in matrix:\n",
    "    print(i)\n",
    "    \n",
    "row=len(matrix)\n",
    "col=len(matrix[0])\n",
    "t_matrix=[[0,0,0,0],[0,0,0,0],[0,0,0,0]] \n",
    "\n",
    "for i in range(row):\n",
    "    for j in range(col):\n",
    "        t_matrix[j][i]=matrix[i][j]\n",
    "    \n",
    "# display transpose of matrix\n",
    "print(\"Transpose of matrix:\")\n",
    "for i in t_matrix:\n",
    "    print(i)    "
   ]
  },
  {
   "cell_type": "markdown",
   "metadata": {},
   "source": [
    "### 2. Create a dictionary containing four lambda functions square, cube, squareroot, multiply by 3 (8 marks)\n",
    "\n",
    "**E.g. dict = {'Square': function for squaring, 'Cube': function for cube, 'Squareroot': function for squareroot, 'Double': function for double} and so on**\n",
    "\n",
    "**Pass the values (input from the user) to the functions in the dictionary respectively. Then add the outputs of each function and print it.**"
   ]
  },
  {
   "cell_type": "code",
   "execution_count": 5,
   "metadata": {
    "id": "Pxj1Oh5rRbGL"
   },
   "outputs": [
    {
     "name": "stdout",
     "output_type": "stream",
     "text": [
      "Enter a number = 4\n",
      "Dictionary with 4 functions = {'Square': 16, 'Cube': 64, 'Squareroot': 2.0, 'Double': 8, 'Multiply by 3': 12}\n",
      "Sum of all functions in dict = 102.0\n"
     ]
    }
   ],
   "source": [
    "num=int(input(\"Enter a number = \"))\n",
    "\n",
    "#function definition to create dictionary\n",
    "def create_dict(a):\n",
    "    inp_dict={'Square'    : lambda a : a**2 ,\n",
    "              'Cube'      : lambda a : a**3 ,\n",
    "              'Squareroot': lambda a : a**(0.5),\n",
    "              'Double'    : lambda a : a*2,\n",
    "           'Multiply by 3': lambda a : a*3}\n",
    "    for i in inp_dict:                    \n",
    "        inp_dict[i]=inp_dict[i](a)    # for each key,'a' value is passed into lamba function\n",
    "    return inp_dict\n",
    "\n",
    "#funtion definiton to add outputs of each function and print result\n",
    "def add_dict_values(result_dict):\n",
    "    sum_result=0\n",
    "    for i in result_dict:\n",
    "        sum_result= sum_result + result_dict[i]\n",
    "    print(\"Sum of all functions in dict =\",sum_result)  \n",
    "\n",
    "\n",
    "#function call    \n",
    "result=create_dict(num)\n",
    "print(\"Dictionary with 4 functions =\",result)\n",
    "add_dict_values(result)"
   ]
  },
  {
   "cell_type": "markdown",
   "metadata": {},
   "source": [
    "###  3. A list of words is given. Define a function to find the words from the list that have their second character in uppercase (4 marks)"
   ]
  },
  {
   "cell_type": "markdown",
   "metadata": {
    "id": "JoEJ3RCbRbGN"
   },
   "source": [
    "<b>list1 = ['swiggy', 'Zomato', 'aMazon', 'TATa Cliq', 'uBer', 'JioMart','BIG BASKET' ]</b><br>"
   ]
  },
  {
   "cell_type": "code",
   "execution_count": 9,
   "metadata": {},
   "outputs": [
    {
     "name": "stdout",
     "output_type": "stream",
     "text": [
      "Strings with second character in uppercase: ['aMazon', 'TATa Cliq', 'uBer', 'BIG BASKET']\n"
     ]
    }
   ],
   "source": [
    "#function definition\n",
    "def second_char(inp):\n",
    "    sec_char=[]\n",
    "    for i in inp:\n",
    "        if i[1].isupper():\n",
    "            sec_char.append(i)      \n",
    "    print(\"Strings with second character in uppercase:\",sec_char)\n",
    "\n",
    "#function call\n",
    "list1 = ['swiggy', 'Zomato', 'aMazon', 'TATa Cliq', 'uBer', 'JioMart','BIG BASKET' ]\n",
    "second_char(list1)"
   ]
  },
  {
   "cell_type": "markdown",
   "metadata": {},
   "source": [
    " ### 4. Define a function to filter the marks from the tuple \"tmarks\" that are greater than 40 and print corresponding names from the \"tnames\" tuple (2 marks)"
   ]
  },
  {
   "cell_type": "markdown",
   "metadata": {
    "id": "bxm4wgFjRbGQ"
   },
   "source": [
    "<b>tnames = ('John','Sharon','Jack','Annie', 'Antony', 'Thomson', 'Rijo')</b><br>\n",
    "<b>tmarks = (32,50,75,12,40,23,37)</b>"
   ]
  },
  {
   "cell_type": "code",
   "execution_count": 6,
   "metadata": {
    "id": "d6fEuvKMRbGQ"
   },
   "outputs": [
    {
     "name": "stdout",
     "output_type": "stream",
     "text": [
      "Marks scored by students greater than 40:\n",
      "Sharon scored 50\n",
      "Jack scored 75\n"
     ]
    }
   ],
   "source": [
    "tnames = ('John','Sharon','Jack','Annie', 'Antony', 'Thomson', 'Rijo')\n",
    "tmarks = (32,50,75,12,40,23,37)\n",
    "\n",
    "#function definition\n",
    "def filter_tuple(marks,names):\n",
    "    result=dict(zip(marks,names))\n",
    "    print(\"Marks scored by students greater than 40:\")\n",
    "    for i in result:\n",
    "        if i > 40:\n",
    "            print(result[i], \"scored\" ,i)      #print( <student-name> scored <marks>)\n",
    "\n",
    "#function call\n",
    "filter_tuple(tmarks,tnames)"
   ]
  },
  {
   "cell_type": "markdown",
   "metadata": {},
   "source": [
    "### 5.A A list containing multiple lists is given. Convert each inner list into sets and find intersection of all the sets (use reduce function) (2 marks)"
   ]
  },
  {
   "cell_type": "markdown",
   "metadata": {
    "id": "RaAgVCDwRbGS"
   },
   "source": [
    "given_sets = [[1, 2, 3, 4, 8], [2, 3, 8, 5, 6], [8, 4, 5, 3, 7], [6, 9, 8, 3], [9, 12, 3, 7, 6, 8, 4, 6, 21, 1, 6]]"
   ]
  },
  {
   "cell_type": "code",
   "execution_count": 7,
   "metadata": {},
   "outputs": [],
   "source": [
    "# To use reduce function\n",
    "from operator import and_\n",
    "from functools import reduce"
   ]
  },
  {
   "cell_type": "code",
   "execution_count": 9,
   "metadata": {
    "id": "It65f3IBRbGS"
   },
   "outputs": [
    {
     "name": "stdout",
     "output_type": "stream",
     "text": [
      "List of sets= [{1, 2, 3, 4, 8}, {2, 3, 5, 6, 8}, {3, 4, 5, 7, 8}, {8, 9, 3, 6}, {1, 3, 4, 6, 7, 8, 9, 12, 21}]\n",
      "Intersection of all sets= {8, 3}\n"
     ]
    }
   ],
   "source": [
    "list = [[1, 2, 3, 4, 8], [2, 3, 8, 5, 6], [8, 4, 5, 3, 7], [6, 9, 8, 3], [9, 12, 3, 7, 6, 8, 4, 6, 21, 1, 6]]\n",
    "l_set=[]\n",
    "\n",
    "#Conversion of inner lists into sets\n",
    "for i in list:\n",
    "    l_set.append(set(i))\n",
    "print(\"List of sets=\",l_set)   \n",
    "\n",
    "#Intersection of all sets using reduce function\n",
    "inter_set= reduce((lambda x,y: x & y), l_set)\n",
    "print(\"Intersection of all sets=\",inter_set)"
   ]
  }
 ],
 "metadata": {
  "colab": {
   "name": "ITP-Day 4_TH Exercise.ipynb",
   "provenance": []
  },
  "kernelspec": {
   "display_name": "Python 3",
   "language": "python",
   "name": "python3"
  },
  "language_info": {
   "codemirror_mode": {
    "name": "ipython",
    "version": 3
   },
   "file_extension": ".py",
   "mimetype": "text/x-python",
   "name": "python",
   "nbconvert_exporter": "python",
   "pygments_lexer": "ipython3",
   "version": "3.7.6"
  }
 },
 "nbformat": 4,
 "nbformat_minor": 1
}
