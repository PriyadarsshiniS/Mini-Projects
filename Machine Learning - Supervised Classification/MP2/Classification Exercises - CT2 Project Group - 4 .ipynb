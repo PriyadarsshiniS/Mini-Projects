{
 "cells": [
  {
   "cell_type": "markdown",
   "metadata": {},
   "source": [
    "##  MP2 - MLSC - Classification Excercise"
   ]
  },
  {
   "cell_type": "markdown",
   "metadata": {},
   "source": [
    "## <font color='green'> Group Number:  CT2 Project Group - 4 </font> \n",
    "\n",
    "### Team Members\n",
    "\n",
    "### <font color='blue'> 1. Santhosh Kalaikumar </font> \n",
    "\n",
    "### <font color='blue'> 2. Twinkle Vigneswari Viswanathan </font> \n",
    "\n",
    "###  <font color='blue'> 3. Priyadarsshini S </font> "
   ]
  },
  {
   "cell_type": "markdown",
   "metadata": {},
   "source": [
    "### About the data set (Bank Client Data)\n",
    "\n",
    "#### Bank client data:\n",
    "**age:** Age of the client<br>\n",
    "**duration:** last contact duration, in seconds.<br> \n",
    "\n",
    "#### Other attributes:\n",
    "**campaign:** number of contacts performed during this campaign and for this client<br>\n",
    "**pdays:** number of days that passed by after the client was last contacted from a previous campaign (999 means client was not previously contacted)<br>\n",
    "**previous:** number of contacts performed before this campaign and for this client<br>\n",
    "\n",
    "#### Social and economic context \n",
    "\n",
    "**emp.var.rate:** employment variation rate - quarterly indicator<br>\n",
    "**cons.price.idx:** consumer price index - monthly indicator<br>\n",
    "**cons.conf.idx:** consumer confidence index - monthly indicator<br>\n",
    "**euribor3m:** euribor 3 month rate - daily indicator<br>\n",
    "**nr.employed:** number of employees - quarterly indicator<br>\n",
    "\n",
    "**y** - (Output variable) has the client subscribed a term deposit?"
   ]
  },
  {
   "cell_type": "markdown",
   "metadata": {},
   "source": [
    "# Table of Content\n",
    "\n",
    "1. Data Preprocessing - **3 Marks**\n",
    "2. Logistic Regression Model - **3 Marks**\n",
    "3. Decision Tree Model - **3 Marks**\n",
    "4. Random Forest Model - **3 Marks**\n",
    "5. XGBoost Model - **3 Marks**\n",
    "6. K Nearest Neighbors Model - **3 Marks**\n",
    "7. Naive Bayes Model - **3 Marks**\n",
    "8. Compare the Results of all the above mentioned algorithms - **4 Marks**\n",
    "9. Intrepret your solution based on the results - **5 Marks**\n"
   ]
  },
  {
   "cell_type": "markdown",
   "metadata": {},
   "source": [
    "<a id=\"logreg\"> </a>\n",
    "## 1. Data Pre-Processing"
   ]
  },
  {
   "cell_type": "markdown",
   "metadata": {},
   "source": [
    "**Import the required libraries**"
   ]
  },
  {
   "cell_type": "code",
   "execution_count": 89,
   "metadata": {},
   "outputs": [],
   "source": [
    "import pandas as pd\n",
    "import numpy as np\n",
    "import seaborn as sns\n",
    "import matplotlib.pyplot as plt\n",
    "from sklearn.model_selection import train_test_split\n",
    "from sklearn.linear_model import LogisticRegression\n",
    "from sklearn import metrics\n",
    "pd.options.display.max_columns = None\n",
    "pd.options.display.max_rows = None\n",
    "import warnings\n",
    "warnings.filterwarnings('ignore')\n",
    "from sklearn.impute import KNNImputer\n",
    "pd.options.display.float_format = '{:.6f}'.format\n",
    "\n",
    "# import train-test split \n",
    "from sklearn.model_selection import train_test_split\n",
    "\n",
    "# import various functions from statsmodels\n",
    "import statsmodels\n",
    "import statsmodels.api as sm\n",
    "\n",
    "# import StandardScaler to perform scaling\n",
    "from sklearn.preprocessing import StandardScaler \n",
    "\n",
    "# import various functions from sklearn \n",
    "from sklearn import metrics\n",
    "from sklearn.linear_model import LogisticRegression\n",
    "from sklearn.metrics import classification_report\n",
    "from sklearn.metrics import cohen_kappa_score\n",
    "from sklearn.metrics import confusion_matrix\n",
    "from sklearn.metrics import roc_curve\n",
    "from sklearn.metrics import accuracy_score\n",
    "\n",
    "# import function to perform feature selection\n",
    "from sklearn.feature_selection import RFE"
   ]
  },
  {
   "cell_type": "markdown",
   "metadata": {},
   "source": [
    "#### Load the csv file"
   ]
  },
  {
   "cell_type": "code",
   "execution_count": 90,
   "metadata": {},
   "outputs": [
    {
     "data": {
      "text/html": [
       "<div>\n",
       "<style scoped>\n",
       "    .dataframe tbody tr th:only-of-type {\n",
       "        vertical-align: middle;\n",
       "    }\n",
       "\n",
       "    .dataframe tbody tr th {\n",
       "        vertical-align: top;\n",
       "    }\n",
       "\n",
       "    .dataframe thead th {\n",
       "        text-align: right;\n",
       "    }\n",
       "</style>\n",
       "<table border=\"1\" class=\"dataframe\">\n",
       "  <thead>\n",
       "    <tr style=\"text-align: right;\">\n",
       "      <th></th>\n",
       "      <th>age</th>\n",
       "      <th>duration</th>\n",
       "      <th>campaign</th>\n",
       "      <th>pdays</th>\n",
       "      <th>previous</th>\n",
       "      <th>emp.var.rate</th>\n",
       "      <th>cons.price.idx</th>\n",
       "      <th>cons.conf.idx</th>\n",
       "      <th>euribor3m</th>\n",
       "      <th>nr.employed</th>\n",
       "      <th>y</th>\n",
       "    </tr>\n",
       "  </thead>\n",
       "  <tbody>\n",
       "    <tr>\n",
       "      <th>0</th>\n",
       "      <td>32</td>\n",
       "      <td>205</td>\n",
       "      <td>2</td>\n",
       "      <td>999</td>\n",
       "      <td>0</td>\n",
       "      <td>1.1</td>\n",
       "      <td>93.994</td>\n",
       "      <td>-36.4</td>\n",
       "      <td>4.858</td>\n",
       "      <td>5191.0</td>\n",
       "      <td>no</td>\n",
       "    </tr>\n",
       "    <tr>\n",
       "      <th>1</th>\n",
       "      <td>32</td>\n",
       "      <td>691</td>\n",
       "      <td>10</td>\n",
       "      <td>999</td>\n",
       "      <td>0</td>\n",
       "      <td>1.4</td>\n",
       "      <td>93.918</td>\n",
       "      <td>-42.7</td>\n",
       "      <td>4.960</td>\n",
       "      <td>5228.1</td>\n",
       "      <td>yes</td>\n",
       "    </tr>\n",
       "    <tr>\n",
       "      <th>2</th>\n",
       "      <td>45</td>\n",
       "      <td>45</td>\n",
       "      <td>8</td>\n",
       "      <td>999</td>\n",
       "      <td>0</td>\n",
       "      <td>1.4</td>\n",
       "      <td>93.444</td>\n",
       "      <td>-36.1</td>\n",
       "      <td>4.963</td>\n",
       "      <td>5228.1</td>\n",
       "      <td>no</td>\n",
       "    </tr>\n",
       "    <tr>\n",
       "      <th>3</th>\n",
       "      <td>33</td>\n",
       "      <td>400</td>\n",
       "      <td>1</td>\n",
       "      <td>5</td>\n",
       "      <td>2</td>\n",
       "      <td>-1.1</td>\n",
       "      <td>94.601</td>\n",
       "      <td>-49.5</td>\n",
       "      <td>1.032</td>\n",
       "      <td>4963.6</td>\n",
       "      <td>yes</td>\n",
       "    </tr>\n",
       "    <tr>\n",
       "      <th>4</th>\n",
       "      <td>47</td>\n",
       "      <td>903</td>\n",
       "      <td>2</td>\n",
       "      <td>999</td>\n",
       "      <td>1</td>\n",
       "      <td>-1.8</td>\n",
       "      <td>93.075</td>\n",
       "      <td>-47.1</td>\n",
       "      <td>1.415</td>\n",
       "      <td>5099.1</td>\n",
       "      <td>yes</td>\n",
       "    </tr>\n",
       "  </tbody>\n",
       "</table>\n",
       "</div>"
      ],
      "text/plain": [
       "   age  duration  campaign  pdays  previous  emp.var.rate  cons.price.idx  \\\n",
       "0   32       205         2    999         0           1.1          93.994   \n",
       "1   32       691        10    999         0           1.4          93.918   \n",
       "2   45        45         8    999         0           1.4          93.444   \n",
       "3   33       400         1      5         2          -1.1          94.601   \n",
       "4   47       903         2    999         1          -1.8          93.075   \n",
       "\n",
       "   cons.conf.idx  euribor3m  nr.employed    y  \n",
       "0          -36.4      4.858       5191.0   no  \n",
       "1          -42.7      4.960       5228.1  yes  \n",
       "2          -36.1      4.963       5228.1   no  \n",
       "3          -49.5      1.032       4963.6  yes  \n",
       "4          -47.1      1.415       5099.1  yes  "
      ]
     },
     "execution_count": 90,
     "metadata": {},
     "output_type": "execute_result"
    }
   ],
   "source": [
    "df = pd.read_csv(r\"C:\\Users\\priya\\SRM PYTHON\\MLSC\\MP2\\bank.csv\")\n",
    "df.head(5)"
   ]
  },
  {
   "cell_type": "markdown",
   "metadata": {},
   "source": [
    "<table align=\"left\">\n",
    "    <tr>\n",
    "        <td>\n",
    "            <div align=\"left\", style=\"font-size:120%\">\n",
    "                <font color=\"#21618C\">\n",
    "                    <b>Prepare the data </b>\n",
    "                </font>\n",
    "            </div>\n",
    "        </td>\n",
    "    </tr>\n",
    "</table>"
   ]
  },
  {
   "cell_type": "code",
   "execution_count": 91,
   "metadata": {},
   "outputs": [
    {
     "data": {
      "text/html": [
       "<div>\n",
       "<style scoped>\n",
       "    .dataframe tbody tr th:only-of-type {\n",
       "        vertical-align: middle;\n",
       "    }\n",
       "\n",
       "    .dataframe tbody tr th {\n",
       "        vertical-align: top;\n",
       "    }\n",
       "\n",
       "    .dataframe thead th {\n",
       "        text-align: right;\n",
       "    }\n",
       "</style>\n",
       "<table border=\"1\" class=\"dataframe\">\n",
       "  <thead>\n",
       "    <tr style=\"text-align: right;\">\n",
       "      <th></th>\n",
       "      <th>age</th>\n",
       "      <th>duration</th>\n",
       "      <th>campaign</th>\n",
       "      <th>pdays</th>\n",
       "      <th>previous</th>\n",
       "      <th>emp.var.rate</th>\n",
       "      <th>cons.price.idx</th>\n",
       "      <th>cons.conf.idx</th>\n",
       "      <th>euribor3m</th>\n",
       "      <th>nr.employed</th>\n",
       "    </tr>\n",
       "  </thead>\n",
       "  <tbody>\n",
       "    <tr>\n",
       "      <th>count</th>\n",
       "      <td>9640.000000</td>\n",
       "      <td>9640.000000</td>\n",
       "      <td>9640.000000</td>\n",
       "      <td>9640.000000</td>\n",
       "      <td>9640.000000</td>\n",
       "      <td>9640.000000</td>\n",
       "      <td>9640.000000</td>\n",
       "      <td>9640.000000</td>\n",
       "      <td>9640.000000</td>\n",
       "      <td>9640.000000</td>\n",
       "    </tr>\n",
       "    <tr>\n",
       "      <th>mean</th>\n",
       "      <td>40.286618</td>\n",
       "      <td>379.564004</td>\n",
       "      <td>2.349170</td>\n",
       "      <td>893.100519</td>\n",
       "      <td>0.306120</td>\n",
       "      <td>-0.460218</td>\n",
       "      <td>93.485750</td>\n",
       "      <td>-40.265373</td>\n",
       "      <td>3.003616</td>\n",
       "      <td>5137.407147</td>\n",
       "    </tr>\n",
       "    <tr>\n",
       "      <th>std</th>\n",
       "      <td>11.901274</td>\n",
       "      <td>354.768370</td>\n",
       "      <td>2.384519</td>\n",
       "      <td>306.531615</td>\n",
       "      <td>0.684605</td>\n",
       "      <td>1.717852</td>\n",
       "      <td>0.631366</td>\n",
       "      <td>5.322795</td>\n",
       "      <td>1.886179</td>\n",
       "      <td>86.347481</td>\n",
       "    </tr>\n",
       "    <tr>\n",
       "      <th>min</th>\n",
       "      <td>17.000000</td>\n",
       "      <td>0.000000</td>\n",
       "      <td>1.000000</td>\n",
       "      <td>0.000000</td>\n",
       "      <td>0.000000</td>\n",
       "      <td>-3.400000</td>\n",
       "      <td>92.201000</td>\n",
       "      <td>-50.800000</td>\n",
       "      <td>0.634000</td>\n",
       "      <td>4963.600000</td>\n",
       "    </tr>\n",
       "    <tr>\n",
       "      <th>25%</th>\n",
       "      <td>31.000000</td>\n",
       "      <td>141.000000</td>\n",
       "      <td>1.000000</td>\n",
       "      <td>999.000000</td>\n",
       "      <td>0.000000</td>\n",
       "      <td>-1.800000</td>\n",
       "      <td>92.893000</td>\n",
       "      <td>-42.700000</td>\n",
       "      <td>1.250000</td>\n",
       "      <td>5076.200000</td>\n",
       "    </tr>\n",
       "    <tr>\n",
       "      <th>50%</th>\n",
       "      <td>38.000000</td>\n",
       "      <td>260.000000</td>\n",
       "      <td>2.000000</td>\n",
       "      <td>999.000000</td>\n",
       "      <td>0.000000</td>\n",
       "      <td>-0.100000</td>\n",
       "      <td>93.444000</td>\n",
       "      <td>-41.800000</td>\n",
       "      <td>4.076000</td>\n",
       "      <td>5191.000000</td>\n",
       "    </tr>\n",
       "    <tr>\n",
       "      <th>75%</th>\n",
       "      <td>48.000000</td>\n",
       "      <td>512.000000</td>\n",
       "      <td>3.000000</td>\n",
       "      <td>999.000000</td>\n",
       "      <td>0.000000</td>\n",
       "      <td>1.400000</td>\n",
       "      <td>93.994000</td>\n",
       "      <td>-36.400000</td>\n",
       "      <td>4.959000</td>\n",
       "      <td>5228.100000</td>\n",
       "    </tr>\n",
       "    <tr>\n",
       "      <th>max</th>\n",
       "      <td>98.000000</td>\n",
       "      <td>4199.000000</td>\n",
       "      <td>42.000000</td>\n",
       "      <td>999.000000</td>\n",
       "      <td>6.000000</td>\n",
       "      <td>1.400000</td>\n",
       "      <td>94.767000</td>\n",
       "      <td>-26.900000</td>\n",
       "      <td>5.045000</td>\n",
       "      <td>5228.100000</td>\n",
       "    </tr>\n",
       "  </tbody>\n",
       "</table>\n",
       "</div>"
      ],
      "text/plain": [
       "               age     duration     campaign        pdays     previous  \\\n",
       "count  9640.000000  9640.000000  9640.000000  9640.000000  9640.000000   \n",
       "mean     40.286618   379.564004     2.349170   893.100519     0.306120   \n",
       "std      11.901274   354.768370     2.384519   306.531615     0.684605   \n",
       "min      17.000000     0.000000     1.000000     0.000000     0.000000   \n",
       "25%      31.000000   141.000000     1.000000   999.000000     0.000000   \n",
       "50%      38.000000   260.000000     2.000000   999.000000     0.000000   \n",
       "75%      48.000000   512.000000     3.000000   999.000000     0.000000   \n",
       "max      98.000000  4199.000000    42.000000   999.000000     6.000000   \n",
       "\n",
       "       emp.var.rate  cons.price.idx  cons.conf.idx    euribor3m  nr.employed  \n",
       "count   9640.000000     9640.000000    9640.000000  9640.000000  9640.000000  \n",
       "mean      -0.460218       93.485750     -40.265373     3.003616  5137.407147  \n",
       "std        1.717852        0.631366       5.322795     1.886179    86.347481  \n",
       "min       -3.400000       92.201000     -50.800000     0.634000  4963.600000  \n",
       "25%       -1.800000       92.893000     -42.700000     1.250000  5076.200000  \n",
       "50%       -0.100000       93.444000     -41.800000     4.076000  5191.000000  \n",
       "75%        1.400000       93.994000     -36.400000     4.959000  5228.100000  \n",
       "max        1.400000       94.767000     -26.900000     5.045000  5228.100000  "
      ]
     },
     "execution_count": 91,
     "metadata": {},
     "output_type": "execute_result"
    }
   ],
   "source": [
    "df.describe()"
   ]
  },
  {
   "cell_type": "code",
   "execution_count": 92,
   "metadata": {},
   "outputs": [
    {
     "name": "stdout",
     "output_type": "stream",
     "text": [
      "<class 'pandas.core.frame.DataFrame'>\n",
      "RangeIndex: 9640 entries, 0 to 9639\n",
      "Data columns (total 11 columns):\n",
      " #   Column          Non-Null Count  Dtype  \n",
      "---  ------          --------------  -----  \n",
      " 0   age             9640 non-null   int64  \n",
      " 1   duration        9640 non-null   int64  \n",
      " 2   campaign        9640 non-null   int64  \n",
      " 3   pdays           9640 non-null   int64  \n",
      " 4   previous        9640 non-null   int64  \n",
      " 5   emp.var.rate    9640 non-null   float64\n",
      " 6   cons.price.idx  9640 non-null   float64\n",
      " 7   cons.conf.idx   9640 non-null   float64\n",
      " 8   euribor3m       9640 non-null   float64\n",
      " 9   nr.employed     9640 non-null   float64\n",
      " 10  y               9640 non-null   object \n",
      "dtypes: float64(5), int64(5), object(1)\n",
      "memory usage: 828.6+ KB\n"
     ]
    }
   ],
   "source": [
    "df.info()"
   ]
  },
  {
   "cell_type": "markdown",
   "metadata": {},
   "source": [
    "<table align=\"left\">\n",
    "    <tr>\n",
    "        <td>\n",
    "            <div align=\"left\", style=\"font-size:120%\">\n",
    "                <font color=\"#21618C\">\n",
    "                    <b>Perform an analysis for missing values </b>\n",
    "                </font>\n",
    "            </div>\n",
    "        </td>\n",
    "    </tr>\n",
    "</table>"
   ]
  },
  {
   "cell_type": "code",
   "execution_count": 93,
   "metadata": {},
   "outputs": [
    {
     "data": {
      "text/plain": [
       "age               0\n",
       "duration          0\n",
       "campaign          0\n",
       "pdays             0\n",
       "previous          0\n",
       "emp.var.rate      0\n",
       "cons.price.idx    0\n",
       "cons.conf.idx     0\n",
       "euribor3m         0\n",
       "nr.employed       0\n",
       "y                 0\n",
       "dtype: int64"
      ]
     },
     "execution_count": 93,
     "metadata": {},
     "output_type": "execute_result"
    }
   ],
   "source": [
    "df.isnull().sum()"
   ]
  },
  {
   "cell_type": "markdown",
   "metadata": {},
   "source": [
    "###  INFERENCE:   <font color='brown'> There are no missing values in the datatset.</font>"
   ]
  },
  {
   "cell_type": "markdown",
   "metadata": {},
   "source": [
    "<table align=\"left\">\n",
    "    <tr>\n",
    "        <td>\n",
    "            <div align=\"left\", style=\"font-size:120%\">\n",
    "                <font color=\"#21618C\">\n",
    "                    <b>Remove the unnecessary variables that will not contribute to the model. </b>\n",
    "                </font>\n",
    "            </div>\n",
    "        </td>\n",
    "    </tr>\n",
    "</table>"
   ]
  },
  {
   "cell_type": "code",
   "execution_count": 94,
   "metadata": {},
   "outputs": [
    {
     "data": {
      "text/plain": [
       "999    8612\n",
       "3       311\n",
       "6       304\n",
       "4        70\n",
       "7        42\n",
       "Name: pdays, dtype: int64"
      ]
     },
     "execution_count": 94,
     "metadata": {},
     "output_type": "execute_result"
    }
   ],
   "source": [
    "df['pdays'].value_counts().head()"
   ]
  },
  {
   "cell_type": "markdown",
   "metadata": {},
   "source": [
    "###  INFERENCE:   <font color='brown'> Feature 'pdays' means number of days that passed after the client was last contacted from a previous campaign (999 means client was not previously contacted). Nearly 90% of the data has value '999' which means most of the client was not previously contacted. Hence dropping this field as it does not give us useful insights.</font>"
   ]
  },
  {
   "cell_type": "code",
   "execution_count": 95,
   "metadata": {},
   "outputs": [],
   "source": [
    "df.drop(columns=['pdays','previous'], axis=1, inplace=True)"
   ]
  },
  {
   "cell_type": "markdown",
   "metadata": {},
   "source": [
    "<table align=\"left\">\n",
    "    <tr>\n",
    "        <td>\n",
    "            <div align=\"left\", style=\"font-size:120%\">\n",
    "                <font color=\"#21618C\">\n",
    "                    <b>Remove the outliers (if any) </b>\n",
    "                </font>\n",
    "            </div>\n",
    "        </td>\n",
    "    </tr>\n",
    "</table>"
   ]
  },
  {
   "cell_type": "code",
   "execution_count": 96,
   "metadata": {},
   "outputs": [
    {
     "name": "stdout",
     "output_type": "stream",
     "text": [
      "Number of numeric var: 8\n",
      "['age', 'duration', 'campaign', 'emp.var.rate', 'cons.price.idx', 'cons.conf.idx', 'euribor3m', 'nr.employed']\n"
     ]
    }
   ],
   "source": [
    "# Analyzing numerical variables\n",
    "num_c = df.select_dtypes(include=np.number).columns.tolist()\n",
    "print(\"Number of numeric var:\" ,len(num_c))\n",
    "print(num_c)"
   ]
  },
  {
   "cell_type": "code",
   "execution_count": 97,
   "metadata": {},
   "outputs": [
    {
     "data": {
      "image/png": "[encoded data removed]",
      "text/plain": [
       "<Figure size 1224x360 with 8 Axes>"
      ]
     },
     "metadata": {
      "needs_background": "light"
     },
     "output_type": "display_data"
    }
   ],
   "source": [
    "plt.figure(figsize=(17,5))\n",
    "plt.subplots_adjust(wspace=4, hspace=5)\n",
    "for i in range(0,len(num_c)):\n",
    "    plt.subplot(1,10,i+1)\n",
    "    sns.boxplot(df[num_c[i]])\n",
    "    plt.title(num_c[i])"
   ]
  },
  {
   "cell_type": "code",
   "execution_count": 98,
   "metadata": {},
   "outputs": [],
   "source": [
    "def find_outlier(col):\n",
    "    Q1=col.quantile(0.25)\n",
    "    Q3=col.quantile(0.75)\n",
    "    lb=(Q1 - 1.5*(Q3-Q1))    #LB=Q1-1.5*IQR \n",
    "    ub=(Q3 + 1.5*(Q3-Q1))    #UB=Q3+1.5*IQR\n",
    "    out_ind=np.where((col > ub) | (col < lb))\n",
    "    index=list(out_ind[0])\n",
    "    print('Upper bound=',ub,'Lower bound=',lb,'Number of index=',len(index))\n",
    "    return index;"
   ]
  },
  {
   "cell_type": "code",
   "execution_count": 99,
   "metadata": {},
   "outputs": [
    {
     "name": "stdout",
     "output_type": "stream",
     "text": [
      "Upper bound= 73.5 Lower bound= 5.5 Number of index= 172\n",
      "Upper bound= 1072.5 Lower bound= -419.5 Number of index= 496\n",
      "Upper bound= 6.0 Lower bound= -2.0 Number of index= 397\n",
      "Upper bound= -26.949999999999992 Lower bound= -52.150000000000006 Number of index= 193\n"
     ]
    }
   ],
   "source": [
    "c=['age', 'duration', 'campaign', 'cons.conf.idx']\n",
    "for column in c:\n",
    "    outlier_ind=find_outlier(df[column])\n",
    "    df.drop(outlier_ind, inplace = True)\n",
    "    df.reset_index(drop=True, inplace=True)"
   ]
  },
  {
   "cell_type": "code",
   "execution_count": 100,
   "metadata": {},
   "outputs": [
    {
     "data": {
      "text/plain": [
       "\"c=['age', 'duration', 'campaign', 'cons.conf.idx']\\nfor column in c:\\n    outlier_ind=find_outlier(df[column])\\n    i=0\\n    while len(outlier_ind) > 0:\\n        i=i+1\\n        df.drop(outlier_ind, inplace = True)\\n        df.reset_index(drop=True, inplace=True)\\n        outlier_ind=find_outlier(df[column])\""
      ]
     },
     "execution_count": 100,
     "metadata": {},
     "output_type": "execute_result"
    }
   ],
   "source": [
    "\"\"\"c=['age', 'duration', 'campaign', 'cons.conf.idx']\n",
    "for column in c:\n",
    "    outlier_ind=find_outlier(df[column])\n",
    "    i=0\n",
    "    while len(outlier_ind) > 0:\n",
    "        i=i+1\n",
    "        df.drop(outlier_ind, inplace = True)\n",
    "        df.reset_index(drop=True, inplace=True)\n",
    "        outlier_ind=find_outlier(df[column])\"\"\""
   ]
  },
  {
   "cell_type": "code",
   "execution_count": 101,
   "metadata": {},
   "outputs": [
    {
     "data": {
      "image/png": "[encoded data removed]",
      "text/plain": [
       "<Figure size 1224x360 with 8 Axes>"
      ]
     },
     "metadata": {
      "needs_background": "light"
     },
     "output_type": "display_data"
    }
   ],
   "source": [
    "plt.figure(figsize=(17,5))\n",
    "plt.subplots_adjust(wspace=4, hspace=5)\n",
    "for i in range(0,len(num_c)):\n",
    "    plt.subplot(1,10,i+1)\n",
    "    sns.boxplot(df[num_c[i]])\n",
    "    plt.title(num_c[i])"
   ]
  },
  {
   "cell_type": "code",
   "execution_count": 102,
   "metadata": {},
   "outputs": [
    {
     "data": {
      "text/plain": [
       "(8382, 9)"
      ]
     },
     "execution_count": 102,
     "metadata": {},
     "output_type": "execute_result"
    }
   ],
   "source": [
    "df.shape"
   ]
  },
  {
   "cell_type": "markdown",
   "metadata": {},
   "source": [
    "###  INFERENCE:   <font color='brown'> Outliers were dropped from the following column:  'age', 'duration', 'campaign', 'cons.conf.idx'.</font>"
   ]
  },
  {
   "cell_type": "markdown",
   "metadata": {},
   "source": [
    "<table align=\"left\">\n",
    "    <tr>\n",
    "        <td>\n",
    "            <div align=\"left\", style=\"font-size:120%\">\n",
    "                <font color=\"#21618C\">\n",
    "                    <b>Separate the dependent and the independent variables. Also, in the target variable, replace yes with 0 and no with 1 </b>\n",
    "                </font>\n",
    "            </div>\n",
    "        </td>\n",
    "    </tr>\n",
    "</table>"
   ]
  },
  {
   "cell_type": "code",
   "execution_count": 103,
   "metadata": {},
   "outputs": [],
   "source": [
    "# Dependent variable 'y' \n",
    "df_dep = df['y']\n",
    "df_dep.replace({'yes': 1,'no': 0},inplace=True)\n",
    "\n",
    "# Independent variables - drop the column 'y' \n",
    "df_indep = df.drop('y', axis = 1)"
   ]
  },
  {
   "cell_type": "code",
   "execution_count": 104,
   "metadata": {},
   "outputs": [
    {
     "data": {
      "text/plain": [
       "0    4603\n",
       "1    3779\n",
       "Name: y, dtype: int64"
      ]
     },
     "execution_count": 104,
     "metadata": {},
     "output_type": "execute_result"
    }
   ],
   "source": [
    "df_dep.value_counts()"
   ]
  },
  {
   "cell_type": "markdown",
   "metadata": {},
   "source": [
    "###  INFERENCE:   <font color='brown'> In the target variable 'yes' is replaced with 1 and 'no' is replaced with 0.</font>"
   ]
  },
  {
   "cell_type": "code",
   "execution_count": 105,
   "metadata": {},
   "outputs": [
    {
     "data": {
      "text/html": [
       "<div>\n",
       "<style scoped>\n",
       "    .dataframe tbody tr th:only-of-type {\n",
       "        vertical-align: middle;\n",
       "    }\n",
       "\n",
       "    .dataframe tbody tr th {\n",
       "        vertical-align: top;\n",
       "    }\n",
       "\n",
       "    .dataframe thead th {\n",
       "        text-align: right;\n",
       "    }\n",
       "</style>\n",
       "<table border=\"1\" class=\"dataframe\">\n",
       "  <thead>\n",
       "    <tr style=\"text-align: right;\">\n",
       "      <th></th>\n",
       "      <th>age</th>\n",
       "      <th>duration</th>\n",
       "      <th>campaign</th>\n",
       "      <th>emp.var.rate</th>\n",
       "      <th>cons.price.idx</th>\n",
       "      <th>cons.conf.idx</th>\n",
       "      <th>euribor3m</th>\n",
       "      <th>nr.employed</th>\n",
       "    </tr>\n",
       "  </thead>\n",
       "  <tbody>\n",
       "    <tr>\n",
       "      <th>0</th>\n",
       "      <td>32</td>\n",
       "      <td>205</td>\n",
       "      <td>2</td>\n",
       "      <td>1.1</td>\n",
       "      <td>93.994</td>\n",
       "      <td>-36.4</td>\n",
       "      <td>4.858</td>\n",
       "      <td>5191.0</td>\n",
       "    </tr>\n",
       "    <tr>\n",
       "      <th>1</th>\n",
       "      <td>33</td>\n",
       "      <td>400</td>\n",
       "      <td>1</td>\n",
       "      <td>-1.1</td>\n",
       "      <td>94.601</td>\n",
       "      <td>-49.5</td>\n",
       "      <td>1.032</td>\n",
       "      <td>4963.6</td>\n",
       "    </tr>\n",
       "    <tr>\n",
       "      <th>2</th>\n",
       "      <td>47</td>\n",
       "      <td>903</td>\n",
       "      <td>2</td>\n",
       "      <td>-1.8</td>\n",
       "      <td>93.075</td>\n",
       "      <td>-47.1</td>\n",
       "      <td>1.415</td>\n",
       "      <td>5099.1</td>\n",
       "    </tr>\n",
       "  </tbody>\n",
       "</table>\n",
       "</div>"
      ],
      "text/plain": [
       "   age  duration  campaign  emp.var.rate  cons.price.idx  cons.conf.idx  \\\n",
       "0   32       205         2           1.1          93.994          -36.4   \n",
       "1   33       400         1          -1.1          94.601          -49.5   \n",
       "2   47       903         2          -1.8          93.075          -47.1   \n",
       "\n",
       "   euribor3m  nr.employed  \n",
       "0      4.858       5191.0  \n",
       "1      1.032       4963.6  \n",
       "2      1.415       5099.1  "
      ]
     },
     "execution_count": 105,
     "metadata": {},
     "output_type": "execute_result"
    }
   ],
   "source": [
    "df_indep.head(3)"
   ]
  },
  {
   "cell_type": "markdown",
   "metadata": {},
   "source": [
    "<table align=\"left\">\n",
    "    <tr>\n",
    "        <td>\n",
    "            <div align=\"left\", style=\"font-size:120%\">\n",
    "                <font color=\"#21618C\">\n",
    "                    <b>Plot the distribution of all the numeric variables and find the value of skewness for each variable. </b>\n",
    "                </font>\n",
    "            </div>\n",
    "        </td>\n",
    "    </tr>\n",
    "</table>"
   ]
  },
  {
   "cell_type": "code",
   "execution_count": 106,
   "metadata": {},
   "outputs": [
    {
     "name": "stdout",
     "output_type": "stream",
     "text": [
      "Number of numeric var: 8\n",
      "['age', 'duration', 'campaign', 'emp.var.rate', 'cons.price.idx', 'cons.conf.idx', 'euribor3m', 'nr.employed']\n"
     ]
    }
   ],
   "source": [
    "num_indep = df_indep.select_dtypes(include=np.number).columns.tolist()\n",
    "print(\"Number of numeric var:\" ,len(num_indep))\n",
    "print(num_indep)"
   ]
  },
  {
   "cell_type": "code",
   "execution_count": 107,
   "metadata": {},
   "outputs": [
    {
     "data": {
      "image/png": "[encoded data removed]",
      "text/plain": [
       "<Figure size 1080x720 with 8 Axes>"
      ]
     },
     "metadata": {
      "needs_background": "light"
     },
     "output_type": "display_data"
    }
   ],
   "source": [
    "plt.figure(figsize= (15,10))\n",
    "for i in range(0,len(num_indep)):\n",
    "    plt.subplot(4,2,int(i+1))\n",
    "    sns.distplot(df[num_indep[i]]) \n",
    "\n",
    "plt.tight_layout()\n",
    "plt.show()"
   ]
  },
  {
   "cell_type": "code",
   "execution_count": 108,
   "metadata": {},
   "outputs": [
    {
     "data": {
      "text/plain": [
       "age               0.624415\n",
       "duration          1.074553\n",
       "campaign          1.398961\n",
       "emp.var.rate     -0.147106\n",
       "cons.price.idx   -0.104677\n",
       "cons.conf.idx     0.181121\n",
       "euribor3m        -0.050752\n",
       "nr.employed      -0.485764\n",
       "dtype: float64"
      ]
     },
     "execution_count": 108,
     "metadata": {},
     "output_type": "execute_result"
    }
   ],
   "source": [
    "df_indep.skew()"
   ]
  },
  {
   "cell_type": "markdown",
   "metadata": {},
   "source": [
    "<table align=\"left\">\n",
    "    <tr>\n",
    "        <td>\n",
    "            <div align=\"left\", style=\"font-size:120%\">\n",
    "                <font color=\"#21618C\">\n",
    "                    <b>Plot the distribution of the target variable.</b>\n",
    "                </font>\n",
    "            </div>\n",
    "        </td>\n",
    "    </tr>\n",
    "</table>"
   ]
  },
  {
   "cell_type": "code",
   "execution_count": 109,
   "metadata": {},
   "outputs": [
    {
     "data": {
      "image/png": "[encoded data removed]",
      "text/plain": [
       "<Figure size 576x360 with 1 Axes>"
      ]
     },
     "metadata": {
      "needs_background": "light"
     },
     "output_type": "display_data"
    }
   ],
   "source": [
    "ax = sns.countplot(x=df_dep)\n",
    "ax.bar_label(ax.containers[0])\n",
    "\n",
    "plt.title('Count Plot for target variable \"y\"')\n",
    "plt.xlabel('Will it Rain Tomorrow')\n",
    "plt.ylabel('Count')\n",
    "plt.show()"
   ]
  },
  {
   "cell_type": "markdown",
   "metadata": {},
   "source": [
    "<table align=\"left\">\n",
    "    <tr>\n",
    "        <td>\n",
    "            <div align=\"left\", style=\"font-size:120%\">\n",
    "                <font color=\"#21618C\">\n",
    "                    <b>Scale all the numeric variables using standard scalar.</b>\n",
    "                </font>\n",
    "            </div>\n",
    "        </td>\n",
    "    </tr>\n",
    "</table>"
   ]
  },
  {
   "cell_type": "code",
   "execution_count": 110,
   "metadata": {},
   "outputs": [
    {
     "data": {
      "text/html": [
       "<div>\n",
       "<style scoped>\n",
       "    .dataframe tbody tr th:only-of-type {\n",
       "        vertical-align: middle;\n",
       "    }\n",
       "\n",
       "    .dataframe tbody tr th {\n",
       "        vertical-align: top;\n",
       "    }\n",
       "\n",
       "    .dataframe thead th {\n",
       "        text-align: right;\n",
       "    }\n",
       "</style>\n",
       "<table border=\"1\" class=\"dataframe\">\n",
       "  <thead>\n",
       "    <tr style=\"text-align: right;\">\n",
       "      <th></th>\n",
       "      <th>age</th>\n",
       "      <th>duration</th>\n",
       "      <th>campaign</th>\n",
       "      <th>emp.var.rate</th>\n",
       "      <th>cons.price.idx</th>\n",
       "      <th>cons.conf.idx</th>\n",
       "      <th>euribor3m</th>\n",
       "      <th>nr.employed</th>\n",
       "    </tr>\n",
       "  </thead>\n",
       "  <tbody>\n",
       "    <tr>\n",
       "      <th>0</th>\n",
       "      <td>-0.699026</td>\n",
       "      <td>-0.493191</td>\n",
       "      <td>0.019091</td>\n",
       "      <td>0.922072</td>\n",
       "      <td>0.802581</td>\n",
       "      <td>0.834068</td>\n",
       "      <td>0.990008</td>\n",
       "      <td>0.623447</td>\n",
       "    </tr>\n",
       "    <tr>\n",
       "      <th>1</th>\n",
       "      <td>-0.605376</td>\n",
       "      <td>0.299039</td>\n",
       "      <td>-0.785051</td>\n",
       "      <td>-0.390707</td>\n",
       "      <td>1.781215</td>\n",
       "      <td>-1.774916</td>\n",
       "      <td>-1.053021</td>\n",
       "      <td>-2.049115</td>\n",
       "    </tr>\n",
       "    <tr>\n",
       "      <th>2</th>\n",
       "      <td>0.705730</td>\n",
       "      <td>2.342584</td>\n",
       "      <td>0.019091</td>\n",
       "      <td>-0.808409</td>\n",
       "      <td>-0.679074</td>\n",
       "      <td>-1.296934</td>\n",
       "      <td>-0.848505</td>\n",
       "      <td>-0.456625</td>\n",
       "    </tr>\n",
       "    <tr>\n",
       "      <th>3</th>\n",
       "      <td>-1.354579</td>\n",
       "      <td>-0.338808</td>\n",
       "      <td>0.823234</td>\n",
       "      <td>-0.808409</td>\n",
       "      <td>-1.053116</td>\n",
       "      <td>-1.874495</td>\n",
       "      <td>-0.786562</td>\n",
       "      <td>-0.456625</td>\n",
       "    </tr>\n",
       "    <tr>\n",
       "      <th>4</th>\n",
       "      <td>-0.324425</td>\n",
       "      <td>-0.456627</td>\n",
       "      <td>-0.785051</td>\n",
       "      <td>0.206011</td>\n",
       "      <td>-0.477543</td>\n",
       "      <td>-0.281222</td>\n",
       "      <td>0.595926</td>\n",
       "      <td>0.679860</td>\n",
       "    </tr>\n",
       "  </tbody>\n",
       "</table>\n",
       "</div>"
      ],
      "text/plain": [
       "        age  duration  campaign  emp.var.rate  cons.price.idx  cons.conf.idx  \\\n",
       "0 -0.699026 -0.493191  0.019091      0.922072        0.802581       0.834068   \n",
       "1 -0.605376  0.299039 -0.785051     -0.390707        1.781215      -1.774916   \n",
       "2  0.705730  2.342584  0.019091     -0.808409       -0.679074      -1.296934   \n",
       "3 -1.354579 -0.338808  0.823234     -0.808409       -1.053116      -1.874495   \n",
       "4 -0.324425 -0.456627 -0.785051      0.206011       -0.477543      -0.281222   \n",
       "\n",
       "   euribor3m  nr.employed  \n",
       "0   0.990008     0.623447  \n",
       "1  -1.053021    -2.049115  \n",
       "2  -0.848505    -0.456625  \n",
       "3  -0.786562    -0.456625  \n",
       "4   0.595926     0.679860  "
      ]
     },
     "execution_count": 110,
     "metadata": {},
     "output_type": "execute_result"
    }
   ],
   "source": [
    "from sklearn.preprocessing import StandardScaler \n",
    "scaler = StandardScaler()\n",
    "scaled = scaler.fit_transform(df_indep)\n",
    "\n",
    "# creating dataframe of scaled indep variables\n",
    "df_scaled = pd.DataFrame(scaled, columns = df_indep.columns)\n",
    "X = df_scaled\n",
    "X.head()"
   ]
  },
  {
   "cell_type": "markdown",
   "metadata": {},
   "source": [
    "<a id=\"logreg\"> </a>\n",
    "## 2. Logistic regression model"
   ]
  },
  {
   "cell_type": "code",
   "execution_count": 111,
   "metadata": {},
   "outputs": [
    {
     "name": "stdout",
     "output_type": "stream",
     "text": [
      "X_train = (6705, 9)\n",
      "y_train = (6705,)\n",
      "X_test = (1677, 9)\n",
      "y_test = (1677,)\n"
     ]
    }
   ],
   "source": [
    "import statsmodels\n",
    "import statsmodels.api as sm\n",
    "\n",
    "X = sm.add_constant(X)\n",
    "X_train, X_test, y_train, y_test = train_test_split(X, df_dep, random_state = 10, test_size = 0.2)\n",
    "\n",
    "# print dimension of train set\n",
    "print('X_train =', X_train.shape)\n",
    "print('y_train =', y_train.shape)\n",
    "\n",
    "# print dimension of test set\n",
    "print('X_test =', X_test.shape)\n",
    "print('y_test =', y_test.shape)"
   ]
  },
  {
   "cell_type": "code",
   "execution_count": 112,
   "metadata": {},
   "outputs": [
    {
     "name": "stdout",
     "output_type": "stream",
     "text": [
      "Optimization terminated successfully.\n",
      "         Current function value: 0.357766\n",
      "         Iterations 7\n",
      "                           Logit Regression Results                           \n",
      "==============================================================================\n",
      "Dep. Variable:                      y   No. Observations:                 6705\n",
      "Model:                          Logit   Df Residuals:                     6696\n",
      "Method:                           MLE   Df Model:                            8\n",
      "Date:                Tue, 20 Jun 2023   Pseudo R-squ.:                  0.4799\n",
      "Time:                        17:53:26   Log-Likelihood:                -2398.8\n",
      "converged:                       True   LL-Null:                       -4612.1\n",
      "Covariance Type:            nonrobust   LLR p-value:                     0.000\n",
      "==================================================================================\n",
      "                     coef    std err          z      P>|z|      [0.025      0.975]\n",
      "----------------------------------------------------------------------------------\n",
      "const             -0.3652      0.038     -9.599      0.000      -0.440      -0.291\n",
      "age               -0.0222      0.036     -0.622      0.534      -0.092       0.048\n",
      "duration           1.9161      0.052     36.687      0.000       1.814       2.018\n",
      "campaign          -0.0348      0.038     -0.910      0.363      -0.110       0.040\n",
      "emp.var.rate      -1.7165      0.197     -8.723      0.000      -2.102      -1.331\n",
      "cons.price.idx     0.2699      0.111      2.439      0.015       0.053       0.487\n",
      "cons.conf.idx      0.1067      0.051      2.091      0.037       0.007       0.207\n",
      "euribor3m          1.1767      0.284      4.143      0.000       0.620       1.733\n",
      "nr.employed       -1.4547      0.229     -6.341      0.000      -1.904      -1.005\n",
      "==================================================================================\n"
     ]
    }
   ],
   "source": [
    "logreg = sm.Logit(y_train, X_train).fit()\n",
    "print(logreg.summary())"
   ]
  },
  {
   "cell_type": "markdown",
   "metadata": {
    "collapsed": true
   },
   "source": [
    "<table align=\"left\">\n",
    "    <tr>\n",
    "        <td>\n",
    "            <div align=\"left\", style=\"font-size:120%\">\n",
    "                <font color=\"#21618C\">\n",
    "                    <b>How does a unit change in each feature influence the odds of a client subscribed a term deposit or not?</b>\n",
    "                </font>\n",
    "            </div>\n",
    "        </td>\n",
    "    </tr>\n",
    "</table>"
   ]
  },
  {
   "cell_type": "code",
   "execution_count": 113,
   "metadata": {},
   "outputs": [
    {
     "data": {
      "text/html": [
       "<div>\n",
       "<style scoped>\n",
       "    .dataframe tbody tr th:only-of-type {\n",
       "        vertical-align: middle;\n",
       "    }\n",
       "\n",
       "    .dataframe tbody tr th {\n",
       "        vertical-align: top;\n",
       "    }\n",
       "\n",
       "    .dataframe thead th {\n",
       "        text-align: right;\n",
       "    }\n",
       "</style>\n",
       "<table border=\"1\" class=\"dataframe\">\n",
       "  <thead>\n",
       "    <tr style=\"text-align: right;\">\n",
       "      <th></th>\n",
       "      <th>Odds</th>\n",
       "    </tr>\n",
       "  </thead>\n",
       "  <tbody>\n",
       "    <tr>\n",
       "      <th>const</th>\n",
       "      <td>0.694066</td>\n",
       "    </tr>\n",
       "    <tr>\n",
       "      <th>age</th>\n",
       "      <td>0.978048</td>\n",
       "    </tr>\n",
       "    <tr>\n",
       "      <th>duration</th>\n",
       "      <td>6.794216</td>\n",
       "    </tr>\n",
       "    <tr>\n",
       "      <th>campaign</th>\n",
       "      <td>0.965758</td>\n",
       "    </tr>\n",
       "    <tr>\n",
       "      <th>emp.var.rate</th>\n",
       "      <td>0.179691</td>\n",
       "    </tr>\n",
       "    <tr>\n",
       "      <th>cons.price.idx</th>\n",
       "      <td>1.309809</td>\n",
       "    </tr>\n",
       "    <tr>\n",
       "      <th>cons.conf.idx</th>\n",
       "      <td>1.112553</td>\n",
       "    </tr>\n",
       "    <tr>\n",
       "      <th>euribor3m</th>\n",
       "      <td>3.243773</td>\n",
       "    </tr>\n",
       "    <tr>\n",
       "      <th>nr.employed</th>\n",
       "      <td>0.233478</td>\n",
       "    </tr>\n",
       "  </tbody>\n",
       "</table>\n",
       "</div>"
      ],
      "text/plain": [
       "                    Odds\n",
       "const           0.694066\n",
       "age             0.978048\n",
       "duration        6.794216\n",
       "campaign        0.965758\n",
       "emp.var.rate    0.179691\n",
       "cons.price.idx  1.309809\n",
       "cons.conf.idx   1.112553\n",
       "euribor3m       3.243773\n",
       "nr.employed     0.233478"
      ]
     },
     "execution_count": 113,
     "metadata": {},
     "output_type": "execute_result"
    }
   ],
   "source": [
    "df_odds = pd.DataFrame(np.exp(logreg.params), columns= ['Odds']) \n",
    "\n",
    "# print the dataframe\n",
    "df_odds"
   ]
  },
  {
   "cell_type": "markdown",
   "metadata": {},
   "source": [
    "###  INFERENCE:   <font color='brown'> Odds_const: The odds of getting an admission is 0.694066 when all other variables are considered as zero.\n",
    "\n",
    "### <font color='brown'> odds_duration = 6.794216, it implies that the odds of the client subsribing a term deposit increases by a factor of 6.794216 for one unit increase in the last contract duration, keeping other variables constant.\n",
    "\n",
    "### <font color='brown'> odds_cons.price.idx = 1.309809, it implies that the odds of the client subsribing a term deposit increases by a factor of 1.309809 for one unit increase in the last consumer price index, keeping other variables constant.\n",
    "\n",
    "### <font color='brown'> odds_cons.conf.idx = 1.112553, it implies that the odds of the client subsribing a term deposit increases by a factor of 1.112553 for one unit increase in the last consumer confidence index, keeping other variables constant.\n",
    "\n",
    "### <font color='brown'> odds_euribor3m_Score = 3.243773, it implies that the odds of the client subsribing a term deposit increases by a factor of 3.243773 for one unit increase in the euribor 3 month rate, keeping other variables constant.\n"
   ]
  },
  {
   "cell_type": "markdown",
   "metadata": {},
   "source": [
    "<table align=\"left\">\n",
    "    <tr>\n",
    "        <td>\n",
    "            <div align=\"left\", style=\"font-size:120%\">\n",
    "                <font color=\"#21618C\">\n",
    "                    <b>Determining optimal threshold</b>\n",
    "                </font>\n",
    "            </div>\n",
    "        </td>\n",
    "    </tr>\n",
    "</table> "
   ]
  },
  {
   "cell_type": "code",
   "execution_count": 114,
   "metadata": {},
   "outputs": [
    {
     "data": {
      "text/html": [
       "<div>\n",
       "<style scoped>\n",
       "    .dataframe tbody tr th:only-of-type {\n",
       "        vertical-align: middle;\n",
       "    }\n",
       "\n",
       "    .dataframe tbody tr th {\n",
       "        vertical-align: top;\n",
       "    }\n",
       "\n",
       "    .dataframe thead th {\n",
       "        text-align: right;\n",
       "    }\n",
       "</style>\n",
       "<table border=\"1\" class=\"dataframe\">\n",
       "  <thead>\n",
       "    <tr style=\"text-align: right;\">\n",
       "      <th></th>\n",
       "      <th>TPR</th>\n",
       "      <th>FPR</th>\n",
       "      <th>Threshold</th>\n",
       "      <th>Difference</th>\n",
       "    </tr>\n",
       "  </thead>\n",
       "  <tbody>\n",
       "    <tr>\n",
       "      <th>0</th>\n",
       "      <td>0.885863</td>\n",
       "      <td>0.189845</td>\n",
       "      <td>0.396348</td>\n",
       "      <td>0.696017</td>\n",
       "    </tr>\n",
       "    <tr>\n",
       "      <th>1</th>\n",
       "      <td>0.866407</td>\n",
       "      <td>0.173289</td>\n",
       "      <td>0.450598</td>\n",
       "      <td>0.693118</td>\n",
       "    </tr>\n",
       "    <tr>\n",
       "      <th>2</th>\n",
       "      <td>0.897536</td>\n",
       "      <td>0.205298</td>\n",
       "      <td>0.367359</td>\n",
       "      <td>0.692238</td>\n",
       "    </tr>\n",
       "    <tr>\n",
       "      <th>3</th>\n",
       "      <td>0.867704</td>\n",
       "      <td>0.175497</td>\n",
       "      <td>0.440620</td>\n",
       "      <td>0.692208</td>\n",
       "    </tr>\n",
       "    <tr>\n",
       "      <th>4</th>\n",
       "      <td>0.866407</td>\n",
       "      <td>0.175497</td>\n",
       "      <td>0.443175</td>\n",
       "      <td>0.690911</td>\n",
       "    </tr>\n",
       "  </tbody>\n",
       "</table>\n",
       "</div>"
      ],
      "text/plain": [
       "        TPR       FPR  Threshold  Difference\n",
       "0  0.885863  0.189845   0.396348    0.696017\n",
       "1  0.866407  0.173289   0.450598    0.693118\n",
       "2  0.897536  0.205298   0.367359    0.692238\n",
       "3  0.867704  0.175497   0.440620    0.692208\n",
       "4  0.866407  0.175497   0.443175    0.690911"
      ]
     },
     "execution_count": 114,
     "metadata": {},
     "output_type": "execute_result"
    }
   ],
   "source": [
    "from sklearn.metrics import roc_curve\n",
    "\n",
    "# let 'y_pred_prob' be the predicted values of y\n",
    "y_pred_prob = logreg.predict(X_test)\n",
    "\n",
    "fpr, tpr, thresholds = roc_curve(y_test, y_pred_prob)\n",
    "\n",
    "# Finding optimal threshold using Youden's Index\n",
    "youdens_table = pd.DataFrame({'TPR': tpr,\n",
    "                             'FPR': fpr,\n",
    "                             'Threshold': thresholds})\n",
    "\n",
    "# calculate the difference between TPR and FPR for each threshold and store the values in a new column 'Difference'\n",
    "youdens_table['Difference'] = youdens_table.TPR - youdens_table.FPR\n",
    "\n",
    "# sort the dataframe based on the values of difference \n",
    "youdens_table = youdens_table.sort_values('Difference', ascending = False).reset_index(drop = True)\n",
    "\n",
    "# print the first five observations\n",
    "youdens_table.head()"
   ]
  },
  {
   "cell_type": "markdown",
   "metadata": {
    "collapsed": true
   },
   "source": [
    "<table align=\"left\">\n",
    "    <tr>\n",
    "        <td>\n",
    "            <div align=\"left\", style=\"font-size:120%\">\n",
    "                <font color=\"#21618C\">\n",
    "                        <b>For the full model, calculate the accuracy manually using the confusion matrix. Consider 0.5 as the probability threshold.</b>\n",
    "                </font>\n",
    "            </div>\n",
    "        </td>\n",
    "    </tr>\n",
    "</table>"
   ]
  },
  {
   "cell_type": "code",
   "execution_count": 115,
   "metadata": {},
   "outputs": [
    {
     "data": {
      "text/plain": [
       "[1, 1, 1, 0, 0]"
      ]
     },
     "execution_count": 115,
     "metadata": {},
     "output_type": "execute_result"
    }
   ],
   "source": [
    "# let 'y_pred_prob' be the predicted values of y\n",
    "y_pred_prob = logreg.predict(X_test)\n",
    "\n",
    "# convert probabilities to 0 and 1 using 'if_else'\n",
    "y_pred_logreg = [ 0 if x < 0.5 else 1 for x in y_pred_prob]\n",
    "\n",
    "y_pred_logreg[0:5]"
   ]
  },
  {
   "cell_type": "code",
   "execution_count": 116,
   "metadata": {},
   "outputs": [
    {
     "data": {
      "image/png": "[encoded data removed]",
      "text/plain": [
       "<Figure size 576x360 with 2 Axes>"
      ]
     },
     "metadata": {
      "needs_background": "light"
     },
     "output_type": "display_data"
    }
   ],
   "source": [
    "from sklearn.metrics import confusion_matrix\n",
    "\n",
    "# create a confusion matrix\n",
    "cm = confusion_matrix(y_test, y_pred_logreg)\n",
    "\n",
    "# label the confusion matrix  \n",
    "conf_matrix = pd.DataFrame(data = cm,columns = ['Predicted:0','Predicted:1'], index = ['Actual:0','Actual:1']) \n",
    "sns.heatmap(conf_matrix, annot = True, fmt = 'd')\n",
    "\n",
    "plt.rcParams['figure.figsize'] = [8,5]\n",
    "\n",
    "# display the plot\n",
    "plt.show()"
   ]
  },
  {
   "cell_type": "code",
   "execution_count": 117,
   "metadata": {},
   "outputs": [
    {
     "data": {
      "text/plain": [
       "0.8395945140131187"
      ]
     },
     "execution_count": 117,
     "metadata": {},
     "output_type": "execute_result"
    }
   ],
   "source": [
    "# True Negatives are denoted by 'TN'- Actual 'O' values which are classified correctly\n",
    "TN = cm[0,0]\n",
    "\n",
    "# True Positives are denoted by 'TP'- Actual '1' values which are classified correctly\n",
    "TP = cm[1,1]\n",
    "\n",
    "# False Positives are denoted by 'FP'(type 1 error) - Actual 'O' values which are classified wrongly as '1'\n",
    "FP = cm[0,1]\n",
    "\n",
    "# False Negatives are denoted by 'FN' (type 2 error) - Actual '1' values which are classified wrongly as '0'\n",
    "FN = cm[1,0]\n",
    "\n",
    "# calculate the accuracy\n",
    "accuracy = (TN+TP) / (TN+FP+FN+TP)\n",
    "accuracy"
   ]
  },
  {
   "cell_type": "markdown",
   "metadata": {
    "collapsed": true
   },
   "source": [
    "<table align=\"left\">\n",
    "    <tr>\n",
    "        <td>\n",
    "            <div align=\"left\", style=\"font-size:120%\">\n",
    "                <font color=\"#21618C\">\n",
    "                    <b>Calculate value of kappa for the full model . Consider threshold value as 0.18</b>\n",
    "                </font>\n",
    "            </div>\n",
    "        </td>\n",
    "    </tr>\n",
    "</table>"
   ]
  },
  {
   "cell_type": "code",
   "execution_count": 118,
   "metadata": {},
   "outputs": [
    {
     "name": "stdout",
     "output_type": "stream",
     "text": [
      "kappa value: 0.6030691861727899\n"
     ]
    }
   ],
   "source": [
    "from sklearn.metrics import cohen_kappa_score\n",
    "\n",
    "# let 'y_pred_prob' be the predicted values of y\n",
    "y_pred_for_kappa = logreg.predict(X_test)\n",
    "\n",
    "# convert probabilities to 0 and 1 using 'if_else'\n",
    "y_pred_for_kappa1 = [ 0 if x < 0.18 else 1 for x in y_pred_for_kappa]\n",
    "\n",
    "# compute the kappa value\n",
    "kappa = cohen_kappa_score(y_test, y_pred_for_kappa1)\n",
    "\n",
    "# print the kappa value\n",
    "print('kappa value:',kappa)"
   ]
  },
  {
   "cell_type": "markdown",
   "metadata": {
    "collapsed": true
   },
   "source": [
    "<table align=\"left\">\n",
    "    <tr>\n",
    "        <td>\n",
    "            <div align=\"left\", style=\"font-size:120%\">\n",
    "                <font color=\"#21618C\">\n",
    "                    <b>Calculate the cross entropy for the logistic regression model.</b>\n",
    "                </font>\n",
    "            </div>\n",
    "        </td>\n",
    "    </tr>\n",
    "</table>"
   ]
  },
  {
   "cell_type": "code",
   "execution_count": 119,
   "metadata": {},
   "outputs": [
    {
     "name": "stdout",
     "output_type": "stream",
     "text": [
      "Cross-entropy loss: 0.36082194905100085\n"
     ]
    }
   ],
   "source": [
    "# Define the sigmoid function\n",
    "def sigmoid(z):\n",
    "    return 1 / (1 + np.exp(-z))\n",
    "\n",
    "# Calculate cross-entropy loss\n",
    "def cross_entropy_loss(y_test, y_pred_prob):\n",
    "    epsilon = 1e-7  # small value to avoid division by zero\n",
    "    loss = -(y_test * np.log(y_pred_prob + epsilon) + (1 - y_test) * np.log(1 - y_pred_prob + epsilon))\n",
    "    return np.mean(loss)\n",
    "\n",
    "# Calculate the cross-entropy loss\n",
    "loss = cross_entropy_loss(y_test, y_pred_prob)\n",
    "print(\"Cross-entropy loss:\", loss)"
   ]
  },
  {
   "cell_type": "markdown",
   "metadata": {
    "collapsed": true
   },
   "source": [
    "<table align=\"left\">\n",
    "    <tr>\n",
    "        <td>\n",
    "            <div align=\"left\", style=\"font-size:120%\">\n",
    "                <font color=\"#21618C\">\n",
    "                    <b>Predict whether a client subscribed a term deposit or not. For the logistic regression model find the following:<br> <ol type = \"a\">\n",
    "                        <li> Precision </li>\n",
    "                        <li> Recall</li>   \n",
    "                        <li> F<sub>1</sub> score </li>\n",
    "                        </ol>\n",
    "                    </b>\n",
    "                </font>\n",
    "            </div>\n",
    "        </td>\n",
    "    </tr>\n",
    "</table>"
   ]
  },
  {
   "cell_type": "code",
   "execution_count": 120,
   "metadata": {},
   "outputs": [
    {
     "name": "stdout",
     "output_type": "stream",
     "text": [
      "Precision = 0.8217948717948718\n",
      "Recall = 0.8313878080415046\n",
      "F1 score = 0.8265635074145713\n"
     ]
    }
   ],
   "source": [
    "# Precision\n",
    "precision = TP / (TP+FP)\n",
    "print('Precision =',precision)\n",
    "\n",
    "# Recall\n",
    "recall = TP / (TP+FN)\n",
    "print('Recall =',recall)\n",
    "\n",
    "# F1 score\n",
    "f1_score = 2*((precision*recall)/(precision+recall))\n",
    "print('F1 score =',f1_score)"
   ]
  },
  {
   "cell_type": "markdown",
   "metadata": {},
   "source": [
    "## 3.Build a Decision Tree model and generate a classification report.\n",
    "\n"
   ]
  },
  {
   "cell_type": "code",
   "execution_count": 166,
   "metadata": {},
   "outputs": [],
   "source": [
    "# Decision Tree \n",
    "from sklearn.tree import DecisionTreeClassifier\n",
    "regressor = DecisionTreeClassifier()\n",
    "from sklearn.metrics import classification_report"
   ]
  },
  {
   "cell_type": "code",
   "execution_count": 167,
   "metadata": {},
   "outputs": [
    {
     "data": {
      "text/plain": [
       "array([0, 1, 0, 0, 1], dtype=int64)"
      ]
     },
     "execution_count": 167,
     "metadata": {},
     "output_type": "execute_result"
    }
   ],
   "source": [
    "# Split the dataset into train and test sets\n",
    "X_train, X_test, Y_train, Y_test = train_test_split(df_indep, df_dep, test_size=0.2, random_state=42)\n",
    "\n",
    "# Train a decision tree classifier\n",
    "classifier = DecisionTreeClassifier()\n",
    "classifier.fit(X_train, Y_train)\n",
    "\n",
    "# Predict the labels for the test set\n",
    "y_pred = classifier.predict(X_test)\n",
    "y_pred[0:5]"
   ]
  },
  {
   "cell_type": "code",
   "execution_count": 168,
   "metadata": {},
   "outputs": [
    {
     "name": "stdout",
     "output_type": "stream",
     "text": [
      "Classification Report:\n",
      "               precision    recall  f1-score   support\n",
      "\n",
      "           0       0.85      0.85      0.85       936\n",
      "           1       0.81      0.82      0.81       741\n",
      "\n",
      "    accuracy                           0.84      1677\n",
      "   macro avg       0.83      0.83      0.83      1677\n",
      "weighted avg       0.84      0.84      0.84      1677\n",
      "\n"
     ]
    }
   ],
   "source": [
    "# Generate the classification report\n",
    "report = classification_report(Y_test, y_pred)\n",
    "print(\"Classification Report:\\n\",report)"
   ]
  },
  {
   "cell_type": "markdown",
   "metadata": {
    "collapsed": true
   },
   "source": [
    "<table align=\"left\">\n",
    "    <tr>\n",
    "        <td>\n",
    "            <div align=\"left\", style=\"font-size:120%\">\n",
    "                <font color=\"#21618C\">\n",
    "                    <b>Determining optimal hyperparameters using GridSearchCV</b>\n",
    "                </font>\n",
    "            </div>\n",
    "        </td>\n",
    "    </tr>\n",
    "</table>"
   ]
  },
  {
   "cell_type": "code",
   "execution_count": 169,
   "metadata": {},
   "outputs": [
    {
     "name": "stdout",
     "output_type": "stream",
     "text": [
      "Fitting 5 folds for each of 90 candidates, totalling 450 fits\n"
     ]
    },
    {
     "data": {
      "text/plain": [
       "GridSearchCV(cv=5, estimator=DecisionTreeClassifier(random_state=1024),\n",
       "             param_grid={'ccp_alpha': [0.1, 0.01, 0.001],\n",
       "                         'criterion': ['gini', 'entropy'],\n",
       "                         'max_depth': [5, 6, 7, 8, 9],\n",
       "                         'max_features': ['auto', 'sqrt', 'log2']},\n",
       "             verbose=True)"
      ]
     },
     "execution_count": 169,
     "metadata": {},
     "output_type": "execute_result"
    }
   ],
   "source": [
    "from sklearn.model_selection import GridSearchCV\n",
    "\n",
    "param_grid = {'max_features': ['auto', 'sqrt', 'log2'],\n",
    "              'ccp_alpha': [0.1, .01, .001],\n",
    "              'max_depth' : [5, 6, 7, 8, 9],\n",
    "              'criterion' :['gini', 'entropy']\n",
    "             }\n",
    "tree_clas = DecisionTreeClassifier(random_state=1024)\n",
    "grid_search = GridSearchCV(estimator=tree_clas, param_grid=param_grid, cv=5, verbose=True)\n",
    "grid_search.fit(X_train, Y_train)"
   ]
  },
  {
   "cell_type": "code",
   "execution_count": 170,
   "metadata": {},
   "outputs": [
    {
     "data": {
      "text/plain": [
       "DecisionTreeClassifier(ccp_alpha=0.001, criterion='entropy', max_depth=9,\n",
       "                       max_features='log2', random_state=1024)"
      ]
     },
     "execution_count": 170,
     "metadata": {},
     "output_type": "execute_result"
    }
   ],
   "source": [
    "final_model = grid_search.best_estimator_\n",
    "final_model"
   ]
  },
  {
   "cell_type": "code",
   "execution_count": 171,
   "metadata": {},
   "outputs": [
    {
     "data": {
      "text/plain": [
       "array([1, 1, 0, 0, 1], dtype=int64)"
      ]
     },
     "execution_count": 171,
     "metadata": {},
     "output_type": "execute_result"
    }
   ],
   "source": [
    "# Split the dataset\n",
    "X_train, X_test, Y_train, Y_test = train_test_split(df_indep, df_dep, test_size=0.2, random_state=42)\n",
    "\n",
    "# Train a decision tree classifier after optimised parameter\n",
    "classifier_optimal = DecisionTreeClassifier(ccp_alpha=0.001, criterion='entropy', max_depth=9,\n",
    "                       max_features='log2', random_state=1024)\n",
    "classifier_optimal.fit(X_train, Y_train)\n",
    "\n",
    "# Predict the labels for the test set\n",
    "y_pred_dt_optimal = classifier_optimal.predict(X_test)\n",
    "y_pred_dt_optimal[0:5]"
   ]
  },
  {
   "cell_type": "markdown",
   "metadata": {
    "collapsed": true
   },
   "source": [
    "<table align=\"left\">\n",
    "    <tr>\n",
    "        <td>\n",
    "            <div align=\"left\", style=\"font-size:120%\">\n",
    "                <font color=\"#21618C\">\n",
    "                    <b>Compare the Full model and optimized model using model performance metrics\n",
    "                    </b>\n",
    "                </font>\n",
    "            </div>\n",
    "        </td>\n",
    "    </tr>\n",
    "</table>"
   ]
  },
  {
   "cell_type": "code",
   "execution_count": 172,
   "metadata": {},
   "outputs": [
    {
     "name": "stdout",
     "output_type": "stream",
     "text": [
      "Before using optimal parameters:\n",
      "               precision    recall  f1-score   support\n",
      "\n",
      "           0       0.85      0.85      0.85       936\n",
      "           1       0.81      0.82      0.81       741\n",
      "\n",
      "    accuracy                           0.84      1677\n",
      "   macro avg       0.83      0.83      0.83      1677\n",
      "weighted avg       0.84      0.84      0.84      1677\n",
      "\n"
     ]
    }
   ],
   "source": [
    "# Generate the classification report\n",
    "report = classification_report(Y_test, y_pred)\n",
    "print(\"Before using optimal parameters:\\n\",report)"
   ]
  },
  {
   "cell_type": "code",
   "execution_count": 173,
   "metadata": {},
   "outputs": [
    {
     "name": "stdout",
     "output_type": "stream",
     "text": [
      "After using optimal parameters:\n",
      "               precision    recall  f1-score   support\n",
      "\n",
      "           0       0.91      0.88      0.90       936\n",
      "           1       0.86      0.89      0.87       741\n",
      "\n",
      "    accuracy                           0.89      1677\n",
      "   macro avg       0.88      0.89      0.89      1677\n",
      "weighted avg       0.89      0.89      0.89      1677\n",
      "\n"
     ]
    }
   ],
   "source": [
    "# Generate the classification report\n",
    "report_optimal = classification_report(Y_test, y_pred_dt_optimal)\n",
    "print(\"After using optimal parameters:\\n\",report_optimal)"
   ]
  },
  {
   "cell_type": "markdown",
   "metadata": {},
   "source": [
    "###  INFERENCE:   <font color='brown'> After optimising Decision Tree model, the value of precision for class 0 has increased from 0.85 to 0.91 and recall has increased from 0.85 to 0.88. For class 1, the precision has increaed from 0.81 to 0.86 and recall increased 0.82 to 0.89."
   ]
  },
  {
   "cell_type": "markdown",
   "metadata": {},
   "source": [
    "## 4.Build a Random Forest model with n_estimators=30 and generate a classification report.\n",
    "\n"
   ]
  },
  {
   "cell_type": "code",
   "execution_count": 174,
   "metadata": {},
   "outputs": [
    {
     "name": "stdout",
     "output_type": "stream",
     "text": [
      "Cross-val-score: [0.88968396 0.88014311 0.87828162 0.88842482 0.87171838]\n",
      "Mean of Cross-val-score: 0.8816503786310079\n"
     ]
    }
   ],
   "source": [
    "from sklearn.model_selection import cross_val_score\n",
    "from sklearn.ensemble import RandomForestClassifier\n",
    "rf = RandomForestClassifier()\n",
    "scores = cross_val_score(RandomForestClassifier(n_estimators=30), X, df_dep, cv=5)\n",
    "print(\"Cross-val-score:\",scores)\n",
    "print(\"Mean of Cross-val-score:\",scores.mean())"
   ]
  },
  {
   "cell_type": "code",
   "execution_count": 175,
   "metadata": {},
   "outputs": [
    {
     "data": {
      "text/plain": [
       "array([1, 1, 0, 0, 1], dtype=int64)"
      ]
     },
     "execution_count": 175,
     "metadata": {},
     "output_type": "execute_result"
    }
   ],
   "source": [
    "# Split the dataset into train and test sets\n",
    "X_train, X_test, Y_train, Y_test = train_test_split(df_indep, df_dep, test_size=0.2, random_state=42)\n",
    "\n",
    "# Train a decision tree classifier\n",
    "rf = RandomForestClassifier()\n",
    "rf.fit(X_train, Y_train)\n",
    "\n",
    "# Predict the labels for the test set\n",
    "y_pred = rf.predict(X_test)\n",
    "y_pred[0:5]"
   ]
  },
  {
   "cell_type": "markdown",
   "metadata": {
    "collapsed": true
   },
   "source": [
    "<table align=\"left\">\n",
    "    <tr>\n",
    "        <td>\n",
    "            <div align=\"left\", style=\"font-size:120%\">\n",
    "                <font color=\"#21618C\">\n",
    "                    <b>Determining optimal hyperparameters using GridSearchCV</b>\n",
    "                </font>\n",
    "            </div>\n",
    "        </td>\n",
    "    </tr>\n",
    "</table>"
   ]
  },
  {
   "cell_type": "code",
   "execution_count": 154,
   "metadata": {},
   "outputs": [
    {
     "name": "stdout",
     "output_type": "stream",
     "text": [
      "Best parameters for random forest classifier: {'criterion': 'gini', 'max_depth': 10, 'max_features': 'log2', 'max_leaf_nodes': 11, 'min_samples_leaf': 9, 'min_samples_split': 2, 'n_estimators': 70} \n",
      "\n"
     ]
    }
   ],
   "source": [
    "from sklearn.model_selection import GridSearchCV\n",
    "tuned_parameters = [{'criterion': ['entropy', 'gini'],\n",
    "                    'n_estimators': [10,30,50,70,90],\n",
    "                    'max_depth': [10,15,20],\n",
    "                    'max_features': ['sqrt', 'log2'],\n",
    "                    'min_samples_split': [2,5,8,11],\n",
    "                    'min_samples_leaf': [1,5,9],\n",
    "                    'max_leaf_nodes': [2,5,8,11]}]\n",
    "\n",
    "rf = RandomForestClassifier(random_state=10)\n",
    "rf_grid = GridSearchCV(estimator = rf, param_grid = tuned_parameters, cv=5)\n",
    "rf_grid_model = rf_grid.fit(X_train, Y_train)\n",
    "print('Best parameters for random forest classifier:', rf_grid_model.best_params_, '\\n')"
   ]
  },
  {
   "cell_type": "code",
   "execution_count": 156,
   "metadata": {},
   "outputs": [
    {
     "data": {
      "text/plain": [
       "0.8868994809745212"
      ]
     },
     "execution_count": 156,
     "metadata": {},
     "output_type": "execute_result"
    }
   ],
   "source": [
    "rf_model = RandomForestClassifier(criterion = rf_grid_model.best_params_.get('criterion'), \n",
    "                                 n_estimators = rf_grid_model.best_params_.get('n_estimators'),\n",
    "                                 max_depth = rf_grid_model.best_params_.get('max_depth'),\n",
    "                                 max_features = rf_grid_model.best_params_.get('max_features'),\n",
    "                                 max_leaf_nodes = rf_grid_model.best_params_.get('max_leaf_node'),\n",
    "                                 min_samples_leaf = rf_grid_model.best_params_.get('min_samples_leaf'),\n",
    "                                 min_samples_split = rf_grid_model.best_params_.get('min_samples_split'),\n",
    "                                 random_state = 10)\n",
    "rf_model=rf_model.fit(X_train, Y_train)\n",
    "scores = cross_val_score(rf_model, X, df_dep, cv=5) \n",
    "scores.mean()"
   ]
  },
  {
   "cell_type": "markdown",
   "metadata": {
    "collapsed": true
   },
   "source": [
    "<table align=\"left\">\n",
    "    <tr>\n",
    "        <td>\n",
    "            <div align=\"left\", style=\"font-size:120%\">\n",
    "                <font color=\"#21618C\">\n",
    "                    <b>Compare the Full model and optimized model using model performance metrics\n",
    "                    </b>\n",
    "                </font>\n",
    "            </div>\n",
    "        </td>\n",
    "    </tr>\n",
    "</table>"
   ]
  },
  {
   "cell_type": "code",
   "execution_count": 176,
   "metadata": {},
   "outputs": [
    {
     "name": "stdout",
     "output_type": "stream",
     "text": [
      "Before using optimal parameters:\n",
      "\n",
      "              precision    recall  f1-score   support\n",
      "\n",
      "           0       0.92      0.87      0.89       936\n",
      "           1       0.84      0.91      0.88       741\n",
      "\n",
      "    accuracy                           0.89      1677\n",
      "   macro avg       0.88      0.89      0.89      1677\n",
      "weighted avg       0.89      0.89      0.89      1677\n",
      "\n"
     ]
    }
   ],
   "source": [
    "clf_report = classification_report(Y_test, y_pred)\n",
    "print(\"Before using optimal parameters:\\n\")\n",
    "print(clf_report)"
   ]
  },
  {
   "cell_type": "code",
   "execution_count": 177,
   "metadata": {},
   "outputs": [
    {
     "name": "stdout",
     "output_type": "stream",
     "text": [
      "After using optimal parameters:\n",
      "\n",
      "              precision    recall  f1-score   support\n",
      "\n",
      "           0       0.94      0.86      0.90       936\n",
      "           1       0.84      0.93      0.88       741\n",
      "\n",
      "    accuracy                           0.89      1677\n",
      "   macro avg       0.89      0.89      0.89      1677\n",
      "weighted avg       0.89      0.89      0.89      1677\n",
      "\n"
     ]
    }
   ],
   "source": [
    "from sklearn.metrics import classification_report\n",
    "y_pred_rf_after=rf_model.predict(X_test)\n",
    "clf_report = classification_report(Y_test, y_pred_rf_after)\n",
    "print(\"After using optimal parameters:\\n\")\n",
    "print(clf_report)"
   ]
  },
  {
   "cell_type": "markdown",
   "metadata": {},
   "source": [
    "###  INFERENCE:   <font color='brown'> After optimising Random Forest model, the value of precision for class 0 has increased from 0.92 to 0.94 and recall has decreased from 0.87 to 0.86 which is good. For class 1, the precision remains the same 0.84 and recall has increased 0.91 to 0.93."
   ]
  },
  {
   "cell_type": "markdown",
   "metadata": {},
   "source": [
    "## 5.Build the XGBoost model with a learning rate of 0.4 and gamma equal to 3. Calculate the accuracy by plotting the confusion matrix"
   ]
  },
  {
   "cell_type": "code",
   "execution_count": 178,
   "metadata": {},
   "outputs": [
    {
     "name": "stdout",
     "output_type": "stream",
     "text": [
      "Requirement already satisfied: xgboost in c:\\programdata\\anaconda3\\lib\\site-packages (1.6.2)\n",
      "Requirement already satisfied: numpy in c:\\users\\priya\\appdata\\roaming\\python\\python37\\site-packages (from xgboost) (1.21.6)\n",
      "Requirement already satisfied: scipy in c:\\programdata\\anaconda3\\lib\\site-packages (from xgboost) (1.4.1)\n",
      "Note: you may need to restart the kernel to use updated packages.\n"
     ]
    }
   ],
   "source": [
    "pip install xgboost"
   ]
  },
  {
   "cell_type": "code",
   "execution_count": 179,
   "metadata": {},
   "outputs": [
    {
     "data": {
      "text/plain": [
       "array([0.92362744, 0.85886586, 0.03250541, 0.15765665, 0.8887255 ],\n",
       "      dtype=float32)"
      ]
     },
     "execution_count": 179,
     "metadata": {},
     "output_type": "execute_result"
    }
   ],
   "source": [
    "import xgboost as xgb\n",
    "\n",
    "# Create DMatrix for XGBoost\n",
    "dtrain = xgb.DMatrix(X_train, label=Y_train)\n",
    "\n",
    "# Set XGBoost parameters\n",
    "params = {'learning_rate': 0.4,'gamma': 3}\n",
    "\n",
    "# Train the XGBoost model\n",
    "model = xgb.train(params, dtrain)\n",
    "\n",
    "# Once the model is trained, you can use it for prediction or evaluation\n",
    "dtest = xgb.DMatrix(X_test)\n",
    "y_pred_xgb = model.predict(dtest)\n",
    "y_pred_xgb[0:5]"
   ]
  },
  {
   "cell_type": "code",
   "execution_count": 180,
   "metadata": {},
   "outputs": [
    {
     "data": {
      "image/png": "[encoded data removed]",
      "text/plain": [
       "<Figure size 576x360 with 2 Axes>"
      ]
     },
     "metadata": {
      "needs_background": "light"
     },
     "output_type": "display_data"
    }
   ],
   "source": [
    "from sklearn.metrics import confusion_matrix\n",
    "\n",
    "# create a confusion matrix\n",
    "cm = confusion_matrix(Y_test, y_pred_xgb_binary)\n",
    "\n",
    "# label the confusion matrix  \n",
    "conf_matrix = pd.DataFrame(data = cm,columns = ['Predicted:0','Predicted:1'], index = ['Actual:0','Actual:1']) \n",
    "sns.heatmap(conf_matrix, annot = True, fmt = 'd')\n",
    "\n",
    "plt.rcParams['figure.figsize'] = [8,5]\n",
    "plt.show()"
   ]
  },
  {
   "cell_type": "code",
   "execution_count": 181,
   "metadata": {},
   "outputs": [
    {
     "data": {
      "text/plain": [
       "0.8723911747167561"
      ]
     },
     "execution_count": 181,
     "metadata": {},
     "output_type": "execute_result"
    }
   ],
   "source": [
    "# True Negatives are denoted by 'TN'- Actual 'O' values which are classified correctly\n",
    "TN = cm[0,0]\n",
    "\n",
    "# True Positives are denoted by 'TP'- Actual '1' values which are classified correctly\n",
    "TP = cm[1,1]\n",
    "\n",
    "# False Positives are denoted by 'FP'(type 1 error) - Actual 'O' values which are classified wrongly as '1'\n",
    "FP = cm[0,1]\n",
    "\n",
    "# False Negatives are denoted by 'FN' (type 2 error) - Actual '1' values which are classified wrongly as '0'\n",
    "FN = cm[1,0]\n",
    "\n",
    "# calculate the accuracy\n",
    "accuracy = (TN+TP) / (TN+FP+FN+TP)\n",
    "accuracy"
   ]
  },
  {
   "cell_type": "markdown",
   "metadata": {
    "collapsed": true
   },
   "source": [
    "<table align=\"left\">\n",
    "    <tr>\n",
    "        <td>\n",
    "            <div align=\"left\", style=\"font-size:120%\">\n",
    "                <font color=\"#21618C\">\n",
    "                    <b>Determining optimal hyperparameters using GridSearchCV</b>\n",
    "                </font>\n",
    "            </div>\n",
    "        </td>\n",
    "    </tr>\n",
    "</table>"
   ]
  },
  {
   "cell_type": "code",
   "execution_count": 182,
   "metadata": {},
   "outputs": [
    {
     "name": "stdout",
     "output_type": "stream",
     "text": [
      "Best parameters:  {'learning_rate': 0.2, 'max_depth': 4, 'n_estimators': 50}\n",
      "Best score:  0.8851603281133483\n"
     ]
    }
   ],
   "source": [
    "# Create the XGBoost classifier\n",
    "xgb_model = xgb.XGBClassifier()\n",
    "\n",
    "# Define the parameter grid for GridSearchCV\n",
    "param_grid = {'learning_rate': [0.1, 0.2, 0.3], 'max_depth': [3, 4, 5], 'n_estimators': [50, 100, 200]}\n",
    "\n",
    "# Create the GridSearchCV object\n",
    "grid_search = GridSearchCV(estimator=xgb_model, param_grid=param_grid, cv=3)\n",
    "\n",
    "# Fit the GridSearchCV object to the data\n",
    "grid_search.fit(X_train, Y_train)\n",
    "\n",
    "print(\"Best parameters: \", grid_search.best_params_)\n",
    "print(\"Best score: \", grid_search.best_score_)"
   ]
  },
  {
   "cell_type": "markdown",
   "metadata": {
    "collapsed": true
   },
   "source": [
    "<table align=\"left\">\n",
    "    <tr>\n",
    "        <td>\n",
    "            <div align=\"left\", style=\"font-size:120%\">\n",
    "                <font color=\"#21618C\">\n",
    "                    <b>Compare the Full model and optimized model using model performance metrics\n",
    "                    </b>\n",
    "                </font>\n",
    "            </div>\n",
    "        </td>\n",
    "    </tr>\n",
    "</table>"
   ]
  },
  {
   "cell_type": "code",
   "execution_count": 203,
   "metadata": {},
   "outputs": [
    {
     "name": "stdout",
     "output_type": "stream",
     "text": [
      "[19:59:34] WARNING: C:/Users/administrator/workspace/xgboost-win64_release_1.6.0/src/learner.cc:627: \n",
      "Parameters: { \"n_estimators\" } might not be used.\n",
      "\n",
      "  This could be a false alarm, with some parameters getting used by language bindings but\n",
      "  then being mistakenly passed down to XGBoost core, or some parameter actually being used\n",
      "  but getting flagged wrongly here. Please open an issue if you find any such cases.\n",
      "\n",
      "\n"
     ]
    }
   ],
   "source": [
    "dtrain = xgb.DMatrix(X_train, label=Y_train)\n",
    "\n",
    "# Set XGBoost parameters\n",
    "params = {'learning_rate': 0.2,'max_depth': 4,'n_estimators' : 50}\n",
    "\n",
    "# Train the XGBoost model\n",
    "model_optimised = xgb.train(params, dtrain)\n",
    "\n",
    "# Once the model is trained, you can use it for prediction or evaluation\n",
    "# For example, if you have a test dataset X_test, you can predict the labels using:\n",
    "dtest = xgb.DMatrix(X_test)\n",
    "y_pred_xgb_optimised = model_optimised.predict(dtest)"
   ]
  },
  {
   "cell_type": "code",
   "execution_count": 204,
   "metadata": {},
   "outputs": [
    {
     "data": {
      "image/png": "[encoded data removed]",
      "text/plain": [
       "<Figure size 576x360 with 2 Axes>"
      ]
     },
     "metadata": {
      "needs_background": "light"
     },
     "output_type": "display_data"
    }
   ],
   "source": [
    "from sklearn.metrics import confusion_matrix\n",
    "cm = confusion_matrix(Y_test, y_pred_xgb_binary_optimised)\n",
    "\n",
    "conf_matrix = pd.DataFrame(data = cm,columns = ['Predicted:0','Predicted:1'], index = ['Actual:0','Actual:1']) \n",
    "sns.heatmap(conf_matrix, annot = True, fmt = 'd')\n",
    "\n",
    "plt.rcParams['figure.figsize'] = [8,5]\n",
    "plt.show()"
   ]
  },
  {
   "cell_type": "code",
   "execution_count": 205,
   "metadata": {},
   "outputs": [
    {
     "data": {
      "text/plain": [
       "0.8819320214669052"
      ]
     },
     "execution_count": 205,
     "metadata": {},
     "output_type": "execute_result"
    }
   ],
   "source": [
    "# True Negatives are denoted by 'TN'- Actual 'O' values which are classified correctly\n",
    "TN = cm[0,0]\n",
    "\n",
    "# True Positives are denoted by 'TP'- Actual '1' values which are classified correctly\n",
    "TP = cm[1,1]\n",
    "\n",
    "# False Positives are denoted by 'FP'(type 1 error) - Actual 'O' values which are classified wrongly as '1'\n",
    "FP = cm[0,1]\n",
    "\n",
    "# False Negatives are denoted by 'FN' (type 2 error) - Actual '1' values which are classified wrongly as '0'\n",
    "FN = cm[1,0]\n",
    "\n",
    "# calculate the accuracy\n",
    "accuracy = (TN+TP) / (TN+FP+FN+TP)\n",
    "accuracy"
   ]
  },
  {
   "cell_type": "markdown",
   "metadata": {},
   "source": [
    "###  INFERENCE:   <font color='brown'> After optimising XGBoost model, model accuracy has increased from 0.87 to 0.881."
   ]
  },
  {
   "cell_type": "markdown",
   "metadata": {},
   "source": [
    "## 6.Build the K - Nearest Neighbor Model"
   ]
  },
  {
   "cell_type": "code",
   "execution_count": 186,
   "metadata": {},
   "outputs": [
    {
     "name": "stdout",
     "output_type": "stream",
     "text": [
      "Accuracy: 0.7978533094812165\n"
     ]
    }
   ],
   "source": [
    "from sklearn.neighbors import KNeighborsClassifier\n",
    "from sklearn.metrics import accuracy_score\n",
    "\n",
    "# Create a KNN classifier\n",
    "knn = KNeighborsClassifier(n_neighbors=2)  # Set the number of neighbors = 2\n",
    "\n",
    "# Train the KNN classifier\n",
    "knn.fit(X_train, Y_train)\n",
    "\n",
    "# Predict labels for the test set\n",
    "y_pred_knn = knn.predict(X_test)\n",
    "\n",
    "# Calculate the accuracy of the classifier\n",
    "accuracy = accuracy_score(Y_test, y_pred_knn)\n",
    "print(\"Accuracy:\", accuracy)"
   ]
  },
  {
   "cell_type": "markdown",
   "metadata": {
    "collapsed": true
   },
   "source": [
    "<table align=\"left\">\n",
    "    <tr>\n",
    "        <td>\n",
    "            <div align=\"left\", style=\"font-size:120%\">\n",
    "                <font color=\"#21618C\">\n",
    "                    <b>Determining optimal K-Value using Elbow Curve Method</b>\n",
    "                </font>\n",
    "            </div>\n",
    "        </td>\n",
    "    </tr>\n",
    "</table>"
   ]
  },
  {
   "cell_type": "code",
   "execution_count": 210,
   "metadata": {},
   "outputs": [
    {
     "data": {
      "image/png": "[encoded data removed]",
      "text/plain": [
       "<Figure size 576x360 with 1 Axes>"
      ]
     },
     "metadata": {
      "needs_background": "light"
     },
     "output_type": "display_data"
    }
   ],
   "source": [
    "from sklearn.cluster import KMeans\n",
    "wcss = []\n",
    "\n",
    "# Perform K-means clustering for different values of k\n",
    "for k in range(1, 11):\n",
    "    kmeans = KMeans(n_clusters=k, random_state=10)\n",
    "    kmeans.fit(X)\n",
    "    wcss.append(kmeans.inertia_)\n",
    "\n",
    "# Plotting the WCSS values\n",
    "plt.plot(range(1, 11), wcss)\n",
    "plt.xlabel('Number of Clusters (k)')\n",
    "plt.ylabel('WCSS')\n",
    "plt.title('Elbow Method')\n",
    "plt.show()"
   ]
  },
  {
   "cell_type": "markdown",
   "metadata": {
    "collapsed": true
   },
   "source": [
    "<table align=\"left\">\n",
    "    <tr>\n",
    "        <td>\n",
    "            <div align=\"left\", style=\"font-size:120%\">\n",
    "                <font color=\"#21618C\">\n",
    "                    <b>Compare the Full model and optimized model using model performance metrics\n",
    "                    </b>\n",
    "                </font>\n",
    "            </div>\n",
    "        </td>\n",
    "    </tr>\n",
    "</table>"
   ]
  },
  {
   "cell_type": "code",
   "execution_count": 211,
   "metadata": {},
   "outputs": [
    {
     "name": "stdout",
     "output_type": "stream",
     "text": [
      "Accuracy: 0.7978533094812165\n"
     ]
    }
   ],
   "source": [
    "from sklearn.neighbors import KNeighborsClassifier\n",
    "\n",
    "# Create a KNN classifier\n",
    "knn_elbow = KNeighborsClassifier(n_neighbors=2)  # 2 is taken from elbow method\n",
    "\n",
    "# Train the KNN classifier\n",
    "knn_elbow.fit(X_train, Y_train)\n",
    "\n",
    "# Predict labels for the test set\n",
    "y_pred_knn_elbow = knn_elbow.predict(X_test)\n",
    "\n",
    "# Calculate the accuracy of the classifier\n",
    "accuracy = accuracy_score(Y_test, y_pred_knn_elbow)\n",
    "print(\"Accuracy:\", accuracy)"
   ]
  },
  {
   "cell_type": "markdown",
   "metadata": {},
   "source": [
    "###  INFERENCE:   <font color='brown'> For K - Nearest Neighbor Model, accuracy remains same (i.e., 80% ) for both before and after  model optimization ."
   ]
  },
  {
   "cell_type": "markdown",
   "metadata": {},
   "source": [
    "## 7. Build the Naive Bayes Model\n"
   ]
  },
  {
   "cell_type": "code",
   "execution_count": 227,
   "metadata": {},
   "outputs": [],
   "source": [
    "from sklearn.naive_bayes import GaussianNB\n",
    "\n",
    "# Create a Gaussian Naive Bayes classifier\n",
    "nb_gaussian = GaussianNB()\n",
    "\n",
    "# Train the Naive Bayes classifier\n",
    "nb_gaussian.fit(X_train, Y_train)\n",
    "\n",
    "# Predict labels for the test set\n",
    "y_pred_gaussian = nb_gaussian.predict(X_test)\n",
    "\n",
    "# Calculate the accuracy of the classifier\n",
    "g_accuracy = accuracy_score(Y_test, y_pred_gaussian)"
   ]
  },
  {
   "cell_type": "markdown",
   "metadata": {
    "collapsed": true
   },
   "source": [
    "<table align=\"left\">\n",
    "    <tr>\n",
    "        <td>\n",
    "            <div align=\"left\", style=\"font-size:120%\">\n",
    "                <font color=\"#21618C\">\n",
    "                    <b>Compare the classification results of Gaussian, Bernoulli and Multinomial Naive Bayes</b>\n",
    "                </font>\n",
    "            </div>\n",
    "        </td>\n",
    "    </tr>\n",
    "</table>"
   ]
  },
  {
   "cell_type": "code",
   "execution_count": 229,
   "metadata": {},
   "outputs": [],
   "source": [
    "from sklearn.naive_bayes import BernoulliNB\n",
    "\n",
    "# Create a Bernoulli Naive Bayes classifier\n",
    "nb_bern = BernoulliNB()\n",
    "\n",
    "# Train the Naive Bayes classifier\n",
    "nb_bern.fit(X_train, Y_train)\n",
    "\n",
    "# Predict labels for the test set\n",
    "y_pred_bern = nb_bern.predict(X_test)\n",
    "\n",
    "# Calculate the accuracy of the classifier\n",
    "b_accuracy = accuracy_score(Y_test, y_pred_bern)"
   ]
  },
  {
   "cell_type": "code",
   "execution_count": 230,
   "metadata": {},
   "outputs": [],
   "source": [
    "from sklearn.naive_bayes import MultinomialNB\n",
    "from sklearn.preprocessing import KBinsDiscretizer\n",
    "from sklearn.metrics import accuracy_score\n",
    "\n",
    "# Discretize the numerical features into bins\n",
    "n_bins = 5\n",
    "discretizer = KBinsDiscretizer(n_bins=n_bins, encode='ordinal', strategy='uniform')\n",
    "X_discretized = discretizer.fit_transform(df_indep)\n",
    "\n",
    "# Split the dataset into training and testing sets\n",
    "X_train1, X_test1, Y_train1, Y_test1 = train_test_split(X_discretized, df_dep, test_size=0.2, random_state=42)\n",
    "\n",
    "# Train Multinomial Naive Bayes classifier\n",
    "nb_classifier = MultinomialNB()\n",
    "nb_classifier.fit(X_train1, Y_train1)\n",
    "\n",
    "# Make predictions on the test set\n",
    "y_pred_multi = nb_classifier.predict(X_test1)\n",
    "\n",
    "# Calculate accuracy\n",
    "m_accuracy = accuracy_score(Y_test1, y_pred_multi)"
   ]
  },
  {
   "cell_type": "code",
   "execution_count": 231,
   "metadata": {},
   "outputs": [
    {
     "name": "stdout",
     "output_type": "stream",
     "text": [
      "Accuracy of Gaussian Naive Bayes: 0.7787716159809183\n",
      "Accuracy of Bernoulli Naive Bayes: 0.6970781156827669\n",
      "Accuracy of Multinomial Naive Bayes: 0.8121645796064401\n"
     ]
    }
   ],
   "source": [
    "print(\"Accuracy of Gaussian Naive Bayes:\", g_accuracy)\n",
    "print(\"Accuracy of Bernoulli Naive Bayes:\", b_accuracy)\n",
    "print(\"Accuracy of Multinomial Naive Bayes:\", m_accuracy)"
   ]
  },
  {
   "cell_type": "markdown",
   "metadata": {},
   "source": [
    "###  INFERENCE:   <font color='brown'> Out of all 3 Naive Bayes model, Multinomial Naive Bayes has highest accuracy score 0.81</font>"
   ]
  },
  {
   "cell_type": "markdown",
   "metadata": {},
   "source": [
    "## 8. Compare the results of all above mentioned algorithms "
   ]
  },
  {
   "cell_type": "markdown",
   "metadata": {
    "collapsed": true
   },
   "source": [
    "<table align=\"left\">\n",
    "    <tr>\n",
    "        <td>\n",
    "            <div align=\"left\", style=\"font-size:120%\">\n",
    "                <font color=\"#21618C\">\n",
    "                    <b>Compare all the classification models using model performance evaluation metrics\n",
    "                    </b>\n",
    "                </font>\n",
    "            </div>\n",
    "        </td>\n",
    "    </tr>\n",
    "</table>"
   ]
  },
  {
   "cell_type": "code",
   "execution_count": 236,
   "metadata": {},
   "outputs": [
    {
     "name": "stdout",
     "output_type": "stream",
     "text": [
      "Accuracy scores of all models\n",
      "------------------------------\n",
      "Logistic Regression is 0.84 \n",
      "Decision Tree is 0.89\n",
      "Random Forest model is 0.89\n",
      "XGBoost model is 0.88\n",
      "K Nearest Neighbour model is 0.80\n",
      "Gaussian Naive Bayes model is 0.77\n",
      "Bernoulli Naive Bayes model is 0.70\n",
      "Multinomial Naive Bayes model is 0.81 \n"
     ]
    }
   ],
   "source": [
    "print(\"Accuracy scores of all models\")\n",
    "print(\"------------------------------\")\n",
    "\n",
    "# Logistic regression model\n",
    "print(\"Logistic Regression is 0.84 \")\n",
    "\n",
    "# Decision Tree model\n",
    "print(\"Decision Tree is 0.89\")\n",
    "\n",
    "# Random forest\n",
    "print(\"Random Forest model is 0.89\")\n",
    "\n",
    "# XGBoost\n",
    "print(\"XGBoost model is 0.88\")\n",
    "\n",
    "# K Nearest Neighbour\n",
    "print(\"K Nearest Neighbour model is 0.80\")\n",
    "\n",
    "# Gaussian Naive Bayes\n",
    "print(\"Gaussian Naive Bayes model is 0.77\")\n",
    "\n",
    "# Bernoulli \n",
    "print(\"Bernoulli Naive Bayes model is 0.70\")\n",
    "\n",
    "# Multinomial\n",
    "print(\"Multinomial Naive Bayes model is 0.81 \")"
   ]
  },
  {
   "cell_type": "markdown",
   "metadata": {},
   "source": [
    "###  INFERENCE:   <font color='brown'>Higher Accuracy values indicate better overall correctness of the model's predictions.When we compare all classifier models, Decision Tree and Random Forest models have highest accuracies 0.89, indicating better overall correctness in their predictions compared to the other models. They are followed by XGBoost model 0.88</font>"
   ]
  },
  {
   "cell_type": "markdown",
   "metadata": {
    "collapsed": true
   },
   "source": [
    "<table align=\"left\">\n",
    "    <tr>\n",
    "        <td>\n",
    "            <div align=\"left\", style=\"font-size:120%\">\n",
    "                <font color=\"#21618C\">\n",
    "                    <b>Compare all the classification models using their ROC curves.\n",
    "                    </b>\n",
    "                </font>\n",
    "            </div>\n",
    "        </td>\n",
    "    </tr>\n",
    "</table>"
   ]
  },
  {
   "cell_type": "code",
   "execution_count": 218,
   "metadata": {},
   "outputs": [
    {
     "data": {
      "image/png": "[encoded data removed]",
      "text/plain": [
       "<Figure size 576x360 with 1 Axes>"
      ]
     },
     "metadata": {
      "needs_background": "light"
     },
     "output_type": "display_data"
    }
   ],
   "source": [
    "# the roc_curve() returns the values for false positive rate, true positive rate and threshold\n",
    "# pass the actual target values and predicted probabilities to the function\n",
    "fpr, tpr, thresholds = roc_curve(Y_test, y_pred_logreg)\n",
    "\n",
    "# plot the ROC curve\n",
    "plt.plot(fpr, tpr)\n",
    "\n",
    "# set limits for x and y axes\n",
    "plt.xlim([0.0, 1.0])\n",
    "plt.ylim([0.0, 1.0])\n",
    "\n",
    "# plot the straight line showing worst prediction for the model\n",
    "plt.plot([0, 1], [0, 1],'r--')\n",
    "\n",
    "# add plot and axes labels\n",
    "# set text size using 'fontsize'\n",
    "plt.title('ROC curve for Logistic Regression', fontsize = 15)\n",
    "plt.xlabel('False positive rate (1-Specificity)', fontsize = 15)\n",
    "plt.ylabel('True positive rate (Sensitivity)', fontsize = 15)\n",
    "\n",
    "# add the AUC score to the plot\n",
    "# 'x' and 'y' gives position of the text\n",
    "# 's' is the text \n",
    "# use round() to round-off the AUC score upto 4 digits\n",
    "plt.text(x = 0.02, y = 0.9, s = ('AUC Score:', round(metrics.roc_auc_score(Y_test, y_pred_logreg),4)))\n",
    "                               \n",
    "# plot the grid\n",
    "plt.grid(True)"
   ]
  },
  {
   "cell_type": "code",
   "execution_count": 237,
   "metadata": {},
   "outputs": [
    {
     "data": {
      "image/png": "[encoded data removed]",
      "text/plain": [
       "<Figure size 576x360 with 1 Axes>"
      ]
     },
     "metadata": {
      "needs_background": "light"
     },
     "output_type": "display_data"
    }
   ],
   "source": [
    "# the roc_curve() returns the values for false positive rate, true positive rate and threshold\n",
    "# pass the actual target values and predicted probabilities to the function\n",
    "fpr, tpr, thresholds = roc_curve(Y_test, y_pred_dt_optimal)\n",
    "\n",
    "# plot the ROC curve\n",
    "plt.plot(fpr, tpr)\n",
    "\n",
    "# set limits for x and y axes\n",
    "plt.xlim([0.0, 1.0])\n",
    "plt.ylim([0.0, 1.0])\n",
    "\n",
    "# plot the straight line showing worst prediction for the model\n",
    "plt.plot([0, 1], [0, 1],'r--')\n",
    "\n",
    "# add plot and axes labels\n",
    "# set text size using 'fontsize'\n",
    "plt.title('ROC curve for Decision Tree', fontsize = 15)\n",
    "plt.xlabel('False positive rate (1-Specificity)', fontsize = 15)\n",
    "plt.ylabel('True positive rate (Sensitivity)', fontsize = 15)\n",
    "\n",
    "# add the AUC score to the plot\n",
    "# 'x' and 'y' gives position of the text\n",
    "# 's' is the text \n",
    "# use round() to round-off the AUC score upto 4 digits\n",
    "plt.text(x = 0.02, y = 0.9, s = ('AUC Score:', round(metrics.roc_auc_score(Y_test, y_pred_dt_optimal),4)))\n",
    "                               \n",
    "# plot the grid\n",
    "plt.grid(True)"
   ]
  },
  {
   "cell_type": "code",
   "execution_count": 238,
   "metadata": {},
   "outputs": [
    {
     "data": {
      "image/png": "[encoded data removed]",
      "text/plain": [
       "<Figure size 576x360 with 1 Axes>"
      ]
     },
     "metadata": {
      "needs_background": "light"
     },
     "output_type": "display_data"
    }
   ],
   "source": [
    "# the roc_curve() returns the values for false positive rate, true positive rate and threshold\n",
    "# pass the actual target values and predicted probabilities to the function\n",
    "fpr, tpr, thresholds = roc_curve(Y_test, y_pred_rf_after)\n",
    "\n",
    "# plot the ROC curve\n",
    "plt.plot(fpr, tpr)\n",
    "\n",
    "# set limits for x and y axes\n",
    "plt.xlim([0.0, 1.0])\n",
    "plt.ylim([0.0, 1.0])\n",
    "\n",
    "# plot the straight line showing worst prediction for the model\n",
    "plt.plot([0, 1], [0, 1],'r--')\n",
    "\n",
    "# add plot and axes labels\n",
    "# set text size using 'fontsize'\n",
    "plt.title('ROC curve for Random Forest', fontsize = 15)\n",
    "plt.xlabel('False positive rate (1-Specificity)', fontsize = 15)\n",
    "plt.ylabel('True positive rate (Sensitivity)', fontsize = 15)\n",
    "\n",
    "# add the AUC score to the plot\n",
    "# 'x' and 'y' gives position of the text\n",
    "# 's' is the text \n",
    "# use round() to round-off the AUC score upto 4 digits\n",
    "plt.text(x = 0.02, y = 0.9, s = ('AUC Score:', round(metrics.roc_auc_score(Y_test, y_pred_rf_after),4)))\n",
    "                               \n",
    "# plot the grid\n",
    "plt.grid(True)"
   ]
  },
  {
   "cell_type": "code",
   "execution_count": 220,
   "metadata": {},
   "outputs": [
    {
     "data": {
      "image/png": "[encoded data removed]",
      "text/plain": [
       "<Figure size 576x360 with 1 Axes>"
      ]
     },
     "metadata": {
      "needs_background": "light"
     },
     "output_type": "display_data"
    }
   ],
   "source": [
    "# the roc_curve() returns the values for false positive rate, true positive rate and threshold\n",
    "# pass the actual target values and predicted probabilities to the function\n",
    "fpr, tpr, thresholds = roc_curve(Y_test, y_pred_xgb_optimised)\n",
    "\n",
    "# plot the ROC curve\n",
    "plt.plot(fpr, tpr)\n",
    "\n",
    "# set limits for x and y axes\n",
    "plt.xlim([0.0, 1.0])\n",
    "plt.ylim([0.0, 1.0])\n",
    "\n",
    "# plot the straight line showing worst prediction for the model\n",
    "plt.plot([0, 1], [0, 1],'r--')\n",
    "\n",
    "# add plot and axes labels\n",
    "# set text size using 'fontsize'\n",
    "plt.title('ROC curve for XGBoost', fontsize = 15)\n",
    "plt.xlabel('False positive rate (1-Specificity)', fontsize = 15)\n",
    "plt.ylabel('True positive rate (Sensitivity)', fontsize = 15)\n",
    "\n",
    "# add the AUC score to the plot\n",
    "# 'x' and 'y' gives position of the text\n",
    "# 's' is the text \n",
    "# use round() to round-off the AUC score upto 4 digits\n",
    "plt.text(x = 0.02, y = 0.9, s = ('AUC Score:', round(metrics.roc_auc_score(Y_test, y_pred_xgb_optimised),4)))\n",
    "                               \n",
    "# plot the grid\n",
    "plt.grid(True)"
   ]
  },
  {
   "cell_type": "code",
   "execution_count": 221,
   "metadata": {},
   "outputs": [
    {
     "data": {
      "image/png": "[encoded data removed]",
      "text/plain": [
       "<Figure size 576x360 with 1 Axes>"
      ]
     },
     "metadata": {
      "needs_background": "light"
     },
     "output_type": "display_data"
    }
   ],
   "source": [
    "# the roc_curve() returns the values for false positive rate, true positive rate and threshold\n",
    "# pass the actual target values and predicted probabilities to the function\n",
    "fpr, tpr, thresholds = roc_curve(Y_test, y_pred_knn_elbow)\n",
    "\n",
    "# plot the ROC curve\n",
    "plt.plot(fpr, tpr)\n",
    "\n",
    "# set limits for x and y axes\n",
    "plt.xlim([0.0, 1.0])\n",
    "plt.ylim([0.0, 1.0])\n",
    "\n",
    "# plot the straight line showing worst prediction for the model\n",
    "plt.plot([0, 1], [0, 1],'r--')\n",
    "\n",
    "# add plot and axes labels\n",
    "# set text size using 'fontsize'\n",
    "plt.title('ROC curve for KNN', fontsize = 15)\n",
    "plt.xlabel('False positive rate (1-Specificity)', fontsize = 15)\n",
    "plt.ylabel('True positive rate (Sensitivity)', fontsize = 15)\n",
    "\n",
    "# add the AUC score to the plot\n",
    "# 'x' and 'y' gives position of the text\n",
    "# 's' is the text \n",
    "# use round() to round-off the AUC score upto 4 digits\n",
    "plt.text(x = 0.02, y = 0.9, s = ('AUC Score:', round(metrics.roc_auc_score(Y_test, y_pred_knn_elbow),4)))\n",
    "                               \n",
    "# plot the grid\n",
    "plt.grid(True)"
   ]
  },
  {
   "cell_type": "code",
   "execution_count": 222,
   "metadata": {},
   "outputs": [
    {
     "data": {
      "image/png": "[encoded data removed]",
      "text/plain": [
       "<Figure size 576x360 with 1 Axes>"
      ]
     },
     "metadata": {
      "needs_background": "light"
     },
     "output_type": "display_data"
    }
   ],
   "source": [
    "# the roc_curve() returns the values for false positive rate, true positive rate and threshold\n",
    "# pass the actual target values and predicted probabilities to the function\n",
    "fpr, tpr, thresholds = roc_curve(Y_test, y_pred_gaussian)\n",
    "\n",
    "# plot the ROC curve\n",
    "plt.plot(fpr, tpr)\n",
    "\n",
    "# set limits for x and y axes\n",
    "plt.xlim([0.0, 1.0])\n",
    "plt.ylim([0.0, 1.0])\n",
    "\n",
    "# plot the straight line showing worst prediction for the model\n",
    "plt.plot([0, 1], [0, 1],'r--')\n",
    "\n",
    "# add plot and axes labels\n",
    "# set text size using 'fontsize'\n",
    "plt.title('ROC curve for Naive Bayes Gaussian', fontsize = 15)\n",
    "plt.xlabel('False positive rate (1-Specificity)', fontsize = 15)\n",
    "plt.ylabel('True positive rate (Sensitivity)', fontsize = 15)\n",
    "\n",
    "# add the AUC score to the plot\n",
    "# 'x' and 'y' gives position of the text\n",
    "# 's' is the text \n",
    "# use round() to round-off the AUC score upto 4 digits\n",
    "plt.text(x = 0.02, y = 0.9, s = ('AUC Score:', round(metrics.roc_auc_score(Y_test, y_pred_gaussian),4)))\n",
    "                               \n",
    "# plot the grid\n",
    "plt.grid(True)"
   ]
  },
  {
   "cell_type": "code",
   "execution_count": 223,
   "metadata": {},
   "outputs": [
    {
     "data": {
      "image/png": "[encoded data removed]",
      "text/plain": [
       "<Figure size 576x360 with 1 Axes>"
      ]
     },
     "metadata": {
      "needs_background": "light"
     },
     "output_type": "display_data"
    }
   ],
   "source": [
    "# the roc_curve() returns the values for false positive rate, true positive rate and threshold\n",
    "# pass the actual target values and predicted probabilities to the function\n",
    "fpr, tpr, thresholds = roc_curve(Y_test, y_pred_bern)\n",
    "\n",
    "# plot the ROC curve\n",
    "plt.plot(fpr, tpr)\n",
    "\n",
    "# set limits for x and y axes\n",
    "plt.xlim([0.0, 1.0])\n",
    "plt.ylim([0.0, 1.0])\n",
    "\n",
    "# plot the straight line showing worst prediction for the model\n",
    "plt.plot([0, 1], [0, 1],'r--')\n",
    "\n",
    "# add plot and axes labels\n",
    "# set text size using 'fontsize'\n",
    "plt.title('ROC curve for Naive Bayes - Bernoulli', fontsize = 15)\n",
    "plt.xlabel('False positive rate (1-Specificity)', fontsize = 15)\n",
    "plt.ylabel('True positive rate (Sensitivity)', fontsize = 15)\n",
    "\n",
    "# add the AUC score to the plot\n",
    "# 'x' and 'y' gives position of the text\n",
    "# 's' is the text \n",
    "# use round() to round-off the AUC score upto 4 digits\n",
    "plt.text(x = 0.02, y = 0.9, s = ('AUC Score:', round(metrics.roc_auc_score(Y_test, y_pred_bern),4)))\n",
    "                               \n",
    "# plot the grid\n",
    "plt.grid(True)"
   ]
  },
  {
   "cell_type": "code",
   "execution_count": 224,
   "metadata": {},
   "outputs": [
    {
     "data": {
      "image/png": "[encoded data removed]",
      "text/plain": [
       "<Figure size 576x360 with 1 Axes>"
      ]
     },
     "metadata": {
      "needs_background": "light"
     },
     "output_type": "display_data"
    }
   ],
   "source": [
    "# the roc_curve() returns the values for false positive rate, true positive rate and threshold\n",
    "# pass the actual target values and predicted probabilities to the function\n",
    "fpr, tpr, thresholds = roc_curve(Y_test1, y_pred_multi)\n",
    "\n",
    "# plot the ROC curve\n",
    "plt.plot(fpr, tpr)\n",
    "\n",
    "# set limits for x and y axes\n",
    "plt.xlim([0.0, 1.0])\n",
    "plt.ylim([0.0, 1.0])\n",
    "\n",
    "# plot the straight line showing worst prediction for the model\n",
    "plt.plot([0, 1], [0, 1],'r--')\n",
    "\n",
    "# add plot and axes labels\n",
    "# set text size using 'fontsize'\n",
    "plt.title('ROC curve for Naive Bayes - Multinomial', fontsize = 15)\n",
    "plt.xlabel('False positive rate (1-Specificity)', fontsize = 15)\n",
    "plt.ylabel('True positive rate (Sensitivity)', fontsize = 15)\n",
    "\n",
    "# add the AUC score to the plot\n",
    "# 'x' and 'y' gives position of the text\n",
    "# 's' is the text \n",
    "# use round() to round-off the AUC score upto 4 digits\n",
    "plt.text(x = 0.02, y = 0.9, s = ('AUC Score:', round(metrics.roc_auc_score(Y_test1, y_pred_multi),4)))\n",
    "                               \n",
    "# plot the grid\n",
    "plt.grid(True)"
   ]
  },
  {
   "cell_type": "code",
   "execution_count": 240,
   "metadata": {},
   "outputs": [
    {
     "name": "stdout",
     "output_type": "stream",
     "text": [
      "AUC scores of all models\n",
      "------------------------------\n",
      "Logistic Regression is 0.4944 \n",
      "Decision Tree is 0.8871\n",
      "Random Forest model is 0.8924\n",
      "XGBoost model is 0.9452\n",
      "K Nearest Neighbour model is 0.7848\n",
      "Gaussian Naive Bayes model is 0.7886\n",
      "Bernoulli Naive Bayes model is 0.7099\n",
      "Multinomial Naive Bayes model is 0.8133 \n"
     ]
    }
   ],
   "source": [
    "print(\"AUC scores of all models\")\n",
    "print(\"------------------------------\")\n",
    "\n",
    "# Logistic regression model\n",
    "print(\"Logistic Regression is 0.4944 \")\n",
    "\n",
    "# Decision Tree model\n",
    "print(\"Decision Tree is 0.8871\")\n",
    "\n",
    "# Random forest\n",
    "print(\"Random Forest model is 0.8924\")\n",
    "\n",
    "# XGBoost\n",
    "print(\"XGBoost model is 0.9452\")\n",
    "\n",
    "# K Nearest Neighbour\n",
    "print(\"K Nearest Neighbour model is 0.7848\")\n",
    "\n",
    "# Gaussian Naive Bayes\n",
    "print(\"Gaussian Naive Bayes model is 0.7886\")\n",
    "\n",
    "# Bernoulli \n",
    "print(\"Bernoulli Naive Bayes model is 0.7099\")\n",
    "\n",
    "# Multinomial\n",
    "print(\"Multinomial Naive Bayes model is 0.8133 \")"
   ]
  },
  {
   "cell_type": "markdown",
   "metadata": {},
   "source": [
    "###  INFERENCE:   <font color='brown'> Higher AUC scores indicate better discrimination ability of the model. When we compare AUC score of classifier models, XGBoost has the highest AUC score 0.9452, indicating better performance in terms of its ability to discriminate between positive and negative instances compared to the other models. This is followed by Random Forest model 0.8924 and  Decision Tree with value 0.88</font>"
   ]
  },
  {
   "cell_type": "markdown",
   "metadata": {
    "collapsed": true
   },
   "source": [
    "<table align=\"left\">\n",
    "    <tr>\n",
    "        <td>\n",
    "            <div align=\"left\", style=\"font-size:120%\">\n",
    "                <font color=\"#21618C\">\n",
    "                    <b>comput cross entropy and Compare all the classification models.\n",
    "                    </b>\n",
    "                </font>\n",
    "            </div>\n",
    "        </td>\n",
    "    </tr>\n",
    "</table>"
   ]
  },
  {
   "cell_type": "code",
   "execution_count": 242,
   "metadata": {},
   "outputs": [
    {
     "name": "stdout",
     "output_type": "stream",
     "text": [
      "Cross-entropy loss for Logistic Regression: 0.31709657097617167\n",
      "Cross-entropy loss for Decision Tree: 1.8261407423864773\n",
      "Cross-entropy loss for Random Forest model: 3.604225246815411\n",
      "Cross-entropy loss for XGBoost: 0.3128691075539653\n",
      "Cross-entropy loss for KNN: 3.2582196135211414\n",
      "Cross-entropy loss for Naive Bayes Gaussian: 3.5657801764493735\n",
      "Cross-entropy loss for Naive Bayes Bernoulli: 4.882523836485898\n",
      "Cross-entropy loss for Naive Bayes Multinomial: 3.0275491913249537\n"
     ]
    }
   ],
   "source": [
    "# Define the sigmoid function\n",
    "def sigmoid(z):\n",
    "    return 1 / (1 + np.exp(-z))\n",
    "\n",
    "# Calculate cross-entropy loss\n",
    "def cross_entropy_loss(Y_test, y_pred_prob):\n",
    "    epsilon = 1e-7  # small value to avoid division by zero\n",
    "    loss = -(Y_test * np.log(y_pred_prob + epsilon) + (1 - Y_test) * np.log(1 - y_pred_prob + epsilon))\n",
    "    return np.mean(loss)\n",
    "\n",
    "# Calculate the cross-entropy loss\n",
    "loss = cross_entropy_loss(Y_test, y_pred_prob)\n",
    "print(\"Cross-entropy loss for Logistic Regression:\", loss)\n",
    "\n",
    "###################################################################\n",
    "# Define the sigmoid function\n",
    "def sigmoid(z):\n",
    "    return 1 / (1 + np.exp(-z))\n",
    "\n",
    "# Calculate cross-entropy loss\n",
    "def cross_entropy_loss(Y_test, y_pred_dt_optimal):\n",
    "    epsilon = 1e-7  # small value to avoid division by zero\n",
    "    loss = -(Y_test * np.log(y_pred_dt_optimal + epsilon) + (1 - Y_test) * np.log(1 - y_pred_dt_optimal + epsilon))\n",
    "    return np.mean(loss)\n",
    "\n",
    "# Calculate the cross-entropy loss\n",
    "loss = cross_entropy_loss(Y_test, y_pred_dt_optimal)\n",
    "print(\"Cross-entropy loss for Decision Tree:\", loss)\n",
    "\n",
    "###################################################################\n",
    "# Define the sigmoid function\n",
    "def sigmoid(z):\n",
    "    return 1 / (1 + np.exp(-z))\n",
    "\n",
    "# Calculate cross-entropy loss\n",
    "def cross_entropy_loss(Y_test, y_pred_rf_after):\n",
    "    epsilon = 1e-7  # small value to avoid division by zero\n",
    "    loss = -(Y_test * np.log(y_pred_knn_elbow + epsilon) + (1 - Y_test) * np.log(1 - y_pred_rf_after + epsilon))\n",
    "    return np.mean(loss)\n",
    "\n",
    "# Calculate the cross-entropy loss\n",
    "loss = cross_entropy_loss(Y_test, y_pred_rf_after)\n",
    "print(\"Cross-entropy loss for Random Forest model:\", loss)\n",
    "\n",
    "###################################################################\n",
    "# Define the sigmoid function\n",
    "def sigmoid(z):\n",
    "    return 1 / (1 + np.exp(-z))\n",
    "\n",
    "# Calculate cross-entropy loss\n",
    "def cross_entropy_loss(Y_test, y_pred_xgb_optimisedl):\n",
    "    epsilon = 1e-7  # small value to avoid division by zero\n",
    "    loss = -(Y_test * np.log(y_pred_xgb_optimised + epsilon) + (1 - Y_test) * np.log(1 - y_pred_xgb_optimised + epsilon))\n",
    "    return np.mean(loss)\n",
    "\n",
    "# Calculate the cross-entropy loss\n",
    "loss = cross_entropy_loss(Y_test, y_pred_xgb_optimised)\n",
    "print(\"Cross-entropy loss for XGBoost:\", loss)\n",
    "\n",
    "###################################################################\n",
    "# Define the sigmoid function\n",
    "def sigmoid(z):\n",
    "    return 1 / (1 + np.exp(-z))\n",
    "\n",
    "# Calculate cross-entropy loss\n",
    "def cross_entropy_loss(Y_test, y_pred_knn_elbow):\n",
    "    epsilon = 1e-7  # small value to avoid division by zero\n",
    "    loss = -(Y_test * np.log(y_pred_knn_elbow + epsilon) + (1 - Y_test) * np.log(1 - y_pred_knn_elbow + epsilon))\n",
    "    return np.mean(loss)\n",
    "\n",
    "# Calculate the cross-entropy loss\n",
    "loss = cross_entropy_loss(Y_test, y_pred_knn_elbow)\n",
    "print(\"Cross-entropy loss for KNN:\", loss)\n",
    "\n",
    "###################################################################\n",
    "# Define the sigmoid function\n",
    "def sigmoid(z):\n",
    "    return 1 / (1 + np.exp(-z))\n",
    "\n",
    "# Calculate cross-entropy loss\n",
    "def cross_entropy_loss(Y_test, y_pred_gaussian):\n",
    "    epsilon = 1e-7  # small value to avoid division by zero\n",
    "    loss = -(Y_test * np.log(y_pred_gaussian + epsilon) + (1 - Y_test) * np.log(1 - y_pred_gaussian + epsilon))\n",
    "    return np.mean(loss)\n",
    "\n",
    "# Calculate the cross-entropy loss\n",
    "loss = cross_entropy_loss(Y_test, y_pred_gaussian)\n",
    "print(\"Cross-entropy loss for Naive Bayes Gaussian:\", loss)\n",
    "\n",
    "###################################################################\n",
    "# Define the sigmoid function\n",
    "def sigmoid(z):\n",
    "    return 1 / (1 + np.exp(-z))\n",
    "\n",
    "# Calculate cross-entropy loss\n",
    "def cross_entropy_loss(Y_test, y_pred_bern):\n",
    "    epsilon = 1e-7  # small value to avoid division by zero\n",
    "    loss = -(Y_test * np.log(y_pred_bern + epsilon) + (1 - Y_test) * np.log(1 - y_pred_bern + epsilon))\n",
    "    return np.mean(loss)\n",
    "\n",
    "# Calculate the cross-entropy loss\n",
    "loss = cross_entropy_loss(Y_test, y_pred_bern)\n",
    "print(\"Cross-entropy loss for Naive Bayes Bernoulli:\", loss)\n",
    "\n",
    "\n",
    "###################################################################\n",
    "# Define the sigmoid function\n",
    "def sigmoid(z):\n",
    "    return 1 / (1 + np.exp(-z))\n",
    "\n",
    "# Calculate cross-entropy loss\n",
    "def cross_entropy_loss(Y_test1, y_pred_multi):\n",
    "    epsilon = 1e-7  # small value to avoid division by zero\n",
    "    loss = -(Y_test1 * np.log(y_pred_multi + epsilon) + (1 - Y_test1) * np.log(1 - y_pred_multi + epsilon))\n",
    "    return np.mean(loss)\n",
    "\n",
    "# Calculate the cross-entropy loss\n",
    "loss = cross_entropy_loss(Y_test1, y_pred_multi)\n",
    "print(\"Cross-entropy loss for Naive Bayes Multinomial:\", loss)"
   ]
  },
  {
   "cell_type": "markdown",
   "metadata": {},
   "source": [
    "###  INFERENCE:   <font color='brown'> Generally, lower values of cross-entropy loss indicate better performance and alignment between predicted probabilities and true labels. The model with the lowest cross-entropy loss is XGBoost model, which has a value of 0.3128691075539653. It means XGBoost model has the best alignment with the true labels compared to the other models.</font>"
   ]
  },
  {
   "cell_type": "markdown",
   "metadata": {},
   "source": [
    "## 9. Intrepret your solution based on the results"
   ]
  },
  {
   "cell_type": "markdown",
   "metadata": {},
   "source": [
    "###  INFERENCE:   <font color='brown'> Lets review few major evaluation metrics,\n",
    "    \n",
    "### <font color='blue'> Cross-entropy loss: The model with the lowest cross-entropy loss is XGBoost model, which has a value of 0.3128691075539653.\n",
    "\n",
    "### <font color='blue'> AUC score: The model with the highest AUC score is also XGBoost model, which has a score of 0.9452.\n",
    "\n",
    "### <font color='blue'> Accuracy score: The models with the highest accuracy scores are Decision Tree and Random Forest, both having a score of 0.89 followed by XGBoost which has a value of 0.88( which is almost equal to the highest accuracy score).\n",
    "\n",
    "###  <font color='brown'> Considering these values, XGBoost emerges as the best classifier model. It achieves the lowest cross-entropy loss and highest AUC score among the listed models, indicating good alignment with true labels and strong discriminatory power and also has higher accuracy score almost equal to highest value.\n",
    "\n",
    "### <font color='green'>  Therefore XGBoost (eXtreme Gradient Boosting) works as the best classifier model for this dataset."
   ]
  }
 ],
 "metadata": {
  "kernelspec": {
   "display_name": "Python 3 (ipykernel)",
   "language": "python",
   "name": "python3"
  },
  "language_info": {
   "codemirror_mode": {
    "name": "ipython",
    "version": 3
   },
   "file_extension": ".py",
   "mimetype": "text/x-python",
   "name": "python",
   "nbconvert_exporter": "python",
   "pygments_lexer": "ipython3",
   "version": "3.11.4"
  }
 },
 "nbformat": 4,
 "nbformat_minor": 2
}
