{
 "cells": [
  {
   "cell_type": "markdown",
   "metadata": {},
   "source": [
    "<table align=\"left\" width=100%>\n",
    "    <tr>\n",
    "        <td width=\"20%\">\n",
    "            <img src=\"faculty.png\">\n",
    "        </td>\n",
    "        <td>\n",
    "            <div align=\"center\">\n",
    "                <font color=\"#21618C\" size=8px>\n",
    "                  <b> Assignment Questions </b>\n",
    "                </font>\n",
    "            </div>\n",
    "        </td>\n",
    "    </tr>\n",
    "</table>"
   ]
  },
  {
   "cell_type": "markdown",
   "metadata": {},
   "source": [
    "## <font color='green'> Group Number:  CT1 Project Group-8 </font> \n",
    "\n",
    "### Team Members\n",
    "\n",
    "### <font color='blue'> 1. Kaushik Sharan Rajamani </font> \n",
    "\n",
    "### <font color='blue'> 2. Mohamad Faizal </font> \n",
    "\n",
    "###  <font color='blue'> 3. Priyadarsshini S </font> \n"
   ]
  },
  {
   "cell_type": "markdown",
   "metadata": {},
   "source": [
    "## Problem Statement\n",
    "\n"
   ]
  },
  {
   "cell_type": "markdown",
   "metadata": {},
   "source": [
    "### About the data set (Rainfall Prediction data)\n",
    "\n",
    "The dataset contains information about rainfall predictions. The aim is to find whether rainfall will occur or not based on the several parameters of the atmospheric conditions and profile. <br> Attribute information: \n",
    "\n",
    "**Date:** Dates on which rainfall occurred or not \n",
    "\n",
    "**Location:** Location where we want to classify rainfall occurrence.\n",
    "\n",
    "**MinTemp:** Minimum temperature in that particular date\n",
    "\n",
    "**MaxTemp:** Maximum temperature in that particular date\n",
    "\n",
    "**Rainfall:** Rainfall occurrence level in cm\n",
    "\n",
    "**Evaporation:** Evaporation value\n",
    "\n",
    "**Sunshine:** Sunshine level in m\n",
    "\n",
    "**WindGustDir:** Direction of wind\n",
    "\n",
    "**WindGustSpeed:**  Wind Speed\n",
    "\n",
    "**WindDir9am:** Wind direction at 9am\n",
    "\n",
    "**WindDir3pm:** Wind direction at 3pm\n",
    "\n",
    "**WindSpeed9am:** Wind speed at 9am\n",
    "\n",
    "**WindSpeed3pm:** Wind speed at 3pm\n",
    "\n",
    "**Humidity9am:** Humidity at 9am\n",
    "\n",
    "**Humidity3pm:** Humidity at 3pm\n",
    "\n",
    "**Pressure9am:** Pressure at 9am\n",
    "\n",
    "**Pressure3pm:** Pressure at 9am\n",
    "\n",
    "**Cloud9am:** Cloud Cover at 9am\n",
    "\n",
    "**Cloud3pm:** Cloud Cover at 3pm\n",
    "\n",
    "**Temp9am:** Temperature at 9am\n",
    "\n",
    "**Temp3pm:** Temperature at 3pm\n",
    "\n",
    "**RainToday:** Rain fall happened or not today\n",
    "\n",
    "**RainTomorrow:** Does tomorrow rainfall will happen or not: Yes(1) or No(0)"
   ]
  },
  {
   "cell_type": "markdown",
   "metadata": {},
   "source": [
    "## Table of Content\n",
    "\n",
    "1. **[Import Libraries](#lib)**\n",
    "2. **[Data Preparation](#prep)**\n",
    "    - 2.1 - **[Read the Data](#read)**\n",
    "    - 2.2 - **[Check the Data Type](#dtype)**\n",
    "    - 2.3 - **[Remove Insignificant Variables](#drop)**\n",
    "    - 2.4 - **[Distribution of Variables](#dist)**\n",
    "    - 2.5 - **[Missing Value Treatment](#null)**\n",
    "    - 2.6 - **[Dummy Encode the Categorical Variables](#dummy)**\n",
    "    - 2.7 - **[Scale the Data](#scale)**\n",
    "    - 2.8 - **[Train-Test Split](#split)**\n",
    "3. **[Logistic Regression (Full Model)](#logit)**\n",
    "    - 3.1 - **[Identify the Best Cut-off Value](#cut_off)**\n",
    "        - 3.1.1 - **[Youden's Index](#youden)**"
   ]
  },
  {
   "cell_type": "markdown",
   "metadata": {},
   "source": [
    "<a id=\"lib\"></a>\n",
    "# 1. Import Libraries"
   ]
  },
  {
   "cell_type": "markdown",
   "metadata": {},
   "source": [
    "**Let us import the required libraries.**"
   ]
  },
  {
   "cell_type": "code",
   "execution_count": 97,
   "metadata": {},
   "outputs": [],
   "source": [
    "import pandas as pd\n",
    "import numpy as np\n",
    "import seaborn as sns\n",
    "import matplotlib.pyplot as plt\n",
    "from sklearn.model_selection import train_test_split\n",
    "from sklearn.linear_model import LogisticRegression\n",
    "from sklearn import metrics\n",
    "pd.options.display.max_columns = None\n",
    "pd.options.display.max_rows = None\n",
    "import warnings\n",
    "warnings.filterwarnings('ignore')\n",
    "from sklearn.impute import KNNImputer"
   ]
  },
  {
   "cell_type": "markdown",
   "metadata": {},
   "source": [
    "<a id=\"prep\"></a>\n",
    "# 2. Data Preparation"
   ]
  },
  {
   "cell_type": "markdown",
   "metadata": {},
   "source": [
    "<a id=\"read\"></a>\n",
    "## 2.1 Read the Data"
   ]
  },
  {
   "cell_type": "markdown",
   "metadata": {},
   "source": [
    "#### Read the dataset and print the first five observations."
   ]
  },
  {
   "cell_type": "code",
   "execution_count": 98,
   "metadata": {},
   "outputs": [
    {
     "data": {
      "text/html": [
       "<div>\n",
       "<style scoped>\n",
       "    .dataframe tbody tr th:only-of-type {\n",
       "        vertical-align: middle;\n",
       "    }\n",
       "\n",
       "    .dataframe tbody tr th {\n",
       "        vertical-align: top;\n",
       "    }\n",
       "\n",
       "    .dataframe thead th {\n",
       "        text-align: right;\n",
       "    }\n",
       "</style>\n",
       "<table border=\"1\" class=\"dataframe\">\n",
       "  <thead>\n",
       "    <tr style=\"text-align: right;\">\n",
       "      <th></th>\n",
       "      <th>Date</th>\n",
       "      <th>Location</th>\n",
       "      <th>MinTemp</th>\n",
       "      <th>MaxTemp</th>\n",
       "      <th>Rainfall</th>\n",
       "      <th>Evaporation</th>\n",
       "      <th>Sunshine</th>\n",
       "      <th>WindGustDir</th>\n",
       "      <th>WindGustSpeed</th>\n",
       "      <th>WindDir9am</th>\n",
       "      <th>WindDir3pm</th>\n",
       "      <th>WindSpeed9am</th>\n",
       "      <th>WindSpeed3pm</th>\n",
       "      <th>Humidity9am</th>\n",
       "      <th>Humidity3pm</th>\n",
       "      <th>Pressure9am</th>\n",
       "      <th>Pressure3pm</th>\n",
       "      <th>Cloud9am</th>\n",
       "      <th>Cloud3pm</th>\n",
       "      <th>Temp9am</th>\n",
       "      <th>Temp3pm</th>\n",
       "      <th>RainToday</th>\n",
       "      <th>RainTomorrow</th>\n",
       "    </tr>\n",
       "  </thead>\n",
       "  <tbody>\n",
       "    <tr>\n",
       "      <th>0</th>\n",
       "      <td>07-03-2012</td>\n",
       "      <td>Wollongong</td>\n",
       "      <td>16.0</td>\n",
       "      <td>20.4</td>\n",
       "      <td>8.2</td>\n",
       "      <td>NaN</td>\n",
       "      <td>NaN</td>\n",
       "      <td>S</td>\n",
       "      <td>63.0</td>\n",
       "      <td>SSW</td>\n",
       "      <td>SW</td>\n",
       "      <td>39.0</td>\n",
       "      <td>20.0</td>\n",
       "      <td>69.0</td>\n",
       "      <td>92.0</td>\n",
       "      <td>1018.5</td>\n",
       "      <td>1017.6</td>\n",
       "      <td>1.0</td>\n",
       "      <td>8.0</td>\n",
       "      <td>17.4</td>\n",
       "      <td>15.6</td>\n",
       "      <td>Yes</td>\n",
       "      <td>Yes</td>\n",
       "    </tr>\n",
       "    <tr>\n",
       "      <th>1</th>\n",
       "      <td>06-01-2011</td>\n",
       "      <td>PerthAirport</td>\n",
       "      <td>18.5</td>\n",
       "      <td>25.9</td>\n",
       "      <td>16.0</td>\n",
       "      <td>5.4</td>\n",
       "      <td>11.8</td>\n",
       "      <td>WSW</td>\n",
       "      <td>39.0</td>\n",
       "      <td>SSW</td>\n",
       "      <td>WSW</td>\n",
       "      <td>20.0</td>\n",
       "      <td>22.0</td>\n",
       "      <td>60.0</td>\n",
       "      <td>36.0</td>\n",
       "      <td>1004.6</td>\n",
       "      <td>1003.6</td>\n",
       "      <td>7.0</td>\n",
       "      <td>1.0</td>\n",
       "      <td>22.2</td>\n",
       "      <td>25.1</td>\n",
       "      <td>Yes</td>\n",
       "      <td>No</td>\n",
       "    </tr>\n",
       "    <tr>\n",
       "      <th>2</th>\n",
       "      <td>29-06-2014</td>\n",
       "      <td>Penrith</td>\n",
       "      <td>8.7</td>\n",
       "      <td>16.5</td>\n",
       "      <td>0.0</td>\n",
       "      <td>NaN</td>\n",
       "      <td>NaN</td>\n",
       "      <td>WNW</td>\n",
       "      <td>56.0</td>\n",
       "      <td>WNW</td>\n",
       "      <td>WNW</td>\n",
       "      <td>19.0</td>\n",
       "      <td>22.0</td>\n",
       "      <td>41.0</td>\n",
       "      <td>41.0</td>\n",
       "      <td>NaN</td>\n",
       "      <td>NaN</td>\n",
       "      <td>NaN</td>\n",
       "      <td>NaN</td>\n",
       "      <td>13.1</td>\n",
       "      <td>15.1</td>\n",
       "      <td>No</td>\n",
       "      <td>No</td>\n",
       "    </tr>\n",
       "    <tr>\n",
       "      <th>3</th>\n",
       "      <td>16-12-2008</td>\n",
       "      <td>Cairns</td>\n",
       "      <td>25.5</td>\n",
       "      <td>33.9</td>\n",
       "      <td>0.2</td>\n",
       "      <td>5.0</td>\n",
       "      <td>7.0</td>\n",
       "      <td>SSE</td>\n",
       "      <td>41.0</td>\n",
       "      <td>SSE</td>\n",
       "      <td>SE</td>\n",
       "      <td>11.0</td>\n",
       "      <td>19.0</td>\n",
       "      <td>64.0</td>\n",
       "      <td>59.0</td>\n",
       "      <td>1009.8</td>\n",
       "      <td>1007.4</td>\n",
       "      <td>6.0</td>\n",
       "      <td>5.0</td>\n",
       "      <td>30.8</td>\n",
       "      <td>31.5</td>\n",
       "      <td>No</td>\n",
       "      <td>No</td>\n",
       "    </tr>\n",
       "    <tr>\n",
       "      <th>4</th>\n",
       "      <td>21-04-2015</td>\n",
       "      <td>SalmonGums</td>\n",
       "      <td>3.8</td>\n",
       "      <td>23.0</td>\n",
       "      <td>0.0</td>\n",
       "      <td>NaN</td>\n",
       "      <td>NaN</td>\n",
       "      <td>N</td>\n",
       "      <td>28.0</td>\n",
       "      <td>NE</td>\n",
       "      <td>W</td>\n",
       "      <td>13.0</td>\n",
       "      <td>7.0</td>\n",
       "      <td>56.0</td>\n",
       "      <td>29.0</td>\n",
       "      <td>NaN</td>\n",
       "      <td>NaN</td>\n",
       "      <td>NaN</td>\n",
       "      <td>NaN</td>\n",
       "      <td>14.0</td>\n",
       "      <td>21.1</td>\n",
       "      <td>No</td>\n",
       "      <td>No</td>\n",
       "    </tr>\n",
       "  </tbody>\n",
       "</table>\n",
       "</div>"
      ],
      "text/plain": [
       "         Date      Location  MinTemp  MaxTemp  Rainfall  Evaporation  \\\n",
       "0  07-03-2012    Wollongong     16.0     20.4       8.2          NaN   \n",
       "1  06-01-2011  PerthAirport     18.5     25.9      16.0          5.4   \n",
       "2  29-06-2014       Penrith      8.7     16.5       0.0          NaN   \n",
       "3  16-12-2008        Cairns     25.5     33.9       0.2          5.0   \n",
       "4  21-04-2015    SalmonGums      3.8     23.0       0.0          NaN   \n",
       "\n",
       "   Sunshine WindGustDir  WindGustSpeed WindDir9am WindDir3pm  WindSpeed9am  \\\n",
       "0       NaN           S           63.0        SSW         SW          39.0   \n",
       "1      11.8         WSW           39.0        SSW        WSW          20.0   \n",
       "2       NaN         WNW           56.0        WNW        WNW          19.0   \n",
       "3       7.0         SSE           41.0        SSE         SE          11.0   \n",
       "4       NaN           N           28.0         NE          W          13.0   \n",
       "\n",
       "   WindSpeed3pm  Humidity9am  Humidity3pm  Pressure9am  Pressure3pm  Cloud9am  \\\n",
       "0          20.0         69.0         92.0       1018.5       1017.6       1.0   \n",
       "1          22.0         60.0         36.0       1004.6       1003.6       7.0   \n",
       "2          22.0         41.0         41.0          NaN          NaN       NaN   \n",
       "3          19.0         64.0         59.0       1009.8       1007.4       6.0   \n",
       "4           7.0         56.0         29.0          NaN          NaN       NaN   \n",
       "\n",
       "   Cloud3pm  Temp9am  Temp3pm RainToday RainTomorrow  \n",
       "0       8.0     17.4     15.6       Yes          Yes  \n",
       "1       1.0     22.2     25.1       Yes           No  \n",
       "2       NaN     13.1     15.1        No           No  \n",
       "3       5.0     30.8     31.5        No           No  \n",
       "4       NaN     14.0     21.1        No           No  "
      ]
     },
     "execution_count": 98,
     "metadata": {},
     "output_type": "execute_result"
    }
   ],
   "source": [
    "df = pd.read_csv(r\"C:\\Users\\priya\\SRM PYTHON\\MLSC\\MP1\\Rainfall_prediction_data.csv\")\n",
    "df.head(5)"
   ]
  },
  {
   "cell_type": "markdown",
   "metadata": {},
   "source": [
    "**Let us now see the number of variables and observations in the data.**"
   ]
  },
  {
   "cell_type": "code",
   "execution_count": 99,
   "metadata": {},
   "outputs": [
    {
     "data": {
      "text/plain": [
       "(1040, 23)"
      ]
     },
     "execution_count": 99,
     "metadata": {},
     "output_type": "execute_result"
    }
   ],
   "source": [
    "df.shape"
   ]
  },
  {
   "cell_type": "code",
   "execution_count": 100,
   "metadata": {},
   "outputs": [
    {
     "name": "stdout",
     "output_type": "stream",
     "text": [
      "<class 'pandas.core.frame.DataFrame'>\n",
      "RangeIndex: 1040 entries, 0 to 1039\n",
      "Data columns (total 23 columns):\n",
      " #   Column         Non-Null Count  Dtype  \n",
      "---  ------         --------------  -----  \n",
      " 0   Date           1040 non-null   object \n",
      " 1   Location       1040 non-null   object \n",
      " 2   MinTemp        1035 non-null   float64\n",
      " 3   MaxTemp        1035 non-null   float64\n",
      " 4   Rainfall       1029 non-null   float64\n",
      " 5   Evaporation    582 non-null    float64\n",
      " 6   Sunshine       533 non-null    float64\n",
      " 7   WindGustDir    969 non-null    object \n",
      " 8   WindGustSpeed  969 non-null    float64\n",
      " 9   WindDir9am     981 non-null    object \n",
      " 10  WindDir3pm     1014 non-null   object \n",
      " 11  WindSpeed9am   1032 non-null   float64\n",
      " 12  WindSpeed3pm   1023 non-null   float64\n",
      " 13  Humidity9am    1031 non-null   float64\n",
      " 14  Humidity3pm    1016 non-null   float64\n",
      " 15  Pressure9am    929 non-null    float64\n",
      " 16  Pressure3pm    932 non-null    float64\n",
      " 17  Cloud9am       613 non-null    float64\n",
      " 18  Cloud3pm       597 non-null    float64\n",
      " 19  Temp9am        1034 non-null   float64\n",
      " 20  Temp3pm        1022 non-null   float64\n",
      " 21  RainToday      1029 non-null   object \n",
      " 22  RainTomorrow   1040 non-null   object \n",
      "dtypes: float64(16), object(7)\n",
      "memory usage: 187.0+ KB\n"
     ]
    }
   ],
   "source": [
    "df.info()"
   ]
  },
  {
   "cell_type": "markdown",
   "metadata": {},
   "source": [
    "### INFERENCE:<font color='green'> The given dataset contains 23 features with over 1040 rows. From the non-null count, we can understand that there are missing values for several features. </font>"
   ]
  },
  {
   "cell_type": "markdown",
   "metadata": {},
   "source": [
    "<a id=\"dtype\"></a>\n",
    "## 2.2 Check the Data Type"
   ]
  },
  {
   "cell_type": "markdown",
   "metadata": {},
   "source": [
    "**Check the data type of each variable. If the data type is not as per the data definition, change the data type.**"
   ]
  },
  {
   "cell_type": "code",
   "execution_count": 101,
   "metadata": {},
   "outputs": [
    {
     "data": {
      "text/plain": [
       "Date              object\n",
       "Location          object\n",
       "MinTemp          float64\n",
       "MaxTemp          float64\n",
       "Rainfall         float64\n",
       "Evaporation      float64\n",
       "Sunshine         float64\n",
       "WindGustDir       object\n",
       "WindGustSpeed    float64\n",
       "WindDir9am        object\n",
       "WindDir3pm        object\n",
       "WindSpeed9am     float64\n",
       "WindSpeed3pm     float64\n",
       "Humidity9am      float64\n",
       "Humidity3pm      float64\n",
       "Pressure9am      float64\n",
       "Pressure3pm      float64\n",
       "Cloud9am         float64\n",
       "Cloud3pm         float64\n",
       "Temp9am          float64\n",
       "Temp3pm          float64\n",
       "RainToday         object\n",
       "RainTomorrow      object\n",
       "dtype: object"
      ]
     },
     "execution_count": 101,
     "metadata": {},
     "output_type": "execute_result"
    }
   ],
   "source": [
    "df.dtypes"
   ]
  },
  {
   "cell_type": "markdown",
   "metadata": {},
   "source": [
    "###  INFERENCE:   <font color='green'> Out of 23 features, 7 features are of categorical datatype and 16 features are numerical in nature. </font>"
   ]
  },
  {
   "cell_type": "markdown",
   "metadata": {},
   "source": [
    "#### Change the data type as per the data definition."
   ]
  },
  {
   "cell_type": "code",
   "execution_count": 102,
   "metadata": {},
   "outputs": [
    {
     "data": {
      "text/plain": [
       "dtype('O')"
      ]
     },
     "execution_count": 102,
     "metadata": {},
     "output_type": "execute_result"
    }
   ],
   "source": [
    "df['Date'].dtype"
   ]
  },
  {
   "cell_type": "markdown",
   "metadata": {},
   "source": [
    "###  INFERENCE:   <font color='green'> From the above result, we can see that feature 'Date' is in categorical datatype. Lets convert it into datetime format for further analysis.</font>"
   ]
  },
  {
   "cell_type": "code",
   "execution_count": 103,
   "metadata": {},
   "outputs": [
    {
     "data": {
      "text/plain": [
       "0    07-03-2012\n",
       "1    06-01-2011\n",
       "2    29-06-2014\n",
       "3    16-12-2008\n",
       "4    21-04-2015\n",
       "Name: Date, dtype: object"
      ]
     },
     "execution_count": 103,
     "metadata": {},
     "output_type": "execute_result"
    }
   ],
   "source": [
    "df['Date'].head()"
   ]
  },
  {
   "cell_type": "code",
   "execution_count": 104,
   "metadata": {},
   "outputs": [
    {
     "data": {
      "text/plain": [
       "0   2012-07-03\n",
       "1   2011-06-01\n",
       "2   2014-06-29\n",
       "3   2008-12-16\n",
       "4   2015-04-21\n",
       "Name: Date, dtype: datetime64[ns]"
      ]
     },
     "execution_count": 104,
     "metadata": {},
     "output_type": "execute_result"
    }
   ],
   "source": [
    "pd.to_datetime(df['Date']).head(5)"
   ]
  },
  {
   "cell_type": "markdown",
   "metadata": {},
   "source": [
    "###  INFERENCE:   <font color='blue'> When we compare results after converting 'Date' into datetime format, we could difference in values of the data. Lets consider the first record in 'Date' feature, <font color='green'>'07-03-2012'(7th March 2012) </font>. After converting into datetime format,value has changed to <font color='green'> 2012-07-03 (3rd July 2012).</font>\n",
    "    \n",
    "### <font color='blue'> Similarly, the 2nd record '06-01-2011' (6th Jan 2011) is converted to 2011-06-01 (1st June 2011). But the 3rd record '29-06-2014' (29th June 2014) has been properly converted into datetime format 2014-06-29 (29th June 2014).</font>\n",
    "    \n",
    "### <font color='green'> In order to avoid this type of data corruption, lets extract only the month from 'Date' feature and save it in a seoarate column. Later we can convert it into datetime format and use for analysis.</font>"
   ]
  },
  {
   "cell_type": "code",
   "execution_count": 105,
   "metadata": {},
   "outputs": [],
   "source": [
    "df['Month']= df['Date']"
   ]
  },
  {
   "cell_type": "code",
   "execution_count": 106,
   "metadata": {},
   "outputs": [
    {
     "data": {
      "text/plain": [
       "0    07-03-2012\n",
       "1    06-01-2011\n",
       "2    29-06-2014\n",
       "3    16-12-2008\n",
       "4    21-04-2015\n",
       "Name: Month, dtype: object"
      ]
     },
     "execution_count": 106,
     "metadata": {},
     "output_type": "execute_result"
    }
   ],
   "source": [
    "df['Month'].head()"
   ]
  },
  {
   "cell_type": "code",
   "execution_count": 107,
   "metadata": {},
   "outputs": [
    {
     "data": {
      "text/plain": [
       "0    03\n",
       "1    01\n",
       "2    06\n",
       "3    12\n",
       "4    04\n",
       "Name: Month, dtype: object"
      ]
     },
     "execution_count": 107,
     "metadata": {},
     "output_type": "execute_result"
    }
   ],
   "source": [
    "# To extract only the month number\n",
    "\n",
    "df['Month']=df['Month'].str[3:5]\n",
    "df['Month'].head()"
   ]
  },
  {
   "cell_type": "code",
   "execution_count": 108,
   "metadata": {},
   "outputs": [
    {
     "data": {
      "text/plain": [
       "0       March\n",
       "1     January\n",
       "2        June\n",
       "3    December\n",
       "4       April\n",
       "Name: Month, dtype: object"
      ]
     },
     "execution_count": 108,
     "metadata": {},
     "output_type": "execute_result"
    }
   ],
   "source": [
    "df['Month']=pd.to_datetime(df['Month'], format='%m').dt.month_name()\n",
    "df['Month'].head()"
   ]
  },
  {
   "cell_type": "markdown",
   "metadata": {},
   "source": [
    "###  INFERENCE:   <font color='green'> Since we have used only the month part from 'Date' feature to convert into month name, our data is now more reliable.</font>"
   ]
  },
  {
   "cell_type": "code",
   "execution_count": 109,
   "metadata": {},
   "outputs": [
    {
     "data": {
      "text/plain": [
       "No     829\n",
       "Yes    211\n",
       "Name: RainTomorrow, dtype: int64"
      ]
     },
     "execution_count": 109,
     "metadata": {},
     "output_type": "execute_result"
    }
   ],
   "source": [
    "# Before conversion to numerical datatype\n",
    "df['RainTomorrow'].value_counts()"
   ]
  },
  {
   "cell_type": "code",
   "execution_count": 110,
   "metadata": {},
   "outputs": [],
   "source": [
    "for i in ['RainTomorrow']:\n",
    "    df[i].replace({'Yes': 1,'No': 0},inplace=True)"
   ]
  },
  {
   "cell_type": "code",
   "execution_count": 111,
   "metadata": {},
   "outputs": [
    {
     "data": {
      "text/plain": [
       "0    829\n",
       "1    211\n",
       "Name: RainTomorrow, dtype: int64"
      ]
     },
     "execution_count": 111,
     "metadata": {},
     "output_type": "execute_result"
    }
   ],
   "source": [
    "# After conversion to numerical datatype\n",
    "df['RainTomorrow'].value_counts()"
   ]
  },
  {
   "cell_type": "markdown",
   "metadata": {},
   "source": [
    "###  INFERENCE:   <font color='green'> Feature - 'RainTomorrow'is converted to numerical datatype by replacing values 'Yes' with  value 1 and 'No' with value 0.</font>"
   ]
  },
  {
   "cell_type": "markdown",
   "metadata": {},
   "source": [
    "#### Recheck the data type after the conversion. "
   ]
  },
  {
   "cell_type": "code",
   "execution_count": 112,
   "metadata": {},
   "outputs": [
    {
     "data": {
      "text/plain": [
       "dtype('<M8[ns]')"
      ]
     },
     "execution_count": 112,
     "metadata": {},
     "output_type": "execute_result"
    }
   ],
   "source": [
    "df['Date']=pd.to_datetime(df['Date'])\n",
    "df['Date'].dtype"
   ]
  },
  {
   "cell_type": "code",
   "execution_count": 113,
   "metadata": {},
   "outputs": [
    {
     "data": {
      "text/plain": [
       "dtype('O')"
      ]
     },
     "execution_count": 113,
     "metadata": {},
     "output_type": "execute_result"
    }
   ],
   "source": [
    "df['Month'].dtype"
   ]
  },
  {
   "cell_type": "code",
   "execution_count": 114,
   "metadata": {},
   "outputs": [
    {
     "data": {
      "text/plain": [
       "dtype('int64')"
      ]
     },
     "execution_count": 114,
     "metadata": {},
     "output_type": "execute_result"
    }
   ],
   "source": [
    "df['RainTomorrow'].dtype"
   ]
  },
  {
   "cell_type": "markdown",
   "metadata": {},
   "source": [
    "###  INFERENCE:   <font color='green'> Feature 'Date' is in datetime format and feature 'Month' is in object datatype as it stores name of the month. We will be using 'Month' feature further in our analysis. And also target variable ''RainTomorrow' is in numerical datatype.</font>"
   ]
  },
  {
   "cell_type": "markdown",
   "metadata": {},
   "source": [
    "<a id=\"drop\"></a>\n",
    "## 2.3 Remove Insignificant Variables, if its applicable."
   ]
  },
  {
   "cell_type": "code",
   "execution_count": 115,
   "metadata": {},
   "outputs": [
    {
     "name": "stdout",
     "output_type": "stream",
     "text": [
      "<class 'pandas.core.frame.DataFrame'>\n",
      "RangeIndex: 1040 entries, 0 to 1039\n",
      "Data columns (total 24 columns):\n",
      " #   Column         Non-Null Count  Dtype         \n",
      "---  ------         --------------  -----         \n",
      " 0   Date           1040 non-null   datetime64[ns]\n",
      " 1   Location       1040 non-null   object        \n",
      " 2   MinTemp        1035 non-null   float64       \n",
      " 3   MaxTemp        1035 non-null   float64       \n",
      " 4   Rainfall       1029 non-null   float64       \n",
      " 5   Evaporation    582 non-null    float64       \n",
      " 6   Sunshine       533 non-null    float64       \n",
      " 7   WindGustDir    969 non-null    object        \n",
      " 8   WindGustSpeed  969 non-null    float64       \n",
      " 9   WindDir9am     981 non-null    object        \n",
      " 10  WindDir3pm     1014 non-null   object        \n",
      " 11  WindSpeed9am   1032 non-null   float64       \n",
      " 12  WindSpeed3pm   1023 non-null   float64       \n",
      " 13  Humidity9am    1031 non-null   float64       \n",
      " 14  Humidity3pm    1016 non-null   float64       \n",
      " 15  Pressure9am    929 non-null    float64       \n",
      " 16  Pressure3pm    932 non-null    float64       \n",
      " 17  Cloud9am       613 non-null    float64       \n",
      " 18  Cloud3pm       597 non-null    float64       \n",
      " 19  Temp9am        1034 non-null   float64       \n",
      " 20  Temp3pm        1022 non-null   float64       \n",
      " 21  RainToday      1029 non-null   object        \n",
      " 22  RainTomorrow   1040 non-null   int64         \n",
      " 23  Month          1040 non-null   object        \n",
      "dtypes: datetime64[ns](1), float64(16), int64(1), object(6)\n",
      "memory usage: 195.1+ KB\n"
     ]
    }
   ],
   "source": [
    "df.info()"
   ]
  },
  {
   "cell_type": "code",
   "execution_count": 116,
   "metadata": {},
   "outputs": [
    {
     "data": {
      "text/plain": [
       "<AxesSubplot:>"
      ]
     },
     "execution_count": 116,
     "metadata": {},
     "output_type": "execute_result"
    },
    {
     "data": {
      "image/png": "[encoded data removed]",
      "text/plain": [
       "<Figure size 1080x576 with 2 Axes>"
      ]
     },
     "metadata": {
      "needs_background": "light"
     },
     "output_type": "display_data"
    }
   ],
   "source": [
    "fig, ax = plt.subplots(figsize=(15,8)) \n",
    "sns.heatmap(df.corr(),annot = True,linewidths=.5,cmap='RdBu',vmin=-1,vmax=1)"
   ]
  },
  {
   "cell_type": "code",
   "execution_count": 117,
   "metadata": {},
   "outputs": [],
   "source": [
    "df.drop(columns=[ 'Date','Location','WindSpeed9am','WindSpeed3pm','WindGustDir'],axis=1,inplace=True)"
   ]
  },
  {
   "cell_type": "markdown",
   "metadata": {},
   "source": [
    "###  INFERENCE:   \n",
    "\n",
    "### <font color='green'> Feature 'Date' can be dropped since we have extracted month and kept it in a separate column 'Month'.</font>\n",
    "\n",
    "### <font color='green'> Feature 'WindSpeed9am' and 'WindSpeed3pm' is dropped as they have high correlation between them. Instead of these 2 features, we can use 'WindGustSpeed' for our model .</font>\n",
    "\n",
    "### <font color='green'> Feature 'WindGustDir' is dropped as we have two similar other features to determine direction of wind - 'WindSpeed9am' and 'WindSpeed3pm'.</font>"
   ]
  },
  {
   "cell_type": "markdown",
   "metadata": {},
   "source": [
    "<a id=\"dist\"></a>\n",
    "## 2.4 Distribution of Variables"
   ]
  },
  {
   "cell_type": "markdown",
   "metadata": {},
   "source": [
    "**Distribution of numeric independent variables.**"
   ]
  },
  {
   "cell_type": "code",
   "execution_count": 118,
   "metadata": {},
   "outputs": [
    {
     "name": "stdout",
     "output_type": "stream",
     "text": [
      "['MinTemp', 'MaxTemp', 'Rainfall', 'Evaporation', 'Sunshine', 'WindGustSpeed', 'Humidity9am', 'Humidity3pm', 'Pressure9am', 'Pressure3pm', 'Cloud9am', 'Cloud3pm', 'Temp9am', 'Temp3pm', 'RainTomorrow']\n",
      "Number of numeric var: 15\n"
     ]
    }
   ],
   "source": [
    "num_indep = df.select_dtypes(include=np.number).columns.tolist()\n",
    "print(num_indep)\n",
    "print(\"Number of numeric var:\" ,len(num_indep))"
   ]
  },
  {
   "cell_type": "code",
   "execution_count": 119,
   "metadata": {},
   "outputs": [
    {
     "name": "stdout",
     "output_type": "stream",
     "text": [
      "['MinTemp', 'MaxTemp', 'Rainfall', 'Evaporation', 'Sunshine', 'WindGustSpeed', 'Humidity9am', 'Humidity3pm', 'Pressure9am', 'Pressure3pm', 'Cloud9am', 'Cloud3pm', 'Temp9am', 'Temp3pm']\n",
      "Number of numeric var: 14\n"
     ]
    }
   ],
   "source": [
    "# To remove RainTomorrow which is the target/dependent variable\n",
    "\n",
    "num_indep.pop() \n",
    "print(num_indep)\n",
    "print(\"Number of numeric var:\" ,len(num_indep))"
   ]
  },
  {
   "cell_type": "code",
   "execution_count": 120,
   "metadata": {
    "scrolled": false
   },
   "outputs": [
    {
     "data": {
      "image/png": "[encoded data removed]",
      "text/plain": [
       "<Figure size 720x1080 with 14 Axes>"
      ]
     },
     "metadata": {
      "needs_background": "light"
     },
     "output_type": "display_data"
    }
   ],
   "source": [
    "plt.figure(figsize= (10,15))\n",
    "for i in range(0,len(num_indep)):\n",
    "    plt.subplot(8,2,int(i+1))\n",
    "    sns.distplot(df[num_indep[i]]) \n",
    "\n",
    "plt.tight_layout()\n",
    "plt.show()"
   ]
  },
  {
   "cell_type": "markdown",
   "metadata": {},
   "source": [
    "**Distribution of categoric independent variable.**"
   ]
  },
  {
   "cell_type": "code",
   "execution_count": 121,
   "metadata": {},
   "outputs": [
    {
     "data": {
      "text/plain": [
       "['WindDir9am', 'WindDir3pm', 'RainToday', 'Month']"
      ]
     },
     "execution_count": 121,
     "metadata": {},
     "output_type": "execute_result"
    }
   ],
   "source": [
    "catg_indep = df.select_dtypes(include=object).columns.tolist()\n",
    "catg_indep"
   ]
  },
  {
   "cell_type": "code",
   "execution_count": 122,
   "metadata": {},
   "outputs": [
    {
     "data": {
      "text/html": [
       "<div>\n",
       "<style scoped>\n",
       "    .dataframe tbody tr th:only-of-type {\n",
       "        vertical-align: middle;\n",
       "    }\n",
       "\n",
       "    .dataframe tbody tr th {\n",
       "        vertical-align: top;\n",
       "    }\n",
       "\n",
       "    .dataframe thead th {\n",
       "        text-align: right;\n",
       "    }\n",
       "</style>\n",
       "<table border=\"1\" class=\"dataframe\">\n",
       "  <thead>\n",
       "    <tr style=\"text-align: right;\">\n",
       "      <th></th>\n",
       "      <th>WindDir9am</th>\n",
       "      <th>WindDir3pm</th>\n",
       "      <th>RainToday</th>\n",
       "      <th>Month</th>\n",
       "    </tr>\n",
       "  </thead>\n",
       "  <tbody>\n",
       "    <tr>\n",
       "      <th>0</th>\n",
       "      <td>SSW</td>\n",
       "      <td>SW</td>\n",
       "      <td>Yes</td>\n",
       "      <td>March</td>\n",
       "    </tr>\n",
       "    <tr>\n",
       "      <th>1</th>\n",
       "      <td>SSW</td>\n",
       "      <td>WSW</td>\n",
       "      <td>Yes</td>\n",
       "      <td>January</td>\n",
       "    </tr>\n",
       "    <tr>\n",
       "      <th>2</th>\n",
       "      <td>WNW</td>\n",
       "      <td>WNW</td>\n",
       "      <td>No</td>\n",
       "      <td>June</td>\n",
       "    </tr>\n",
       "    <tr>\n",
       "      <th>3</th>\n",
       "      <td>SSE</td>\n",
       "      <td>SE</td>\n",
       "      <td>No</td>\n",
       "      <td>December</td>\n",
       "    </tr>\n",
       "    <tr>\n",
       "      <th>4</th>\n",
       "      <td>NE</td>\n",
       "      <td>W</td>\n",
       "      <td>No</td>\n",
       "      <td>April</td>\n",
       "    </tr>\n",
       "  </tbody>\n",
       "</table>\n",
       "</div>"
      ],
      "text/plain": [
       "  WindDir9am WindDir3pm RainToday     Month\n",
       "0        SSW         SW       Yes     March\n",
       "1        SSW        WSW       Yes   January\n",
       "2        WNW        WNW        No      June\n",
       "3        SSE         SE        No  December\n",
       "4         NE          W        No     April"
      ]
     },
     "execution_count": 122,
     "metadata": {},
     "output_type": "execute_result"
    }
   ],
   "source": [
    "df_cat=df[catg_indep]\n",
    "df_cat.head()"
   ]
  },
  {
   "cell_type": "code",
   "execution_count": 123,
   "metadata": {},
   "outputs": [
    {
     "data": {
      "text/plain": [
       "WindDir9am    0\n",
       "WindDir3pm    0\n",
       "RainToday     0\n",
       "Month         0\n",
       "dtype: int64"
      ]
     },
     "execution_count": 123,
     "metadata": {},
     "output_type": "execute_result"
    }
   ],
   "source": [
    "# Lets drop null values to plot histplot using categorical independent variables \n",
    "\n",
    "df_cat.dropna(inplace=True)\n",
    "df_cat.isnull().sum()"
   ]
  },
  {
   "cell_type": "code",
   "execution_count": 124,
   "metadata": {},
   "outputs": [],
   "source": [
    "# pip install --user seaborn --upgrade"
   ]
  },
  {
   "cell_type": "code",
   "execution_count": 125,
   "metadata": {},
   "outputs": [
    {
     "data": {
      "image/png": "[encoded data removed]",
      "text/plain": [
       "<Figure size 864x360 with 1 Axes>"
      ]
     },
     "metadata": {
      "needs_background": "light"
     },
     "output_type": "display_data"
    },
    {
     "data": {
      "image/png": "[encoded data removed]",
      "text/plain": [
       "<Figure size 864x360 with 1 Axes>"
      ]
     },
     "metadata": {
      "needs_background": "light"
     },
     "output_type": "display_data"
    },
    {
     "data": {
      "image/png": "[encoded data removed]",
      "text/plain": [
       "<Figure size 864x360 with 1 Axes>"
      ]
     },
     "metadata": {
      "needs_background": "light"
     },
     "output_type": "display_data"
    },
    {
     "data": {
      "image/png": "[encoded data removed]",
      "text/plain": [
       "<Figure size 864x360 with 1 Axes>"
      ]
     },
     "metadata": {
      "needs_background": "light"
     },
     "output_type": "display_data"
    }
   ],
   "source": [
    "import seaborn as sns\n",
    "for i in df_cat.columns:\n",
    "    plt.figure(figsize= (12,5))\n",
    "    y=sns.histplot(x=df_cat[i], hue=df['RainTomorrow'],multiple='dodge',stat='count')\n",
    "    yes = []\n",
    "    no  = []\n",
    "    for i,j in zip(y.containers[0], y.containers[1]):\n",
    "        yes.append(i.get_height())\n",
    "        no.append(j.get_height())\n",
    "    y.bar_label(y.containers[0], labels=yes)\n",
    "    y.bar_label(y.containers[1], labels=no)\n",
    "    plt.show()"
   ]
  },
  {
   "cell_type": "markdown",
   "metadata": {},
   "source": [
    "#### Distribution of dependent variable."
   ]
  },
  {
   "cell_type": "code",
   "execution_count": 126,
   "metadata": {},
   "outputs": [],
   "source": [
    "# pip install --user --upgrade matplotlib"
   ]
  },
  {
   "cell_type": "code",
   "execution_count": 127,
   "metadata": {},
   "outputs": [
    {
     "data": {
      "image/png": "[encoded data removed]",
      "text/plain": [
       "<Figure size 432x288 with 1 Axes>"
      ]
     },
     "metadata": {
      "needs_background": "light"
     },
     "output_type": "display_data"
    }
   ],
   "source": [
    "ax = sns.countplot(x='RainTomorrow', data=df)\n",
    "ax.bar_label(ax.containers[0])\n",
    "\n",
    "plt.title('Count Plot for Categorical dependent variable \"RainTomorrow\"')\n",
    "plt.xlabel('Will it Rain Tomorrow')\n",
    "plt.ylabel('Count')\n",
    "plt.show()"
   ]
  },
  {
   "cell_type": "markdown",
   "metadata": {},
   "source": [
    "<a id=\"null\"></a>\n",
    "## 2.5 Missing Value Treatment"
   ]
  },
  {
   "cell_type": "markdown",
   "metadata": {},
   "source": [
    "#### First run a check for the presence of missing values and their percentage for each column. Then choose the right approach to treat them."
   ]
  },
  {
   "cell_type": "code",
   "execution_count": 128,
   "metadata": {},
   "outputs": [
    {
     "data": {
      "text/html": [
       "<div>\n",
       "<style scoped>\n",
       "    .dataframe tbody tr th:only-of-type {\n",
       "        vertical-align: middle;\n",
       "    }\n",
       "\n",
       "    .dataframe tbody tr th {\n",
       "        vertical-align: top;\n",
       "    }\n",
       "\n",
       "    .dataframe thead th {\n",
       "        text-align: right;\n",
       "    }\n",
       "</style>\n",
       "<table border=\"1\" class=\"dataframe\">\n",
       "  <thead>\n",
       "    <tr style=\"text-align: right;\">\n",
       "      <th></th>\n",
       "      <th>Count</th>\n",
       "      <th>Percentage</th>\n",
       "    </tr>\n",
       "  </thead>\n",
       "  <tbody>\n",
       "    <tr>\n",
       "      <th>Sunshine</th>\n",
       "      <td>507</td>\n",
       "      <td>48.750000</td>\n",
       "    </tr>\n",
       "    <tr>\n",
       "      <th>Evaporation</th>\n",
       "      <td>458</td>\n",
       "      <td>44.038462</td>\n",
       "    </tr>\n",
       "    <tr>\n",
       "      <th>Cloud3pm</th>\n",
       "      <td>443</td>\n",
       "      <td>42.596154</td>\n",
       "    </tr>\n",
       "    <tr>\n",
       "      <th>Cloud9am</th>\n",
       "      <td>427</td>\n",
       "      <td>41.057692</td>\n",
       "    </tr>\n",
       "    <tr>\n",
       "      <th>Pressure9am</th>\n",
       "      <td>111</td>\n",
       "      <td>10.673077</td>\n",
       "    </tr>\n",
       "    <tr>\n",
       "      <th>Pressure3pm</th>\n",
       "      <td>108</td>\n",
       "      <td>10.384615</td>\n",
       "    </tr>\n",
       "    <tr>\n",
       "      <th>WindGustSpeed</th>\n",
       "      <td>71</td>\n",
       "      <td>6.826923</td>\n",
       "    </tr>\n",
       "    <tr>\n",
       "      <th>WindDir9am</th>\n",
       "      <td>59</td>\n",
       "      <td>5.673077</td>\n",
       "    </tr>\n",
       "    <tr>\n",
       "      <th>WindDir3pm</th>\n",
       "      <td>26</td>\n",
       "      <td>2.500000</td>\n",
       "    </tr>\n",
       "    <tr>\n",
       "      <th>Humidity3pm</th>\n",
       "      <td>24</td>\n",
       "      <td>2.307692</td>\n",
       "    </tr>\n",
       "    <tr>\n",
       "      <th>Temp3pm</th>\n",
       "      <td>18</td>\n",
       "      <td>1.730769</td>\n",
       "    </tr>\n",
       "    <tr>\n",
       "      <th>Rainfall</th>\n",
       "      <td>11</td>\n",
       "      <td>1.057692</td>\n",
       "    </tr>\n",
       "    <tr>\n",
       "      <th>RainToday</th>\n",
       "      <td>11</td>\n",
       "      <td>1.057692</td>\n",
       "    </tr>\n",
       "    <tr>\n",
       "      <th>Humidity9am</th>\n",
       "      <td>9</td>\n",
       "      <td>0.865385</td>\n",
       "    </tr>\n",
       "    <tr>\n",
       "      <th>Temp9am</th>\n",
       "      <td>6</td>\n",
       "      <td>0.576923</td>\n",
       "    </tr>\n",
       "    <tr>\n",
       "      <th>MinTemp</th>\n",
       "      <td>5</td>\n",
       "      <td>0.480769</td>\n",
       "    </tr>\n",
       "    <tr>\n",
       "      <th>MaxTemp</th>\n",
       "      <td>5</td>\n",
       "      <td>0.480769</td>\n",
       "    </tr>\n",
       "    <tr>\n",
       "      <th>RainTomorrow</th>\n",
       "      <td>0</td>\n",
       "      <td>0.000000</td>\n",
       "    </tr>\n",
       "    <tr>\n",
       "      <th>Month</th>\n",
       "      <td>0</td>\n",
       "      <td>0.000000</td>\n",
       "    </tr>\n",
       "  </tbody>\n",
       "</table>\n",
       "</div>"
      ],
      "text/plain": [
       "               Count  Percentage\n",
       "Sunshine         507   48.750000\n",
       "Evaporation      458   44.038462\n",
       "Cloud3pm         443   42.596154\n",
       "Cloud9am         427   41.057692\n",
       "Pressure9am      111   10.673077\n",
       "Pressure3pm      108   10.384615\n",
       "WindGustSpeed     71    6.826923\n",
       "WindDir9am        59    5.673077\n",
       "WindDir3pm        26    2.500000\n",
       "Humidity3pm       24    2.307692\n",
       "Temp3pm           18    1.730769\n",
       "Rainfall          11    1.057692\n",
       "RainToday         11    1.057692\n",
       "Humidity9am        9    0.865385\n",
       "Temp9am            6    0.576923\n",
       "MinTemp            5    0.480769\n",
       "MaxTemp            5    0.480769\n",
       "RainTomorrow       0    0.000000\n",
       "Month              0    0.000000"
      ]
     },
     "execution_count": 128,
     "metadata": {},
     "output_type": "execute_result"
    }
   ],
   "source": [
    "count=df.isnull().sum()\n",
    "percent=(count/len(df))*100\n",
    "\n",
    "df_missingvalues= pd.DataFrame({'Count': count, 'Percentage':percent})\n",
    "df_missingvalues.sort_values(by='Percentage',ascending=False)   "
   ]
  },
  {
   "cell_type": "markdown",
   "metadata": {},
   "source": [
    "###  INFERENCE:   <font color='green'> For numerical features, lets impute using KNN imputation and for categorical features, lets impute missing values using mode.</font>"
   ]
  },
  {
   "cell_type": "code",
   "execution_count": 129,
   "metadata": {},
   "outputs": [],
   "source": [
    "# Function definition to impute missing values\n",
    "\n",
    "def KNN_imp(col):\n",
    "    X = df[[col]]                         # Dataframe containing column with missing values.\n",
    "    imputer = KNNImputer(n_neighbors=3)   # KNN imputer object with k=3.\n",
    "    X_imputed = imputer.fit_transform(X)  # Imputing missing values.\n",
    "    df[col] = X_imputed                   # Replacing missing values with the imputed values.\n",
    "            \n",
    "def mode_imp(col):\n",
    "    for i in range(len(df)):\n",
    "            mode_val=df[col].mode()\n",
    "            df[col].fillna(value=mode_val[0], inplace=True)     \n",
    "            "
   ]
  },
  {
   "cell_type": "code",
   "execution_count": 130,
   "metadata": {},
   "outputs": [
    {
     "name": "stdout",
     "output_type": "stream",
     "text": [
      "['MinTemp', 'MaxTemp', 'Rainfall', 'Evaporation', 'Sunshine', 'WindGustSpeed', 'Humidity9am', 'Humidity3pm', 'Pressure9am', 'Pressure3pm', 'Cloud9am', 'Cloud3pm', 'Temp9am', 'Temp3pm']\n",
      "Number of numeric var: 14\n"
     ]
    }
   ],
   "source": [
    "# Numerical features\n",
    "\n",
    "num_col = df.select_dtypes(include=np.number).columns.tolist()\n",
    "num_col.pop() # to remove target variable \"Rain Tomorrow\"\n",
    "print(num_col)\n",
    "print(\"Number of numeric var:\" ,len(num_col))"
   ]
  },
  {
   "cell_type": "code",
   "execution_count": 131,
   "metadata": {},
   "outputs": [
    {
     "name": "stdout",
     "output_type": "stream",
     "text": [
      "['WindDir9am', 'WindDir3pm', 'RainToday', 'Month']\n",
      "Number of numeric var: 4\n"
     ]
    }
   ],
   "source": [
    "# Categorical features\n",
    "\n",
    "catg_col = df.select_dtypes(include='object').columns.tolist()\n",
    "print(catg_col)\n",
    "print(\"Number of numeric var:\" ,len(catg_col))"
   ]
  },
  {
   "cell_type": "code",
   "execution_count": 132,
   "metadata": {},
   "outputs": [],
   "source": [
    "# Function call to impute missing values\n",
    "\n",
    "for i in num_col:\n",
    "    KNN_imp(i)\n",
    "    \n",
    "for i in catg_col:\n",
    "    mode_imp(i)    "
   ]
  },
  {
   "cell_type": "code",
   "execution_count": 133,
   "metadata": {},
   "outputs": [
    {
     "data": {
      "text/plain": [
       "MinTemp          0\n",
       "MaxTemp          0\n",
       "Rainfall         0\n",
       "Evaporation      0\n",
       "Sunshine         0\n",
       "WindGustSpeed    0\n",
       "WindDir9am       0\n",
       "WindDir3pm       0\n",
       "Humidity9am      0\n",
       "Humidity3pm      0\n",
       "Pressure9am      0\n",
       "Pressure3pm      0\n",
       "Cloud9am         0\n",
       "Cloud3pm         0\n",
       "Temp9am          0\n",
       "Temp3pm          0\n",
       "RainToday        0\n",
       "RainTomorrow     0\n",
       "Month            0\n",
       "dtype: int64"
      ]
     },
     "execution_count": 133,
     "metadata": {},
     "output_type": "execute_result"
    }
   ],
   "source": [
    "df.isnull().sum()"
   ]
  },
  {
   "cell_type": "markdown",
   "metadata": {},
   "source": [
    "###  INFERENCE:   <font color='green'> Now the dataset does not contain any missing values.</font>"
   ]
  },
  {
   "cell_type": "markdown",
   "metadata": {},
   "source": [
    "<a id=\"dummy\"></a>\n",
    "## 2.6 Dummy Encode the Categorical Variables"
   ]
  },
  {
   "cell_type": "markdown",
   "metadata": {},
   "source": [
    "#### Split the dependent and independent variables."
   ]
  },
  {
   "cell_type": "code",
   "execution_count": 134,
   "metadata": {},
   "outputs": [
    {
     "name": "stdout",
     "output_type": "stream",
     "text": [
      "<class 'pandas.core.frame.DataFrame'>\n",
      "RangeIndex: 1040 entries, 0 to 1039\n",
      "Data columns (total 19 columns):\n",
      " #   Column         Non-Null Count  Dtype  \n",
      "---  ------         --------------  -----  \n",
      " 0   MinTemp        1040 non-null   float64\n",
      " 1   MaxTemp        1040 non-null   float64\n",
      " 2   Rainfall       1040 non-null   float64\n",
      " 3   Evaporation    1040 non-null   float64\n",
      " 4   Sunshine       1040 non-null   float64\n",
      " 5   WindGustSpeed  1040 non-null   float64\n",
      " 6   WindDir9am     1040 non-null   object \n",
      " 7   WindDir3pm     1040 non-null   object \n",
      " 8   Humidity9am    1040 non-null   float64\n",
      " 9   Humidity3pm    1040 non-null   float64\n",
      " 10  Pressure9am    1040 non-null   float64\n",
      " 11  Pressure3pm    1040 non-null   float64\n",
      " 12  Cloud9am       1040 non-null   float64\n",
      " 13  Cloud3pm       1040 non-null   float64\n",
      " 14  Temp9am        1040 non-null   float64\n",
      " 15  Temp3pm        1040 non-null   float64\n",
      " 16  RainToday      1040 non-null   object \n",
      " 17  RainTomorrow   1040 non-null   int64  \n",
      " 18  Month          1040 non-null   object \n",
      "dtypes: float64(14), int64(1), object(4)\n",
      "memory usage: 154.5+ KB\n"
     ]
    }
   ],
   "source": [
    "df.info()"
   ]
  },
  {
   "cell_type": "code",
   "execution_count": 135,
   "metadata": {},
   "outputs": [
    {
     "data": {
      "text/plain": [
       "0    1\n",
       "1    0\n",
       "2    0\n",
       "Name: RainTomorrow, dtype: int64"
      ]
     },
     "execution_count": 135,
     "metadata": {},
     "output_type": "execute_result"
    }
   ],
   "source": [
    "# Dependent variable/target - 'RainTomorrow'\n",
    "\n",
    "df_dep = df['RainTomorrow']\n",
    "df_dep.head(3)"
   ]
  },
  {
   "cell_type": "code",
   "execution_count": 136,
   "metadata": {},
   "outputs": [
    {
     "data": {
      "text/html": [
       "<div>\n",
       "<style scoped>\n",
       "    .dataframe tbody tr th:only-of-type {\n",
       "        vertical-align: middle;\n",
       "    }\n",
       "\n",
       "    .dataframe tbody tr th {\n",
       "        vertical-align: top;\n",
       "    }\n",
       "\n",
       "    .dataframe thead th {\n",
       "        text-align: right;\n",
       "    }\n",
       "</style>\n",
       "<table border=\"1\" class=\"dataframe\">\n",
       "  <thead>\n",
       "    <tr style=\"text-align: right;\">\n",
       "      <th></th>\n",
       "      <th>MinTemp</th>\n",
       "      <th>MaxTemp</th>\n",
       "      <th>Rainfall</th>\n",
       "      <th>Evaporation</th>\n",
       "      <th>Sunshine</th>\n",
       "      <th>WindGustSpeed</th>\n",
       "      <th>WindDir9am</th>\n",
       "      <th>WindDir3pm</th>\n",
       "      <th>Humidity9am</th>\n",
       "      <th>Humidity3pm</th>\n",
       "      <th>Pressure9am</th>\n",
       "      <th>Pressure3pm</th>\n",
       "      <th>Cloud9am</th>\n",
       "      <th>Cloud3pm</th>\n",
       "      <th>Temp9am</th>\n",
       "      <th>Temp3pm</th>\n",
       "      <th>RainToday</th>\n",
       "      <th>Month</th>\n",
       "    </tr>\n",
       "  </thead>\n",
       "  <tbody>\n",
       "    <tr>\n",
       "      <th>0</th>\n",
       "      <td>16.0</td>\n",
       "      <td>20.4</td>\n",
       "      <td>8.2</td>\n",
       "      <td>5.183505</td>\n",
       "      <td>7.606379</td>\n",
       "      <td>63.0</td>\n",
       "      <td>SSW</td>\n",
       "      <td>SW</td>\n",
       "      <td>69.0</td>\n",
       "      <td>92.0</td>\n",
       "      <td>1018.500000</td>\n",
       "      <td>1017.600000</td>\n",
       "      <td>1.00000</td>\n",
       "      <td>8.000000</td>\n",
       "      <td>17.4</td>\n",
       "      <td>15.6</td>\n",
       "      <td>Yes</td>\n",
       "      <td>March</td>\n",
       "    </tr>\n",
       "    <tr>\n",
       "      <th>1</th>\n",
       "      <td>18.5</td>\n",
       "      <td>25.9</td>\n",
       "      <td>16.0</td>\n",
       "      <td>5.400000</td>\n",
       "      <td>11.800000</td>\n",
       "      <td>39.0</td>\n",
       "      <td>SSW</td>\n",
       "      <td>WSW</td>\n",
       "      <td>60.0</td>\n",
       "      <td>36.0</td>\n",
       "      <td>1004.600000</td>\n",
       "      <td>1003.600000</td>\n",
       "      <td>7.00000</td>\n",
       "      <td>1.000000</td>\n",
       "      <td>22.2</td>\n",
       "      <td>25.1</td>\n",
       "      <td>Yes</td>\n",
       "      <td>January</td>\n",
       "    </tr>\n",
       "    <tr>\n",
       "      <th>2</th>\n",
       "      <td>8.7</td>\n",
       "      <td>16.5</td>\n",
       "      <td>0.0</td>\n",
       "      <td>5.183505</td>\n",
       "      <td>7.606379</td>\n",
       "      <td>56.0</td>\n",
       "      <td>WNW</td>\n",
       "      <td>WNW</td>\n",
       "      <td>41.0</td>\n",
       "      <td>41.0</td>\n",
       "      <td>1017.277718</td>\n",
       "      <td>1014.931438</td>\n",
       "      <td>4.59217</td>\n",
       "      <td>4.447236</td>\n",
       "      <td>13.1</td>\n",
       "      <td>15.1</td>\n",
       "      <td>No</td>\n",
       "      <td>June</td>\n",
       "    </tr>\n",
       "  </tbody>\n",
       "</table>\n",
       "</div>"
      ],
      "text/plain": [
       "   MinTemp  MaxTemp  Rainfall  Evaporation   Sunshine  WindGustSpeed  \\\n",
       "0     16.0     20.4       8.2     5.183505   7.606379           63.0   \n",
       "1     18.5     25.9      16.0     5.400000  11.800000           39.0   \n",
       "2      8.7     16.5       0.0     5.183505   7.606379           56.0   \n",
       "\n",
       "  WindDir9am WindDir3pm  Humidity9am  Humidity3pm  Pressure9am  Pressure3pm  \\\n",
       "0        SSW         SW         69.0         92.0  1018.500000  1017.600000   \n",
       "1        SSW        WSW         60.0         36.0  1004.600000  1003.600000   \n",
       "2        WNW        WNW         41.0         41.0  1017.277718  1014.931438   \n",
       "\n",
       "   Cloud9am  Cloud3pm  Temp9am  Temp3pm RainToday    Month  \n",
       "0   1.00000  8.000000     17.4     15.6       Yes    March  \n",
       "1   7.00000  1.000000     22.2     25.1       Yes  January  \n",
       "2   4.59217  4.447236     13.1     15.1        No     June  "
      ]
     },
     "execution_count": 136,
     "metadata": {},
     "output_type": "execute_result"
    }
   ],
   "source": [
    "# independent variables/predictor - all features except 'RainTomorrow'\n",
    "\n",
    "df_indep = df.drop('RainTomorrow', axis = 1)\n",
    "df_indep.head(3)"
   ]
  },
  {
   "cell_type": "markdown",
   "metadata": {},
   "source": [
    "#### Filter numerical and categorical variables."
   ]
  },
  {
   "cell_type": "code",
   "execution_count": 137,
   "metadata": {},
   "outputs": [
    {
     "name": "stdout",
     "output_type": "stream",
     "text": [
      "Index(['MinTemp', 'MaxTemp', 'Rainfall', 'Evaporation', 'Sunshine',\n",
      "       'WindGustSpeed', 'Humidity9am', 'Humidity3pm', 'Pressure9am',\n",
      "       'Pressure3pm', 'Cloud9am', 'Cloud3pm', 'Temp9am', 'Temp3pm'],\n",
      "      dtype='object')\n",
      "14\n"
     ]
    },
    {
     "data": {
      "text/html": [
       "<div>\n",
       "<style scoped>\n",
       "    .dataframe tbody tr th:only-of-type {\n",
       "        vertical-align: middle;\n",
       "    }\n",
       "\n",
       "    .dataframe tbody tr th {\n",
       "        vertical-align: top;\n",
       "    }\n",
       "\n",
       "    .dataframe thead th {\n",
       "        text-align: right;\n",
       "    }\n",
       "</style>\n",
       "<table border=\"1\" class=\"dataframe\">\n",
       "  <thead>\n",
       "    <tr style=\"text-align: right;\">\n",
       "      <th></th>\n",
       "      <th>MinTemp</th>\n",
       "      <th>MaxTemp</th>\n",
       "      <th>Rainfall</th>\n",
       "      <th>Evaporation</th>\n",
       "      <th>Sunshine</th>\n",
       "      <th>WindGustSpeed</th>\n",
       "      <th>Humidity9am</th>\n",
       "      <th>Humidity3pm</th>\n",
       "      <th>Pressure9am</th>\n",
       "      <th>Pressure3pm</th>\n",
       "      <th>Cloud9am</th>\n",
       "      <th>Cloud3pm</th>\n",
       "      <th>Temp9am</th>\n",
       "      <th>Temp3pm</th>\n",
       "    </tr>\n",
       "  </thead>\n",
       "  <tbody>\n",
       "    <tr>\n",
       "      <th>0</th>\n",
       "      <td>16.0</td>\n",
       "      <td>20.4</td>\n",
       "      <td>8.2</td>\n",
       "      <td>5.183505</td>\n",
       "      <td>7.606379</td>\n",
       "      <td>63.0</td>\n",
       "      <td>69.0</td>\n",
       "      <td>92.0</td>\n",
       "      <td>1018.500000</td>\n",
       "      <td>1017.600000</td>\n",
       "      <td>1.00000</td>\n",
       "      <td>8.000000</td>\n",
       "      <td>17.4</td>\n",
       "      <td>15.6</td>\n",
       "    </tr>\n",
       "    <tr>\n",
       "      <th>1</th>\n",
       "      <td>18.5</td>\n",
       "      <td>25.9</td>\n",
       "      <td>16.0</td>\n",
       "      <td>5.400000</td>\n",
       "      <td>11.800000</td>\n",
       "      <td>39.0</td>\n",
       "      <td>60.0</td>\n",
       "      <td>36.0</td>\n",
       "      <td>1004.600000</td>\n",
       "      <td>1003.600000</td>\n",
       "      <td>7.00000</td>\n",
       "      <td>1.000000</td>\n",
       "      <td>22.2</td>\n",
       "      <td>25.1</td>\n",
       "    </tr>\n",
       "    <tr>\n",
       "      <th>2</th>\n",
       "      <td>8.7</td>\n",
       "      <td>16.5</td>\n",
       "      <td>0.0</td>\n",
       "      <td>5.183505</td>\n",
       "      <td>7.606379</td>\n",
       "      <td>56.0</td>\n",
       "      <td>41.0</td>\n",
       "      <td>41.0</td>\n",
       "      <td>1017.277718</td>\n",
       "      <td>1014.931438</td>\n",
       "      <td>4.59217</td>\n",
       "      <td>4.447236</td>\n",
       "      <td>13.1</td>\n",
       "      <td>15.1</td>\n",
       "    </tr>\n",
       "    <tr>\n",
       "      <th>3</th>\n",
       "      <td>25.5</td>\n",
       "      <td>33.9</td>\n",
       "      <td>0.2</td>\n",
       "      <td>5.000000</td>\n",
       "      <td>7.000000</td>\n",
       "      <td>41.0</td>\n",
       "      <td>64.0</td>\n",
       "      <td>59.0</td>\n",
       "      <td>1009.800000</td>\n",
       "      <td>1007.400000</td>\n",
       "      <td>6.00000</td>\n",
       "      <td>5.000000</td>\n",
       "      <td>30.8</td>\n",
       "      <td>31.5</td>\n",
       "    </tr>\n",
       "    <tr>\n",
       "      <th>4</th>\n",
       "      <td>3.8</td>\n",
       "      <td>23.0</td>\n",
       "      <td>0.0</td>\n",
       "      <td>5.183505</td>\n",
       "      <td>7.606379</td>\n",
       "      <td>28.0</td>\n",
       "      <td>56.0</td>\n",
       "      <td>29.0</td>\n",
       "      <td>1017.277718</td>\n",
       "      <td>1014.931438</td>\n",
       "      <td>4.59217</td>\n",
       "      <td>4.447236</td>\n",
       "      <td>14.0</td>\n",
       "      <td>21.1</td>\n",
       "    </tr>\n",
       "  </tbody>\n",
       "</table>\n",
       "</div>"
      ],
      "text/plain": [
       "   MinTemp  MaxTemp  Rainfall  Evaporation   Sunshine  WindGustSpeed  \\\n",
       "0     16.0     20.4       8.2     5.183505   7.606379           63.0   \n",
       "1     18.5     25.9      16.0     5.400000  11.800000           39.0   \n",
       "2      8.7     16.5       0.0     5.183505   7.606379           56.0   \n",
       "3     25.5     33.9       0.2     5.000000   7.000000           41.0   \n",
       "4      3.8     23.0       0.0     5.183505   7.606379           28.0   \n",
       "\n",
       "   Humidity9am  Humidity3pm  Pressure9am  Pressure3pm  Cloud9am  Cloud3pm  \\\n",
       "0         69.0         92.0  1018.500000  1017.600000   1.00000  8.000000   \n",
       "1         60.0         36.0  1004.600000  1003.600000   7.00000  1.000000   \n",
       "2         41.0         41.0  1017.277718  1014.931438   4.59217  4.447236   \n",
       "3         64.0         59.0  1009.800000  1007.400000   6.00000  5.000000   \n",
       "4         56.0         29.0  1017.277718  1014.931438   4.59217  4.447236   \n",
       "\n",
       "   Temp9am  Temp3pm  \n",
       "0     17.4     15.6  \n",
       "1     22.2     25.1  \n",
       "2     13.1     15.1  \n",
       "3     30.8     31.5  \n",
       "4     14.0     21.1  "
      ]
     },
     "execution_count": 137,
     "metadata": {},
     "output_type": "execute_result"
    }
   ],
   "source": [
    "df_num = df_indep.select_dtypes(include = [np.number])\n",
    "print(df_num.columns)\n",
    "print(len(df_num.columns))\n",
    "df_num.head(5)"
   ]
  },
  {
   "cell_type": "code",
   "execution_count": 138,
   "metadata": {},
   "outputs": [
    {
     "name": "stdout",
     "output_type": "stream",
     "text": [
      "Index(['WindDir9am', 'WindDir3pm', 'RainToday', 'Month'], dtype='object')\n",
      "4\n"
     ]
    }
   ],
   "source": [
    "df_cat = df_indep.select_dtypes(include = [np.object])\n",
    "print(df_cat.columns)\n",
    "print(len(df_cat.columns))"
   ]
  },
  {
   "cell_type": "markdown",
   "metadata": {},
   "source": [
    "**The logistic regression method fails in presence of categorical variables. To overcome this we use (n-1) dummy encoding.**  \n",
    "\n",
    "**Encode the each categorical variable and create (n-1) dummy variables for n categories of the variable.**"
   ]
  },
  {
   "cell_type": "code",
   "execution_count": 139,
   "metadata": {},
   "outputs": [
    {
     "data": {
      "text/html": [
       "<div>\n",
       "<style scoped>\n",
       "    .dataframe tbody tr th:only-of-type {\n",
       "        vertical-align: middle;\n",
       "    }\n",
       "\n",
       "    .dataframe tbody tr th {\n",
       "        vertical-align: top;\n",
       "    }\n",
       "\n",
       "    .dataframe thead th {\n",
       "        text-align: right;\n",
       "    }\n",
       "</style>\n",
       "<table border=\"1\" class=\"dataframe\">\n",
       "  <thead>\n",
       "    <tr style=\"text-align: right;\">\n",
       "      <th></th>\n",
       "      <th>WindDir9am_ENE</th>\n",
       "      <th>WindDir9am_ESE</th>\n",
       "      <th>WindDir9am_N</th>\n",
       "      <th>WindDir9am_NE</th>\n",
       "      <th>WindDir9am_NNE</th>\n",
       "      <th>WindDir9am_NNW</th>\n",
       "      <th>WindDir9am_NW</th>\n",
       "      <th>WindDir9am_S</th>\n",
       "      <th>WindDir9am_SE</th>\n",
       "      <th>WindDir9am_SSE</th>\n",
       "      <th>WindDir9am_SSW</th>\n",
       "      <th>WindDir9am_SW</th>\n",
       "      <th>WindDir9am_W</th>\n",
       "      <th>WindDir9am_WNW</th>\n",
       "      <th>WindDir9am_WSW</th>\n",
       "      <th>WindDir3pm_ENE</th>\n",
       "      <th>WindDir3pm_ESE</th>\n",
       "      <th>WindDir3pm_N</th>\n",
       "      <th>WindDir3pm_NE</th>\n",
       "      <th>WindDir3pm_NNE</th>\n",
       "      <th>WindDir3pm_NNW</th>\n",
       "      <th>WindDir3pm_NW</th>\n",
       "      <th>WindDir3pm_S</th>\n",
       "      <th>WindDir3pm_SE</th>\n",
       "      <th>WindDir3pm_SSE</th>\n",
       "      <th>WindDir3pm_SSW</th>\n",
       "      <th>WindDir3pm_SW</th>\n",
       "      <th>WindDir3pm_W</th>\n",
       "      <th>WindDir3pm_WNW</th>\n",
       "      <th>WindDir3pm_WSW</th>\n",
       "      <th>RainToday_Yes</th>\n",
       "      <th>Month_August</th>\n",
       "      <th>Month_December</th>\n",
       "      <th>Month_February</th>\n",
       "      <th>Month_January</th>\n",
       "      <th>Month_July</th>\n",
       "      <th>Month_June</th>\n",
       "      <th>Month_March</th>\n",
       "      <th>Month_May</th>\n",
       "      <th>Month_November</th>\n",
       "      <th>Month_October</th>\n",
       "      <th>Month_September</th>\n",
       "    </tr>\n",
       "  </thead>\n",
       "  <tbody>\n",
       "    <tr>\n",
       "      <th>0</th>\n",
       "      <td>0</td>\n",
       "      <td>0</td>\n",
       "      <td>0</td>\n",
       "      <td>0</td>\n",
       "      <td>0</td>\n",
       "      <td>0</td>\n",
       "      <td>0</td>\n",
       "      <td>0</td>\n",
       "      <td>0</td>\n",
       "      <td>0</td>\n",
       "      <td>1</td>\n",
       "      <td>0</td>\n",
       "      <td>0</td>\n",
       "      <td>0</td>\n",
       "      <td>0</td>\n",
       "      <td>0</td>\n",
       "      <td>0</td>\n",
       "      <td>0</td>\n",
       "      <td>0</td>\n",
       "      <td>0</td>\n",
       "      <td>0</td>\n",
       "      <td>0</td>\n",
       "      <td>0</td>\n",
       "      <td>0</td>\n",
       "      <td>0</td>\n",
       "      <td>0</td>\n",
       "      <td>1</td>\n",
       "      <td>0</td>\n",
       "      <td>0</td>\n",
       "      <td>0</td>\n",
       "      <td>1</td>\n",
       "      <td>0</td>\n",
       "      <td>0</td>\n",
       "      <td>0</td>\n",
       "      <td>0</td>\n",
       "      <td>0</td>\n",
       "      <td>0</td>\n",
       "      <td>1</td>\n",
       "      <td>0</td>\n",
       "      <td>0</td>\n",
       "      <td>0</td>\n",
       "      <td>0</td>\n",
       "    </tr>\n",
       "    <tr>\n",
       "      <th>1</th>\n",
       "      <td>0</td>\n",
       "      <td>0</td>\n",
       "      <td>0</td>\n",
       "      <td>0</td>\n",
       "      <td>0</td>\n",
       "      <td>0</td>\n",
       "      <td>0</td>\n",
       "      <td>0</td>\n",
       "      <td>0</td>\n",
       "      <td>0</td>\n",
       "      <td>1</td>\n",
       "      <td>0</td>\n",
       "      <td>0</td>\n",
       "      <td>0</td>\n",
       "      <td>0</td>\n",
       "      <td>0</td>\n",
       "      <td>0</td>\n",
       "      <td>0</td>\n",
       "      <td>0</td>\n",
       "      <td>0</td>\n",
       "      <td>0</td>\n",
       "      <td>0</td>\n",
       "      <td>0</td>\n",
       "      <td>0</td>\n",
       "      <td>0</td>\n",
       "      <td>0</td>\n",
       "      <td>0</td>\n",
       "      <td>0</td>\n",
       "      <td>0</td>\n",
       "      <td>1</td>\n",
       "      <td>1</td>\n",
       "      <td>0</td>\n",
       "      <td>0</td>\n",
       "      <td>0</td>\n",
       "      <td>1</td>\n",
       "      <td>0</td>\n",
       "      <td>0</td>\n",
       "      <td>0</td>\n",
       "      <td>0</td>\n",
       "      <td>0</td>\n",
       "      <td>0</td>\n",
       "      <td>0</td>\n",
       "    </tr>\n",
       "    <tr>\n",
       "      <th>2</th>\n",
       "      <td>0</td>\n",
       "      <td>0</td>\n",
       "      <td>0</td>\n",
       "      <td>0</td>\n",
       "      <td>0</td>\n",
       "      <td>0</td>\n",
       "      <td>0</td>\n",
       "      <td>0</td>\n",
       "      <td>0</td>\n",
       "      <td>0</td>\n",
       "      <td>0</td>\n",
       "      <td>0</td>\n",
       "      <td>0</td>\n",
       "      <td>1</td>\n",
       "      <td>0</td>\n",
       "      <td>0</td>\n",
       "      <td>0</td>\n",
       "      <td>0</td>\n",
       "      <td>0</td>\n",
       "      <td>0</td>\n",
       "      <td>0</td>\n",
       "      <td>0</td>\n",
       "      <td>0</td>\n",
       "      <td>0</td>\n",
       "      <td>0</td>\n",
       "      <td>0</td>\n",
       "      <td>0</td>\n",
       "      <td>0</td>\n",
       "      <td>1</td>\n",
       "      <td>0</td>\n",
       "      <td>0</td>\n",
       "      <td>0</td>\n",
       "      <td>0</td>\n",
       "      <td>0</td>\n",
       "      <td>0</td>\n",
       "      <td>0</td>\n",
       "      <td>1</td>\n",
       "      <td>0</td>\n",
       "      <td>0</td>\n",
       "      <td>0</td>\n",
       "      <td>0</td>\n",
       "      <td>0</td>\n",
       "    </tr>\n",
       "    <tr>\n",
       "      <th>3</th>\n",
       "      <td>0</td>\n",
       "      <td>0</td>\n",
       "      <td>0</td>\n",
       "      <td>0</td>\n",
       "      <td>0</td>\n",
       "      <td>0</td>\n",
       "      <td>0</td>\n",
       "      <td>0</td>\n",
       "      <td>0</td>\n",
       "      <td>1</td>\n",
       "      <td>0</td>\n",
       "      <td>0</td>\n",
       "      <td>0</td>\n",
       "      <td>0</td>\n",
       "      <td>0</td>\n",
       "      <td>0</td>\n",
       "      <td>0</td>\n",
       "      <td>0</td>\n",
       "      <td>0</td>\n",
       "      <td>0</td>\n",
       "      <td>0</td>\n",
       "      <td>0</td>\n",
       "      <td>0</td>\n",
       "      <td>1</td>\n",
       "      <td>0</td>\n",
       "      <td>0</td>\n",
       "      <td>0</td>\n",
       "      <td>0</td>\n",
       "      <td>0</td>\n",
       "      <td>0</td>\n",
       "      <td>0</td>\n",
       "      <td>0</td>\n",
       "      <td>1</td>\n",
       "      <td>0</td>\n",
       "      <td>0</td>\n",
       "      <td>0</td>\n",
       "      <td>0</td>\n",
       "      <td>0</td>\n",
       "      <td>0</td>\n",
       "      <td>0</td>\n",
       "      <td>0</td>\n",
       "      <td>0</td>\n",
       "    </tr>\n",
       "    <tr>\n",
       "      <th>4</th>\n",
       "      <td>0</td>\n",
       "      <td>0</td>\n",
       "      <td>0</td>\n",
       "      <td>1</td>\n",
       "      <td>0</td>\n",
       "      <td>0</td>\n",
       "      <td>0</td>\n",
       "      <td>0</td>\n",
       "      <td>0</td>\n",
       "      <td>0</td>\n",
       "      <td>0</td>\n",
       "      <td>0</td>\n",
       "      <td>0</td>\n",
       "      <td>0</td>\n",
       "      <td>0</td>\n",
       "      <td>0</td>\n",
       "      <td>0</td>\n",
       "      <td>0</td>\n",
       "      <td>0</td>\n",
       "      <td>0</td>\n",
       "      <td>0</td>\n",
       "      <td>0</td>\n",
       "      <td>0</td>\n",
       "      <td>0</td>\n",
       "      <td>0</td>\n",
       "      <td>0</td>\n",
       "      <td>0</td>\n",
       "      <td>1</td>\n",
       "      <td>0</td>\n",
       "      <td>0</td>\n",
       "      <td>0</td>\n",
       "      <td>0</td>\n",
       "      <td>0</td>\n",
       "      <td>0</td>\n",
       "      <td>0</td>\n",
       "      <td>0</td>\n",
       "      <td>0</td>\n",
       "      <td>0</td>\n",
       "      <td>0</td>\n",
       "      <td>0</td>\n",
       "      <td>0</td>\n",
       "      <td>0</td>\n",
       "    </tr>\n",
       "  </tbody>\n",
       "</table>\n",
       "</div>"
      ],
      "text/plain": [
       "   WindDir9am_ENE  WindDir9am_ESE  WindDir9am_N  WindDir9am_NE  \\\n",
       "0               0               0             0              0   \n",
       "1               0               0             0              0   \n",
       "2               0               0             0              0   \n",
       "3               0               0             0              0   \n",
       "4               0               0             0              1   \n",
       "\n",
       "   WindDir9am_NNE  WindDir9am_NNW  WindDir9am_NW  WindDir9am_S  WindDir9am_SE  \\\n",
       "0               0               0              0             0              0   \n",
       "1               0               0              0             0              0   \n",
       "2               0               0              0             0              0   \n",
       "3               0               0              0             0              0   \n",
       "4               0               0              0             0              0   \n",
       "\n",
       "   WindDir9am_SSE  WindDir9am_SSW  WindDir9am_SW  WindDir9am_W  \\\n",
       "0               0               1              0             0   \n",
       "1               0               1              0             0   \n",
       "2               0               0              0             0   \n",
       "3               1               0              0             0   \n",
       "4               0               0              0             0   \n",
       "\n",
       "   WindDir9am_WNW  WindDir9am_WSW  WindDir3pm_ENE  WindDir3pm_ESE  \\\n",
       "0               0               0               0               0   \n",
       "1               0               0               0               0   \n",
       "2               1               0               0               0   \n",
       "3               0               0               0               0   \n",
       "4               0               0               0               0   \n",
       "\n",
       "   WindDir3pm_N  WindDir3pm_NE  WindDir3pm_NNE  WindDir3pm_NNW  WindDir3pm_NW  \\\n",
       "0             0              0               0               0              0   \n",
       "1             0              0               0               0              0   \n",
       "2             0              0               0               0              0   \n",
       "3             0              0               0               0              0   \n",
       "4             0              0               0               0              0   \n",
       "\n",
       "   WindDir3pm_S  WindDir3pm_SE  WindDir3pm_SSE  WindDir3pm_SSW  WindDir3pm_SW  \\\n",
       "0             0              0               0               0              1   \n",
       "1             0              0               0               0              0   \n",
       "2             0              0               0               0              0   \n",
       "3             0              1               0               0              0   \n",
       "4             0              0               0               0              0   \n",
       "\n",
       "   WindDir3pm_W  WindDir3pm_WNW  WindDir3pm_WSW  RainToday_Yes  Month_August  \\\n",
       "0             0               0               0              1             0   \n",
       "1             0               0               1              1             0   \n",
       "2             0               1               0              0             0   \n",
       "3             0               0               0              0             0   \n",
       "4             1               0               0              0             0   \n",
       "\n",
       "   Month_December  Month_February  Month_January  Month_July  Month_June  \\\n",
       "0               0               0              0           0           0   \n",
       "1               0               0              1           0           0   \n",
       "2               0               0              0           0           1   \n",
       "3               1               0              0           0           0   \n",
       "4               0               0              0           0           0   \n",
       "\n",
       "   Month_March  Month_May  Month_November  Month_October  Month_September  \n",
       "0            1          0               0              0                0  \n",
       "1            0          0               0              0                0  \n",
       "2            0          0               0              0                0  \n",
       "3            0          0               0              0                0  \n",
       "4            0          0               0              0                0  "
      ]
     },
     "execution_count": 139,
     "metadata": {},
     "output_type": "execute_result"
    }
   ],
   "source": [
    "# To perform n-1 dummy encoding for each categorical variable - set drop_first to 'True'\n",
    "# This will drop the first category of each categorical variable\n",
    "\n",
    "df_dummy = pd.get_dummies(data=df_cat,drop_first = True)\n",
    "df_dummy.head(5)"
   ]
  },
  {
   "cell_type": "code",
   "execution_count": 140,
   "metadata": {},
   "outputs": [
    {
     "data": {
      "text/plain": [
       "(1040, 42)"
      ]
     },
     "execution_count": 140,
     "metadata": {},
     "output_type": "execute_result"
    }
   ],
   "source": [
    "df_dummy.shape"
   ]
  },
  {
   "cell_type": "markdown",
   "metadata": {},
   "source": [
    "###  INFERENCE:   <font color='green'> To perform n-1 dummy encoding for each categorical variable - set drop_first to 'True'. This will drop the first category of each categorical variable. After dummy encoding, number of categorical features has increased from  4 to 42 columns.</font>"
   ]
  },
  {
   "cell_type": "markdown",
   "metadata": {},
   "source": [
    "<a id=\"scale\"></a>\n",
    "## 2.7 Scale the Data "
   ]
  },
  {
   "cell_type": "markdown",
   "metadata": {},
   "source": [
    "**We scale the variables to get all the variables in the same range. With this, we can avoid a problem in which some features come to dominate solely because they tend to have larger values than others.**"
   ]
  },
  {
   "cell_type": "code",
   "execution_count": 141,
   "metadata": {},
   "outputs": [
    {
     "data": {
      "text/html": [
       "<div>\n",
       "<style scoped>\n",
       "    .dataframe tbody tr th:only-of-type {\n",
       "        vertical-align: middle;\n",
       "    }\n",
       "\n",
       "    .dataframe tbody tr th {\n",
       "        vertical-align: top;\n",
       "    }\n",
       "\n",
       "    .dataframe thead th {\n",
       "        text-align: right;\n",
       "    }\n",
       "</style>\n",
       "<table border=\"1\" class=\"dataframe\">\n",
       "  <thead>\n",
       "    <tr style=\"text-align: right;\">\n",
       "      <th></th>\n",
       "      <th>MinTemp</th>\n",
       "      <th>MaxTemp</th>\n",
       "      <th>Rainfall</th>\n",
       "      <th>Evaporation</th>\n",
       "      <th>Sunshine</th>\n",
       "      <th>WindGustSpeed</th>\n",
       "      <th>Humidity9am</th>\n",
       "      <th>Humidity3pm</th>\n",
       "      <th>Pressure9am</th>\n",
       "      <th>Pressure3pm</th>\n",
       "      <th>Cloud9am</th>\n",
       "      <th>Cloud3pm</th>\n",
       "      <th>Temp9am</th>\n",
       "      <th>Temp3pm</th>\n",
       "    </tr>\n",
       "  </thead>\n",
       "  <tbody>\n",
       "    <tr>\n",
       "      <th>0</th>\n",
       "      <td>0.614679</td>\n",
       "      <td>0.474273</td>\n",
       "      <td>0.067545</td>\n",
       "      <td>0.189822</td>\n",
       "      <td>0.551187</td>\n",
       "      <td>0.519231</td>\n",
       "      <td>0.670213</td>\n",
       "      <td>0.917526</td>\n",
       "      <td>0.597403</td>\n",
       "      <td>0.609914</td>\n",
       "      <td>0.125000</td>\n",
       "      <td>1.000000</td>\n",
       "      <td>0.482100</td>\n",
       "      <td>0.408389</td>\n",
       "    </tr>\n",
       "    <tr>\n",
       "      <th>1</th>\n",
       "      <td>0.691131</td>\n",
       "      <td>0.597315</td>\n",
       "      <td>0.131796</td>\n",
       "      <td>0.198413</td>\n",
       "      <td>0.855072</td>\n",
       "      <td>0.288462</td>\n",
       "      <td>0.574468</td>\n",
       "      <td>0.340206</td>\n",
       "      <td>0.339518</td>\n",
       "      <td>0.308190</td>\n",
       "      <td>0.875000</td>\n",
       "      <td>0.125000</td>\n",
       "      <td>0.596659</td>\n",
       "      <td>0.618102</td>\n",
       "    </tr>\n",
       "    <tr>\n",
       "      <th>2</th>\n",
       "      <td>0.391437</td>\n",
       "      <td>0.387025</td>\n",
       "      <td>0.000000</td>\n",
       "      <td>0.189822</td>\n",
       "      <td>0.551187</td>\n",
       "      <td>0.451923</td>\n",
       "      <td>0.372340</td>\n",
       "      <td>0.391753</td>\n",
       "      <td>0.574726</td>\n",
       "      <td>0.552402</td>\n",
       "      <td>0.574021</td>\n",
       "      <td>0.555905</td>\n",
       "      <td>0.379475</td>\n",
       "      <td>0.397351</td>\n",
       "    </tr>\n",
       "    <tr>\n",
       "      <th>3</th>\n",
       "      <td>0.905199</td>\n",
       "      <td>0.776286</td>\n",
       "      <td>0.001647</td>\n",
       "      <td>0.182540</td>\n",
       "      <td>0.507246</td>\n",
       "      <td>0.307692</td>\n",
       "      <td>0.617021</td>\n",
       "      <td>0.577320</td>\n",
       "      <td>0.435993</td>\n",
       "      <td>0.390086</td>\n",
       "      <td>0.750000</td>\n",
       "      <td>0.625000</td>\n",
       "      <td>0.801909</td>\n",
       "      <td>0.759382</td>\n",
       "    </tr>\n",
       "    <tr>\n",
       "      <th>4</th>\n",
       "      <td>0.241590</td>\n",
       "      <td>0.532438</td>\n",
       "      <td>0.000000</td>\n",
       "      <td>0.189822</td>\n",
       "      <td>0.551187</td>\n",
       "      <td>0.182692</td>\n",
       "      <td>0.531915</td>\n",
       "      <td>0.268041</td>\n",
       "      <td>0.574726</td>\n",
       "      <td>0.552402</td>\n",
       "      <td>0.574021</td>\n",
       "      <td>0.555905</td>\n",
       "      <td>0.400955</td>\n",
       "      <td>0.529801</td>\n",
       "    </tr>\n",
       "  </tbody>\n",
       "</table>\n",
       "</div>"
      ],
      "text/plain": [
       "    MinTemp   MaxTemp  Rainfall  Evaporation  Sunshine  WindGustSpeed  \\\n",
       "0  0.614679  0.474273  0.067545     0.189822  0.551187       0.519231   \n",
       "1  0.691131  0.597315  0.131796     0.198413  0.855072       0.288462   \n",
       "2  0.391437  0.387025  0.000000     0.189822  0.551187       0.451923   \n",
       "3  0.905199  0.776286  0.001647     0.182540  0.507246       0.307692   \n",
       "4  0.241590  0.532438  0.000000     0.189822  0.551187       0.182692   \n",
       "\n",
       "   Humidity9am  Humidity3pm  Pressure9am  Pressure3pm  Cloud9am  Cloud3pm  \\\n",
       "0     0.670213     0.917526     0.597403     0.609914  0.125000  1.000000   \n",
       "1     0.574468     0.340206     0.339518     0.308190  0.875000  0.125000   \n",
       "2     0.372340     0.391753     0.574726     0.552402  0.574021  0.555905   \n",
       "3     0.617021     0.577320     0.435993     0.390086  0.750000  0.625000   \n",
       "4     0.531915     0.268041     0.574726     0.552402  0.574021  0.555905   \n",
       "\n",
       "    Temp9am   Temp3pm  \n",
       "0  0.482100  0.408389  \n",
       "1  0.596659  0.618102  \n",
       "2  0.379475  0.397351  \n",
       "3  0.801909  0.759382  \n",
       "4  0.400955  0.529801  "
      ]
     },
     "execution_count": 141,
     "metadata": {},
     "output_type": "execute_result"
    }
   ],
   "source": [
    "# Min-max scaler\n",
    "\n",
    "from sklearn.preprocessing import MinMaxScaler\n",
    "scaler = MinMaxScaler()\n",
    "num_scaled = scaler.fit_transform(df_num)\n",
    "df_num_scaled = pd.DataFrame(num_scaled, columns = df_num.columns)\n",
    "df_num_scaled.head()"
   ]
  },
  {
   "cell_type": "markdown",
   "metadata": {},
   "source": [
    "###  INFERENCE:   <font color='green'> Scaling is performed only on numerical variables. We have used Min-Max scaler inorder to retain actual values of data and do not want to standardize them (i.e making mean =0 and SD=1). Since the data contains outliers , its better to use Min-Max scaler as they are robust to outliers.    </font>"
   ]
  },
  {
   "cell_type": "markdown",
   "metadata": {},
   "source": [
    "#### Concatenate scaled numerical and dummy encoded categorical variables."
   ]
  },
  {
   "cell_type": "code",
   "execution_count": 142,
   "metadata": {},
   "outputs": [
    {
     "data": {
      "text/html": [
       "<div>\n",
       "<style scoped>\n",
       "    .dataframe tbody tr th:only-of-type {\n",
       "        vertical-align: middle;\n",
       "    }\n",
       "\n",
       "    .dataframe tbody tr th {\n",
       "        vertical-align: top;\n",
       "    }\n",
       "\n",
       "    .dataframe thead th {\n",
       "        text-align: right;\n",
       "    }\n",
       "</style>\n",
       "<table border=\"1\" class=\"dataframe\">\n",
       "  <thead>\n",
       "    <tr style=\"text-align: right;\">\n",
       "      <th></th>\n",
       "      <th>MinTemp</th>\n",
       "      <th>MaxTemp</th>\n",
       "      <th>Rainfall</th>\n",
       "      <th>Evaporation</th>\n",
       "      <th>Sunshine</th>\n",
       "      <th>WindGustSpeed</th>\n",
       "      <th>Humidity9am</th>\n",
       "      <th>Humidity3pm</th>\n",
       "      <th>Pressure9am</th>\n",
       "      <th>Pressure3pm</th>\n",
       "      <th>Cloud9am</th>\n",
       "      <th>Cloud3pm</th>\n",
       "      <th>Temp9am</th>\n",
       "      <th>Temp3pm</th>\n",
       "      <th>WindDir9am_ENE</th>\n",
       "      <th>WindDir9am_ESE</th>\n",
       "      <th>WindDir9am_N</th>\n",
       "      <th>WindDir9am_NE</th>\n",
       "      <th>WindDir9am_NNE</th>\n",
       "      <th>WindDir9am_NNW</th>\n",
       "      <th>WindDir9am_NW</th>\n",
       "      <th>WindDir9am_S</th>\n",
       "      <th>WindDir9am_SE</th>\n",
       "      <th>WindDir9am_SSE</th>\n",
       "      <th>WindDir9am_SSW</th>\n",
       "      <th>WindDir9am_SW</th>\n",
       "      <th>WindDir9am_W</th>\n",
       "      <th>WindDir9am_WNW</th>\n",
       "      <th>WindDir9am_WSW</th>\n",
       "      <th>WindDir3pm_ENE</th>\n",
       "      <th>WindDir3pm_ESE</th>\n",
       "      <th>WindDir3pm_N</th>\n",
       "      <th>WindDir3pm_NE</th>\n",
       "      <th>WindDir3pm_NNE</th>\n",
       "      <th>WindDir3pm_NNW</th>\n",
       "      <th>WindDir3pm_NW</th>\n",
       "      <th>WindDir3pm_S</th>\n",
       "      <th>WindDir3pm_SE</th>\n",
       "      <th>WindDir3pm_SSE</th>\n",
       "      <th>WindDir3pm_SSW</th>\n",
       "      <th>WindDir3pm_SW</th>\n",
       "      <th>WindDir3pm_W</th>\n",
       "      <th>WindDir3pm_WNW</th>\n",
       "      <th>WindDir3pm_WSW</th>\n",
       "      <th>RainToday_Yes</th>\n",
       "      <th>Month_August</th>\n",
       "      <th>Month_December</th>\n",
       "      <th>Month_February</th>\n",
       "      <th>Month_January</th>\n",
       "      <th>Month_July</th>\n",
       "      <th>Month_June</th>\n",
       "      <th>Month_March</th>\n",
       "      <th>Month_May</th>\n",
       "      <th>Month_November</th>\n",
       "      <th>Month_October</th>\n",
       "      <th>Month_September</th>\n",
       "    </tr>\n",
       "  </thead>\n",
       "  <tbody>\n",
       "    <tr>\n",
       "      <th>0</th>\n",
       "      <td>0.614679</td>\n",
       "      <td>0.474273</td>\n",
       "      <td>0.067545</td>\n",
       "      <td>0.189822</td>\n",
       "      <td>0.551187</td>\n",
       "      <td>0.519231</td>\n",
       "      <td>0.670213</td>\n",
       "      <td>0.917526</td>\n",
       "      <td>0.597403</td>\n",
       "      <td>0.609914</td>\n",
       "      <td>0.125000</td>\n",
       "      <td>1.000000</td>\n",
       "      <td>0.482100</td>\n",
       "      <td>0.408389</td>\n",
       "      <td>0</td>\n",
       "      <td>0</td>\n",
       "      <td>0</td>\n",
       "      <td>0</td>\n",
       "      <td>0</td>\n",
       "      <td>0</td>\n",
       "      <td>0</td>\n",
       "      <td>0</td>\n",
       "      <td>0</td>\n",
       "      <td>0</td>\n",
       "      <td>1</td>\n",
       "      <td>0</td>\n",
       "      <td>0</td>\n",
       "      <td>0</td>\n",
       "      <td>0</td>\n",
       "      <td>0</td>\n",
       "      <td>0</td>\n",
       "      <td>0</td>\n",
       "      <td>0</td>\n",
       "      <td>0</td>\n",
       "      <td>0</td>\n",
       "      <td>0</td>\n",
       "      <td>0</td>\n",
       "      <td>0</td>\n",
       "      <td>0</td>\n",
       "      <td>0</td>\n",
       "      <td>1</td>\n",
       "      <td>0</td>\n",
       "      <td>0</td>\n",
       "      <td>0</td>\n",
       "      <td>1</td>\n",
       "      <td>0</td>\n",
       "      <td>0</td>\n",
       "      <td>0</td>\n",
       "      <td>0</td>\n",
       "      <td>0</td>\n",
       "      <td>0</td>\n",
       "      <td>1</td>\n",
       "      <td>0</td>\n",
       "      <td>0</td>\n",
       "      <td>0</td>\n",
       "      <td>0</td>\n",
       "    </tr>\n",
       "    <tr>\n",
       "      <th>1</th>\n",
       "      <td>0.691131</td>\n",
       "      <td>0.597315</td>\n",
       "      <td>0.131796</td>\n",
       "      <td>0.198413</td>\n",
       "      <td>0.855072</td>\n",
       "      <td>0.288462</td>\n",
       "      <td>0.574468</td>\n",
       "      <td>0.340206</td>\n",
       "      <td>0.339518</td>\n",
       "      <td>0.308190</td>\n",
       "      <td>0.875000</td>\n",
       "      <td>0.125000</td>\n",
       "      <td>0.596659</td>\n",
       "      <td>0.618102</td>\n",
       "      <td>0</td>\n",
       "      <td>0</td>\n",
       "      <td>0</td>\n",
       "      <td>0</td>\n",
       "      <td>0</td>\n",
       "      <td>0</td>\n",
       "      <td>0</td>\n",
       "      <td>0</td>\n",
       "      <td>0</td>\n",
       "      <td>0</td>\n",
       "      <td>1</td>\n",
       "      <td>0</td>\n",
       "      <td>0</td>\n",
       "      <td>0</td>\n",
       "      <td>0</td>\n",
       "      <td>0</td>\n",
       "      <td>0</td>\n",
       "      <td>0</td>\n",
       "      <td>0</td>\n",
       "      <td>0</td>\n",
       "      <td>0</td>\n",
       "      <td>0</td>\n",
       "      <td>0</td>\n",
       "      <td>0</td>\n",
       "      <td>0</td>\n",
       "      <td>0</td>\n",
       "      <td>0</td>\n",
       "      <td>0</td>\n",
       "      <td>0</td>\n",
       "      <td>1</td>\n",
       "      <td>1</td>\n",
       "      <td>0</td>\n",
       "      <td>0</td>\n",
       "      <td>0</td>\n",
       "      <td>1</td>\n",
       "      <td>0</td>\n",
       "      <td>0</td>\n",
       "      <td>0</td>\n",
       "      <td>0</td>\n",
       "      <td>0</td>\n",
       "      <td>0</td>\n",
       "      <td>0</td>\n",
       "    </tr>\n",
       "    <tr>\n",
       "      <th>2</th>\n",
       "      <td>0.391437</td>\n",
       "      <td>0.387025</td>\n",
       "      <td>0.000000</td>\n",
       "      <td>0.189822</td>\n",
       "      <td>0.551187</td>\n",
       "      <td>0.451923</td>\n",
       "      <td>0.372340</td>\n",
       "      <td>0.391753</td>\n",
       "      <td>0.574726</td>\n",
       "      <td>0.552402</td>\n",
       "      <td>0.574021</td>\n",
       "      <td>0.555905</td>\n",
       "      <td>0.379475</td>\n",
       "      <td>0.397351</td>\n",
       "      <td>0</td>\n",
       "      <td>0</td>\n",
       "      <td>0</td>\n",
       "      <td>0</td>\n",
       "      <td>0</td>\n",
       "      <td>0</td>\n",
       "      <td>0</td>\n",
       "      <td>0</td>\n",
       "      <td>0</td>\n",
       "      <td>0</td>\n",
       "      <td>0</td>\n",
       "      <td>0</td>\n",
       "      <td>0</td>\n",
       "      <td>1</td>\n",
       "      <td>0</td>\n",
       "      <td>0</td>\n",
       "      <td>0</td>\n",
       "      <td>0</td>\n",
       "      <td>0</td>\n",
       "      <td>0</td>\n",
       "      <td>0</td>\n",
       "      <td>0</td>\n",
       "      <td>0</td>\n",
       "      <td>0</td>\n",
       "      <td>0</td>\n",
       "      <td>0</td>\n",
       "      <td>0</td>\n",
       "      <td>0</td>\n",
       "      <td>1</td>\n",
       "      <td>0</td>\n",
       "      <td>0</td>\n",
       "      <td>0</td>\n",
       "      <td>0</td>\n",
       "      <td>0</td>\n",
       "      <td>0</td>\n",
       "      <td>0</td>\n",
       "      <td>1</td>\n",
       "      <td>0</td>\n",
       "      <td>0</td>\n",
       "      <td>0</td>\n",
       "      <td>0</td>\n",
       "      <td>0</td>\n",
       "    </tr>\n",
       "    <tr>\n",
       "      <th>3</th>\n",
       "      <td>0.905199</td>\n",
       "      <td>0.776286</td>\n",
       "      <td>0.001647</td>\n",
       "      <td>0.182540</td>\n",
       "      <td>0.507246</td>\n",
       "      <td>0.307692</td>\n",
       "      <td>0.617021</td>\n",
       "      <td>0.577320</td>\n",
       "      <td>0.435993</td>\n",
       "      <td>0.390086</td>\n",
       "      <td>0.750000</td>\n",
       "      <td>0.625000</td>\n",
       "      <td>0.801909</td>\n",
       "      <td>0.759382</td>\n",
       "      <td>0</td>\n",
       "      <td>0</td>\n",
       "      <td>0</td>\n",
       "      <td>0</td>\n",
       "      <td>0</td>\n",
       "      <td>0</td>\n",
       "      <td>0</td>\n",
       "      <td>0</td>\n",
       "      <td>0</td>\n",
       "      <td>1</td>\n",
       "      <td>0</td>\n",
       "      <td>0</td>\n",
       "      <td>0</td>\n",
       "      <td>0</td>\n",
       "      <td>0</td>\n",
       "      <td>0</td>\n",
       "      <td>0</td>\n",
       "      <td>0</td>\n",
       "      <td>0</td>\n",
       "      <td>0</td>\n",
       "      <td>0</td>\n",
       "      <td>0</td>\n",
       "      <td>0</td>\n",
       "      <td>1</td>\n",
       "      <td>0</td>\n",
       "      <td>0</td>\n",
       "      <td>0</td>\n",
       "      <td>0</td>\n",
       "      <td>0</td>\n",
       "      <td>0</td>\n",
       "      <td>0</td>\n",
       "      <td>0</td>\n",
       "      <td>1</td>\n",
       "      <td>0</td>\n",
       "      <td>0</td>\n",
       "      <td>0</td>\n",
       "      <td>0</td>\n",
       "      <td>0</td>\n",
       "      <td>0</td>\n",
       "      <td>0</td>\n",
       "      <td>0</td>\n",
       "      <td>0</td>\n",
       "    </tr>\n",
       "    <tr>\n",
       "      <th>4</th>\n",
       "      <td>0.241590</td>\n",
       "      <td>0.532438</td>\n",
       "      <td>0.000000</td>\n",
       "      <td>0.189822</td>\n",
       "      <td>0.551187</td>\n",
       "      <td>0.182692</td>\n",
       "      <td>0.531915</td>\n",
       "      <td>0.268041</td>\n",
       "      <td>0.574726</td>\n",
       "      <td>0.552402</td>\n",
       "      <td>0.574021</td>\n",
       "      <td>0.555905</td>\n",
       "      <td>0.400955</td>\n",
       "      <td>0.529801</td>\n",
       "      <td>0</td>\n",
       "      <td>0</td>\n",
       "      <td>0</td>\n",
       "      <td>1</td>\n",
       "      <td>0</td>\n",
       "      <td>0</td>\n",
       "      <td>0</td>\n",
       "      <td>0</td>\n",
       "      <td>0</td>\n",
       "      <td>0</td>\n",
       "      <td>0</td>\n",
       "      <td>0</td>\n",
       "      <td>0</td>\n",
       "      <td>0</td>\n",
       "      <td>0</td>\n",
       "      <td>0</td>\n",
       "      <td>0</td>\n",
       "      <td>0</td>\n",
       "      <td>0</td>\n",
       "      <td>0</td>\n",
       "      <td>0</td>\n",
       "      <td>0</td>\n",
       "      <td>0</td>\n",
       "      <td>0</td>\n",
       "      <td>0</td>\n",
       "      <td>0</td>\n",
       "      <td>0</td>\n",
       "      <td>1</td>\n",
       "      <td>0</td>\n",
       "      <td>0</td>\n",
       "      <td>0</td>\n",
       "      <td>0</td>\n",
       "      <td>0</td>\n",
       "      <td>0</td>\n",
       "      <td>0</td>\n",
       "      <td>0</td>\n",
       "      <td>0</td>\n",
       "      <td>0</td>\n",
       "      <td>0</td>\n",
       "      <td>0</td>\n",
       "      <td>0</td>\n",
       "      <td>0</td>\n",
       "    </tr>\n",
       "  </tbody>\n",
       "</table>\n",
       "</div>"
      ],
      "text/plain": [
       "    MinTemp   MaxTemp  Rainfall  Evaporation  Sunshine  WindGustSpeed  \\\n",
       "0  0.614679  0.474273  0.067545     0.189822  0.551187       0.519231   \n",
       "1  0.691131  0.597315  0.131796     0.198413  0.855072       0.288462   \n",
       "2  0.391437  0.387025  0.000000     0.189822  0.551187       0.451923   \n",
       "3  0.905199  0.776286  0.001647     0.182540  0.507246       0.307692   \n",
       "4  0.241590  0.532438  0.000000     0.189822  0.551187       0.182692   \n",
       "\n",
       "   Humidity9am  Humidity3pm  Pressure9am  Pressure3pm  Cloud9am  Cloud3pm  \\\n",
       "0     0.670213     0.917526     0.597403     0.609914  0.125000  1.000000   \n",
       "1     0.574468     0.340206     0.339518     0.308190  0.875000  0.125000   \n",
       "2     0.372340     0.391753     0.574726     0.552402  0.574021  0.555905   \n",
       "3     0.617021     0.577320     0.435993     0.390086  0.750000  0.625000   \n",
       "4     0.531915     0.268041     0.574726     0.552402  0.574021  0.555905   \n",
       "\n",
       "    Temp9am   Temp3pm  WindDir9am_ENE  WindDir9am_ESE  WindDir9am_N  \\\n",
       "0  0.482100  0.408389               0               0             0   \n",
       "1  0.596659  0.618102               0               0             0   \n",
       "2  0.379475  0.397351               0               0             0   \n",
       "3  0.801909  0.759382               0               0             0   \n",
       "4  0.400955  0.529801               0               0             0   \n",
       "\n",
       "   WindDir9am_NE  WindDir9am_NNE  WindDir9am_NNW  WindDir9am_NW  WindDir9am_S  \\\n",
       "0              0               0               0              0             0   \n",
       "1              0               0               0              0             0   \n",
       "2              0               0               0              0             0   \n",
       "3              0               0               0              0             0   \n",
       "4              1               0               0              0             0   \n",
       "\n",
       "   WindDir9am_SE  WindDir9am_SSE  WindDir9am_SSW  WindDir9am_SW  WindDir9am_W  \\\n",
       "0              0               0               1              0             0   \n",
       "1              0               0               1              0             0   \n",
       "2              0               0               0              0             0   \n",
       "3              0               1               0              0             0   \n",
       "4              0               0               0              0             0   \n",
       "\n",
       "   WindDir9am_WNW  WindDir9am_WSW  WindDir3pm_ENE  WindDir3pm_ESE  \\\n",
       "0               0               0               0               0   \n",
       "1               0               0               0               0   \n",
       "2               1               0               0               0   \n",
       "3               0               0               0               0   \n",
       "4               0               0               0               0   \n",
       "\n",
       "   WindDir3pm_N  WindDir3pm_NE  WindDir3pm_NNE  WindDir3pm_NNW  WindDir3pm_NW  \\\n",
       "0             0              0               0               0              0   \n",
       "1             0              0               0               0              0   \n",
       "2             0              0               0               0              0   \n",
       "3             0              0               0               0              0   \n",
       "4             0              0               0               0              0   \n",
       "\n",
       "   WindDir3pm_S  WindDir3pm_SE  WindDir3pm_SSE  WindDir3pm_SSW  WindDir3pm_SW  \\\n",
       "0             0              0               0               0              1   \n",
       "1             0              0               0               0              0   \n",
       "2             0              0               0               0              0   \n",
       "3             0              1               0               0              0   \n",
       "4             0              0               0               0              0   \n",
       "\n",
       "   WindDir3pm_W  WindDir3pm_WNW  WindDir3pm_WSW  RainToday_Yes  Month_August  \\\n",
       "0             0               0               0              1             0   \n",
       "1             0               0               1              1             0   \n",
       "2             0               1               0              0             0   \n",
       "3             0               0               0              0             0   \n",
       "4             1               0               0              0             0   \n",
       "\n",
       "   Month_December  Month_February  Month_January  Month_July  Month_June  \\\n",
       "0               0               0              0           0           0   \n",
       "1               0               0              1           0           0   \n",
       "2               0               0              0           0           1   \n",
       "3               1               0              0           0           0   \n",
       "4               0               0              0           0           0   \n",
       "\n",
       "   Month_March  Month_May  Month_November  Month_October  Month_September  \n",
       "0            1          0               0              0                0  \n",
       "1            0          0               0              0                0  \n",
       "2            0          0               0              0                0  \n",
       "3            0          0               0              0                0  \n",
       "4            0          0               0              0                0  "
      ]
     },
     "execution_count": 142,
     "metadata": {},
     "output_type": "execute_result"
    }
   ],
   "source": [
    "X = pd.concat([df_num_scaled,df_dummy], axis = 1)\n",
    "X.head()"
   ]
  },
  {
   "cell_type": "markdown",
   "metadata": {},
   "source": [
    "###  INFERENCE:   <font color='green'> After scaling numerical variables using a separate dataframe and performing dummy enoding for categorical variables in a different dataframe, lets merge them into a single input dataframe -'X'.    </font>"
   ]
  },
  {
   "cell_type": "code",
   "execution_count": 143,
   "metadata": {},
   "outputs": [
    {
     "name": "stdout",
     "output_type": "stream",
     "text": [
      "<class 'pandas.core.frame.DataFrame'>\n",
      "RangeIndex: 1040 entries, 0 to 1039\n",
      "Data columns (total 56 columns):\n",
      " #   Column           Non-Null Count  Dtype  \n",
      "---  ------           --------------  -----  \n",
      " 0   MinTemp          1040 non-null   float64\n",
      " 1   MaxTemp          1040 non-null   float64\n",
      " 2   Rainfall         1040 non-null   float64\n",
      " 3   Evaporation      1040 non-null   float64\n",
      " 4   Sunshine         1040 non-null   float64\n",
      " 5   WindGustSpeed    1040 non-null   float64\n",
      " 6   Humidity9am      1040 non-null   float64\n",
      " 7   Humidity3pm      1040 non-null   float64\n",
      " 8   Pressure9am      1040 non-null   float64\n",
      " 9   Pressure3pm      1040 non-null   float64\n",
      " 10  Cloud9am         1040 non-null   float64\n",
      " 11  Cloud3pm         1040 non-null   float64\n",
      " 12  Temp9am          1040 non-null   float64\n",
      " 13  Temp3pm          1040 non-null   float64\n",
      " 14  WindDir9am_ENE   1040 non-null   uint8  \n",
      " 15  WindDir9am_ESE   1040 non-null   uint8  \n",
      " 16  WindDir9am_N     1040 non-null   uint8  \n",
      " 17  WindDir9am_NE    1040 non-null   uint8  \n",
      " 18  WindDir9am_NNE   1040 non-null   uint8  \n",
      " 19  WindDir9am_NNW   1040 non-null   uint8  \n",
      " 20  WindDir9am_NW    1040 non-null   uint8  \n",
      " 21  WindDir9am_S     1040 non-null   uint8  \n",
      " 22  WindDir9am_SE    1040 non-null   uint8  \n",
      " 23  WindDir9am_SSE   1040 non-null   uint8  \n",
      " 24  WindDir9am_SSW   1040 non-null   uint8  \n",
      " 25  WindDir9am_SW    1040 non-null   uint8  \n",
      " 26  WindDir9am_W     1040 non-null   uint8  \n",
      " 27  WindDir9am_WNW   1040 non-null   uint8  \n",
      " 28  WindDir9am_WSW   1040 non-null   uint8  \n",
      " 29  WindDir3pm_ENE   1040 non-null   uint8  \n",
      " 30  WindDir3pm_ESE   1040 non-null   uint8  \n",
      " 31  WindDir3pm_N     1040 non-null   uint8  \n",
      " 32  WindDir3pm_NE    1040 non-null   uint8  \n",
      " 33  WindDir3pm_NNE   1040 non-null   uint8  \n",
      " 34  WindDir3pm_NNW   1040 non-null   uint8  \n",
      " 35  WindDir3pm_NW    1040 non-null   uint8  \n",
      " 36  WindDir3pm_S     1040 non-null   uint8  \n",
      " 37  WindDir3pm_SE    1040 non-null   uint8  \n",
      " 38  WindDir3pm_SSE   1040 non-null   uint8  \n",
      " 39  WindDir3pm_SSW   1040 non-null   uint8  \n",
      " 40  WindDir3pm_SW    1040 non-null   uint8  \n",
      " 41  WindDir3pm_W     1040 non-null   uint8  \n",
      " 42  WindDir3pm_WNW   1040 non-null   uint8  \n",
      " 43  WindDir3pm_WSW   1040 non-null   uint8  \n",
      " 44  RainToday_Yes    1040 non-null   uint8  \n",
      " 45  Month_August     1040 non-null   uint8  \n",
      " 46  Month_December   1040 non-null   uint8  \n",
      " 47  Month_February   1040 non-null   uint8  \n",
      " 48  Month_January    1040 non-null   uint8  \n",
      " 49  Month_July       1040 non-null   uint8  \n",
      " 50  Month_June       1040 non-null   uint8  \n",
      " 51  Month_March      1040 non-null   uint8  \n",
      " 52  Month_May        1040 non-null   uint8  \n",
      " 53  Month_November   1040 non-null   uint8  \n",
      " 54  Month_October    1040 non-null   uint8  \n",
      " 55  Month_September  1040 non-null   uint8  \n",
      "dtypes: float64(14), uint8(42)\n",
      "memory usage: 156.5 KB\n"
     ]
    }
   ],
   "source": [
    "X.info()"
   ]
  },
  {
   "cell_type": "markdown",
   "metadata": {},
   "source": [
    "<a id=\"split\"></a>\n",
    "## 2.8 Train-Test Split"
   ]
  },
  {
   "cell_type": "code",
   "execution_count": 144,
   "metadata": {},
   "outputs": [
    {
     "name": "stdout",
     "output_type": "stream",
     "text": [
      "Shape of X_train (728, 57)\n",
      "Shape of Y_train (728,)\n",
      "Shape of X_test (312, 57)\n",
      "Shape of Y_test (312,)\n"
     ]
    }
   ],
   "source": [
    "# import functions\n",
    "import statsmodels\n",
    "import statsmodels.api as sm\n",
    "\n",
    "# Since intercept is not considered by default while using the 'Logit' method \n",
    "# we can add it to the set of independent variables using 'add_constant()'\n",
    "X = sm.add_constant(X)\n",
    "\n",
    "# Here X = set of independent variables and df_dep = dependent variable('RainTomorrow')\n",
    "X_train, X_test, Y_train, Y_test = train_test_split(X, df_dep, random_state=10, test_size = 0.3)\n",
    "\n",
    "# Print dimension of train set\n",
    "print('Shape of X_train', X_train.shape)\n",
    "print('Shape of Y_train', Y_train.shape)\n",
    "\n",
    "# Print dimension of test set\n",
    "print('Shape of X_test', X_test.shape)\n",
    "print('Shape of Y_test', Y_test.shape)"
   ]
  },
  {
   "cell_type": "markdown",
   "metadata": {},
   "source": [
    "<a id=\"logit\"></a>\n",
    "# 3. Logistic Regression (Full Model)"
   ]
  },
  {
   "cell_type": "markdown",
   "metadata": {},
   "source": [
    "#### Build a full logistic model on a training dataset."
   ]
  },
  {
   "cell_type": "code",
   "execution_count": 145,
   "metadata": {},
   "outputs": [
    {
     "name": "stdout",
     "output_type": "stream",
     "text": [
      "Optimization terminated successfully.\n",
      "         Current function value: 0.302582\n",
      "         Iterations 8\n"
     ]
    },
    {
     "data": {
      "text/html": [
       "<table class=\"simpletable\">\n",
       "<caption>Logit Regression Results</caption>\n",
       "<tr>\n",
       "  <th>Dep. Variable:</th>     <td>RainTomorrow</td>   <th>  No. Observations:  </th>  <td>   728</td>  \n",
       "</tr>\n",
       "<tr>\n",
       "  <th>Model:</th>                 <td>Logit</td>      <th>  Df Residuals:      </th>  <td>   671</td>  \n",
       "</tr>\n",
       "<tr>\n",
       "  <th>Method:</th>                 <td>MLE</td>       <th>  Df Model:          </th>  <td>    56</td>  \n",
       "</tr>\n",
       "<tr>\n",
       "  <th>Date:</th>            <td>Sun, 07 May 2023</td> <th>  Pseudo R-squ.:     </th>  <td>0.3868</td>  \n",
       "</tr>\n",
       "<tr>\n",
       "  <th>Time:</th>                <td>18:04:22</td>     <th>  Log-Likelihood:    </th> <td> -220.28</td> \n",
       "</tr>\n",
       "<tr>\n",
       "  <th>converged:</th>             <td>True</td>       <th>  LL-Null:           </th> <td> -359.25</td> \n",
       "</tr>\n",
       "<tr>\n",
       "  <th>Covariance Type:</th>     <td>nonrobust</td>    <th>  LLR p-value:       </th> <td>3.648e-31</td>\n",
       "</tr>\n",
       "</table>\n",
       "<table class=\"simpletable\">\n",
       "<tr>\n",
       "         <td></td>            <th>coef</th>     <th>std err</th>      <th>z</th>      <th>P>|z|</th>  <th>[0.025</th>    <th>0.975]</th>  \n",
       "</tr>\n",
       "<tr>\n",
       "  <th>const</th>           <td>   -8.6243</td> <td>    2.163</td> <td>   -3.988</td> <td> 0.000</td> <td>  -12.863</td> <td>   -4.385</td>\n",
       "</tr>\n",
       "<tr>\n",
       "  <th>MinTemp</th>         <td>    0.8720</td> <td>    2.164</td> <td>    0.403</td> <td> 0.687</td> <td>   -3.369</td> <td>    5.113</td>\n",
       "</tr>\n",
       "<tr>\n",
       "  <th>MaxTemp</th>         <td>   -1.6772</td> <td>    3.822</td> <td>   -0.439</td> <td> 0.661</td> <td>   -9.168</td> <td>    5.813</td>\n",
       "</tr>\n",
       "<tr>\n",
       "  <th>Rainfall</th>        <td>   -0.5686</td> <td>    2.678</td> <td>   -0.212</td> <td> 0.832</td> <td>   -5.817</td> <td>    4.680</td>\n",
       "</tr>\n",
       "<tr>\n",
       "  <th>Evaporation</th>     <td>   -0.0801</td> <td>    1.514</td> <td>   -0.053</td> <td> 0.958</td> <td>   -3.048</td> <td>    2.888</td>\n",
       "</tr>\n",
       "<tr>\n",
       "  <th>Sunshine</th>        <td>   -1.6042</td> <td>    0.880</td> <td>   -1.822</td> <td> 0.068</td> <td>   -3.330</td> <td>    0.121</td>\n",
       "</tr>\n",
       "<tr>\n",
       "  <th>WindGustSpeed</th>   <td>    7.2931</td> <td>    1.296</td> <td>    5.626</td> <td> 0.000</td> <td>    4.752</td> <td>    9.834</td>\n",
       "</tr>\n",
       "<tr>\n",
       "  <th>Humidity9am</th>     <td>    1.3066</td> <td>    1.306</td> <td>    1.000</td> <td> 0.317</td> <td>   -1.253</td> <td>    3.866</td>\n",
       "</tr>\n",
       "<tr>\n",
       "  <th>Humidity3pm</th>     <td>    7.9986</td> <td>    1.492</td> <td>    5.362</td> <td> 0.000</td> <td>    5.075</td> <td>   10.922</td>\n",
       "</tr>\n",
       "<tr>\n",
       "  <th>Pressure9am</th>     <td>   10.0760</td> <td>    4.624</td> <td>    2.179</td> <td> 0.029</td> <td>    1.013</td> <td>   19.139</td>\n",
       "</tr>\n",
       "<tr>\n",
       "  <th>Pressure3pm</th>     <td>  -12.1129</td> <td>    4.100</td> <td>   -2.954</td> <td> 0.003</td> <td>  -20.149</td> <td>   -4.076</td>\n",
       "</tr>\n",
       "<tr>\n",
       "  <th>Cloud9am</th>        <td>   -1.0343</td> <td>    0.702</td> <td>   -1.474</td> <td> 0.141</td> <td>   -2.410</td> <td>    0.341</td>\n",
       "</tr>\n",
       "<tr>\n",
       "  <th>Cloud3pm</th>        <td>    1.6260</td> <td>    0.766</td> <td>    2.122</td> <td> 0.034</td> <td>    0.124</td> <td>    3.128</td>\n",
       "</tr>\n",
       "<tr>\n",
       "  <th>Temp9am</th>         <td>   -4.7543</td> <td>    4.033</td> <td>   -1.179</td> <td> 0.238</td> <td>  -12.659</td> <td>    3.151</td>\n",
       "</tr>\n",
       "<tr>\n",
       "  <th>Temp3pm</th>         <td>    7.1883</td> <td>    4.312</td> <td>    1.667</td> <td> 0.096</td> <td>   -1.263</td> <td>   15.640</td>\n",
       "</tr>\n",
       "<tr>\n",
       "  <th>WindDir9am_ENE</th>  <td>    0.4493</td> <td>    0.916</td> <td>    0.490</td> <td> 0.624</td> <td>   -1.347</td> <td>    2.245</td>\n",
       "</tr>\n",
       "<tr>\n",
       "  <th>WindDir9am_ESE</th>  <td>   -0.7482</td> <td>    1.137</td> <td>   -0.658</td> <td> 0.510</td> <td>   -2.976</td> <td>    1.480</td>\n",
       "</tr>\n",
       "<tr>\n",
       "  <th>WindDir9am_N</th>    <td>    0.7528</td> <td>    0.759</td> <td>    0.992</td> <td> 0.321</td> <td>   -0.734</td> <td>    2.240</td>\n",
       "</tr>\n",
       "<tr>\n",
       "  <th>WindDir9am_NE</th>   <td>    0.1141</td> <td>    0.847</td> <td>    0.135</td> <td> 0.893</td> <td>   -1.546</td> <td>    1.774</td>\n",
       "</tr>\n",
       "<tr>\n",
       "  <th>WindDir9am_NNE</th>  <td>    0.5992</td> <td>    0.964</td> <td>    0.622</td> <td> 0.534</td> <td>   -1.290</td> <td>    2.488</td>\n",
       "</tr>\n",
       "<tr>\n",
       "  <th>WindDir9am_NNW</th>  <td>    0.7552</td> <td>    0.906</td> <td>    0.833</td> <td> 0.405</td> <td>   -1.021</td> <td>    2.531</td>\n",
       "</tr>\n",
       "<tr>\n",
       "  <th>WindDir9am_NW</th>   <td>    0.6545</td> <td>    0.827</td> <td>    0.792</td> <td> 0.428</td> <td>   -0.966</td> <td>    2.275</td>\n",
       "</tr>\n",
       "<tr>\n",
       "  <th>WindDir9am_S</th>    <td>    0.8638</td> <td>    0.884</td> <td>    0.977</td> <td> 0.329</td> <td>   -0.870</td> <td>    2.597</td>\n",
       "</tr>\n",
       "<tr>\n",
       "  <th>WindDir9am_SE</th>   <td>    0.8087</td> <td>    0.832</td> <td>    0.973</td> <td> 0.331</td> <td>   -0.821</td> <td>    2.438</td>\n",
       "</tr>\n",
       "<tr>\n",
       "  <th>WindDir9am_SSE</th>  <td>    0.5013</td> <td>    0.842</td> <td>    0.596</td> <td> 0.551</td> <td>   -1.148</td> <td>    2.151</td>\n",
       "</tr>\n",
       "<tr>\n",
       "  <th>WindDir9am_SSW</th>  <td>    0.4626</td> <td>    0.916</td> <td>    0.505</td> <td> 0.614</td> <td>   -1.333</td> <td>    2.258</td>\n",
       "</tr>\n",
       "<tr>\n",
       "  <th>WindDir9am_SW</th>   <td>    0.4153</td> <td>    0.967</td> <td>    0.430</td> <td> 0.667</td> <td>   -1.479</td> <td>    2.310</td>\n",
       "</tr>\n",
       "<tr>\n",
       "  <th>WindDir9am_W</th>    <td>    0.2976</td> <td>    0.813</td> <td>    0.366</td> <td> 0.714</td> <td>   -1.296</td> <td>    1.891</td>\n",
       "</tr>\n",
       "<tr>\n",
       "  <th>WindDir9am_WNW</th>  <td>    0.9609</td> <td>    0.864</td> <td>    1.112</td> <td> 0.266</td> <td>   -0.732</td> <td>    2.654</td>\n",
       "</tr>\n",
       "<tr>\n",
       "  <th>WindDir9am_WSW</th>  <td>   -0.4840</td> <td>    1.066</td> <td>   -0.454</td> <td> 0.650</td> <td>   -2.573</td> <td>    1.605</td>\n",
       "</tr>\n",
       "<tr>\n",
       "  <th>WindDir3pm_ENE</th>  <td>    0.0573</td> <td>    0.825</td> <td>    0.070</td> <td> 0.945</td> <td>   -1.559</td> <td>    1.674</td>\n",
       "</tr>\n",
       "<tr>\n",
       "  <th>WindDir3pm_ESE</th>  <td>    0.3813</td> <td>    0.792</td> <td>    0.481</td> <td> 0.630</td> <td>   -1.172</td> <td>    1.935</td>\n",
       "</tr>\n",
       "<tr>\n",
       "  <th>WindDir3pm_N</th>    <td>   -0.4753</td> <td>    0.817</td> <td>   -0.582</td> <td> 0.561</td> <td>   -2.076</td> <td>    1.126</td>\n",
       "</tr>\n",
       "<tr>\n",
       "  <th>WindDir3pm_NE</th>   <td>    0.1780</td> <td>    0.749</td> <td>    0.238</td> <td> 0.812</td> <td>   -1.290</td> <td>    1.646</td>\n",
       "</tr>\n",
       "<tr>\n",
       "  <th>WindDir3pm_NNE</th>  <td>   -0.7980</td> <td>    0.933</td> <td>   -0.855</td> <td> 0.392</td> <td>   -2.626</td> <td>    1.030</td>\n",
       "</tr>\n",
       "<tr>\n",
       "  <th>WindDir3pm_NNW</th>  <td>   -0.2641</td> <td>    0.785</td> <td>   -0.336</td> <td> 0.737</td> <td>   -1.803</td> <td>    1.275</td>\n",
       "</tr>\n",
       "<tr>\n",
       "  <th>WindDir3pm_NW</th>   <td>    0.8949</td> <td>    0.732</td> <td>    1.223</td> <td> 0.221</td> <td>   -0.539</td> <td>    2.329</td>\n",
       "</tr>\n",
       "<tr>\n",
       "  <th>WindDir3pm_S</th>    <td>    0.6567</td> <td>    0.782</td> <td>    0.839</td> <td> 0.401</td> <td>   -0.877</td> <td>    2.190</td>\n",
       "</tr>\n",
       "<tr>\n",
       "  <th>WindDir3pm_SE</th>   <td>    0.1654</td> <td>    0.709</td> <td>    0.233</td> <td> 0.816</td> <td>   -1.224</td> <td>    1.555</td>\n",
       "</tr>\n",
       "<tr>\n",
       "  <th>WindDir3pm_SSE</th>  <td>   -0.4395</td> <td>    0.809</td> <td>   -0.543</td> <td> 0.587</td> <td>   -2.025</td> <td>    1.146</td>\n",
       "</tr>\n",
       "<tr>\n",
       "  <th>WindDir3pm_SSW</th>  <td>    1.0225</td> <td>    0.845</td> <td>    1.210</td> <td> 0.226</td> <td>   -0.634</td> <td>    2.679</td>\n",
       "</tr>\n",
       "<tr>\n",
       "  <th>WindDir3pm_SW</th>   <td>   -0.4115</td> <td>    0.868</td> <td>   -0.474</td> <td> 0.635</td> <td>   -2.112</td> <td>    1.289</td>\n",
       "</tr>\n",
       "<tr>\n",
       "  <th>WindDir3pm_W</th>    <td>   -0.4943</td> <td>    0.795</td> <td>   -0.622</td> <td> 0.534</td> <td>   -2.052</td> <td>    1.064</td>\n",
       "</tr>\n",
       "<tr>\n",
       "  <th>WindDir3pm_WNW</th>  <td>   -0.9911</td> <td>    0.792</td> <td>   -1.251</td> <td> 0.211</td> <td>   -2.544</td> <td>    0.561</td>\n",
       "</tr>\n",
       "<tr>\n",
       "  <th>WindDir3pm_WSW</th>  <td>   -0.4943</td> <td>    0.934</td> <td>   -0.529</td> <td> 0.597</td> <td>   -2.325</td> <td>    1.337</td>\n",
       "</tr>\n",
       "<tr>\n",
       "  <th>RainToday_Yes</th>   <td>    0.2870</td> <td>    0.373</td> <td>    0.769</td> <td> 0.442</td> <td>   -0.444</td> <td>    1.018</td>\n",
       "</tr>\n",
       "<tr>\n",
       "  <th>Month_August</th>    <td>   -0.0343</td> <td>    0.548</td> <td>   -0.063</td> <td> 0.950</td> <td>   -1.109</td> <td>    1.041</td>\n",
       "</tr>\n",
       "<tr>\n",
       "  <th>Month_December</th>  <td>   -0.7559</td> <td>    0.584</td> <td>   -1.294</td> <td> 0.196</td> <td>   -1.901</td> <td>    0.389</td>\n",
       "</tr>\n",
       "<tr>\n",
       "  <th>Month_February</th>  <td>   -0.7266</td> <td>    0.679</td> <td>   -1.070</td> <td> 0.285</td> <td>   -2.057</td> <td>    0.604</td>\n",
       "</tr>\n",
       "<tr>\n",
       "  <th>Month_January</th>   <td>   -1.3505</td> <td>    0.652</td> <td>   -2.072</td> <td> 0.038</td> <td>   -2.628</td> <td>   -0.073</td>\n",
       "</tr>\n",
       "<tr>\n",
       "  <th>Month_July</th>      <td>   -0.3003</td> <td>    0.640</td> <td>   -0.469</td> <td> 0.639</td> <td>   -1.554</td> <td>    0.953</td>\n",
       "</tr>\n",
       "<tr>\n",
       "  <th>Month_June</th>      <td>   -0.9814</td> <td>    0.611</td> <td>   -1.607</td> <td> 0.108</td> <td>   -2.179</td> <td>    0.216</td>\n",
       "</tr>\n",
       "<tr>\n",
       "  <th>Month_March</th>     <td>   -1.5339</td> <td>    0.592</td> <td>   -2.592</td> <td> 0.010</td> <td>   -2.694</td> <td>   -0.374</td>\n",
       "</tr>\n",
       "<tr>\n",
       "  <th>Month_May</th>       <td>   -1.9318</td> <td>    0.651</td> <td>   -2.970</td> <td> 0.003</td> <td>   -3.207</td> <td>   -0.657</td>\n",
       "</tr>\n",
       "<tr>\n",
       "  <th>Month_November</th>  <td>   -0.1958</td> <td>    0.641</td> <td>   -0.305</td> <td> 0.760</td> <td>   -1.453</td> <td>    1.061</td>\n",
       "</tr>\n",
       "<tr>\n",
       "  <th>Month_October</th>   <td>   -1.4632</td> <td>    0.617</td> <td>   -2.370</td> <td> 0.018</td> <td>   -2.673</td> <td>   -0.253</td>\n",
       "</tr>\n",
       "<tr>\n",
       "  <th>Month_September</th> <td>   -1.1214</td> <td>    0.671</td> <td>   -1.671</td> <td> 0.095</td> <td>   -2.436</td> <td>    0.194</td>\n",
       "</tr>\n",
       "</table>"
      ],
      "text/plain": [
       "<class 'statsmodels.iolib.summary.Summary'>\n",
       "\"\"\"\n",
       "                           Logit Regression Results                           \n",
       "==============================================================================\n",
       "Dep. Variable:           RainTomorrow   No. Observations:                  728\n",
       "Model:                          Logit   Df Residuals:                      671\n",
       "Method:                           MLE   Df Model:                           56\n",
       "Date:                Sun, 07 May 2023   Pseudo R-squ.:                  0.3868\n",
       "Time:                        18:04:22   Log-Likelihood:                -220.28\n",
       "converged:                       True   LL-Null:                       -359.25\n",
       "Covariance Type:            nonrobust   LLR p-value:                 3.648e-31\n",
       "===================================================================================\n",
       "                      coef    std err          z      P>|z|      [0.025      0.975]\n",
       "-----------------------------------------------------------------------------------\n",
       "const              -8.6243      2.163     -3.988      0.000     -12.863      -4.385\n",
       "MinTemp             0.8720      2.164      0.403      0.687      -3.369       5.113\n",
       "MaxTemp            -1.6772      3.822     -0.439      0.661      -9.168       5.813\n",
       "Rainfall           -0.5686      2.678     -0.212      0.832      -5.817       4.680\n",
       "Evaporation        -0.0801      1.514     -0.053      0.958      -3.048       2.888\n",
       "Sunshine           -1.6042      0.880     -1.822      0.068      -3.330       0.121\n",
       "WindGustSpeed       7.2931      1.296      5.626      0.000       4.752       9.834\n",
       "Humidity9am         1.3066      1.306      1.000      0.317      -1.253       3.866\n",
       "Humidity3pm         7.9986      1.492      5.362      0.000       5.075      10.922\n",
       "Pressure9am        10.0760      4.624      2.179      0.029       1.013      19.139\n",
       "Pressure3pm       -12.1129      4.100     -2.954      0.003     -20.149      -4.076\n",
       "Cloud9am           -1.0343      0.702     -1.474      0.141      -2.410       0.341\n",
       "Cloud3pm            1.6260      0.766      2.122      0.034       0.124       3.128\n",
       "Temp9am            -4.7543      4.033     -1.179      0.238     -12.659       3.151\n",
       "Temp3pm             7.1883      4.312      1.667      0.096      -1.263      15.640\n",
       "WindDir9am_ENE      0.4493      0.916      0.490      0.624      -1.347       2.245\n",
       "WindDir9am_ESE     -0.7482      1.137     -0.658      0.510      -2.976       1.480\n",
       "WindDir9am_N        0.7528      0.759      0.992      0.321      -0.734       2.240\n",
       "WindDir9am_NE       0.1141      0.847      0.135      0.893      -1.546       1.774\n",
       "WindDir9am_NNE      0.5992      0.964      0.622      0.534      -1.290       2.488\n",
       "WindDir9am_NNW      0.7552      0.906      0.833      0.405      -1.021       2.531\n",
       "WindDir9am_NW       0.6545      0.827      0.792      0.428      -0.966       2.275\n",
       "WindDir9am_S        0.8638      0.884      0.977      0.329      -0.870       2.597\n",
       "WindDir9am_SE       0.8087      0.832      0.973      0.331      -0.821       2.438\n",
       "WindDir9am_SSE      0.5013      0.842      0.596      0.551      -1.148       2.151\n",
       "WindDir9am_SSW      0.4626      0.916      0.505      0.614      -1.333       2.258\n",
       "WindDir9am_SW       0.4153      0.967      0.430      0.667      -1.479       2.310\n",
       "WindDir9am_W        0.2976      0.813      0.366      0.714      -1.296       1.891\n",
       "WindDir9am_WNW      0.9609      0.864      1.112      0.266      -0.732       2.654\n",
       "WindDir9am_WSW     -0.4840      1.066     -0.454      0.650      -2.573       1.605\n",
       "WindDir3pm_ENE      0.0573      0.825      0.070      0.945      -1.559       1.674\n",
       "WindDir3pm_ESE      0.3813      0.792      0.481      0.630      -1.172       1.935\n",
       "WindDir3pm_N       -0.4753      0.817     -0.582      0.561      -2.076       1.126\n",
       "WindDir3pm_NE       0.1780      0.749      0.238      0.812      -1.290       1.646\n",
       "WindDir3pm_NNE     -0.7980      0.933     -0.855      0.392      -2.626       1.030\n",
       "WindDir3pm_NNW     -0.2641      0.785     -0.336      0.737      -1.803       1.275\n",
       "WindDir3pm_NW       0.8949      0.732      1.223      0.221      -0.539       2.329\n",
       "WindDir3pm_S        0.6567      0.782      0.839      0.401      -0.877       2.190\n",
       "WindDir3pm_SE       0.1654      0.709      0.233      0.816      -1.224       1.555\n",
       "WindDir3pm_SSE     -0.4395      0.809     -0.543      0.587      -2.025       1.146\n",
       "WindDir3pm_SSW      1.0225      0.845      1.210      0.226      -0.634       2.679\n",
       "WindDir3pm_SW      -0.4115      0.868     -0.474      0.635      -2.112       1.289\n",
       "WindDir3pm_W       -0.4943      0.795     -0.622      0.534      -2.052       1.064\n",
       "WindDir3pm_WNW     -0.9911      0.792     -1.251      0.211      -2.544       0.561\n",
       "WindDir3pm_WSW     -0.4943      0.934     -0.529      0.597      -2.325       1.337\n",
       "RainToday_Yes       0.2870      0.373      0.769      0.442      -0.444       1.018\n",
       "Month_August       -0.0343      0.548     -0.063      0.950      -1.109       1.041\n",
       "Month_December     -0.7559      0.584     -1.294      0.196      -1.901       0.389\n",
       "Month_February     -0.7266      0.679     -1.070      0.285      -2.057       0.604\n",
       "Month_January      -1.3505      0.652     -2.072      0.038      -2.628      -0.073\n",
       "Month_July         -0.3003      0.640     -0.469      0.639      -1.554       0.953\n",
       "Month_June         -0.9814      0.611     -1.607      0.108      -2.179       0.216\n",
       "Month_March        -1.5339      0.592     -2.592      0.010      -2.694      -0.374\n",
       "Month_May          -1.9318      0.651     -2.970      0.003      -3.207      -0.657\n",
       "Month_November     -0.1958      0.641     -0.305      0.760      -1.453       1.061\n",
       "Month_October      -1.4632      0.617     -2.370      0.018      -2.673      -0.253\n",
       "Month_September    -1.1214      0.671     -1.671      0.095      -2.436       0.194\n",
       "===================================================================================\n",
       "\"\"\""
      ]
     },
     "execution_count": 145,
     "metadata": {},
     "output_type": "execute_result"
    }
   ],
   "source": [
    "# Build the model on train data (X_train and Y_train)\n",
    "logreg = sm.Logit(Y_train,X_train).fit()\n",
    "\n",
    "# Print the summary of the model\n",
    "logreg.summary()"
   ]
  },
  {
   "cell_type": "markdown",
   "metadata": {},
   "source": [
    "###  INFERENCE:   \n",
    "\n",
    "### <font color='blue'> Pseudo R-squ: 0.3868 </font> - <font color='green'> Pseudo R-squared value usually ranges from 0 to 1. Higher values indicate better fit.</font>\n",
    "\n",
    "###  <font color='blue'>Log-Likelihood:\t-226.89 </font>  - <font color='green'> It measures the log-likelihood of the data. Higher value indicates better fit.</font>\n",
    "\n",
    "###  <font color='blue'>LL-Null: -359.25 </font> - <font color='green'> It is the log-likelihood of the data for a null model, which only includes the intercept.</font>\n",
    "\n",
    "###  <font color='blue'>LLR p-value: 3.648e-31</font> - <font color='green'> LLR p-value (likelihood ratio test) is a statistical test that indicates the probability of observing the LLR statistic or a larger value under the null hypothesis. Lower p-values indicate stronger evidence against the null hypothesis. The LLR p-value less than 0.05, implies that the model is significant</font>\n",
    "\n",
    "### <font color='green'>A logistic regression model is set to have better fit when values are higher for LL, lower for LL-Null, and lower for LLR p-value.</font>"
   ]
  },
  {
   "cell_type": "markdown",
   "metadata": {},
   "source": [
    "**Calculate the AIC (Akaike Information Criterion) value.**\n",
    "\n",
    "**It is a relative measure of model evaluation. It gives a trade-off between model accuracy and model complexity.**"
   ]
  },
  {
   "cell_type": "code",
   "execution_count": 146,
   "metadata": {},
   "outputs": [
    {
     "name": "stdout",
     "output_type": "stream",
     "text": [
      "AIC: 554.5596483458571\n"
     ]
    }
   ],
   "source": [
    "print('AIC:', logreg.aic)"
   ]
  },
  {
   "cell_type": "markdown",
   "metadata": {},
   "source": [
    "### INFERENCE:  <font color='green'> AIC is a measure of the trade-off between the goodness of fit of the model and the complexity of the model.It helps us choose a model that fits the data well without overfitting. This is useful when comparing multiple models fitted to the same data. Model with the lowest AIC value is usually considered to be the best model.</font>"
   ]
  },
  {
   "cell_type": "markdown",
   "metadata": {},
   "source": [
    "**We can use the AIC value to compare different models created on the same dataset.**"
   ]
  },
  {
   "cell_type": "markdown",
   "metadata": {},
   "source": [
    "### Interpret the odds for each variable "
   ]
  },
  {
   "cell_type": "code",
   "execution_count": 147,
   "metadata": {},
   "outputs": [
    {
     "data": {
      "text/html": [
       "<div>\n",
       "<style scoped>\n",
       "    .dataframe tbody tr th:only-of-type {\n",
       "        vertical-align: middle;\n",
       "    }\n",
       "\n",
       "    .dataframe tbody tr th {\n",
       "        vertical-align: top;\n",
       "    }\n",
       "\n",
       "    .dataframe thead th {\n",
       "        text-align: right;\n",
       "    }\n",
       "</style>\n",
       "<table border=\"1\" class=\"dataframe\">\n",
       "  <thead>\n",
       "    <tr style=\"text-align: right;\">\n",
       "      <th></th>\n",
       "      <th>Odds</th>\n",
       "    </tr>\n",
       "  </thead>\n",
       "  <tbody>\n",
       "    <tr>\n",
       "      <th>const</th>\n",
       "      <td>0.000180</td>\n",
       "    </tr>\n",
       "    <tr>\n",
       "      <th>MinTemp</th>\n",
       "      <td>2.391608</td>\n",
       "    </tr>\n",
       "    <tr>\n",
       "      <th>MaxTemp</th>\n",
       "      <td>0.186897</td>\n",
       "    </tr>\n",
       "    <tr>\n",
       "      <th>Rainfall</th>\n",
       "      <td>0.566307</td>\n",
       "    </tr>\n",
       "    <tr>\n",
       "      <th>Evaporation</th>\n",
       "      <td>0.923009</td>\n",
       "    </tr>\n",
       "    <tr>\n",
       "      <th>Sunshine</th>\n",
       "      <td>0.201043</td>\n",
       "    </tr>\n",
       "    <tr>\n",
       "      <th>WindGustSpeed</th>\n",
       "      <td>1470.161649</td>\n",
       "    </tr>\n",
       "    <tr>\n",
       "      <th>Humidity9am</th>\n",
       "      <td>3.693517</td>\n",
       "    </tr>\n",
       "    <tr>\n",
       "      <th>Humidity3pm</th>\n",
       "      <td>2976.756988</td>\n",
       "    </tr>\n",
       "    <tr>\n",
       "      <th>Pressure9am</th>\n",
       "      <td>23765.376172</td>\n",
       "    </tr>\n",
       "    <tr>\n",
       "      <th>Pressure3pm</th>\n",
       "      <td>0.000005</td>\n",
       "    </tr>\n",
       "    <tr>\n",
       "      <th>Cloud9am</th>\n",
       "      <td>0.355462</td>\n",
       "    </tr>\n",
       "    <tr>\n",
       "      <th>Cloud3pm</th>\n",
       "      <td>5.083372</td>\n",
       "    </tr>\n",
       "    <tr>\n",
       "      <th>Temp9am</th>\n",
       "      <td>0.008614</td>\n",
       "    </tr>\n",
       "    <tr>\n",
       "      <th>Temp3pm</th>\n",
       "      <td>1323.878866</td>\n",
       "    </tr>\n",
       "    <tr>\n",
       "      <th>WindDir9am_ENE</th>\n",
       "      <td>1.567208</td>\n",
       "    </tr>\n",
       "    <tr>\n",
       "      <th>WindDir9am_ESE</th>\n",
       "      <td>0.473227</td>\n",
       "    </tr>\n",
       "    <tr>\n",
       "      <th>WindDir9am_N</th>\n",
       "      <td>2.123001</td>\n",
       "    </tr>\n",
       "    <tr>\n",
       "      <th>WindDir9am_NE</th>\n",
       "      <td>1.120816</td>\n",
       "    </tr>\n",
       "    <tr>\n",
       "      <th>WindDir9am_NNE</th>\n",
       "      <td>1.820621</td>\n",
       "    </tr>\n",
       "    <tr>\n",
       "      <th>WindDir9am_NNW</th>\n",
       "      <td>2.127994</td>\n",
       "    </tr>\n",
       "    <tr>\n",
       "      <th>WindDir9am_NW</th>\n",
       "      <td>1.924219</td>\n",
       "    </tr>\n",
       "    <tr>\n",
       "      <th>WindDir9am_S</th>\n",
       "      <td>2.372207</td>\n",
       "    </tr>\n",
       "    <tr>\n",
       "      <th>WindDir9am_SE</th>\n",
       "      <td>2.244945</td>\n",
       "    </tr>\n",
       "    <tr>\n",
       "      <th>WindDir9am_SSE</th>\n",
       "      <td>1.650849</td>\n",
       "    </tr>\n",
       "    <tr>\n",
       "      <th>WindDir9am_SSW</th>\n",
       "      <td>1.588141</td>\n",
       "    </tr>\n",
       "    <tr>\n",
       "      <th>WindDir9am_SW</th>\n",
       "      <td>1.514760</td>\n",
       "    </tr>\n",
       "    <tr>\n",
       "      <th>WindDir9am_W</th>\n",
       "      <td>1.346585</td>\n",
       "    </tr>\n",
       "    <tr>\n",
       "      <th>WindDir9am_WNW</th>\n",
       "      <td>2.614136</td>\n",
       "    </tr>\n",
       "    <tr>\n",
       "      <th>WindDir9am_WSW</th>\n",
       "      <td>0.616289</td>\n",
       "    </tr>\n",
       "    <tr>\n",
       "      <th>WindDir3pm_ENE</th>\n",
       "      <td>1.059003</td>\n",
       "    </tr>\n",
       "    <tr>\n",
       "      <th>WindDir3pm_ESE</th>\n",
       "      <td>1.464232</td>\n",
       "    </tr>\n",
       "    <tr>\n",
       "      <th>WindDir3pm_N</th>\n",
       "      <td>0.621669</td>\n",
       "    </tr>\n",
       "    <tr>\n",
       "      <th>WindDir3pm_NE</th>\n",
       "      <td>1.194824</td>\n",
       "    </tr>\n",
       "    <tr>\n",
       "      <th>WindDir3pm_NNE</th>\n",
       "      <td>0.450217</td>\n",
       "    </tr>\n",
       "    <tr>\n",
       "      <th>WindDir3pm_NNW</th>\n",
       "      <td>0.767925</td>\n",
       "    </tr>\n",
       "    <tr>\n",
       "      <th>WindDir3pm_NW</th>\n",
       "      <td>2.447041</td>\n",
       "    </tr>\n",
       "    <tr>\n",
       "      <th>WindDir3pm_S</th>\n",
       "      <td>1.928475</td>\n",
       "    </tr>\n",
       "    <tr>\n",
       "      <th>WindDir3pm_SE</th>\n",
       "      <td>1.179870</td>\n",
       "    </tr>\n",
       "    <tr>\n",
       "      <th>WindDir3pm_SSE</th>\n",
       "      <td>0.644334</td>\n",
       "    </tr>\n",
       "    <tr>\n",
       "      <th>WindDir3pm_SSW</th>\n",
       "      <td>2.780039</td>\n",
       "    </tr>\n",
       "    <tr>\n",
       "      <th>WindDir3pm_SW</th>\n",
       "      <td>0.662669</td>\n",
       "    </tr>\n",
       "    <tr>\n",
       "      <th>WindDir3pm_W</th>\n",
       "      <td>0.610020</td>\n",
       "    </tr>\n",
       "    <tr>\n",
       "      <th>WindDir3pm_WNW</th>\n",
       "      <td>0.371159</td>\n",
       "    </tr>\n",
       "    <tr>\n",
       "      <th>WindDir3pm_WSW</th>\n",
       "      <td>0.609974</td>\n",
       "    </tr>\n",
       "    <tr>\n",
       "      <th>RainToday_Yes</th>\n",
       "      <td>1.332444</td>\n",
       "    </tr>\n",
       "    <tr>\n",
       "      <th>Month_August</th>\n",
       "      <td>0.966307</td>\n",
       "    </tr>\n",
       "    <tr>\n",
       "      <th>Month_December</th>\n",
       "      <td>0.469585</td>\n",
       "    </tr>\n",
       "    <tr>\n",
       "      <th>Month_February</th>\n",
       "      <td>0.483529</td>\n",
       "    </tr>\n",
       "    <tr>\n",
       "      <th>Month_January</th>\n",
       "      <td>0.259113</td>\n",
       "    </tr>\n",
       "    <tr>\n",
       "      <th>Month_July</th>\n",
       "      <td>0.740589</td>\n",
       "    </tr>\n",
       "    <tr>\n",
       "      <th>Month_June</th>\n",
       "      <td>0.374786</td>\n",
       "    </tr>\n",
       "    <tr>\n",
       "      <th>Month_March</th>\n",
       "      <td>0.215694</td>\n",
       "    </tr>\n",
       "    <tr>\n",
       "      <th>Month_May</th>\n",
       "      <td>0.144888</td>\n",
       "    </tr>\n",
       "    <tr>\n",
       "      <th>Month_November</th>\n",
       "      <td>0.822145</td>\n",
       "    </tr>\n",
       "    <tr>\n",
       "      <th>Month_October</th>\n",
       "      <td>0.231493</td>\n",
       "    </tr>\n",
       "    <tr>\n",
       "      <th>Month_September</th>\n",
       "      <td>0.325833</td>\n",
       "    </tr>\n",
       "  </tbody>\n",
       "</table>\n",
       "</div>"
      ],
      "text/plain": [
       "                         Odds\n",
       "const                0.000180\n",
       "MinTemp              2.391608\n",
       "MaxTemp              0.186897\n",
       "Rainfall             0.566307\n",
       "Evaporation          0.923009\n",
       "Sunshine             0.201043\n",
       "WindGustSpeed     1470.161649\n",
       "Humidity9am          3.693517\n",
       "Humidity3pm       2976.756988\n",
       "Pressure9am      23765.376172\n",
       "Pressure3pm          0.000005\n",
       "Cloud9am             0.355462\n",
       "Cloud3pm             5.083372\n",
       "Temp9am              0.008614\n",
       "Temp3pm           1323.878866\n",
       "WindDir9am_ENE       1.567208\n",
       "WindDir9am_ESE       0.473227\n",
       "WindDir9am_N         2.123001\n",
       "WindDir9am_NE        1.120816\n",
       "WindDir9am_NNE       1.820621\n",
       "WindDir9am_NNW       2.127994\n",
       "WindDir9am_NW        1.924219\n",
       "WindDir9am_S         2.372207\n",
       "WindDir9am_SE        2.244945\n",
       "WindDir9am_SSE       1.650849\n",
       "WindDir9am_SSW       1.588141\n",
       "WindDir9am_SW        1.514760\n",
       "WindDir9am_W         1.346585\n",
       "WindDir9am_WNW       2.614136\n",
       "WindDir9am_WSW       0.616289\n",
       "WindDir3pm_ENE       1.059003\n",
       "WindDir3pm_ESE       1.464232\n",
       "WindDir3pm_N         0.621669\n",
       "WindDir3pm_NE        1.194824\n",
       "WindDir3pm_NNE       0.450217\n",
       "WindDir3pm_NNW       0.767925\n",
       "WindDir3pm_NW        2.447041\n",
       "WindDir3pm_S         1.928475\n",
       "WindDir3pm_SE        1.179870\n",
       "WindDir3pm_SSE       0.644334\n",
       "WindDir3pm_SSW       2.780039\n",
       "WindDir3pm_SW        0.662669\n",
       "WindDir3pm_W         0.610020\n",
       "WindDir3pm_WNW       0.371159\n",
       "WindDir3pm_WSW       0.609974\n",
       "RainToday_Yes        1.332444\n",
       "Month_August         0.966307\n",
       "Month_December       0.469585\n",
       "Month_February       0.483529\n",
       "Month_January        0.259113\n",
       "Month_July           0.740589\n",
       "Month_June           0.374786\n",
       "Month_March          0.215694\n",
       "Month_May            0.144888\n",
       "Month_November       0.822145\n",
       "Month_October        0.231493\n",
       "Month_September      0.325833"
      ]
     },
     "execution_count": 147,
     "metadata": {},
     "output_type": "execute_result"
    }
   ],
   "source": [
    "df_odds = pd.DataFrame(np.exp(logreg.params), columns= ['Odds']) \n",
    "df_odds"
   ]
  },
  {
   "cell_type": "markdown",
   "metadata": {},
   "source": [
    "**Interpretation: Write the interpretation of how does a unit change in each feature influence the odds of getting rain tomorrow.**"
   ]
  },
  {
   "cell_type": "markdown",
   "metadata": {},
   "source": [
    "###  INFERENCE:   \n",
    "\n",
    "### <font color='blue'> Odds value of 'Humidity3pm' = 2976.7569.</font> <font color='green'> The odds that it will rain tomorrow increases by a factor of 3354.260 for every unit increase in 'Humidity3pm' while other variables are constant.</font> \n",
    "###  <font color='blue'> Odds value of 'Pressure9am' = 23765.209149. </font> <font color='green'> The odds that it will rain tomorrow increases by a factor of 2352.209 for every unit increase in 'Pressure9am' while other variables are constant.</font> \n",
    "###  <font color='blue'>Odds value of 'WindGustSpeed' = 1470.1616. </font> <font color='green'> The odds that it will rain tomorrow increases by a factor of 2023.649 for every unit increase in 'WindGustSpeed' while other variables are constant.</font>\n",
    "###  <font color='blue'>Odds value of 'Temp3pm' = 1323.8788</font> <font color='green'> The odds that it will rain tomorrow increases by a factor of 220.567 for every unit increase in 'Temp3pm' while other variables are constant.</font> \n",
    "\n",
    "\n",
    "\n",
    "### <font color='green'> Odds constant/intercept =\t0.0001797. The odds that it will Rain tomorrow by considering all other variables as zero value is 0.000118.</font>"
   ]
  },
  {
   "cell_type": "markdown",
   "metadata": {},
   "source": [
    "**Do predictions on the test set.**"
   ]
  },
  {
   "cell_type": "code",
   "execution_count": 148,
   "metadata": {},
   "outputs": [
    {
     "data": {
      "text/plain": [
       "195    0.027412\n",
       "761    0.021263\n",
       "109    0.201190\n",
       "999    0.039386\n",
       "853    0.022746\n",
       "dtype: float64"
      ]
     },
     "execution_count": 148,
     "metadata": {},
     "output_type": "execute_result"
    }
   ],
   "source": [
    "# let 'y_pred_probability' be the predicted values of y\n",
    "Y_pred_probability = logreg.predict(X_test)\n",
    "\n",
    "# print the y_pred_probability\n",
    "Y_pred_probability.head()"
   ]
  },
  {
   "cell_type": "markdown",
   "metadata": {},
   "source": [
    "###  INFERENCE:   <font color='green'> The target variable can take only two values either 0 or 1. The cut-off value to predict between 0 & 1 is 0.5. i.e. if 'y_pred_probability' is less than 0.5, consider it as 'value 0' else consider it as 'value 1'.</font>"
   ]
  },
  {
   "cell_type": "code",
   "execution_count": 149,
   "metadata": {},
   "outputs": [
    {
     "data": {
      "text/plain": [
       "[0, 0, 0, 0, 0]"
      ]
     },
     "execution_count": 149,
     "metadata": {},
     "output_type": "execute_result"
    }
   ],
   "source": [
    "Y_pred = [ 0 if x < 0.5 else 1 for x in Y_pred_probability]\n",
    "Y_pred[0:5]"
   ]
  },
  {
   "cell_type": "markdown",
   "metadata": {},
   "source": [
    "###  INFERENCE:   <font color='green'> Since the head of Y_pred_probability has values less than zero (i.e., 0.02,0.02,0.20..), Y_pred has considered value 0 for the above 5 records in Y_pred_probability.</font>"
   ]
  },
  {
   "cell_type": "markdown",
   "metadata": {},
   "source": [
    "#### Plot the confusion matrix."
   ]
  },
  {
   "cell_type": "markdown",
   "metadata": {},
   "source": [
    "###  DEFINITION:   <font color='blue'> A confusion matrix is a tool for summarizing the performance of a classification algorithm. A confusion matrix will give us a clear picture of classification model performance and the types of errors produced by the model.\n",
    "    \n",
    "### <font color='blue'> Four types of outcomes are possible while evaluating a classification model performance.\n",
    "\n",
    "### <font color='blue'>True Positives (TP) – True Positives occur when we predict an observation belongs to a certain class and the observation actually belongs to that class.\n",
    "\n",
    "### <font color='blue'>True Negatives (TN) – True Negatives occur when we predict an observation does not belong to a certain class and the observation actually does not belong to that class.\n",
    "\n",
    "### <font color='blue'>False Positives (FP) – False Positives occur when we predict an observation belongs to a certain class but the observation actually does not belong to that class. This type of error is called Type I error.\n",
    "\n",
    "### <font color='blue'>False Negatives (FN) – False Negatives occur when we predict an observation does not belong to a certain class but the observation actually belongs to that class. This is a very serious error and it is called Type II error. </font>"
   ]
  },
  {
   "cell_type": "code",
   "execution_count": 150,
   "metadata": {},
   "outputs": [
    {
     "data": {
      "image/png": "[encoded data removed]",
      "text/plain": [
       "<Figure size 432x288 with 2 Axes>"
      ]
     },
     "metadata": {
      "needs_background": "light"
     },
     "output_type": "display_data"
    }
   ],
   "source": [
    "from sklearn.metrics import confusion_matrix\n",
    "\n",
    "# Confusion matrix is plotted btw the actual and predicted target values\n",
    "cm = confusion_matrix(Y_test, Y_pred)\n",
    "\n",
    "confusion_matrix = pd.DataFrame(data = cm, columns =['Predicted:0','Predicted:1'], index = ['Actual:0','Actual:1'])\n",
    "\n",
    "sns.heatmap(confusion_matrix, annot = True, fmt = 'd',linewidths = 0.1, annot_kws = {'size':15})\n",
    "\n",
    "plt.show()"
   ]
  },
  {
   "cell_type": "code",
   "execution_count": 151,
   "metadata": {},
   "outputs": [
    {
     "name": "stdout",
     "output_type": "stream",
     "text": [
      "TP= 31\n",
      "TN= 218\n",
      "FP= 25\n",
      "FN= 38\n"
     ]
    }
   ],
   "source": [
    "# True Positives, TP = Actual '1' values predicted correctly as '1'.\n",
    "TP = cm[1,1]\n",
    "print('TP=',TP)\n",
    "\n",
    "# True Negatives, TN = Actual '0' values predicted correctly as '0'.\n",
    "TN = cm[0,0]\n",
    "print('TN=',TN)\n",
    "\n",
    "# False Positives FP = Actual '0' values that are falsely predicted  as '1' (Type 1 error)\n",
    "FP = cm[0,1]\n",
    "print('FP=',FP)\n",
    "\n",
    "# False Negatives FN = Actual '1' values that are falsely predicted  as '0' (Type 2 error)\n",
    "FN = cm[1,0]\n",
    "print('FN=',FN)"
   ]
  },
  {
   "cell_type": "markdown",
   "metadata": {},
   "source": [
    "###  INFERENCE:\n",
    "\n",
    "### <font color='blue'>True Positives (TP=31) – Actual '1' values predicted correctly as '1'.\n",
    "\n",
    "### <font color='blue'>True Negatives (TN=218) – Actual '0' values predicted correctly as '0'.\n",
    "\n",
    "### <font color='blue'>False Positives (FP=25) – Actual '0' values that are falsely predicted as '1' (Type 1 error).\n",
    "\n",
    "### <font color='blue'>False Negatives (FN=38) – Actual '1' values that are falsely predicted  as '0' (Type 2 error). </font>"
   ]
  },
  {
   "cell_type": "markdown",
   "metadata": {},
   "source": [
    "**Compute various performance metrics.**"
   ]
  },
  {
   "cell_type": "markdown",
   "metadata": {},
   "source": [
    "**Precision:** It is defined as the ratio of true positives to the total positive predictions."
   ]
  },
  {
   "cell_type": "code",
   "execution_count": 152,
   "metadata": {},
   "outputs": [
    {
     "data": {
      "text/plain": [
       "0.5535714285714286"
      ]
     },
     "execution_count": 152,
     "metadata": {},
     "output_type": "execute_result"
    }
   ],
   "source": [
    "Precision = TP / (TP+FP)\n",
    "Precision"
   ]
  },
  {
   "cell_type": "code",
   "execution_count": 153,
   "metadata": {},
   "outputs": [
    {
     "data": {
      "text/plain": [
       "0.5535714285714286"
      ]
     },
     "execution_count": 153,
     "metadata": {},
     "output_type": "execute_result"
    }
   ],
   "source": [
    "Precision_score = metrics.precision_score(Y_test, Y_pred)\n",
    "Precision_score"
   ]
  },
  {
   "cell_type": "markdown",
   "metadata": {},
   "source": [
    "**Recall:** It is the ratio of true positives to the total actual positive observations. It is also known as, `Sensitivity` or `True Positive Rate`."
   ]
  },
  {
   "cell_type": "code",
   "execution_count": 154,
   "metadata": {},
   "outputs": [
    {
     "data": {
      "text/plain": [
       "0.4492753623188406"
      ]
     },
     "execution_count": 154,
     "metadata": {},
     "output_type": "execute_result"
    }
   ],
   "source": [
    "Recall = TP / (TP+FN)\n",
    "Recall"
   ]
  },
  {
   "cell_type": "code",
   "execution_count": 155,
   "metadata": {},
   "outputs": [
    {
     "data": {
      "text/plain": [
       "0.4492753623188406"
      ]
     },
     "execution_count": 155,
     "metadata": {},
     "output_type": "execute_result"
    }
   ],
   "source": [
    "Recall_score = metrics.recall_score(Y_test, Y_pred)\n",
    "Recall_score"
   ]
  },
  {
   "cell_type": "markdown",
   "metadata": {},
   "source": [
    "**Specificity:** It is the ratio of true negatives to the total actual negative observations."
   ]
  },
  {
   "cell_type": "code",
   "execution_count": 156,
   "metadata": {},
   "outputs": [
    {
     "data": {
      "text/plain": [
       "0.897119341563786"
      ]
     },
     "execution_count": 156,
     "metadata": {},
     "output_type": "execute_result"
    }
   ],
   "source": [
    "Specificity = TN / (TN+FP)\n",
    "Specificity"
   ]
  },
  {
   "cell_type": "markdown",
   "metadata": {},
   "source": [
    "**f1-score:** It is defined as the harmonic mean of precision and recall."
   ]
  },
  {
   "cell_type": "code",
   "execution_count": 157,
   "metadata": {},
   "outputs": [
    {
     "data": {
      "text/plain": [
       "0.496"
      ]
     },
     "execution_count": 157,
     "metadata": {},
     "output_type": "execute_result"
    }
   ],
   "source": [
    "F1_score = (2*Precision*Recall)/(Precision+Recall)\n",
    "F1_score"
   ]
  },
  {
   "cell_type": "code",
   "execution_count": 158,
   "metadata": {},
   "outputs": [
    {
     "data": {
      "text/plain": [
       "0.496"
      ]
     },
     "execution_count": 158,
     "metadata": {},
     "output_type": "execute_result"
    }
   ],
   "source": [
    "F1score = metrics.f1_score(Y_test, Y_pred) \n",
    "F1score"
   ]
  },
  {
   "cell_type": "markdown",
   "metadata": {},
   "source": [
    "**Accuracy:** It is the ratio of correct predictions (i.e. TN+TP) to the total observations. According to the confusion matrix, it is the ratio of the sum of diagonal elements to the sum of all the in the matrix. It is not a very good measure if the dataset is imbalanced."
   ]
  },
  {
   "cell_type": "code",
   "execution_count": 159,
   "metadata": {},
   "outputs": [
    {
     "data": {
      "text/plain": [
       "0.7980769230769231"
      ]
     },
     "execution_count": 159,
     "metadata": {},
     "output_type": "execute_result"
    }
   ],
   "source": [
    "Accuracy = (TN+TP)/(TN+FP+FN+TP)\n",
    "Accuracy"
   ]
  },
  {
   "cell_type": "code",
   "execution_count": 160,
   "metadata": {},
   "outputs": [
    {
     "data": {
      "text/plain": [
       "0.7980769230769231"
      ]
     },
     "execution_count": 160,
     "metadata": {},
     "output_type": "execute_result"
    }
   ],
   "source": [
    "Accuracy_score = metrics.accuracy_score(Y_test, Y_pred)\n",
    "Accuracy_score"
   ]
  },
  {
   "cell_type": "markdown",
   "metadata": {},
   "source": [
    "###  INFERENCE: \n",
    "### <font color='blue'> Precision = 0.55 \n",
    "###  <font color='blue'>Recall = 0.449\n",
    "### <font color='blue'> Specificity= 0.897\n",
    "### <font color='blue'> F1_score = 0.496\n",
    "### <font color='blue'> Accuracy = 0.7980\n",
    "\n",
    "### INFERENCE: <font color='green'> For a good classification model all the above performance metrics should be of higher values. This shows that model is not fit properly and it can be caused due to data imbalance issue."
   ]
  },
  {
   "cell_type": "code",
   "execution_count": 161,
   "metadata": {},
   "outputs": [
    {
     "name": "stdout",
     "output_type": "stream",
     "text": [
      "              precision    recall  f1-score   support\n",
      "\n",
      "           0       0.85      0.90      0.87       243\n",
      "           1       0.55      0.45      0.50        69\n",
      "\n",
      "    accuracy                           0.80       312\n",
      "   macro avg       0.70      0.67      0.68       312\n",
      "weighted avg       0.79      0.80      0.79       312\n",
      "\n"
     ]
    }
   ],
   "source": [
    "from sklearn.metrics import classification_report\n",
    "acc_table = classification_report(Y_test, Y_pred)\n",
    "print(acc_table)"
   ]
  },
  {
   "cell_type": "markdown",
   "metadata": {},
   "source": [
    "###  INFERENCE: <font color='blue'>From the above output, we can see that recall of the positive class ('Sensitivity') is 0.45  and the recall of the negative class ('Specificity') is 0.90 . \n",
    "    \n",
    "###  <font color='blue'>We can see that the model with cut-off = 0.5 is not that much accurate due to imbalanced data.\n",
    "\n",
    "### INFERENCE: <font color='green'> 'Support' is the number of observations in the corresponding class. The 'Macro average' in the output is obtained by averaging the unweighted mean per label and the 'Weighted average' is given by averaging the support-weighted mean per label."
   ]
  },
  {
   "cell_type": "markdown",
   "metadata": {},
   "source": [
    "**Kappa score:** It is a measure of inter-rater reliability. For logistic regression, the actual and predicted values of the target variable are the raters."
   ]
  },
  {
   "cell_type": "code",
   "execution_count": 162,
   "metadata": {},
   "outputs": [
    {
     "name": "stdout",
     "output_type": "stream",
     "text": [
      "kappa value: 0.37145049884881043\n"
     ]
    }
   ],
   "source": [
    "from sklearn.metrics import cohen_kappa_score\n",
    "kappa = cohen_kappa_score(Y_test, Y_pred)\n",
    "print('kappa value:',kappa)"
   ]
  },
  {
   "cell_type": "markdown",
   "metadata": {},
   "source": [
    "**Interpretation:** Write the inference based on the kappa score value and this model falls under which agreeemnet."
   ]
  },
  {
   "cell_type": "markdown",
   "metadata": {},
   "source": [
    "###  INFERENCE: <font color='green'> Kappa score, also known as Cohen's kappa coefficient, is used for inter-rater agreement for categorical items. It is often used to evaluate the degree of agreement between two or more raters  when classifying items into categories.Kappa score ranges from -1 to 1.\n",
    "### <font color='green'>Kappa < 0: Agreement is worse than chance.\n",
    "### <font color='green'>Kappa between 0 and 0.20: Slight agreement.\n",
    "### <font color='green'>Kappa between 0.21 and 0.40: Fair agreement.\n",
    "### <font color='green'>Kappa between 0.41 and 0.60: Moderate agreement.\n",
    "### <font color='green'>Kappa between 0.61 and 0.80: Substantial agreement.\n",
    "### <font color='green'>Kappa between 0.81 and 1.00: Almost perfect agreement.\n",
    "               \n",
    "               \n",
    "###  INFERENCE: <font color='blue'> Kappa score for the full model (with cut-off probability 0.5) is 0.3714. We can say that there is Fair agreement between the actual and predicted values."
   ]
  },
  {
   "cell_type": "markdown",
   "metadata": {},
   "source": [
    "#### Plot the ROC curve.\n",
    "\n",
    "ROC curve is plotted with the true positive rate (tpr) on the y-axis and false positive rate (fpr) on the x-axis. The area under this curve is used as a measure of separability of the model."
   ]
  },
  {
   "cell_type": "code",
   "execution_count": 163,
   "metadata": {},
   "outputs": [
    {
     "data": {
      "image/png": "[encoded data removed]",
      "text/plain": [
       "<Figure size 432x288 with 1 Axes>"
      ]
     },
     "metadata": {
      "needs_background": "light"
     },
     "output_type": "display_data"
    }
   ],
   "source": [
    "from sklearn.metrics import roc_curve\n",
    "\n",
    "FPR, TPR, thresholds = roc_curve(Y_test, Y_pred_probability)\n",
    "\n",
    "plt.plot(FPR, TPR)\n",
    "\n",
    "# set limits for x and y axes\n",
    "plt.xlim([0.0, 1.0])\n",
    "plt.ylim([0.0, 1.0])\n",
    "\n",
    "# plot the straight line showing worst prediction for the model\n",
    "plt.plot([0, 1], [0, 1],'r--')\n",
    "\n",
    "# add plot and axes labels\n",
    "# set text size using 'fontsize'\n",
    "plt.title('ROC curve for Rain Tomorrow', fontsize = 15)\n",
    "plt.xlabel('FPR (1-Specificity)', fontsize = 15)\n",
    "plt.ylabel('TPR (Sensitivity)', fontsize = 15)\n",
    "\n",
    "# add the AUC score to the plot\n",
    "# 'x' and 'y' gives position of the text\n",
    "# 's' is the text \n",
    "# use round() to round-off the AUC score upto 4 digits\n",
    "plt.text(x = 0.02, y = 0.9, s = ('AUC Score:', round(metrics.roc_auc_score(Y_test, Y_pred_probability),4)))\n",
    "                               \n",
    "# plot the grid\n",
    "plt.grid(True)"
   ]
  },
  {
   "cell_type": "markdown",
   "metadata": {},
   "source": [
    "**Interpretation:** Provide inference based on the obtained ROC curve and AUC score."
   ]
  },
  {
   "cell_type": "markdown",
   "metadata": {},
   "source": [
    "###  INFERENCE: <font color='green'> AUC (Area Under the ROC Curve) is a metric to evaluate the performance of a binary classification model. The ROC (Receiver Operating Characteristic) curve is a plot of the true positive rate (TPR) against the false positive rate (FPR). AUC is the area under the ROC curve, which ranges between 0 and 1, where: An AUC score of 0.5 indicates a random classifier that performs no better than chance. An AUC score between 0.5 and 1 indicates a classifier that is better than chance. In general, a higher AUC score indicates better classification performance.\n",
    "\n",
    "### <font color='green'>If the dataset is imbalanced, i.e., the number of samples in one class is larger than other, then a high AUC score may be obtained even for a classifier that performs poorly on the minority class. In such cases, it is important to look at other metrics such as precision, recall, and F1-score to get a better understanding of the classifier's performance.\n",
    "\n",
    "### <font color='blue'>The AUC score for full model is 0.8449 and its a good performance score. Since the data is imbalanced, there could be a possibility that it correctly classifies positive cases, even if many negative cases are misclassified. Its better to look into other performance metrics value to evaluate the performance of the model."
   ]
  },
  {
   "cell_type": "markdown",
   "metadata": {},
   "source": [
    "### <font color='red'>Since all performance metrics state that model performance is poor, lets us balance the data through SMOTE and again build logistc regression model.\n",
    "    \n",
    "## BALANCING DATA USING SMOTE -Synthetic Minority Over-sampling Technique."
   ]
  },
  {
   "cell_type": "code",
   "execution_count": 164,
   "metadata": {},
   "outputs": [
    {
     "data": {
      "text/plain": [
       "0    829\n",
       "1    211\n",
       "Name: RainTomorrow, dtype: int64"
      ]
     },
     "execution_count": 164,
     "metadata": {},
     "output_type": "execute_result"
    }
   ],
   "source": [
    "# Number of values in 'RainTomorrow' for each class before SMOTE\n",
    "\n",
    "df_dep.value_counts()"
   ]
  },
  {
   "cell_type": "code",
   "execution_count": 165,
   "metadata": {},
   "outputs": [
    {
     "data": {
      "text/plain": [
       "1    829\n",
       "0    829\n",
       "Name: RainTomorrow, dtype: int64"
      ]
     },
     "execution_count": 165,
     "metadata": {},
     "output_type": "execute_result"
    }
   ],
   "source": [
    "from imblearn.over_sampling import SMOTE\n",
    "\n",
    "smote = SMOTE(sampling_strategy='minority')\n",
    "\n",
    "X_sm, Y_sm = smote.fit_resample(X, df_dep)\n",
    "\n",
    "# Number of values in 'RainTomorrow' for each class after SMOTE\n",
    "Y_sm.value_counts()"
   ]
  },
  {
   "cell_type": "code",
   "execution_count": 166,
   "metadata": {},
   "outputs": [
    {
     "name": "stdout",
     "output_type": "stream",
     "text": [
      "Shape of X_train (1160, 57)\n",
      "Shape of Y_train (1160,)\n",
      "Shape of X_smtest (498, 57)\n",
      "Shape of Y_smtest (498,)\n"
     ]
    }
   ],
   "source": [
    "X_smtrain, X_smtest, Y_smtrain, Y_smtest = train_test_split(X_sm, Y_sm, test_size=0.3, random_state=10)\n",
    "print('Shape of X_train', X_smtrain.shape)\n",
    "print('Shape of Y_train', Y_smtrain.shape)\n",
    "\n",
    "# Print dimension of test set\n",
    "print('Shape of X_smtest', X_smtest.shape)\n",
    "print('Shape of Y_smtest', Y_smtest.shape)"
   ]
  },
  {
   "cell_type": "code",
   "execution_count": 167,
   "metadata": {},
   "outputs": [
    {
     "name": "stdout",
     "output_type": "stream",
     "text": [
      "Optimization terminated successfully.\n",
      "         Current function value: 0.252950\n",
      "         Iterations 8\n"
     ]
    },
    {
     "data": {
      "text/html": [
       "<table class=\"simpletable\">\n",
       "<caption>Logit Regression Results</caption>\n",
       "<tr>\n",
       "  <th>Dep. Variable:</th>     <td>RainTomorrow</td>   <th>  No. Observations:  </th>   <td>  1160</td>  \n",
       "</tr>\n",
       "<tr>\n",
       "  <th>Model:</th>                 <td>Logit</td>      <th>  Df Residuals:      </th>   <td>  1103</td>  \n",
       "</tr>\n",
       "<tr>\n",
       "  <th>Method:</th>                 <td>MLE</td>       <th>  Df Model:          </th>   <td>    56</td>  \n",
       "</tr>\n",
       "<tr>\n",
       "  <th>Date:</th>            <td>Sun, 07 May 2023</td> <th>  Pseudo R-squ.:     </th>   <td>0.6350</td>  \n",
       "</tr>\n",
       "<tr>\n",
       "  <th>Time:</th>                <td>18:04:25</td>     <th>  Log-Likelihood:    </th>  <td> -293.42</td> \n",
       "</tr>\n",
       "<tr>\n",
       "  <th>converged:</th>             <td>True</td>       <th>  LL-Null:           </th>  <td> -803.91</td> \n",
       "</tr>\n",
       "<tr>\n",
       "  <th>Covariance Type:</th>     <td>nonrobust</td>    <th>  LLR p-value:       </th> <td>2.509e-177</td>\n",
       "</tr>\n",
       "</table>\n",
       "<table class=\"simpletable\">\n",
       "<tr>\n",
       "         <td></td>            <th>coef</th>     <th>std err</th>      <th>z</th>      <th>P>|z|</th>  <th>[0.025</th>    <th>0.975]</th>  \n",
       "</tr>\n",
       "<tr>\n",
       "  <th>const</th>           <td>    1.1899</td> <td>    1.741</td> <td>    0.684</td> <td> 0.494</td> <td>   -2.222</td> <td>    4.602</td>\n",
       "</tr>\n",
       "<tr>\n",
       "  <th>MinTemp</th>         <td>    1.3515</td> <td>    2.035</td> <td>    0.664</td> <td> 0.507</td> <td>   -2.637</td> <td>    5.340</td>\n",
       "</tr>\n",
       "<tr>\n",
       "  <th>MaxTemp</th>         <td>   -5.7162</td> <td>    3.659</td> <td>   -1.562</td> <td> 0.118</td> <td>  -12.887</td> <td>    1.455</td>\n",
       "</tr>\n",
       "<tr>\n",
       "  <th>Rainfall</th>        <td>   -0.1233</td> <td>    2.036</td> <td>   -0.061</td> <td> 0.952</td> <td>   -4.114</td> <td>    3.867</td>\n",
       "</tr>\n",
       "<tr>\n",
       "  <th>Evaporation</th>     <td>   -0.0277</td> <td>    1.573</td> <td>   -0.018</td> <td> 0.986</td> <td>   -3.111</td> <td>    3.056</td>\n",
       "</tr>\n",
       "<tr>\n",
       "  <th>Sunshine</th>        <td>   -2.1948</td> <td>    0.873</td> <td>   -2.515</td> <td> 0.012</td> <td>   -3.905</td> <td>   -0.484</td>\n",
       "</tr>\n",
       "<tr>\n",
       "  <th>WindGustSpeed</th>   <td>    8.3624</td> <td>    1.176</td> <td>    7.110</td> <td> 0.000</td> <td>    6.057</td> <td>   10.668</td>\n",
       "</tr>\n",
       "<tr>\n",
       "  <th>Humidity9am</th>     <td>   -0.4399</td> <td>    1.173</td> <td>   -0.375</td> <td> 0.708</td> <td>   -2.739</td> <td>    1.859</td>\n",
       "</tr>\n",
       "<tr>\n",
       "  <th>Humidity3pm</th>     <td>   10.6167</td> <td>    1.483</td> <td>    7.157</td> <td> 0.000</td> <td>    7.709</td> <td>   13.524</td>\n",
       "</tr>\n",
       "<tr>\n",
       "  <th>Pressure9am</th>     <td>    3.9247</td> <td>    4.590</td> <td>    0.855</td> <td> 0.392</td> <td>   -5.071</td> <td>   12.920</td>\n",
       "</tr>\n",
       "<tr>\n",
       "  <th>Pressure3pm</th>     <td>   -9.5463</td> <td>    3.922</td> <td>   -2.434</td> <td> 0.015</td> <td>  -17.234</td> <td>   -1.859</td>\n",
       "</tr>\n",
       "<tr>\n",
       "  <th>Cloud9am</th>        <td>   -0.7000</td> <td>    0.664</td> <td>   -1.054</td> <td> 0.292</td> <td>   -2.002</td> <td>    0.602</td>\n",
       "</tr>\n",
       "<tr>\n",
       "  <th>Cloud3pm</th>        <td>    1.3467</td> <td>    0.688</td> <td>    1.957</td> <td> 0.050</td> <td>   -0.002</td> <td>    2.695</td>\n",
       "</tr>\n",
       "<tr>\n",
       "  <th>Temp9am</th>         <td>   -7.7761</td> <td>    3.922</td> <td>   -1.983</td> <td> 0.047</td> <td>  -15.463</td> <td>   -0.089</td>\n",
       "</tr>\n",
       "<tr>\n",
       "  <th>Temp3pm</th>         <td>   11.1989</td> <td>    4.375</td> <td>    2.560</td> <td> 0.010</td> <td>    2.624</td> <td>   19.774</td>\n",
       "</tr>\n",
       "<tr>\n",
       "  <th>WindDir9am_ENE</th>  <td>   -2.3040</td> <td>    0.641</td> <td>   -3.595</td> <td> 0.000</td> <td>   -3.560</td> <td>   -1.048</td>\n",
       "</tr>\n",
       "<tr>\n",
       "  <th>WindDir9am_ESE</th>  <td>   -3.0271</td> <td>    0.737</td> <td>   -4.107</td> <td> 0.000</td> <td>   -4.472</td> <td>   -1.582</td>\n",
       "</tr>\n",
       "<tr>\n",
       "  <th>WindDir9am_N</th>    <td>   -2.2674</td> <td>    0.435</td> <td>   -5.217</td> <td> 0.000</td> <td>   -3.119</td> <td>   -1.416</td>\n",
       "</tr>\n",
       "<tr>\n",
       "  <th>WindDir9am_NE</th>   <td>   -2.1235</td> <td>    0.559</td> <td>   -3.796</td> <td> 0.000</td> <td>   -3.220</td> <td>   -1.027</td>\n",
       "</tr>\n",
       "<tr>\n",
       "  <th>WindDir9am_NNE</th>  <td>   -2.0006</td> <td>    0.749</td> <td>   -2.672</td> <td> 0.008</td> <td>   -3.468</td> <td>   -0.533</td>\n",
       "</tr>\n",
       "<tr>\n",
       "  <th>WindDir9am_NNW</th>  <td>   -2.6493</td> <td>    0.619</td> <td>   -4.283</td> <td> 0.000</td> <td>   -3.862</td> <td>   -1.437</td>\n",
       "</tr>\n",
       "<tr>\n",
       "  <th>WindDir9am_NW</th>   <td>   -2.2275</td> <td>    0.512</td> <td>   -4.353</td> <td> 0.000</td> <td>   -3.230</td> <td>   -1.224</td>\n",
       "</tr>\n",
       "<tr>\n",
       "  <th>WindDir9am_S</th>    <td>   -1.1207</td> <td>    0.619</td> <td>   -1.810</td> <td> 0.070</td> <td>   -2.334</td> <td>    0.093</td>\n",
       "</tr>\n",
       "<tr>\n",
       "  <th>WindDir9am_SE</th>   <td>   -1.7454</td> <td>    0.540</td> <td>   -3.232</td> <td> 0.001</td> <td>   -2.804</td> <td>   -0.687</td>\n",
       "</tr>\n",
       "<tr>\n",
       "  <th>WindDir9am_SSE</th>  <td>   -1.9333</td> <td>    0.545</td> <td>   -3.549</td> <td> 0.000</td> <td>   -3.001</td> <td>   -0.866</td>\n",
       "</tr>\n",
       "<tr>\n",
       "  <th>WindDir9am_SSW</th>  <td>   -2.1809</td> <td>    0.667</td> <td>   -3.269</td> <td> 0.001</td> <td>   -3.488</td> <td>   -0.873</td>\n",
       "</tr>\n",
       "<tr>\n",
       "  <th>WindDir9am_SW</th>   <td>   -2.4746</td> <td>    0.636</td> <td>   -3.893</td> <td> 0.000</td> <td>   -3.720</td> <td>   -1.229</td>\n",
       "</tr>\n",
       "<tr>\n",
       "  <th>WindDir9am_W</th>    <td>   -2.8145</td> <td>    0.547</td> <td>   -5.144</td> <td> 0.000</td> <td>   -3.887</td> <td>   -1.742</td>\n",
       "</tr>\n",
       "<tr>\n",
       "  <th>WindDir9am_WNW</th>  <td>   -1.9613</td> <td>    0.614</td> <td>   -3.194</td> <td> 0.001</td> <td>   -3.165</td> <td>   -0.758</td>\n",
       "</tr>\n",
       "<tr>\n",
       "  <th>WindDir9am_WSW</th>  <td>   -4.1315</td> <td>    0.824</td> <td>   -5.013</td> <td> 0.000</td> <td>   -5.747</td> <td>   -2.516</td>\n",
       "</tr>\n",
       "<tr>\n",
       "  <th>WindDir3pm_ENE</th>  <td>   -2.4089</td> <td>    0.577</td> <td>   -4.175</td> <td> 0.000</td> <td>   -3.540</td> <td>   -1.278</td>\n",
       "</tr>\n",
       "<tr>\n",
       "  <th>WindDir3pm_ESE</th>  <td>   -3.1676</td> <td>    0.537</td> <td>   -5.898</td> <td> 0.000</td> <td>   -4.220</td> <td>   -2.115</td>\n",
       "</tr>\n",
       "<tr>\n",
       "  <th>WindDir3pm_N</th>    <td>   -2.5969</td> <td>    0.564</td> <td>   -4.602</td> <td> 0.000</td> <td>   -3.703</td> <td>   -1.491</td>\n",
       "</tr>\n",
       "<tr>\n",
       "  <th>WindDir3pm_NE</th>   <td>   -2.7334</td> <td>    0.540</td> <td>   -5.066</td> <td> 0.000</td> <td>   -3.791</td> <td>   -1.676</td>\n",
       "</tr>\n",
       "<tr>\n",
       "  <th>WindDir3pm_NNE</th>  <td>   -3.9679</td> <td>    0.704</td> <td>   -5.634</td> <td> 0.000</td> <td>   -5.348</td> <td>   -2.588</td>\n",
       "</tr>\n",
       "<tr>\n",
       "  <th>WindDir3pm_NNW</th>  <td>   -2.7847</td> <td>    0.531</td> <td>   -5.243</td> <td> 0.000</td> <td>   -3.826</td> <td>   -1.744</td>\n",
       "</tr>\n",
       "<tr>\n",
       "  <th>WindDir3pm_NW</th>   <td>   -2.2520</td> <td>    0.499</td> <td>   -4.517</td> <td> 0.000</td> <td>   -3.229</td> <td>   -1.275</td>\n",
       "</tr>\n",
       "<tr>\n",
       "  <th>WindDir3pm_S</th>    <td>   -2.1954</td> <td>    0.594</td> <td>   -3.694</td> <td> 0.000</td> <td>   -3.360</td> <td>   -1.031</td>\n",
       "</tr>\n",
       "<tr>\n",
       "  <th>WindDir3pm_SE</th>   <td>   -2.8269</td> <td>    0.470</td> <td>   -6.015</td> <td> 0.000</td> <td>   -3.748</td> <td>   -1.906</td>\n",
       "</tr>\n",
       "<tr>\n",
       "  <th>WindDir3pm_SSE</th>  <td>   -3.3957</td> <td>    0.637</td> <td>   -5.329</td> <td> 0.000</td> <td>   -4.645</td> <td>   -2.147</td>\n",
       "</tr>\n",
       "<tr>\n",
       "  <th>WindDir3pm_SSW</th>  <td>   -2.0375</td> <td>    0.651</td> <td>   -3.131</td> <td> 0.002</td> <td>   -3.313</td> <td>   -0.762</td>\n",
       "</tr>\n",
       "<tr>\n",
       "  <th>WindDir3pm_SW</th>   <td>   -3.2979</td> <td>    0.625</td> <td>   -5.278</td> <td> 0.000</td> <td>   -4.523</td> <td>   -2.073</td>\n",
       "</tr>\n",
       "<tr>\n",
       "  <th>WindDir3pm_W</th>    <td>   -3.1346</td> <td>    0.605</td> <td>   -5.182</td> <td> 0.000</td> <td>   -4.320</td> <td>   -1.949</td>\n",
       "</tr>\n",
       "<tr>\n",
       "  <th>WindDir3pm_WNW</th>  <td>   -3.7023</td> <td>    0.588</td> <td>   -6.295</td> <td> 0.000</td> <td>   -4.855</td> <td>   -2.550</td>\n",
       "</tr>\n",
       "<tr>\n",
       "  <th>WindDir3pm_WSW</th>  <td>   -3.0252</td> <td>    0.761</td> <td>   -3.976</td> <td> 0.000</td> <td>   -4.516</td> <td>   -1.534</td>\n",
       "</tr>\n",
       "<tr>\n",
       "  <th>RainToday_Yes</th>   <td>   -0.1185</td> <td>    0.339</td> <td>   -0.350</td> <td> 0.727</td> <td>   -0.783</td> <td>    0.546</td>\n",
       "</tr>\n",
       "<tr>\n",
       "  <th>Month_August</th>    <td>   -0.7335</td> <td>    0.441</td> <td>   -1.664</td> <td> 0.096</td> <td>   -1.598</td> <td>    0.130</td>\n",
       "</tr>\n",
       "<tr>\n",
       "  <th>Month_December</th>  <td>   -2.0930</td> <td>    0.478</td> <td>   -4.379</td> <td> 0.000</td> <td>   -3.030</td> <td>   -1.156</td>\n",
       "</tr>\n",
       "<tr>\n",
       "  <th>Month_February</th>  <td>   -2.4756</td> <td>    0.607</td> <td>   -4.075</td> <td> 0.000</td> <td>   -3.666</td> <td>   -1.285</td>\n",
       "</tr>\n",
       "<tr>\n",
       "  <th>Month_January</th>   <td>   -2.5388</td> <td>    0.572</td> <td>   -4.438</td> <td> 0.000</td> <td>   -3.660</td> <td>   -1.418</td>\n",
       "</tr>\n",
       "<tr>\n",
       "  <th>Month_July</th>      <td>   -1.7809</td> <td>    0.500</td> <td>   -3.562</td> <td> 0.000</td> <td>   -2.761</td> <td>   -0.801</td>\n",
       "</tr>\n",
       "<tr>\n",
       "  <th>Month_June</th>      <td>   -2.3545</td> <td>    0.476</td> <td>   -4.945</td> <td> 0.000</td> <td>   -3.288</td> <td>   -1.421</td>\n",
       "</tr>\n",
       "<tr>\n",
       "  <th>Month_March</th>     <td>   -3.0045</td> <td>    0.483</td> <td>   -6.223</td> <td> 0.000</td> <td>   -3.951</td> <td>   -2.058</td>\n",
       "</tr>\n",
       "<tr>\n",
       "  <th>Month_May</th>       <td>   -3.6374</td> <td>    0.666</td> <td>   -5.460</td> <td> 0.000</td> <td>   -4.943</td> <td>   -2.332</td>\n",
       "</tr>\n",
       "<tr>\n",
       "  <th>Month_November</th>  <td>   -2.1083</td> <td>    0.553</td> <td>   -3.815</td> <td> 0.000</td> <td>   -3.191</td> <td>   -1.025</td>\n",
       "</tr>\n",
       "<tr>\n",
       "  <th>Month_October</th>   <td>   -2.6061</td> <td>    0.483</td> <td>   -5.394</td> <td> 0.000</td> <td>   -3.553</td> <td>   -1.659</td>\n",
       "</tr>\n",
       "<tr>\n",
       "  <th>Month_September</th> <td>   -1.8768</td> <td>    0.510</td> <td>   -3.678</td> <td> 0.000</td> <td>   -2.877</td> <td>   -0.877</td>\n",
       "</tr>\n",
       "</table>"
      ],
      "text/plain": [
       "<class 'statsmodels.iolib.summary.Summary'>\n",
       "\"\"\"\n",
       "                           Logit Regression Results                           \n",
       "==============================================================================\n",
       "Dep. Variable:           RainTomorrow   No. Observations:                 1160\n",
       "Model:                          Logit   Df Residuals:                     1103\n",
       "Method:                           MLE   Df Model:                           56\n",
       "Date:                Sun, 07 May 2023   Pseudo R-squ.:                  0.6350\n",
       "Time:                        18:04:25   Log-Likelihood:                -293.42\n",
       "converged:                       True   LL-Null:                       -803.91\n",
       "Covariance Type:            nonrobust   LLR p-value:                2.509e-177\n",
       "===================================================================================\n",
       "                      coef    std err          z      P>|z|      [0.025      0.975]\n",
       "-----------------------------------------------------------------------------------\n",
       "const               1.1899      1.741      0.684      0.494      -2.222       4.602\n",
       "MinTemp             1.3515      2.035      0.664      0.507      -2.637       5.340\n",
       "MaxTemp            -5.7162      3.659     -1.562      0.118     -12.887       1.455\n",
       "Rainfall           -0.1233      2.036     -0.061      0.952      -4.114       3.867\n",
       "Evaporation        -0.0277      1.573     -0.018      0.986      -3.111       3.056\n",
       "Sunshine           -2.1948      0.873     -2.515      0.012      -3.905      -0.484\n",
       "WindGustSpeed       8.3624      1.176      7.110      0.000       6.057      10.668\n",
       "Humidity9am        -0.4399      1.173     -0.375      0.708      -2.739       1.859\n",
       "Humidity3pm        10.6167      1.483      7.157      0.000       7.709      13.524\n",
       "Pressure9am         3.9247      4.590      0.855      0.392      -5.071      12.920\n",
       "Pressure3pm        -9.5463      3.922     -2.434      0.015     -17.234      -1.859\n",
       "Cloud9am           -0.7000      0.664     -1.054      0.292      -2.002       0.602\n",
       "Cloud3pm            1.3467      0.688      1.957      0.050      -0.002       2.695\n",
       "Temp9am            -7.7761      3.922     -1.983      0.047     -15.463      -0.089\n",
       "Temp3pm            11.1989      4.375      2.560      0.010       2.624      19.774\n",
       "WindDir9am_ENE     -2.3040      0.641     -3.595      0.000      -3.560      -1.048\n",
       "WindDir9am_ESE     -3.0271      0.737     -4.107      0.000      -4.472      -1.582\n",
       "WindDir9am_N       -2.2674      0.435     -5.217      0.000      -3.119      -1.416\n",
       "WindDir9am_NE      -2.1235      0.559     -3.796      0.000      -3.220      -1.027\n",
       "WindDir9am_NNE     -2.0006      0.749     -2.672      0.008      -3.468      -0.533\n",
       "WindDir9am_NNW     -2.6493      0.619     -4.283      0.000      -3.862      -1.437\n",
       "WindDir9am_NW      -2.2275      0.512     -4.353      0.000      -3.230      -1.224\n",
       "WindDir9am_S       -1.1207      0.619     -1.810      0.070      -2.334       0.093\n",
       "WindDir9am_SE      -1.7454      0.540     -3.232      0.001      -2.804      -0.687\n",
       "WindDir9am_SSE     -1.9333      0.545     -3.549      0.000      -3.001      -0.866\n",
       "WindDir9am_SSW     -2.1809      0.667     -3.269      0.001      -3.488      -0.873\n",
       "WindDir9am_SW      -2.4746      0.636     -3.893      0.000      -3.720      -1.229\n",
       "WindDir9am_W       -2.8145      0.547     -5.144      0.000      -3.887      -1.742\n",
       "WindDir9am_WNW     -1.9613      0.614     -3.194      0.001      -3.165      -0.758\n",
       "WindDir9am_WSW     -4.1315      0.824     -5.013      0.000      -5.747      -2.516\n",
       "WindDir3pm_ENE     -2.4089      0.577     -4.175      0.000      -3.540      -1.278\n",
       "WindDir3pm_ESE     -3.1676      0.537     -5.898      0.000      -4.220      -2.115\n",
       "WindDir3pm_N       -2.5969      0.564     -4.602      0.000      -3.703      -1.491\n",
       "WindDir3pm_NE      -2.7334      0.540     -5.066      0.000      -3.791      -1.676\n",
       "WindDir3pm_NNE     -3.9679      0.704     -5.634      0.000      -5.348      -2.588\n",
       "WindDir3pm_NNW     -2.7847      0.531     -5.243      0.000      -3.826      -1.744\n",
       "WindDir3pm_NW      -2.2520      0.499     -4.517      0.000      -3.229      -1.275\n",
       "WindDir3pm_S       -2.1954      0.594     -3.694      0.000      -3.360      -1.031\n",
       "WindDir3pm_SE      -2.8269      0.470     -6.015      0.000      -3.748      -1.906\n",
       "WindDir3pm_SSE     -3.3957      0.637     -5.329      0.000      -4.645      -2.147\n",
       "WindDir3pm_SSW     -2.0375      0.651     -3.131      0.002      -3.313      -0.762\n",
       "WindDir3pm_SW      -3.2979      0.625     -5.278      0.000      -4.523      -2.073\n",
       "WindDir3pm_W       -3.1346      0.605     -5.182      0.000      -4.320      -1.949\n",
       "WindDir3pm_WNW     -3.7023      0.588     -6.295      0.000      -4.855      -2.550\n",
       "WindDir3pm_WSW     -3.0252      0.761     -3.976      0.000      -4.516      -1.534\n",
       "RainToday_Yes      -0.1185      0.339     -0.350      0.727      -0.783       0.546\n",
       "Month_August       -0.7335      0.441     -1.664      0.096      -1.598       0.130\n",
       "Month_December     -2.0930      0.478     -4.379      0.000      -3.030      -1.156\n",
       "Month_February     -2.4756      0.607     -4.075      0.000      -3.666      -1.285\n",
       "Month_January      -2.5388      0.572     -4.438      0.000      -3.660      -1.418\n",
       "Month_July         -1.7809      0.500     -3.562      0.000      -2.761      -0.801\n",
       "Month_June         -2.3545      0.476     -4.945      0.000      -3.288      -1.421\n",
       "Month_March        -3.0045      0.483     -6.223      0.000      -3.951      -2.058\n",
       "Month_May          -3.6374      0.666     -5.460      0.000      -4.943      -2.332\n",
       "Month_November     -2.1083      0.553     -3.815      0.000      -3.191      -1.025\n",
       "Month_October      -2.6061      0.483     -5.394      0.000      -3.553      -1.659\n",
       "Month_September    -1.8768      0.510     -3.678      0.000      -2.877      -0.877\n",
       "===================================================================================\n",
       "\"\"\""
      ]
     },
     "execution_count": 167,
     "metadata": {},
     "output_type": "execute_result"
    }
   ],
   "source": [
    "# Build the model on train data (X_train and Y_train)\n",
    "sm_logreg = sm.Logit(Y_smtrain,X_smtrain).fit()\n",
    "\n",
    "# Print the summary of the model\n",
    "sm_logreg.summary()"
   ]
  },
  {
   "cell_type": "markdown",
   "metadata": {},
   "source": [
    "###  INFERENCE:   \n",
    "\n",
    "### <font color='blue'> Pseudo R-squ: 0.6277 </font> - <font color='green'> Pseudo R-squared value usually ranges from 0 to 1. Higher values indicate better fit. Value has improved from 0.3868 to 0.6277 for balanced data. </font>\n",
    "\n",
    "###  <font color='blue'>Log-Likelihood:\t-299.99 </font>  - <font color='green'> It measures the log-likelihood of the data. Higher value indicates better fit. Value has improved from -226.89 to -299.99 for balanced data.  </font>\n",
    "\n",
    "###  <font color='blue'>LL-Null: -803.91  </font> - <font color='green'> It is the log-likelihood of the data for a null model, which only includes the intercept.Value has further reduced from -359.25 to -803.91  for balanced data. </font>\n",
    "\n",
    "###  <font color='blue'>LLR p-value: 6.641e-175 </font> - <font color='green'> LLR p-value (likelihood ratio test) is a statistical test that indicates the probability of observing the LLR statistic or a larger value under the null hypothesis. Lower p-values indicate stronger evidence against the null hypothesis. The LLR p-value less than 0.05, implies that the model is significant. \n",
    "\n",
    "### <font color='green'>A logistic regression model is set to have better fit when values are higher for LL, lower for LL-Null, and lower for LLR p-value.</font>"
   ]
  },
  {
   "cell_type": "code",
   "execution_count": 168,
   "metadata": {},
   "outputs": [
    {
     "name": "stdout",
     "output_type": "stream",
     "text": [
      "AIC: 700.8431732353822\n"
     ]
    }
   ],
   "source": [
    "print('AIC:', sm_logreg.aic)"
   ]
  },
  {
   "cell_type": "code",
   "execution_count": 169,
   "metadata": {},
   "outputs": [
    {
     "data": {
      "text/html": [
       "<div>\n",
       "<style scoped>\n",
       "    .dataframe tbody tr th:only-of-type {\n",
       "        vertical-align: middle;\n",
       "    }\n",
       "\n",
       "    .dataframe tbody tr th {\n",
       "        vertical-align: top;\n",
       "    }\n",
       "\n",
       "    .dataframe thead th {\n",
       "        text-align: right;\n",
       "    }\n",
       "</style>\n",
       "<table border=\"1\" class=\"dataframe\">\n",
       "  <thead>\n",
       "    <tr style=\"text-align: right;\">\n",
       "      <th></th>\n",
       "      <th>Odds</th>\n",
       "    </tr>\n",
       "  </thead>\n",
       "  <tbody>\n",
       "    <tr>\n",
       "      <th>const</th>\n",
       "      <td>3.286865</td>\n",
       "    </tr>\n",
       "    <tr>\n",
       "      <th>MinTemp</th>\n",
       "      <td>3.863197</td>\n",
       "    </tr>\n",
       "    <tr>\n",
       "      <th>MaxTemp</th>\n",
       "      <td>0.003292</td>\n",
       "    </tr>\n",
       "    <tr>\n",
       "      <th>Rainfall</th>\n",
       "      <td>0.883990</td>\n",
       "    </tr>\n",
       "    <tr>\n",
       "      <th>Evaporation</th>\n",
       "      <td>0.972654</td>\n",
       "    </tr>\n",
       "    <tr>\n",
       "      <th>Sunshine</th>\n",
       "      <td>0.111382</td>\n",
       "    </tr>\n",
       "    <tr>\n",
       "      <th>WindGustSpeed</th>\n",
       "      <td>4282.861179</td>\n",
       "    </tr>\n",
       "    <tr>\n",
       "      <th>Humidity9am</th>\n",
       "      <td>0.644102</td>\n",
       "    </tr>\n",
       "    <tr>\n",
       "      <th>Humidity3pm</th>\n",
       "      <td>40809.134559</td>\n",
       "    </tr>\n",
       "    <tr>\n",
       "      <th>Pressure9am</th>\n",
       "      <td>50.638373</td>\n",
       "    </tr>\n",
       "    <tr>\n",
       "      <th>Pressure3pm</th>\n",
       "      <td>0.000071</td>\n",
       "    </tr>\n",
       "    <tr>\n",
       "      <th>Cloud9am</th>\n",
       "      <td>0.496597</td>\n",
       "    </tr>\n",
       "    <tr>\n",
       "      <th>Cloud3pm</th>\n",
       "      <td>3.844736</td>\n",
       "    </tr>\n",
       "    <tr>\n",
       "      <th>Temp9am</th>\n",
       "      <td>0.000420</td>\n",
       "    </tr>\n",
       "    <tr>\n",
       "      <th>Temp3pm</th>\n",
       "      <td>73052.372720</td>\n",
       "    </tr>\n",
       "    <tr>\n",
       "      <th>WindDir9am_ENE</th>\n",
       "      <td>0.099860</td>\n",
       "    </tr>\n",
       "    <tr>\n",
       "      <th>WindDir9am_ESE</th>\n",
       "      <td>0.048454</td>\n",
       "    </tr>\n",
       "    <tr>\n",
       "      <th>WindDir9am_N</th>\n",
       "      <td>0.103578</td>\n",
       "    </tr>\n",
       "    <tr>\n",
       "      <th>WindDir9am_NE</th>\n",
       "      <td>0.119612</td>\n",
       "    </tr>\n",
       "    <tr>\n",
       "      <th>WindDir9am_NNE</th>\n",
       "      <td>0.135251</td>\n",
       "    </tr>\n",
       "    <tr>\n",
       "      <th>WindDir9am_NNW</th>\n",
       "      <td>0.070698</td>\n",
       "    </tr>\n",
       "    <tr>\n",
       "      <th>WindDir9am_NW</th>\n",
       "      <td>0.107802</td>\n",
       "    </tr>\n",
       "    <tr>\n",
       "      <th>WindDir9am_S</th>\n",
       "      <td>0.326052</td>\n",
       "    </tr>\n",
       "    <tr>\n",
       "      <th>WindDir9am_SE</th>\n",
       "      <td>0.174577</td>\n",
       "    </tr>\n",
       "    <tr>\n",
       "      <th>WindDir9am_SSE</th>\n",
       "      <td>0.144665</td>\n",
       "    </tr>\n",
       "    <tr>\n",
       "      <th>WindDir9am_SSW</th>\n",
       "      <td>0.112938</td>\n",
       "    </tr>\n",
       "    <tr>\n",
       "      <th>WindDir9am_SW</th>\n",
       "      <td>0.084195</td>\n",
       "    </tr>\n",
       "    <tr>\n",
       "      <th>WindDir9am_W</th>\n",
       "      <td>0.059933</td>\n",
       "    </tr>\n",
       "    <tr>\n",
       "      <th>WindDir9am_WNW</th>\n",
       "      <td>0.140676</td>\n",
       "    </tr>\n",
       "    <tr>\n",
       "      <th>WindDir9am_WSW</th>\n",
       "      <td>0.016058</td>\n",
       "    </tr>\n",
       "    <tr>\n",
       "      <th>WindDir3pm_ENE</th>\n",
       "      <td>0.089913</td>\n",
       "    </tr>\n",
       "    <tr>\n",
       "      <th>WindDir3pm_ESE</th>\n",
       "      <td>0.042105</td>\n",
       "    </tr>\n",
       "    <tr>\n",
       "      <th>WindDir3pm_N</th>\n",
       "      <td>0.074502</td>\n",
       "    </tr>\n",
       "    <tr>\n",
       "      <th>WindDir3pm_NE</th>\n",
       "      <td>0.065001</td>\n",
       "    </tr>\n",
       "    <tr>\n",
       "      <th>WindDir3pm_NNE</th>\n",
       "      <td>0.018913</td>\n",
       "    </tr>\n",
       "    <tr>\n",
       "      <th>WindDir3pm_NNW</th>\n",
       "      <td>0.061746</td>\n",
       "    </tr>\n",
       "    <tr>\n",
       "      <th>WindDir3pm_NW</th>\n",
       "      <td>0.105192</td>\n",
       "    </tr>\n",
       "    <tr>\n",
       "      <th>WindDir3pm_S</th>\n",
       "      <td>0.111313</td>\n",
       "    </tr>\n",
       "    <tr>\n",
       "      <th>WindDir3pm_SE</th>\n",
       "      <td>0.059194</td>\n",
       "    </tr>\n",
       "    <tr>\n",
       "      <th>WindDir3pm_SSE</th>\n",
       "      <td>0.033517</td>\n",
       "    </tr>\n",
       "    <tr>\n",
       "      <th>WindDir3pm_SSW</th>\n",
       "      <td>0.130360</td>\n",
       "    </tr>\n",
       "    <tr>\n",
       "      <th>WindDir3pm_SW</th>\n",
       "      <td>0.036962</td>\n",
       "    </tr>\n",
       "    <tr>\n",
       "      <th>WindDir3pm_W</th>\n",
       "      <td>0.043519</td>\n",
       "    </tr>\n",
       "    <tr>\n",
       "      <th>WindDir3pm_WNW</th>\n",
       "      <td>0.024668</td>\n",
       "    </tr>\n",
       "    <tr>\n",
       "      <th>WindDir3pm_WSW</th>\n",
       "      <td>0.048548</td>\n",
       "    </tr>\n",
       "    <tr>\n",
       "      <th>RainToday_Yes</th>\n",
       "      <td>0.888265</td>\n",
       "    </tr>\n",
       "    <tr>\n",
       "      <th>Month_August</th>\n",
       "      <td>0.480208</td>\n",
       "    </tr>\n",
       "    <tr>\n",
       "      <th>Month_December</th>\n",
       "      <td>0.123317</td>\n",
       "    </tr>\n",
       "    <tr>\n",
       "      <th>Month_February</th>\n",
       "      <td>0.084112</td>\n",
       "    </tr>\n",
       "    <tr>\n",
       "      <th>Month_January</th>\n",
       "      <td>0.078962</td>\n",
       "    </tr>\n",
       "    <tr>\n",
       "      <th>Month_July</th>\n",
       "      <td>0.168490</td>\n",
       "    </tr>\n",
       "    <tr>\n",
       "      <th>Month_June</th>\n",
       "      <td>0.094946</td>\n",
       "    </tr>\n",
       "    <tr>\n",
       "      <th>Month_March</th>\n",
       "      <td>0.049564</td>\n",
       "    </tr>\n",
       "    <tr>\n",
       "      <th>Month_May</th>\n",
       "      <td>0.026322</td>\n",
       "    </tr>\n",
       "    <tr>\n",
       "      <th>Month_November</th>\n",
       "      <td>0.121446</td>\n",
       "    </tr>\n",
       "    <tr>\n",
       "      <th>Month_October</th>\n",
       "      <td>0.073820</td>\n",
       "    </tr>\n",
       "    <tr>\n",
       "      <th>Month_September</th>\n",
       "      <td>0.153072</td>\n",
       "    </tr>\n",
       "  </tbody>\n",
       "</table>\n",
       "</div>"
      ],
      "text/plain": [
       "                         Odds\n",
       "const                3.286865\n",
       "MinTemp              3.863197\n",
       "MaxTemp              0.003292\n",
       "Rainfall             0.883990\n",
       "Evaporation          0.972654\n",
       "Sunshine             0.111382\n",
       "WindGustSpeed     4282.861179\n",
       "Humidity9am          0.644102\n",
       "Humidity3pm      40809.134559\n",
       "Pressure9am         50.638373\n",
       "Pressure3pm          0.000071\n",
       "Cloud9am             0.496597\n",
       "Cloud3pm             3.844736\n",
       "Temp9am              0.000420\n",
       "Temp3pm          73052.372720\n",
       "WindDir9am_ENE       0.099860\n",
       "WindDir9am_ESE       0.048454\n",
       "WindDir9am_N         0.103578\n",
       "WindDir9am_NE        0.119612\n",
       "WindDir9am_NNE       0.135251\n",
       "WindDir9am_NNW       0.070698\n",
       "WindDir9am_NW        0.107802\n",
       "WindDir9am_S         0.326052\n",
       "WindDir9am_SE        0.174577\n",
       "WindDir9am_SSE       0.144665\n",
       "WindDir9am_SSW       0.112938\n",
       "WindDir9am_SW        0.084195\n",
       "WindDir9am_W         0.059933\n",
       "WindDir9am_WNW       0.140676\n",
       "WindDir9am_WSW       0.016058\n",
       "WindDir3pm_ENE       0.089913\n",
       "WindDir3pm_ESE       0.042105\n",
       "WindDir3pm_N         0.074502\n",
       "WindDir3pm_NE        0.065001\n",
       "WindDir3pm_NNE       0.018913\n",
       "WindDir3pm_NNW       0.061746\n",
       "WindDir3pm_NW        0.105192\n",
       "WindDir3pm_S         0.111313\n",
       "WindDir3pm_SE        0.059194\n",
       "WindDir3pm_SSE       0.033517\n",
       "WindDir3pm_SSW       0.130360\n",
       "WindDir3pm_SW        0.036962\n",
       "WindDir3pm_W         0.043519\n",
       "WindDir3pm_WNW       0.024668\n",
       "WindDir3pm_WSW       0.048548\n",
       "RainToday_Yes        0.888265\n",
       "Month_August         0.480208\n",
       "Month_December       0.123317\n",
       "Month_February       0.084112\n",
       "Month_January        0.078962\n",
       "Month_July           0.168490\n",
       "Month_June           0.094946\n",
       "Month_March          0.049564\n",
       "Month_May            0.026322\n",
       "Month_November       0.121446\n",
       "Month_October        0.073820\n",
       "Month_September      0.153072"
      ]
     },
     "execution_count": 169,
     "metadata": {},
     "output_type": "execute_result"
    }
   ],
   "source": [
    "sm_df_odds = pd.DataFrame(np.exp(sm_logreg.params), columns= ['Odds']) \n",
    "sm_df_odds"
   ]
  },
  {
   "cell_type": "code",
   "execution_count": 170,
   "metadata": {},
   "outputs": [
    {
     "data": {
      "text/plain": [
       "486     0.341469\n",
       "1442    0.699630\n",
       "1181    0.983067\n",
       "123     0.937996\n",
       "36      0.011933\n",
       "dtype: float64"
      ]
     },
     "execution_count": 170,
     "metadata": {},
     "output_type": "execute_result"
    }
   ],
   "source": [
    "Y_smpred_prob = sm_logreg.predict(X_smtest)\n",
    "\n",
    "# print the y_pred_probability\n",
    "Y_smpred_prob.head()"
   ]
  },
  {
   "cell_type": "code",
   "execution_count": 171,
   "metadata": {},
   "outputs": [
    {
     "data": {
      "text/plain": [
       "[0, 1, 1, 1, 0]"
      ]
     },
     "execution_count": 171,
     "metadata": {},
     "output_type": "execute_result"
    }
   ],
   "source": [
    "Y_smpred = [ 0 if x < 0.5 else 1 for x in Y_smpred_prob]\n",
    "Y_smpred[0:5]"
   ]
  },
  {
   "cell_type": "code",
   "execution_count": 172,
   "metadata": {},
   "outputs": [
    {
     "data": {
      "image/png": "[encoded data removed]",
      "text/plain": [
       "<Figure size 432x288 with 2 Axes>"
      ]
     },
     "metadata": {
      "needs_background": "light"
     },
     "output_type": "display_data"
    }
   ],
   "source": [
    "from sklearn.metrics import confusion_matrix\n",
    "\n",
    "# Confusion matrix is plotted btw the actual and predicted target values\n",
    "cm_sm = confusion_matrix(Y_smtest, Y_smpred)\n",
    "\n",
    "confusion_matrix = pd.DataFrame(data = cm_sm, columns =['Predicted:0','Predicted:1'], index = ['Actual:0','Actual:1'])\n",
    "\n",
    "sns.heatmap(confusion_matrix, annot = True, fmt = 'd',linewidths = 0.1, annot_kws = {'size':15})\n",
    "\n",
    "plt.show()"
   ]
  },
  {
   "cell_type": "code",
   "execution_count": 173,
   "metadata": {},
   "outputs": [
    {
     "name": "stdout",
     "output_type": "stream",
     "text": [
      "TP= 218\n",
      "TN= 204\n",
      "FP= 36\n",
      "FN= 40\n"
     ]
    }
   ],
   "source": [
    "# True Positives, TP = Actual '1' values predicted correctly as '1'.\n",
    "TP = cm_sm[1,1]\n",
    "print('TP=',TP)\n",
    "\n",
    "# True Negatives, TN = Actual '0' values predicted correctly as '0'.\n",
    "TN = cm_sm[0,0]\n",
    "print('TN=',TN)\n",
    "\n",
    "# False Positives FP = Actual '0' values that are falsely predicted  as '1' (Type 1 error)\n",
    "FP = cm_sm[0,1]\n",
    "print('FP=',FP)\n",
    "\n",
    "# False Negatives FN = Actual '1' values that are falsely predicted  as '0' (Type 2 error)\n",
    "FN = cm_sm[1,0]\n",
    "print('FN=',FN)"
   ]
  },
  {
   "cell_type": "markdown",
   "metadata": {},
   "source": [
    "###  INFERENCE:\n",
    "\n",
    "### <font color='blue'>True Positives (TP=216) – Actual '1' values predicted correctly as '1'.\n",
    "\n",
    "### <font color='blue'>True Negatives (TN=204) – Actual '0' values predicted correctly as '0'.\n",
    "\n",
    "### <font color='blue'>False Positives (FP=36) – Actual '0' values that are falsely predicted as '1' (Type 1 error).\n",
    "\n",
    "### <font color='blue'>False Negatives (FN=42) – Actual '1' values that are falsely predicted  as '0' (Type 2 error). </font>"
   ]
  },
  {
   "cell_type": "code",
   "execution_count": 174,
   "metadata": {},
   "outputs": [
    {
     "name": "stdout",
     "output_type": "stream",
     "text": [
      "Precision_score =  0.8582677165354331\n",
      "Recall_score =  0.8449612403100775\n",
      "F1score =  0.8515625\n",
      "Accuracy_score =  0.8473895582329317\n"
     ]
    }
   ],
   "source": [
    "print('Precision_score = ', metrics.precision_score(Y_smtest, Y_smpred))\n",
    "print('Recall_score = ', metrics.recall_score(Y_smtest, Y_smpred))\n",
    "print('F1score = ',  metrics.f1_score(Y_smtest, Y_smpred) )\n",
    "print('Accuracy_score = ', metrics.accuracy_score(Y_smtest, Y_smpred))"
   ]
  },
  {
   "cell_type": "code",
   "execution_count": 175,
   "metadata": {},
   "outputs": [
    {
     "name": "stdout",
     "output_type": "stream",
     "text": [
      "Specificity=  0.85\n"
     ]
    }
   ],
   "source": [
    "Specificity = TN / (TN+FP)\n",
    "print('Specificity= ',Specificity)"
   ]
  },
  {
   "cell_type": "markdown",
   "metadata": {},
   "source": [
    "###  INFERENCE: \n",
    "### <font color='blue'> Precision = 0.857 \n",
    "###  <font color='blue'>Recall = 0.837\n",
    "### <font color='blue'> Specificity= 0.85\n",
    "### <font color='blue'> F1_score = 0.847\n",
    "### <font color='blue'> Accuracy = 0.8433\n",
    "\n",
    "### INFERENCE: <font color='green'> From the above values we can conclude that the performance evaluation metrics are good and the classification model is fit properly."
   ]
  },
  {
   "cell_type": "code",
   "execution_count": 176,
   "metadata": {},
   "outputs": [
    {
     "name": "stdout",
     "output_type": "stream",
     "text": [
      "              precision    recall  f1-score   support\n",
      "\n",
      "           0       0.84      0.85      0.84       240\n",
      "           1       0.86      0.84      0.85       258\n",
      "\n",
      "    accuracy                           0.85       498\n",
      "   macro avg       0.85      0.85      0.85       498\n",
      "weighted avg       0.85      0.85      0.85       498\n",
      "\n"
     ]
    }
   ],
   "source": [
    "from sklearn.metrics import classification_report\n",
    "acc_table_sm = classification_report(Y_smtest, Y_smpred)\n",
    "print(acc_table_sm)"
   ]
  },
  {
   "cell_type": "markdown",
   "metadata": {},
   "source": [
    "###  INFERENCE: <font color='blue'>For a balanced model, we can infer from the above output  that the recall of the positive class ('Sensitivity') is 0.84  and the recall of the negative class ('Specificity') is 0.85. The precision value for positive class is 0.86 and negative class is 0.84 which is relatively close to each other.\n",
    "    \n",
    "###  <font color='blue'>We can see that the model with cut-off = 0.5 is 84% accurate.\n",
    "\n",
    "### INFERENCE: <font color='green'> 'Support' is the number of observations in the corresponding class. The 'Macro average' in the output is obtained by averaging the unweighted mean per label and the 'Weighted average' is given by averaging the support-weighted mean per label."
   ]
  },
  {
   "cell_type": "code",
   "execution_count": 177,
   "metadata": {},
   "outputs": [
    {
     "name": "stdout",
     "output_type": "stream",
     "text": [
      "kappa value: 0.694557427852024\n"
     ]
    }
   ],
   "source": [
    "from sklearn.metrics import cohen_kappa_score\n",
    "sm_kappa = cohen_kappa_score(Y_smtest, Y_smpred)\n",
    "print('kappa value:',sm_kappa)"
   ]
  },
  {
   "cell_type": "code",
   "execution_count": 178,
   "metadata": {},
   "outputs": [
    {
     "data": {
      "image/png": "[encoded data removed]",
      "text/plain": [
       "<Figure size 432x288 with 1 Axes>"
      ]
     },
     "metadata": {
      "needs_background": "light"
     },
     "output_type": "display_data"
    }
   ],
   "source": [
    "from sklearn.metrics import roc_curve\n",
    "\n",
    "FPR_s, TPR_s, thresholds_s = roc_curve(Y_smtest, Y_smpred_prob)\n",
    "\n",
    "plt.plot(FPR_s, TPR_s)\n",
    "\n",
    "# set limits for x and y axes\n",
    "plt.xlim([0.0, 1.0])\n",
    "plt.ylim([0.0, 1.0])\n",
    "\n",
    "# plot the straight line showing worst prediction for the model\n",
    "plt.plot([0, 1], [0, 1],'r--')\n",
    "\n",
    "# add plot and axes labels\n",
    "# set text size using 'fontsize'\n",
    "plt.title('ROC curve for Rain Tomorrow', fontsize = 15)\n",
    "plt.xlabel('FPR (1-Specificity)', fontsize = 15)\n",
    "plt.ylabel('TPR (Sensitivity)', fontsize = 15)\n",
    "\n",
    "# add the AUC score to the plot\n",
    "# 'x' and 'y' gives position of the text\n",
    "# 's' is the text \n",
    "# use round() to round-off the AUC score upto 4 digits\n",
    "plt.text(x = 0.02, y = 0.9, s = ('AUC Score:', round(metrics.roc_auc_score(Y_smtest, Y_smpred_prob),4)))\n",
    "                               \n",
    "# plot the grid\n",
    "plt.grid(True)"
   ]
  },
  {
   "cell_type": "markdown",
   "metadata": {},
   "source": [
    "###  INFERENCE: <font color='green'> AUC (Area Under the ROC Curve) is a metric to evaluate the performance of a binary classification model. \n",
    "\n",
    "### <font color='blue'>The AUC score for a classification model created using balanced data is 0.9243 and its a very good performance score."
   ]
  },
  {
   "cell_type": "markdown",
   "metadata": {},
   "source": [
    "## Identify the Best Cut-off value using Youden's Index"
   ]
  },
  {
   "cell_type": "markdown",
   "metadata": {},
   "source": [
    "<a id=\"youden\"></a>\n",
    "### 3.1.1 Youden's Index"
   ]
  },
  {
   "cell_type": "code",
   "execution_count": 179,
   "metadata": {},
   "outputs": [
    {
     "data": {
      "text/html": [
       "<div>\n",
       "<style scoped>\n",
       "    .dataframe tbody tr th:only-of-type {\n",
       "        vertical-align: middle;\n",
       "    }\n",
       "\n",
       "    .dataframe tbody tr th {\n",
       "        vertical-align: top;\n",
       "    }\n",
       "\n",
       "    .dataframe thead th {\n",
       "        text-align: right;\n",
       "    }\n",
       "</style>\n",
       "<table border=\"1\" class=\"dataframe\">\n",
       "  <thead>\n",
       "    <tr style=\"text-align: right;\">\n",
       "      <th></th>\n",
       "      <th>TPR_s</th>\n",
       "      <th>FPR_s</th>\n",
       "      <th>Threshold_s</th>\n",
       "      <th>Difference</th>\n",
       "    </tr>\n",
       "  </thead>\n",
       "  <tbody>\n",
       "    <tr>\n",
       "      <th>0</th>\n",
       "      <td>0.844961</td>\n",
       "      <td>0.125000</td>\n",
       "      <td>0.535761</td>\n",
       "      <td>0.719961</td>\n",
       "    </tr>\n",
       "    <tr>\n",
       "      <th>1</th>\n",
       "      <td>0.825581</td>\n",
       "      <td>0.116667</td>\n",
       "      <td>0.579426</td>\n",
       "      <td>0.708915</td>\n",
       "    </tr>\n",
       "    <tr>\n",
       "      <th>2</th>\n",
       "      <td>0.829457</td>\n",
       "      <td>0.120833</td>\n",
       "      <td>0.569925</td>\n",
       "      <td>0.708624</td>\n",
       "    </tr>\n",
       "    <tr>\n",
       "      <th>3</th>\n",
       "      <td>0.802326</td>\n",
       "      <td>0.095833</td>\n",
       "      <td>0.651314</td>\n",
       "      <td>0.706492</td>\n",
       "    </tr>\n",
       "    <tr>\n",
       "      <th>4</th>\n",
       "      <td>0.810078</td>\n",
       "      <td>0.104167</td>\n",
       "      <td>0.623133</td>\n",
       "      <td>0.705911</td>\n",
       "    </tr>\n",
       "  </tbody>\n",
       "</table>\n",
       "</div>"
      ],
      "text/plain": [
       "      TPR_s     FPR_s  Threshold_s  Difference\n",
       "0  0.844961  0.125000     0.535761    0.719961\n",
       "1  0.825581  0.116667     0.579426    0.708915\n",
       "2  0.829457  0.120833     0.569925    0.708624\n",
       "3  0.802326  0.095833     0.651314    0.706492\n",
       "4  0.810078  0.104167     0.623133    0.705911"
      ]
     },
     "execution_count": 179,
     "metadata": {},
     "output_type": "execute_result"
    }
   ],
   "source": [
    "sm_youdens_table = pd.DataFrame({'TPR_s': TPR_s,\n",
    "                             'FPR_s': FPR_s,\n",
    "                             'Threshold_s': thresholds_s})\n",
    "\n",
    "# calculate the difference between TPR and FPR for each threshold and store the values in a new column 'Difference'\n",
    "sm_youdens_table['Difference'] = sm_youdens_table.TPR_s - sm_youdens_table.FPR_s\n",
    "\n",
    "# sort the dataframe based on the values of difference \n",
    "# 'ascending = False' sorts the data in descending order\n",
    "# 'reset_index' resets the index of the dataframe\n",
    "# 'drop = True' drops the previous index\n",
    "sm_youdens_table = sm_youdens_table.sort_values('Difference', ascending = False).reset_index(drop = True)\n",
    "\n",
    "# print the first five observations\n",
    "sm_youdens_table.head()"
   ]
  },
  {
   "cell_type": "code",
   "execution_count": 186,
   "metadata": {},
   "outputs": [
    {
     "data": {
      "text/plain": [
       "[0, 1, 1, 1, 0]"
      ]
     },
     "execution_count": 186,
     "metadata": {},
     "output_type": "execute_result"
    }
   ],
   "source": [
    "Y_smpred_youden = [ 0 if x < 0.53 else 1 for x in Y_smpred_prob]\n",
    "Y_smpred_youden[0:5]"
   ]
  },
  {
   "cell_type": "markdown",
   "metadata": {},
   "source": [
    "###  INFERENCE: <font color='green'> Youden's index, also known as Youden's J statistic or simply J statistic, is a measure of the overall performance of a binary classifier. It is defined as the difference between the true positive rate (sensitivity) and the false positive rate (1-specificity), and it ranges from 0 to 1. The formula for Youden's index is: J = sensitivity + specificity - 1\n",
    "\n",
    "###  INFERENCE: <font color='green'> Sensitivity is the proportion of true positive results (TP) out of all actual positives (TP + FN). Specificity is the proportion of true negative results (TN) out of all actual negatives (TN + FP). The interpretation of Youden's index is that it represents the ability of a classifier to correctly identify both positive and negative samples. A value of 0 indicates that the classifier performs no better than chance, while a value of 1 indicates perfect classification.\n",
    "\n",
    "### <font color='blue'>The threshold value for maximum difference(0.719961) is 0.535761 and is fairly a good score."
   ]
  },
  {
   "cell_type": "code",
   "execution_count": 187,
   "metadata": {},
   "outputs": [
    {
     "data": {
      "image/png": "[encoded data removed]",
      "text/plain": [
       "<Figure size 432x288 with 2 Axes>"
      ]
     },
     "metadata": {
      "needs_background": "light"
     },
     "output_type": "display_data"
    }
   ],
   "source": [
    "from sklearn.metrics import confusion_matrix\n",
    "\n",
    "sm_cm_you = confusion_matrix(Y_smtest, Y_smpred_youden)\n",
    "\n",
    "conf_matrix_you = pd.DataFrame(data = sm_cm_you,columns = ['Actual:0','Actual:1'], index = ['Predicted:0','Predicted:1'])\n",
    "\n",
    "sns.heatmap(conf_matrix_you, annot = True, linewidths = 0.1, annot_kws = {'size':10})\n",
    "\n",
    "plt.show()"
   ]
  },
  {
   "cell_type": "code",
   "execution_count": 188,
   "metadata": {},
   "outputs": [
    {
     "name": "stdout",
     "output_type": "stream",
     "text": [
      "TP= 218\n",
      "TN= 209\n",
      "FP= 31\n",
      "FN= 40\n"
     ]
    }
   ],
   "source": [
    "# True Positives, TP = Actual '1' values predicted correctly as '1'.\n",
    "TP = sm_cm_you[1,1]\n",
    "print('TP=',TP)\n",
    "\n",
    "# True Negatives, TN = Actual '0' values predicted correctly as '0'.\n",
    "TN = sm_cm_you[0,0]\n",
    "print('TN=',TN)\n",
    "\n",
    "# False Positives FP = Actual '0' values that are falsely predicted  as '1' (Type 1 error)\n",
    "FP = sm_cm_you[0,1]\n",
    "print('FP=',FP)\n",
    "\n",
    "# False Negatives FN = Actual '1' values that are falsely predicted  as '0' (Type 2 error)\n",
    "FN = sm_cm_you[1,0]\n",
    "print('FN=',FN)"
   ]
  },
  {
   "cell_type": "markdown",
   "metadata": {},
   "source": [
    "###  INFERENCE:\n",
    "\n",
    "### <font color='blue'>True Positives (TP=218) – Actual '1' values predicted correctly as '1'.\n",
    "\n",
    "### <font color='blue'>True Negatives (TN=209) – Actual '0' values predicted correctly as '0'.\n",
    "\n",
    "### <font color='blue'>False Positives (FP=31) – Actual '0' values that are falsely predicted as '1' (Type 1 error).This value has reduced compared to previous confusion matrix.\n",
    "\n",
    "### <font color='blue'>False Negatives (FN=40) – Actual '1' values that are falsely predicted  as '0' (Type 2 error). </font>"
   ]
  },
  {
   "cell_type": "code",
   "execution_count": 189,
   "metadata": {},
   "outputs": [
    {
     "name": "stdout",
     "output_type": "stream",
     "text": [
      "              precision    recall  f1-score   support\n",
      "\n",
      "           0       0.84      0.87      0.85       240\n",
      "           1       0.88      0.84      0.86       258\n",
      "\n",
      "    accuracy                           0.86       498\n",
      "   macro avg       0.86      0.86      0.86       498\n",
      "weighted avg       0.86      0.86      0.86       498\n",
      "\n"
     ]
    }
   ],
   "source": [
    "sm_acc_table_youden = classification_report(Y_smtest, Y_smpred_youden)\n",
    "print(sm_acc_table_youden)"
   ]
  },
  {
   "cell_type": "markdown",
   "metadata": {},
   "source": [
    "###  INFERENCE: <font color='blue'>For a balanced model with youden's cut off value, we can infer from the above output  that the values have improved. The recall of the positive class ( 'Sensitivity') is 0.84 and the recall of the negative class ('Specificity') is 0.87 . The precision value for positive class is 0.88 and negative class is 0.84 which is relatively close to each other.\n",
    "    \n",
    "###  <font color='blue'>We can see that the model with youden's cut-off  value 0.53 is 86% accurate.\n",
    "\n",
    "### INFERENCE: <font color='green'> 'Support' is the number of observations in the corresponding class. The 'Macro average' in the output is obtained by averaging the unweighted mean per label and the 'Weighted average' is given by averaging the support-weighted mean per label."
   ]
  },
  {
   "cell_type": "code",
   "execution_count": 190,
   "metadata": {},
   "outputs": [
    {
     "name": "stdout",
     "output_type": "stream",
     "text": [
      "kappa value: 0.714859437751004\n"
     ]
    }
   ],
   "source": [
    "kappa = cohen_kappa_score(Y_smtest, Y_smpred_youden)\n",
    "print('kappa value:',kappa)"
   ]
  },
  {
   "cell_type": "markdown",
   "metadata": {},
   "source": [
    "###  INFERENCE: <font color='green'> Kappa score, also known as Cohen's kappa coefficient, is used for inter-rater agreement for categorical items. Kappa score ranges from -1 to 1.               \n",
    "               \n",
    "###  INFERENCE: <font color='blue'> Kappa score for the balanced model (with cut-off probability 0.53) is 0.7148 which is almost 0.70. We can say that there is Substantial agreement between the actual and predicted values."
   ]
  },
  {
   "cell_type": "code",
   "execution_count": 191,
   "metadata": {},
   "outputs": [
    {
     "data": {
      "image/png": "[encoded data removed]",
      "text/plain": [
       "<Figure size 432x288 with 1 Axes>"
      ]
     },
     "metadata": {
      "needs_background": "light"
     },
     "output_type": "display_data"
    }
   ],
   "source": [
    "FPR_s, TPR_s, thresholds_s = roc_curve(Y_smtest, Y_smpred_youden)\n",
    "\n",
    "plt.plot(FPR_s, TPR_s)\n",
    "\n",
    "# set limits for x and y axes\n",
    "plt.xlim([0.0, 1.0])\n",
    "plt.ylim([0.0, 1.0])\n",
    "\n",
    "# plot the straight line showing worst prediction for the model\n",
    "plt.plot([0, 1], [0, 1],'r--')\n",
    "\n",
    "# add plot and axes labels\n",
    "# set text size using 'fontsize'\n",
    "plt.title('ROC curve for Rain Tomorrow', fontsize = 15)\n",
    "plt.xlabel('FPR (1-Specificity)', fontsize = 15)\n",
    "plt.ylabel('TPR (Sensitivity)', fontsize = 15)\n",
    "\n",
    "# add the AUC score to the plot\n",
    "# 'x' and 'y' gives position of the text\n",
    "# 's' is the text \n",
    "# use round() to round-off the AUC score upto 4 digits\n",
    "plt.text(x = 0.02, y = 0.9, s = ('AUC Score:', round(metrics.roc_auc_score(Y_smtest, Y_smpred_youden),4)))\n",
    "                               \n",
    "# plot the grid\n",
    "plt.grid(True)"
   ]
  },
  {
   "cell_type": "markdown",
   "metadata": {},
   "source": [
    "###  INFERENCE: <font color='green'> AUC (Area Under the ROC Curve) is a metric to evaluate the performance of a binary classification model. \n",
    "### <font color='blue'>The AUC score for creating model using balanced data and after optimizing it with youden's index is 0.8579 and its a very good performance score. "
   ]
  },
  {
   "cell_type": "code",
   "execution_count": null,
   "metadata": {},
   "outputs": [],
   "source": []
  }
 ],
 "metadata": {
  "kernelspec": {
   "display_name": "Python 3 (ipykernel)",
   "language": "python",
   "name": "python3"
  },
  "language_info": {
   "codemirror_mode": {
    "name": "ipython",
    "version": 3
   },
   "file_extension": ".py",
   "mimetype": "text/x-python",
   "name": "python",
   "nbconvert_exporter": "python",
   "pygments_lexer": "ipython3",
   "version": "3.11.4"
  }
 },
 "nbformat": 4,
 "nbformat_minor": 2
}
